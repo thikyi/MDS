{
 "cells": [
  {
   "cell_type": "markdown",
   "id": "df5be636-28c8-44d1-b97c-81bfc92c517f",
   "metadata": {},
   "source": [
    "# Assignment 22: Exceptions #\n",
    "\n",
    "### Goals for this Assignment ###\n",
    "\n",
    "By the time you have completed this assignment, you should be able to:\n",
    "\n",
    "- Use `try` and `except` to catch exceptions\n",
    "- Use `finally` to ensure that some execution will always happen around an exception\n",
    "- Define your own exceptions by inheriting from the `Exception` class\n",
    "- Throw your own exceptions using `raise`\n",
    "\n",
    "## Step 1: Recover from `int` Reading a Non-Integer ##\n",
    "\n",
    "### Background: Errors in Code ###\n",
    "\n",
    "As a program executes, it's a somewhat common occurrence for things to go wrong.\n",
    "For example:\n",
    "\n",
    "- When reading an integer from the user, we discover that the input is not a valid integer\n",
    "- When opening a file for reading, we discover that the file does not exist\n",
    "- When performing division, we find that the divisor is zero\n",
    "- When writing to a file, the disk runs out of space\n",
    "\n",
    "When performing these sorts of actions, we can't just ignore these scenarios.\n",
    "As such, we somehow need to indicate when these sort of problematic conditions occur.\n",
    "One way to indicate this is to have related functions return special values, or _sentinel_ values, to indicate that something went wrong.\n",
    "For example, for division, Python could have been designed so that if you attempted:\n",
    "\n",
    "```python\n",
    "x = 6 / 2\n",
    "y = 5 / 0\n",
    "```\n",
    "\n",
    "...then `x` would be `3.0` (where division was successful and the result was stored in `x`), but `y` would be `None` (a special value indicating that division was unsuccessful).\n",
    "\n",
    "This strategy for indicating issues does work, and it's commonly-used in some languages, most notably C.\n",
    "However, it has a major problem: strictly speaking, we must always check if something went awry, even though it is expected that _usually_ it won't.\n",
    "For example, say we intend to compute the sum of `x` and `y` in the above snippet.\n",
    "Since `/` is not guaranteed to succeed (and returns `None` on failure), before we use `x` and `y`, we need to ensure that they don't hold `None`.\n",
    "This means we'd need to do something like the following:\n",
    "\n",
    "```python\n",
    "x = 6 / 2\n",
    "if x != None:\n",
    "    y = 5 / 0\n",
    "    if y != None:\n",
    "        print(x + y)\n",
    "    else:\n",
    "        print(\"y's initialization lead to division by zero\")\n",
    "else:\n",
    "    print(\"x's initialization lead to division by zero\")\n",
    "```\n",
    "\n",
    "That is, we suddenly need a `if`/`else` to check if an error happened whenever we perform division.\n",
    "This code is clearly much more bloated than:\n",
    "\n",
    "```python\n",
    "x = 6 / 2\n",
    "y = 5 / 0\n",
    "print(x + y)\n",
    "```\n",
    "\n",
    "The reality is unfortunately even worse than this.\n",
    "For example, say we encapsulate this code in a separate function, and instead make the individual numbers parameters to that function, as shown below in the `compute_sum_with_division` function.\n",
    "\n",
    "```python\n",
    "def compute_sum_with_division(a, b, c, d):\n",
    "    x = a / b\n",
    "    if x != None:\n",
    "        y = c / d\n",
    "        if y != None:\n",
    "            return x + y\n",
    "\n",
    "    # will only reach this point if either of the divisions returned None\n",
    "    return None\n",
    "```\n",
    "\n",
    "If a division by zero attempt is discovered within the `compute_sum_with_division` function, then this will ultimately return `None`.\n",
    "This means that anything that calls `compute_sum_with_division` will _also_ need to check that the result from this is not `None`, even though the callers themselves don't attempt this operation.\n",
    "This means that callers may need to propagate out the information that `compute_sum_with_division` returned `None` (or more specifically, _somewhere_ a division by zero was attempted).\n",
    "This very quickly leads to situations where almost any function call can lead to potentially erroneous situations happening, requiring the sort of error-handling code seen in `compute_sum_with_division` to be propagated widely through the codebase.\n",
    "\n",
    "Proper C code _will_ do this sort of propagation, but it's very common for programmers to optimistically assume that such situations will not happen.\n",
    "It doesn't help that usually (but not always), such situations won't happen, so C programmers can _mostly_ get away with this.\n",
    "However, if the program hits just the wrong input, such optimism can lead to very bizarre code behavior in C, usually requiring long debugging sessions to figure out not only where the error happened, but to refactor code to properly handle such errors.\n",
    "In an ideal world, we would like something better.\n",
    "\n",
    "### Background: Exceptions and Exception Handling ###\n",
    "\n",
    "Enter _exceptions_.\n",
    "The insight with exceptions is that usually there is some chunk of code _somewhere_ which properly handles the error.\n",
    "However, with C, most of the error-related code merely propagates the information around that an error happened.\n",
    "With exceptions, the idea is to just immediately jump to that error-handling code, without dealing with all the sort of propagation (or at least, make it so the programmer doesn't have to deal with this propagation).\n",
    "This means exceptions allow you to write the optimistic code, like the original:\n",
    "\n",
    "```python\n",
    "x = 6 / 2\n",
    "y = 5 / 0\n",
    "print(x + y)\n",
    "```\n",
    "\n",
    "However, if a division by zero occurs, we will jump right to some code handling the error, which will be elsewhere.\n",
    "This means we can write code that _mostly_ ignores errors, but still perform error-handling.\n",
    "\n",
    "We've been seeing exceptions for awhile in this course, though they haven't been explained until now.\n",
    "To show this, let's revisit the `int` function, which is used to convert some input to an integer representation.\n",
    "When `int` is provided a string encoding an integer, then `int` can convert that string to an integer, as with:"
   ]
  },
  {
   "cell_type": "code",
   "execution_count": 1,
   "id": "456e0cf0-8089-4367-a7d2-343d665192f3",
   "metadata": {},
   "outputs": [
    {
     "name": "stdout",
     "output_type": "stream",
     "text": [
      "123\n"
     ]
    }
   ],
   "source": [
    "print(int(\"123\"))"
   ]
  },
  {
   "cell_type": "markdown",
   "id": "102b2f00-8c92-4b87-be56-3e9b058cd7a5",
   "metadata": {},
   "source": [
    "However, if `int` is not given such a string, we instead see a `ValueError`, like so:"
   ]
  },
  {
   "cell_type": "code",
   "execution_count": 2,
   "id": "c87c22f8-3c60-4021-a3c4-579a441b9ee7",
   "metadata": {},
   "outputs": [
    {
     "ename": "ValueError",
     "evalue": "invalid literal for int() with base 10: 'foo'",
     "output_type": "error",
     "traceback": [
      "\u001b[1;31m---------------------------------------------------------------------------\u001b[0m",
      "\u001b[1;31mValueError\u001b[0m                                Traceback (most recent call last)",
      "Cell \u001b[1;32mIn[2], line 1\u001b[0m\n\u001b[1;32m----> 1\u001b[0m \u001b[38;5;28mprint\u001b[39m(\u001b[38;5;28mint\u001b[39m(\u001b[38;5;124m\"\u001b[39m\u001b[38;5;124mfoo\u001b[39m\u001b[38;5;124m\"\u001b[39m))\n",
      "\u001b[1;31mValueError\u001b[0m: invalid literal for int() with base 10: 'foo'"
     ]
    }
   ],
   "source": [
    "print(int(\"foo\"))"
   ]
  },
  {
   "cell_type": "markdown",
   "id": "e45775ca-6a26-48c7-9202-8417d276c3a3",
   "metadata": {},
   "source": [
    "Up until this point, we have explained this merely as the code crashing.\n",
    "While this is technically true, and the crash is rooted in `int` being given a non-integer string, this glosses over an important detail.\n",
    "Specifically, `int` _throws_ (or _raises_, in Python-specific speak) a `ValueError` _exception_.\n",
    "Throwing this exception itself doesn't crash the code.\n",
    "Instead, the code crashes because we do not have anything established which can handle this `ValueError` exception.\n",
    "That is, if an exception is thrown which is not handled by anything, then the code will crash.\n",
    "\n",
    "With this in mind, let's handle this `ValueError` exception.\n",
    "In Python, this is done with `try`/`except`, and is illustrated in the code in the next cell:"
   ]
  },
  {
   "cell_type": "code",
   "execution_count": 3,
   "id": "911ba436-6b15-4430-b992-c4f1c93e7640",
   "metadata": {},
   "outputs": [
    {
     "name": "stdout",
     "output_type": "stream",
     "text": [
      "before try\n",
      "could not convert integer\n",
      "after try\n"
     ]
    }
   ],
   "source": [
    "print(\"before try\")\n",
    "\n",
    "try:\n",
    "    print(int(\"foo\"))\n",
    "    print(\"after int call\")\n",
    "except ValueError:\n",
    "    print(\"could not convert integer\")\n",
    "\n",
    "print(\"after try\")\n"
   ]
  },
  {
   "cell_type": "markdown",
   "id": "b415fa92-c29f-4b62-8df2-b33e32c23455",
   "metadata": {},
   "source": [
    "If you run the cell above, you'll see that this code does **not** crash, and instead prints:\n",
    "\n",
    "```\n",
    "before try\n",
    "could not convert integer\n",
    "after try\n",
    "```\n",
    "\n",
    "To explain why, `try` is used to indicate that some given piece of code _might_ throw an exception.\n",
    "The specific code is in the body of `try` (i.e., that code is indented in).\n",
    "Sure enough, looking at the code in `try`'s body, we can see the offending `int(\"foo\")` call.\n",
    "After the `try`, at the same indent level as the `try`, we can then define one or more `except`s.\n",
    "Each `except` specifies the name of an exception, and each `except` has its own separate body.\n",
    "The `except` in the above code, in plain English, says that if the code within the body of `try` throws a `ValueError` exception, then the bode in the body of the `except` should be executed.\n",
    "\n",
    "With all this in mind, if we run the above code, the following happens:\n",
    "\n",
    "- Python sees the `try`, as well as the `try`'s `except`.  Python will record that this particular `except` handles `ValueError`s.\n",
    "- Python will execute the body of `try`.\n",
    "- The `int(\"foo\")` expression is executed, which throws a `ValueError` exception.\n",
    "- Python sees a `ValueError` exception has been thrown, but it's within a `try`.  Python sees that we had a particular `except` for `ValueError` exceptions established, and so execution jumps to the body of the specific `except` for `ValueError` exceptions.\n",
    "- Once the body of the `except` is evaluated, execution moves to the end of the whole `try`/`except`, bringing us to the next (and final) statement: `print(\"after try\")`\n",
    "\n",
    "With all of this in mind, we can establish that some given code needs to run in case a particular exception occurs.\n",
    "\n",
    "Perhaps most importantly, the only times we need to use `try`/`except` in Python is when we establish the code to handle an exception.\n",
    "If all we want to do is propagate an exception, we don't need to do anything at all.\n",
    "To illustrate this, let's revisit the `compute_sum_with_division` function from before.\n",
    "Let's say division by zero now throws an exception, as opposed to returning the sentinel value `None` (and in fact, Python does throw a `ZeroDivisionError` exception if division by zero is attempted).\n",
    "With this in mind, if we don't plan to handle the division by zero case within `compute_sum_with_division`, we can instead write:\n",
    "\n",
    "```python\n",
    "def compute_sum_with_division(a, b, c, d):\n",
    "    x = a / b\n",
    "    y = c / d\n",
    "    return x + y\n",
    "```\n",
    "\n",
    "...that is, there is nothing explicitly stated for division by zero at all.\n",
    "If `a / b` triggers division by zero, then this expression will immediately throw an exception, causing execution to jump out of the `compute_sum_with_division` function entirely.\n",
    "If, however, `a / b` does **not** trigger division by zero, then execution will proceed forward as normal.\n",
    "The same logic applies for the later `c / d` expression.\n",
    "This means that code using exceptions can largely ignore the fact that they exist at all, except at the precise moments when we want to handle exceptions.\n",
    "\n",
    "So with all this in mind, what exactly is an exception itself?\n",
    "In Python, exceptions are just objects, specifically objects inheriting from the `Exception` class.\n",
    "`ValueError` is a class that comes predefined for us, but we are permitted to define any of our own.\n",
    "We will get into this more in a later step.\n",
    "\n",
    "### Try this Yourself ###\n",
    "\n",
    "Define a function named `parse_integer_or_else`, which will take two parameters:\n",
    "\n",
    "1. Some value, intended to be a string encoding an integer\n",
    "2. An integer\n",
    "\n",
    "`parse_integer_or_else` should attempt to parse its first input as an integer, using `int`.\n",
    "If successful, then `parse_integer_or_else` should return the parsed integer.\n",
    "However, if `int` was unable to parse the input as an integer, then `parse_integer_or_else` should instead return the value of its second parameter.\n",
    "\n",
    "Define your `parse_integer_or_else` function in the next cell.\n",
    "Leave the calls in place in order to test your code."
   ]
  },
  {
   "cell_type": "code",
   "execution_count": 5,
   "id": "44b46b83-a00b-4946-8e84-e303434adcc7",
   "metadata": {},
   "outputs": [
    {
     "name": "stdout",
     "output_type": "stream",
     "text": [
      "124\n",
      "16\n",
      "4\n"
     ]
    }
   ],
   "source": [
    "# Define your parse_integer_or_else function below.\n",
    "# Leaves the calls in place in order to test your code.\n",
    "def parse_integer_or_else(x,y=0):\n",
    "    try:\n",
    "        return int(x)\n",
    "\n",
    "    except ValueError:\n",
    "        return int(y)\n",
    "        \n",
    "\n",
    "\n",
    "print(parse_integer_or_else(\"123\", 5) + 1) # should print 124\n",
    "print(parse_integer_or_else(\"14\", 2) + 2) # should print 16\n",
    "print(parse_integer_or_else(\"foo\", 3) + 1) # should print 4"
   ]
  },
  {
   "cell_type": "markdown",
   "id": "898d1db7-b737-4cfb-b8b6-00f184fa347f",
   "metadata": {},
   "source": [
    "## Step 2: Use `finally` to Guarantee Some Computation Happens on an Exception ##\n",
    "\n",
    "### Background: `finally` ###\n",
    "\n",
    "Sometimes you need to guarantee that some bit of code gets executed _even if_ an exception is thrown, even if you don't have a handler defined for an exception.\n",
    "For example, in assignment 17, you worked with files, which must (in order):\n",
    "\n",
    "1. Be opened\n",
    "2. Be written to / read from\n",
    "3. Be closed\n",
    "\n",
    "For reasons beyond our scope, closing the file when you're done is very important, especially if you are writing to a file.\n",
    "Without it, the file you \"wrote\" to might appear to be fine, or it may only contain part of what you wrote, become somehow corrupted, or perhaps not even appear at all.\n",
    "In the context of exceptions, this can be particularly problematic.\n",
    "For example, consider the following code.\n",
    "Note we are _not_ using `with...as` in this example, meaning we must explicitly call `close`; there will be more on that in a bit.\n",
    "\n",
    "```python\n",
    "file_handle = open(\"some_file.txt\", \"w\")\n",
    "file_handle.write(\"foo\")\n",
    "file_handle.write(str(int(\"foo\") + 1))\n",
    "file_handle.close()\n",
    "```\n",
    "\n",
    "While the above code may successfully open `\"some_file.txt\"`, and even write `\"foo\"` to said file, the subsequent line would trigger a `ValueError` exception.\n",
    "We can partially handle this by catching a `ValueError` exception, as with:\n",
    "\n",
    "```python\n",
    "try:\n",
    "    file_handle = open(\"some_file.txt\", \"w\")\n",
    "    file_handle.write(\"foo\")\n",
    "    file_handle.write(str(int(\"foo\") + 1))\n",
    "    file_handle.close()\n",
    "except ValueError:\n",
    "    print(\"could not convert integer\")\n",
    "    file_handle.close()\n",
    "```\n",
    "\n",
    "The above code will now call `file_handle.close()` whether or not a `ValueError` is thrown.\n",
    "(Note for those coming from other languages: `file_handle` _will_ be in scope in the `except`, despite typical scoping rules.)\n",
    "However, it turns out we have only half-fixed this issue, and introduced another problem in the process, namely:\n",
    "\n",
    "- If any exception _other than_ `ValueError` is thrown, we will still have the same problem of failing to close `file_handle`.\n",
    "- We duplicated the `close` operation, and for each kind of exception which could be thrown, we'd need to duplicate it again.\n",
    "\n",
    "To address situations like this, in addition to `except`, we also have `finally`.\n",
    "The code inside `finally` is executed after the body of the `try` and any `except`s are executed.\n",
    "This is shown in the cell below:"
   ]
  },
  {
   "cell_type": "code",
   "execution_count": 6,
   "id": "1cf48b8c-a165-46da-aeaf-97bede873f73",
   "metadata": {},
   "outputs": [
    {
     "name": "stdout",
     "output_type": "stream",
     "text": [
      "could not convert integer\n"
     ]
    }
   ],
   "source": [
    "try:\n",
    "    file_handle = open(\"some_file.txt\", \"w\")\n",
    "    file_handle.write(\"foo\")\n",
    "    file_handle.write(str(int(\"foo\") + 1))\n",
    "except ValueError:\n",
    "    print(\"could not convert integer\")\n",
    "finally:\n",
    "    file_handle.close()"
   ]
  },
  {
   "cell_type": "markdown",
   "id": "72c6bb33-1a04-4060-9359-e144e8b165dd",
   "metadata": {},
   "source": [
    "If you run the above cell, it will create a file named `\"some_file.txt\"` in the same directory as the notebook.\n",
    "`\"foo\"` will be written to the file, and the file will be successfully closed.\n",
    "The cell will also print out `\"could not convert integer\"`, indicating that the `ValueError` exception is thrown.\n",
    "Importantly, the `file_handle.close()` is now guaranteed to run whether or not an exception gets thrown, or even if we catch an exception, and we do not need to duplicate this code, either.\n",
    "\n",
    "Admittedly, in assignment 17, we did not call `close`, and instead used `with...as`.\n",
    "`with...as` creates something called a [context manager](https://docs.python.org/3/reference/datamodel.html#context-managers), which are used for the express purpose of ensuring that some action is performed automatically once some block of code has finished executing.\n",
    "Context managers solve a similar issue as `finally` here, but without even needing to write the `close`.\n",
    "\n",
    "### Try this Yourself ###\n",
    "\n",
    "The function in the next cell duplicates a `print` depending on whether or not a `ZeroDivisionError` exception is thrown.\n",
    "Rewrite this code to instead use `finally`.\n",
    "Leave the calls in place in order to test your code."
   ]
  },
  {
   "cell_type": "code",
   "execution_count": 10,
   "id": "8671be0c-7376-4469-b397-c2f2056d9499",
   "metadata": {},
   "outputs": [
    {
     "name": "stdout",
     "output_type": "stream",
     "text": [
      "division attempt complete\n",
      "3.0\n",
      "division attempt complete\n",
      "0\n"
     ]
    }
   ],
   "source": [
    "# Rewrite does_division to use finally, and avoid duplicating the print\n",
    "def does_division(x, y):\n",
    "    try:\n",
    "        result = x / y\n",
    "        #print(\"division attempt complete\")\n",
    "        #return result\n",
    "    except ZeroDivisionError:\n",
    "        #print(\"division attempt complete\")\n",
    "        #return 0\n",
    "        result = 0\n",
    "    finally:\n",
    "        print(\"division attempt complete\")\n",
    "    return result\n",
    "\n",
    "print(does_division(6, 2))\n",
    "# above statement should print:\n",
    "# division attempt complete\n",
    "# 3.0\n",
    "\n",
    "print(does_division(8, 0))\n",
    "# above statement should print:\n",
    "# division attempt complete\n",
    "# 0"
   ]
  },
  {
   "cell_type": "markdown",
   "id": "7d0c3a3f-d64a-4ef8-9b91-0be0ce3dcb3e",
   "metadata": {},
   "source": [
    "## Step 3: Define and Throw your own Exceptions ##\n",
    "\n",
    "### Background: Defining and Throwing Custom Exceptions ###\n",
    "\n",
    "You can define your own exceptions by inheriting from the `Exception` class, as illustrated in the cell below:"
   ]
  },
  {
   "cell_type": "code",
   "execution_count": 11,
   "id": "e6462547-13e8-4e04-acd9-97e88f2f1515",
   "metadata": {},
   "outputs": [],
   "source": [
    "class MyException(Exception):\n",
    "    pass"
   ]
  },
  {
   "cell_type": "markdown",
   "id": "9a0057db-36f8-4206-aa47-fdef659f968a",
   "metadata": {},
   "source": [
    "Because `MyException` (and any exception type you want) is a class, you can do anything with exceptions that you can do with objects.\n",
    "In practice, it's common for people to put extra information in an exception to record information about what specifically went wrong; we will see this momentarily.\n",
    "\n",
    "Exceptions can be thrown with the `raise` statement.\n",
    "For example, consider the code in the following cell:"
   ]
  },
  {
   "cell_type": "code",
   "execution_count": 13,
   "id": "99efda00-197a-4b57-ab32-bb7e3bb6a242",
   "metadata": {},
   "outputs": [
    {
     "ename": "MyException",
     "evalue": "",
     "output_type": "error",
     "traceback": [
      "\u001b[1;31m---------------------------------------------------------------------------\u001b[0m",
      "\u001b[1;31mMyException\u001b[0m                               Traceback (most recent call last)",
      "Cell \u001b[1;32mIn[13], line 1\u001b[0m\n\u001b[1;32m----> 1\u001b[0m \u001b[38;5;28;01mraise\u001b[39;00m MyException()\n",
      "\u001b[1;31mMyException\u001b[0m: "
     ]
    }
   ],
   "source": [
    "raise MyException()"
   ]
  },
  {
   "cell_type": "markdown",
   "id": "e286b865-6e4b-4501-bd16-5055a5cca016",
   "metadata": {},
   "source": [
    "The above cell will create an instance of the `MyException` class, and immediately throw it with `raise`.\n",
    "Because this code is not enclosed in a `try` with an `except` handling `MyException`, the cell crashes.\n",
    "We don't see this crash with the `try`, as with:"
   ]
  },
  {
   "cell_type": "code",
   "execution_count": 14,
   "id": "c1ad586b-b3a7-47c7-8d27-37e175bd83d0",
   "metadata": {},
   "outputs": [
    {
     "name": "stdout",
     "output_type": "stream",
     "text": [
      "caught exception\n"
     ]
    }
   ],
   "source": [
    "try:\n",
    "    raise MyException()\n",
    "except MyException:\n",
    "    print(\"caught exception\")"
   ]
  },
  {
   "cell_type": "markdown",
   "id": "a97ec26a-53c0-4396-90a2-5fb9a8fdb91b",
   "metadata": {},
   "source": [
    "The one issue with the `except` as written is that this merely checks to see if a `MyException` instance was thrown.\n",
    "The actual instance is discarded.\n",
    "With `MyException`, this is not that big of a deal, since there isn't any information that we put into this exception.\n",
    "However, consider the `MyExceptionWithMessage` exception defined in the next cell:"
   ]
  },
  {
   "cell_type": "code",
   "execution_count": 15,
   "id": "4433225c-2981-48ac-b30f-ea655503f549",
   "metadata": {},
   "outputs": [],
   "source": [
    "class MyExceptionWithMessage(Exception):\n",
    "    def __init__(self, message):\n",
    "        self.message = message"
   ]
  },
  {
   "cell_type": "markdown",
   "id": "856e0cf1-4561-4d5f-b403-5cd74f629a48",
   "metadata": {},
   "source": [
    "In this case, there is a `message` that is stored inside of the exception instance itself.\n",
    "This message could be used to encode some extra information about what exactly went wrong.\n",
    "In order to access this message, if the exception is thrown, we would need a handle on the instance of the exception.\n",
    "This can be done with `as`, like so:"
   ]
  },
  {
   "cell_type": "code",
   "execution_count": 16,
   "id": "3f529719-50a0-4ccc-9012-2f695af9a3cd",
   "metadata": {},
   "outputs": [
    {
     "name": "stdout",
     "output_type": "stream",
     "text": [
      "hello\n"
     ]
    }
   ],
   "source": [
    "try:\n",
    "    raise MyExceptionWithMessage(\"hello\")\n",
    "except MyExceptionWithMessage as e:\n",
    "    print(e.message)"
   ]
  },
  {
   "cell_type": "markdown",
   "id": "7e758f68-d8bc-445e-aa60-d917b0902197",
   "metadata": {},
   "source": [
    "As shown, `as` can be put after the name of the type of exception we want to catch, and this is followed by the name of a new variable, in this case `e`.\n",
    "The name of the variable can be wahtever you want it to be.\n",
    "This means that `e` will be bound to the specific `MyExceptionWithMessage` instance thrown by `raise`, hence the code above printing out `\"hello\"`.\n",
    "\n",
    "### Try this Yourself ###\n",
    "\n",
    "In the next cell, you'll need to define a `check_input` function, which will take a single parameter.\n",
    "From there, `check_input` will do the following:\n",
    "\n",
    "- If the parameter was the string `\"foo\"`, then `check_input` will throw a `GotFoo` exception.\n",
    "- If the parameter was the string `\"bar\"`, then `check_input` will throw a `GotBar` exception.\n",
    "- If the parameter could be parsed with `int`, then `check_input` will throw a `GotInteger` exception.  The actual value returned by `int` will be stored in a field named `value` on the `GotInteger` exception instance.\n",
    "- If the parameter was anything else, the parameter should be returned as-is\n",
    "\n",
    "In order to make your `check_input` function work, you will also need to define `GotFoo`, `GotBar`, and `GotInteger` exceptions.\n",
    "\n",
    "The expected output of the next cell is as follows:\n",
    "\n",
    "```\n",
    "Got foo\n",
    "Got bar\n",
    "17\n",
    "3\n",
    "apple\n",
    "pear\n",
    "```"
   ]
  },
  {
   "cell_type": "code",
   "execution_count": 24,
   "id": "f6ecad51-f999-46a8-8827-b38c01769043",
   "metadata": {},
   "outputs": [
    {
     "name": "stdout",
     "output_type": "stream",
     "text": [
      "Got foo\n",
      "Got bar\n",
      "17\n",
      "3\n",
      "apple\n",
      "pear\n"
     ]
    }
   ],
   "source": [
    "# Define your exception classes and check_input function here.\n",
    "\n",
    "class GotFoo(Exception):\n",
    "    pass\n",
    "\n",
    "class GotBar(Exception):\n",
    "    pass\n",
    "\n",
    "class GotInteger(Exception):\n",
    "    def __init__(self, value, *args):\n",
    "        Exception.__init__(self, *args) \n",
    "        self.value = value\n",
    "\n",
    "\n",
    "def check_input(input_value):\n",
    "    if isinstance(input_value, str):\n",
    "        if input_value == \"foo\":\n",
    "            raise GotFoo\n",
    "        elif input_value == \"bar\":\n",
    "            raise GotBar\n",
    "    elif isinstance(input_value, int):\n",
    "        raise GotInteger(input_value)\n",
    "    return input_value\n",
    "   \n",
    "\n",
    "\n",
    "# Leave the code below in place for testing.\n",
    "\n",
    "try:\n",
    "    check_input(\"foo\")\n",
    "except GotFoo:\n",
    "    print(\"Got foo\")\n",
    "\n",
    "try:\n",
    "    check_input(\"bar\")\n",
    "except GotBar:\n",
    "    print(\"Got bar\")\n",
    "\n",
    "try:\n",
    "    check_input(17)\n",
    "except GotInteger as e:\n",
    "    print(e.value)\n",
    "\n",
    "try:\n",
    "    check_input(3)\n",
    "except GotInteger as e:\n",
    "    print(e.value)\n",
    "\n",
    "print(check_input(\"apple\"))\n",
    "print(check_input(\"pear\"))"
   ]
  },
  {
   "cell_type": "markdown",
   "id": "f6b549aa-5a5e-47d7-a552-1a8af27c6644",
   "metadata": {},
   "source": [
    "## Step 4: Submit via Canvas ##\n",
    "\n",
    "Be sure to **save your work**, then log into [Canvas](https://canvas.csun.edu/).  Go to the COMP 502 course, and click \"Assignments\" on the left pane.  From there, click \"Assignment 22\".  From there, you can upload the `22_exceptions.ipynb` file.\n",
    "\n",
    "You can turn in the assignment multiple times, but only the last version you submitted will be graded."
   ]
  }
 ],
 "metadata": {
  "kernelspec": {
   "display_name": "Python 3 (ipykernel)",
   "language": "python",
   "name": "python3"
  },
  "language_info": {
   "codemirror_mode": {
    "name": "ipython",
    "version": 3
   },
   "file_extension": ".py",
   "mimetype": "text/x-python",
   "name": "python",
   "nbconvert_exporter": "python",
   "pygments_lexer": "ipython3",
   "version": "3.13.5"
  }
 },
 "nbformat": 4,
 "nbformat_minor": 5
}
