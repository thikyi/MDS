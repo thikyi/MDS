{
 "cells": [
  {
   "cell_type": "markdown",
   "id": "3e3b263a-1193-4125-b6c3-49c1e9a25d2c",
   "metadata": {},
   "source": [
    "# Assignment 26: Pandas Series Objects #\n",
    "\n",
    "### Goals for this Assignment ###\n",
    "\n",
    "By the time you have completed this assignment, you should be able to:\n",
    "\n",
    "- Manually create a `Series` object with the Pandas library, including with custom indices\n",
    "- Create a `Series` object from a Python dictionary\n",
    "- Access values in `Series` objects by name using `.loc` or square brackets (`[]`), and by numeric index with `.iloc`\n",
    "- Get the size of a `Series` object with `.size`\n",
    "- Perform vector operations on `Series` objects to do list-like operations without lists\n",
    "- Use fancy indexing on `Series` objects to extract values at given indices\n",
    "- Use masking on `Series` objects to extract elements matching a predicate\n",
    "- Use the `mean`, `min`, and `max` methods to gather basic statistical information over a `Series` object\n",
    "\n",
    "## Step 1: Create a `Series` Object with Manually-Specified Indices ##\n",
    "\n",
    "### Background: Pandas `Series` Objects ###\n",
    "\n",
    "[Pandas](https://pandas.pydata.org/) is a very popular Python library for Data Science applications.\n",
    "Pandas offers much of the same sort of functionality as [NumPy](https://numpy.org/), and even internally uses NumPy.\n",
    "As a result, knowledge about NumPy will usually transfer over to Pandas.\n",
    "However, unlike NumPy, Pandas was very specifically made for Data Science purposes, and can end up making many operations simpler as a result.\n",
    "\n",
    "For this assignment, we will look specifically at [`Series`](https://pandas.pydata.org/docs/reference/api/pandas.Series.html) objects, which are Pandas' representation of single-dimensional data.\n",
    "As a reminder, with single-dimensional data, we only need to provide a single index to get access to an individual datum; for example, `some_list[3]` will get the element at index `3` in `some_list`.\n",
    "Notably, what exactly constitutes an \"index\" is, in general, somewhat open to interpretation.\n",
    "With lists, indices are integers.\n",
    "However, with dictionaries, our \"indices\" are instead much more flexible; keys are effectively indices, and keys can be strings, integers, or floats, among many others (exactly how many is beyond our scope).\n",
    "\n",
    "With `Series` objects, we can have our indices be integers, much like a normal Python list.\n",
    "This is shown in the cell below, which uses Pandas to create a `Series` object.\n",
    "Note that Pandas itself is `import`ed as `pd`; `pd` is, by convention, the preferred name to use when used in an `import`."
   ]
  },
  {
   "cell_type": "code",
   "execution_count": 1,
   "id": "020debb0-c64d-42b9-847b-a749adac0342",
   "metadata": {},
   "outputs": [
    {
     "name": "stdout",
     "output_type": "stream",
     "text": [
      "3\n",
      "2\n",
      "8\n",
      "4\n"
     ]
    }
   ],
   "source": [
    "import pandas as pd\n",
    "\n",
    "series = pd.Series([3, 2, 8, 4])\n",
    "print(series[0]) # prints 3\n",
    "print(series[1]) # prints 2\n",
    "print(series[2]) # prints 8\n",
    "print(series[3]) # prints 4"
   ]
  },
  {
   "cell_type": "markdown",
   "id": "ee592a7d-416e-4364-871a-1c1840b1be56",
   "metadata": {},
   "source": [
    "As shown in the cell above, we can create a `Series` object in a very similar way as a NumPy array, and we can access it in the same way, too.\n",
    "However, while this works, this is generally not the preferred style.\n",
    "`Series` objects optionally allow for custom indices to be used, which can be specified with the `index` parameter, like so:"
   ]
  },
  {
   "cell_type": "code",
   "execution_count": 2,
   "id": "6f01bff1-49cd-45f3-88b9-c502c269bd9f",
   "metadata": {},
   "outputs": [
    {
     "name": "stdout",
     "output_type": "stream",
     "text": [
      "4\n",
      "2\n",
      "8\n",
      "3\n",
      "9\n",
      "1\n"
     ]
    }
   ],
   "source": [
    "named_series = pd.Series([4, 2, 8, 3, 9, 1], index = [\"a\", \"b\", \"c\", \"d\", \"e\", \"f\"])\n",
    "print(named_series[\"a\"]) # prints 4\n",
    "print(named_series[\"b\"]) # prints 2\n",
    "print(named_series[\"c\"]) # prints 8\n",
    "print(named_series[\"d\"]) # prints 3\n",
    "print(named_series[\"e\"]) # prints 9\n",
    "print(named_series[\"f\"]) # prints 1"
   ]
  },
  {
   "cell_type": "markdown",
   "id": "10c34c76-03a8-456d-bb65-35caedd3c8de",
   "metadata": {},
   "source": [
    "With custom indices provided, `Series` objects end up having a very similar look and feel to Python dictionaries, since we can use strings and other types for the indices instead of just integers.\n",
    "While this may not seem like that big of a shift, in practice this can help a lot when doing data analysis, because usually there is some semantic meaning behind each individual value.\n",
    "For example, if we have a table, usually each column in the table represents something distinct.\n",
    "Using medical data as an example, we might have a column for patient names, their birth date, and their blood pressure during their last doctor visit, in that order.\n",
    "If we have a single row of this table represented as a `Series` object, we could access these values via something like `patient[\"name\"]` or `patient[\"blood_pressure\"]`.\n",
    "This is self-describing, making this easier to understand (and arguably less error-prone) than `patient[0]` or `patient[2]`.\n",
    "\n",
    "### Try this Yourself ###\n",
    "\n",
    "In the next cell, create a `Series` object bound to variable `my_series` holding the following:\n",
    "\n",
    "- `5`, with the label `\"foo\"`\n",
    "- `2`, with the label `\"bar\"`\n",
    "- `3`, with the label `\"baz\"`\n",
    "\n",
    "Leave the prints in order to test your code."
   ]
  },
  {
   "cell_type": "code",
   "execution_count": 3,
   "id": "7d94487d-1c30-427b-a8a8-1038e94a22fa",
   "metadata": {},
   "outputs": [
    {
     "name": "stdout",
     "output_type": "stream",
     "text": [
      "5\n",
      "2\n",
      "3\n"
     ]
    }
   ],
   "source": [
    "# Define your series here.  Leave the prints below in order to test your code.\n",
    "my_series = pd.Series([5, 2, 3], index=[\"foo\", \"bar\", \"baz\"])\n",
    "\n",
    "print(my_series[\"foo\"]) # should print 5\n",
    "print(my_series[\"bar\"]) # should print 2\n",
    "print(my_series[\"baz\"]) # should print 3"
   ]
  },
  {
   "cell_type": "markdown",
   "id": "c887a534-5252-4dc1-9cff-92c595f6fa9b",
   "metadata": {},
   "source": [
    "## Step 2: Create a `Series` Object from a Dictionary ##\n",
    "\n",
    "### Background: Making `Series` Objects from a Dictionary ##\n",
    "\n",
    "The constructor for `Series` can be used in multiple ways, and can instead take a dictionary.\n",
    "In that case, the keys of the dictionary will be used as indices, and the values will be used as the entries.\n",
    "This is illustrated in the cell below."
   ]
  },
  {
   "cell_type": "code",
   "execution_count": 4,
   "id": "9c7ff619-d3cc-4357-b858-9fc85e8964d6",
   "metadata": {},
   "outputs": [
    {
     "name": "stdout",
     "output_type": "stream",
     "text": [
      "1\n",
      "2\n"
     ]
    }
   ],
   "source": [
    "dict_example = pd.Series({ \"apple\" : 1, \"pear\" : 2 })\n",
    "print(dict_example[\"apple\"]) # prints 1\n",
    "print(dict_example[\"pear\"]) # prints 2"
   ]
  },
  {
   "cell_type": "markdown",
   "id": "83b75ed6-d468-40c6-bbc0-fcb362209ac6",
   "metadata": {},
   "source": [
    "### Try this Yourself ###\n",
    "\n",
    "In the next cell, create a `Series` object bound to variable `my_series_dict`.\n",
    "This should hold the same values as your prior definition of `my_series`, only now the `Series` object should be created by passing a dictionary to `pd.Series` instead.\n",
    "Leave the prints in place in order to test your code."
   ]
  },
  {
   "cell_type": "code",
   "execution_count": 5,
   "id": "9696bc3d-108e-4d9f-8a8a-7b4db53a57d4",
   "metadata": {},
   "outputs": [
    {
     "name": "stdout",
     "output_type": "stream",
     "text": [
      "5\n",
      "2\n",
      "3\n"
     ]
    }
   ],
   "source": [
    "# Define your series here.  Leave the prints below in order to test your code.\n",
    "\n",
    "my_series_dict = pd.Series({ \"foo\" : 5, \"bar\" : 2 , \"baz\" : 3})\n",
    "\n",
    "print(my_series_dict[\"foo\"]) # should print 5\n",
    "print(my_series_dict[\"bar\"]) # should print 2\n",
    "print(my_series_dict[\"baz\"]) # should print 3"
   ]
  },
  {
   "cell_type": "markdown",
   "id": "e5721087-7646-471f-a2c5-1fe12c2142dd",
   "metadata": {},
   "source": [
    "## Step 3: Access Values Using `.loc` and `.iloc` ##\n",
    "\n",
    "### Background: `.loc` and `.iloc` ###\n",
    "\n",
    "In addition to the square bracket notation we have been using so far, you can also access values in a `Series` using `.loc`, as shown below:"
   ]
  },
  {
   "cell_type": "code",
   "execution_count": 6,
   "id": "14fd24d7-c2bf-4eb0-b6ef-7aeb25b6e78b",
   "metadata": {},
   "outputs": [
    {
     "name": "stdout",
     "output_type": "stream",
     "text": [
      "42\n",
      "12\n",
      "38\n"
     ]
    }
   ],
   "source": [
    "example = pd.Series({ \"alpha\" : 42, \"beta\" : 12, \"gamma\" : 38 })\n",
    "print(example.loc[\"alpha\"]) # prints 42\n",
    "print(example.loc[\"beta\"]) # prints 12\n",
    "print(example.loc[\"gamma\"]) # prints 38"
   ]
  },
  {
   "cell_type": "markdown",
   "id": "3c4bc061-7566-4d1f-8a4b-d94c79b0a7c5",
   "metadata": {},
   "source": [
    "As shown, accessing through `.loc` effectively does the same thing as using square brackets directly.\n",
    "\n",
    "You can also access by numeric index via `.iloc`, as shown below:"
   ]
  },
  {
   "cell_type": "code",
   "execution_count": 7,
   "id": "f33c5f53-30e7-4911-9f31-143a0770582c",
   "metadata": {},
   "outputs": [
    {
     "name": "stdout",
     "output_type": "stream",
     "text": [
      "42\n",
      "12\n",
      "38\n"
     ]
    }
   ],
   "source": [
    "print(example.iloc[0]) # prints 42\n",
    "print(example.iloc[1]) # prints 12\n",
    "print(example.iloc[2]) # prints 38"
   ]
  },
  {
   "cell_type": "markdown",
   "id": "019c21fc-6156-4cf9-bc73-421785ec43e4",
   "metadata": {},
   "source": [
    "As shown, `.iloc` allows for access via a numeric index, similar to a list.\n",
    "The items are in the same order as they were inserted into the `Series`.\n",
    "\n",
    "### Try this Yourself ###\n",
    "\n",
    "In the next cell, access the elements of `my_series_dict` by numeric index using `.iloc`.\n",
    "You should print out the elements in _reverse_ order in which you inserted them, as in, this should print:\n",
    "\n",
    "```\n",
    "3\n",
    "2\n",
    "5\n",
    "```\n",
    "\n",
    "You don't need to write a loop or use `reverse`; the intention here is to write three individual `print`s which access `.iloc` with the numeric indecies corresponding to the above elements."
   ]
  },
  {
   "cell_type": "code",
   "execution_count": 11,
   "id": "132cf6b7-ba9f-4962-8f64-bf6993e817e3",
   "metadata": {},
   "outputs": [
    {
     "name": "stdout",
     "output_type": "stream",
     "text": [
      "3\n",
      "2\n",
      "5\n"
     ]
    }
   ],
   "source": [
    "# Define your prints accessing my_series_dict elements via numeric\n",
    "# index, using .iloc\n",
    "\n",
    "print(my_series_dict.iloc[2]) \n",
    "print(my_series_dict.iloc[1]) \n",
    "print(my_series_dict.iloc[0]) "
   ]
  },
  {
   "cell_type": "markdown",
   "id": "198efd33-7d06-4af8-8f26-5e3bb3ebaad4",
   "metadata": {},
   "source": [
    "## Step 4: Get the Size of a `Series` Object with `.size` ##\n",
    "\n",
    "### Background: `len` of `Series` Objects and `.size` ###\n",
    "\n",
    "You can use either the `len` function to get the size of a `Series` object, or access this size using `.size`, as shown below:"
   ]
  },
  {
   "cell_type": "code",
   "execution_count": 12,
   "id": "58f02805-f9f6-4dce-bd35-fcd750637bb0",
   "metadata": {},
   "outputs": [
    {
     "name": "stdout",
     "output_type": "stream",
     "text": [
      "3\n",
      "3\n"
     ]
    }
   ],
   "source": [
    "size_example = pd.Series([4, 9, 4], index=[\"a\", \"b\", \"c\"])\n",
    "print(len(size_example)) # prints 3\n",
    "print(size_example.size) # prints 3"
   ]
  },
  {
   "cell_type": "markdown",
   "id": "3915f980-e0d7-4b17-b607-bf111b68c432",
   "metadata": {},
   "source": [
    "### Try this Yourself ###\n",
    "\n",
    "In the next cell, print the size of your `my_series_dict` `Series` object from before, once using `len`, and again using `.size`."
   ]
  },
  {
   "cell_type": "code",
   "execution_count": 14,
   "id": "f0dfa166-3ab0-40de-a950-6affb43f83ed",
   "metadata": {},
   "outputs": [
    {
     "name": "stdout",
     "output_type": "stream",
     "text": [
      "3\n",
      "3\n"
     ]
    }
   ],
   "source": [
    "# Put your prints below\n",
    "print(len(my_series_dict)) \n",
    "print(my_series_dict.size)"
   ]
  },
  {
   "cell_type": "markdown",
   "id": "7f440ea5-7779-48b9-8524-a71dcabaf5df",
   "metadata": {},
   "source": [
    "## Step 5: Use NumPy-like Vector Operations on `Series` Objects ##\n",
    "\n",
    "### Background: Vector Operations on `Series` Objects ###\n",
    "\n",
    "`Series` objects permit vector operations in practically the same way as NumPy arrays do, as shown below:"
   ]
  },
  {
   "cell_type": "code",
   "execution_count": 15,
   "id": "aafaee59-7962-427e-9190-db47d0938925",
   "metadata": {},
   "outputs": [
    {
     "name": "stdout",
     "output_type": "stream",
     "text": [
      "6\n",
      "5\n"
     ]
    }
   ],
   "source": [
    "example1 = pd.Series({\"foo\" : 1, \"bar\" : 2})\n",
    "example2 = pd.Series({\"foo\" : 5, \"bar\" : 3})\n",
    "result = example1 + example2\n",
    "print(result[\"foo\"]) # prints 6\n",
    "print(result[\"bar\"]) # prints 5"
   ]
  },
  {
   "cell_type": "markdown",
   "id": "c56db009-295f-4ece-9ce3-e9f8f0fcc0bb",
   "metadata": {},
   "source": [
    "As shown, `example1 + example2` computes a new `Series` object, where each element of the resulting object results from the sum of two values from `example1` and `example2`, using the same index.\n",
    "That is, `result[\"foo\"]` is `6`, because `example1[\"foo\"] + example2[\"foo\"]` is `6`.\n",
    "\n",
    "`Series` objects also broadcast scalar values in the same way as NumPy arrays do, as shown below:"
   ]
  },
  {
   "cell_type": "code",
   "execution_count": 16,
   "id": "e0e067f7-e93a-4286-b5ec-5afa8cf2b1d4",
   "metadata": {},
   "outputs": [
    {
     "name": "stdout",
     "output_type": "stream",
     "text": [
      "8\n",
      "9\n"
     ]
    }
   ],
   "source": [
    "result = example1 + 7\n",
    "print(result[\"foo\"]) # prints 8\n",
    "print(result[\"bar\"]) # prints 9"
   ]
  },
  {
   "cell_type": "markdown",
   "id": "317deb47-6890-411e-bc6f-2612a50b4b35",
   "metadata": {},
   "source": [
    "That is, `example1 + 7` returns a new `Series` object, where the value of each field is the result of adding `7` to the corresponding field in `example1`.\n",
    "\n",
    "Unlike NumPy arrays, if we perform a vector operation on two `Series` objects which don't share the same indices, this is not a hard error.\n",
    "That is, an exception is **not** thrown if the indices are different.\n",
    "Instead, we see `NaN` in the resulting `Series` object for each field that was present in only one of the two input `Series` objects, as shown below:"
   ]
  },
  {
   "cell_type": "code",
   "execution_count": 17,
   "id": "7b2c735f-e2e5-4b3d-b9c4-0d36a7642ccd",
   "metadata": {},
   "outputs": [
    {
     "name": "stdout",
     "output_type": "stream",
     "text": [
      "bar    7.0\n",
      "baz    NaN\n",
      "foo    NaN\n",
      "dtype: float64\n"
     ]
    }
   ],
   "source": [
    "bar_baz = pd.Series({ \"bar\" : 5, \"baz\" : 7})\n",
    "bar_baz_result = example1 + bar_baz\n",
    "print(bar_baz_result)"
   ]
  },
  {
   "cell_type": "markdown",
   "id": "c76ec0c8-2d5b-4cd1-8f01-433aaca5ed14",
   "metadata": {},
   "source": [
    "If you run the prior cell, you'll see that `bar_baz_result` has the indices `\"bar\"`, `\"baz\"`, and `\"foo\"`; this corresponds to the set union of all indices for `example1` and `bar_baz`.\n",
    "However, only the set _intersection_ has meaningful values; i.e., the only index shared by both `example1` and `bar_baz` is `\"bar\"`, therefore `bar_baz_result` holds index `\"bar\"` with a value corresponding to the sum of the values at these indices (`2 + 5 = 7`).\n",
    "The remainder of the fields (`\"baz\"` and `\"foo\"`) hold [`NaN`, or Not a Number](https://en.wikipedia.org/wiki/NaN), which is a special floating-point value used to indicate that a requested computation more or less would do something weird if performed.\n",
    "In this case, only one of the operands to `+` had the given index, so `NaN` was used as the result, since we couldn't actually sum anything.\n",
    "Note that this also changed the type of value in the `Series` object to be a `float64` (shown with `dtype`); this is because `NaN` needs a floating-point representation to be represented at all, and integers cannot represent these.\n",
    "Just as with NumPy arrays, the types of the elements in a `Series` object need to be the same, and the available types correspond to the same types in NumPy.\n",
    "\n",
    "### Try this Yourself ###\n",
    "\n",
    "This step effectively has you redo step 1 of the prior assignment, but over Pandas `Series` objects instead of NumPy array objects.\n",
    "The next cell defines two different `Series` objects, `s1` and `s2`.\n",
    "The comments say which operation is requested for you to perform.\n",
    "The first one is provided for you as an example."
   ]
  },
  {
   "cell_type": "code",
   "execution_count": 20,
   "id": "cad63fc5-3b4b-4ed1-9ff7-4c248efd7ab4",
   "metadata": {},
   "outputs": [
    {
     "name": "stdout",
     "output_type": "stream",
     "text": [
      "a     4\n",
      "b     9\n",
      "c    11\n",
      "d     3\n",
      "e     6\n",
      "f     5\n",
      "g    10\n",
      "dtype: int64\n",
      "\n",
      "a    4\n",
      "b    7\n",
      "c    7\n",
      "d   -3\n",
      "e   -2\n",
      "f   -5\n",
      "g   -2\n",
      "dtype: int64\n",
      "\n",
      "a     0\n",
      "b     8\n",
      "c    18\n",
      "d     0\n",
      "e     8\n",
      "f     0\n",
      "g    24\n",
      "dtype: int64\n",
      "\n",
      "a    False\n",
      "b    False\n",
      "c    False\n",
      "d     True\n",
      "e     True\n",
      "f     True\n",
      "g     True\n",
      "dtype: bool\n",
      "\n",
      "a    False\n",
      "b    False\n",
      "c    False\n",
      "d     True\n",
      "e     True\n",
      "f     True\n",
      "g     True\n",
      "dtype: bool\n",
      "\n",
      "a     True\n",
      "b     True\n",
      "c     True\n",
      "d    False\n",
      "e    False\n",
      "f    False\n",
      "g    False\n",
      "dtype: bool\n",
      "\n",
      "a     True\n",
      "b     True\n",
      "c     True\n",
      "d    False\n",
      "e    False\n",
      "f    False\n",
      "g    False\n",
      "dtype: bool\n"
     ]
    }
   ],
   "source": [
    "s1 = pd.Series([4, 8, 9, 0, 2, 0, 4], index = [\"a\", \"b\", \"c\", \"d\", \"e\", \"f\", \"g\"])\n",
    "s2 = pd.Series([0, 1, 2, 3, 4, 5, 6], index = [\"a\", \"b\", \"c\", \"d\", \"e\", \"f\", \"g\"])\n",
    "\n",
    "# +\n",
    "print(s1 + s2)\n",
    "# prior statement should print:\n",
    "# a     4\n",
    "# b     9\n",
    "# c    11\n",
    "# d     3\n",
    "# e     6\n",
    "# f     5\n",
    "# g    10\n",
    "# dtype: int64\n",
    "\n",
    "# -\n",
    "print()\n",
    "print(s1 - s2)\n",
    "# prior statement should print:\n",
    "# a    4\n",
    "# b    7\n",
    "# c    7\n",
    "# d   -3\n",
    "# e   -2\n",
    "# f   -5\n",
    "# g   -2\n",
    "# dtype: int64\n",
    "\n",
    "# *\n",
    "print()\n",
    "print(s1 * s2)\n",
    "# prior statement should print:\n",
    "# a     0\n",
    "# b     8\n",
    "# c    18\n",
    "# d     0\n",
    "# e     8\n",
    "# f     0\n",
    "# g    24\n",
    "# dtype: int64\n",
    "\n",
    "# <\n",
    "print()\n",
    "print(s1 < s2)\n",
    "# prior statement should print:\n",
    "# a    False\n",
    "# b    False\n",
    "# c    False\n",
    "# d     True\n",
    "# e     True\n",
    "# f     True\n",
    "# g     True\n",
    "# dtype: bool\n",
    "\n",
    "# <=\n",
    "print()\n",
    "print(s1 <= s2)\n",
    "# prior statement should print:\n",
    "# a    False\n",
    "# b    False\n",
    "# c    False\n",
    "# d     True\n",
    "# e     True\n",
    "# f     True\n",
    "# g     True\n",
    "# dtype: bool\n",
    "\n",
    "# >\n",
    "print()\n",
    "print(s1 > s2)\n",
    "# prior statement should print:\n",
    "# a     True\n",
    "# b     True\n",
    "# c     True\n",
    "# d    False\n",
    "# e    False\n",
    "# f    False\n",
    "# g    False\n",
    "# dtype: bool\n",
    "\n",
    "# >=\n",
    "print()\n",
    "print(s1 >=  s2)\n",
    "# prior statement should print:\n",
    "# a     True\n",
    "# b     True\n",
    "# c     True\n",
    "# d    False\n",
    "# e    False\n",
    "# f    False\n",
    "# g    False\n",
    "# dtype: bool"
   ]
  },
  {
   "cell_type": "markdown",
   "id": "4191b906-59d8-436a-82a2-cfeeb34487a1",
   "metadata": {},
   "source": [
    "## Step 6: Use Fancy Indexing on `Series` Objects ##\n",
    "\n",
    "### Background: Fancy Indexing on `Series` Objects ###\n",
    "\n",
    "Fancy indexing can also be performed on `Series` objects in much the same way as NumPy arrays.\n",
    "This is illustrated in the cell below."
   ]
  },
  {
   "cell_type": "code",
   "execution_count": 29,
   "id": "5496bf1e-e309-43c7-bc8b-bcc56fa98751",
   "metadata": {},
   "outputs": [
    {
     "name": "stdout",
     "output_type": "stream",
     "text": [
      "foo    3\n",
      "moo    1\n",
      "dtype: int64\n"
     ]
    }
   ],
   "source": [
    "example = pd.Series([3, 8, 5, 1, 8, 3], index=[\"foo\", \"bar\", \"baz\", \"moo\", \"cow\", \"bull\"])\n",
    "trimmed = example[[\"foo\", \"moo\"]]\n",
    "print(trimmed)"
   ]
  },
  {
   "cell_type": "markdown",
   "id": "275643d0-cce2-4752-8aa3-ad5bbc9856a3",
   "metadata": {},
   "source": [
    "If you run the prior cell, the output shows that `trimmed` contains values for `\"foo\"` and `\"moo\"`, which are `3` and `1`, respectively.\n",
    "This works exactly the same as with NumPy arrays, only now the indices correspond to the `index` parameter instead of being hard-coded as sequential integers.\n",
    "\n",
    "### Try this Yourself ###\n",
    "\n",
    "In the next cell, using fancy indexing, extract out the values from `example` for indices `\"bar\"`, `\"cow\"`, and `\"bull\"` into their own `Series` object.\n",
    "That `Series` object should be bound to the variable `subset`, and then printed out."
   ]
  },
  {
   "cell_type": "code",
   "execution_count": 31,
   "id": "3170f9f0-e70c-40dc-a8ac-413551ea3ddf",
   "metadata": {},
   "outputs": [
    {
     "name": "stdout",
     "output_type": "stream",
     "text": [
      "bar     8\n",
      "cow     8\n",
      "bull    3\n",
      "dtype: int64\n"
     ]
    }
   ],
   "source": [
    "# Use fancy indexing to extract out the requested indices into subset below\n",
    "\n",
    "subset = example[[\"bar\", \"cow\", \"bull\"]]\n",
    "\n",
    "print(subset)"
   ]
  },
  {
   "cell_type": "markdown",
   "id": "3aaad1ee-4b03-4dfe-8bba-797847470ebe",
   "metadata": {},
   "source": [
    "## Step 7: Use Masking on `Series` Objects ##\n",
    "\n",
    "### Background: Masking on `Series` Objects ###\n",
    "\n",
    "In addition to NumPy-style fancy indexing, `Series` objects also support masking in the same way as NumPy arrays.\n",
    "For example, we can redefine the `evens` function from step 3 of the prior assignment to work with `Series` objects, as shown below:"
   ]
  },
  {
   "cell_type": "code",
   "execution_count": 22,
   "id": "66e378e0-ed4c-4543-8fb0-e7572d5bf19c",
   "metadata": {},
   "outputs": [
    {
     "name": "stdout",
     "output_type": "stream",
     "text": [
      "bar    8\n",
      "cow    2\n",
      "dtype: int64\n"
     ]
    }
   ],
   "source": [
    "def evens(s):\n",
    "    return s[s % 2 == 0]\n",
    "\n",
    "other_example = pd.Series([3, 8, 5, 1, 2, 7], index=[\"foo\", \"bar\", \"baz\", \"moo\", \"cow\", \"bull\"])\n",
    "print(evens(other_example))"
   ]
  },
  {
   "cell_type": "markdown",
   "id": "0d33b461-e445-4aae-b69c-ab843d33ffa9",
   "metadata": {},
   "source": [
    "In fact, `evens` isn't meaningfully changes **at all** from the prior assignment; the only difference is that the parameter is named `s` instead of `arr`, but the name of the parameter doesn't have any impact on the code's behavior.\n",
    "\n",
    "### Try this Yourself ###\n",
    "\n",
    "In the cell below, define a `divisible_by` function which will take (in order):\n",
    "\n",
    "- A `Series` object, holding integers\n",
    "- Some positive integer `n`\n",
    "\n",
    "Given these parameters, `divisible_by` should return a new `Series` object, holding all values which were evenly divisible by `n`.\n",
    "As a hint, a number is evenly divisible by `n` if the remainder (modulus; `%`) is `0`."
   ]
  },
  {
   "cell_type": "code",
   "execution_count": 23,
   "id": "837e62c1-815f-48c1-be92-963064e27c8a",
   "metadata": {},
   "outputs": [
    {
     "name": "stdout",
     "output_type": "stream",
     "text": [
      "a     3\n",
      "c     6\n",
      "d    15\n",
      "dtype: int64\n",
      "b     7\n",
      "d    14\n",
      "e    21\n",
      "dtype: int64\n"
     ]
    }
   ],
   "source": [
    "# Define your divisible_by function here.  Leave the calls below in order\n",
    "# to test your code.\n",
    "def divisible_by(ser,n):\n",
    "    return ser[ser % n == 0]\n",
    "\n",
    "threes = pd.Series([3, 5, 6, 15, 7], index=[\"a\", \"b\", \"c\", \"d\", \"e\"])\n",
    "print(divisible_by(threes, 3))\n",
    "# prior statement should print:\n",
    "# a     3\n",
    "# c     6\n",
    "# d    15\n",
    "# dtype: int64\n",
    "\n",
    "sevens = pd.Series([3, 7, 2, 14, 21, 12], index=[\"a\", \"b\", \"c\", \"d\", \"e\", \"f\"])\n",
    "print(divisible_by(sevens, 7))\n",
    "# prior statement should print:\n",
    "# b     7\n",
    "# d    14\n",
    "# e    21\n",
    "# dtype: int64"
   ]
  },
  {
   "cell_type": "markdown",
   "id": "5cf6b559-fbcf-4756-b6c1-8de1b4f21b1c",
   "metadata": {},
   "source": [
    "## Step 8: Use `mean`, `min`, and `max` Methods to Compute Basic Statistics ##\n",
    "\n",
    "### Background: Statistical Operations with Pandas ###\n",
    "\n",
    "Like NumPy, Pandas also supports a wide variety of statistical operations out of the box.\n",
    "However, unlike NumPy, Pandas implements these as methods instead of functions.\n",
    "This is illustrated in the cell below:"
   ]
  },
  {
   "cell_type": "code",
   "execution_count": 24,
   "id": "ec79d231-bc89-45fe-8da6-be7990fb0591",
   "metadata": {},
   "outputs": [
    {
     "name": "stdout",
     "output_type": "stream",
     "text": [
      "7.2\n",
      "3\n",
      "15\n"
     ]
    }
   ],
   "source": [
    "series = pd.Series([3, 5, 6, 15, 7], index=[\"a\", \"b\", \"c\", \"d\", \"e\"])\n",
    "print(series.mean()) # prints 7.2\n",
    "print(series.min()) # prints 3\n",
    "print(series.max()) # prints 15"
   ]
  },
  {
   "cell_type": "markdown",
   "id": "1d0e7253-9eca-4acd-b1d6-8403385bd9bf",
   "metadata": {},
   "source": [
    "Putting everything together, as with NumPy, you can combine operations to do quite a bit with one expression.\n",
    "The following computes the average of all numbers in `series` which are less than or equal to `7`:"
   ]
  },
  {
   "cell_type": "code",
   "execution_count": 25,
   "id": "65390771-2590-48a8-ac50-a5ec99c38c7f",
   "metadata": {},
   "outputs": [
    {
     "name": "stdout",
     "output_type": "stream",
     "text": [
      "5.25\n"
     ]
    }
   ],
   "source": [
    "print(series[series <= 7].mean())"
   ]
  },
  {
   "cell_type": "markdown",
   "id": "22db5fca-8bbc-4049-89b7-3af3cfbf6cc6",
   "metadata": {},
   "source": [
    "In the next cell, define a function named `descriptive_stats_series`, which will print the smallest, largest, and average number in a given input `Series` object.\n",
    "This output should be printed as follows:\n",
    "\n",
    "```\n",
    "Smallest: MIN\n",
    "Largest: MAX\n",
    "Average: MEAN\n",
    "```\n",
    "\n",
    "Leave the calls in place for the next cell in order to test your code.\n",
    "This is expected to be very similar to the `descriptive_stats` function you wrote in step 4 of the prior assignment."
   ]
  },
  {
   "cell_type": "code",
   "execution_count": 27,
   "id": "65fafcda-decf-453c-a56d-5b424db6d174",
   "metadata": {},
   "outputs": [
    {
     "name": "stdout",
     "output_type": "stream",
     "text": [
      "Smallest: 2\n",
      "Largest: 9\n",
      "Average: 5.166666666666667\n",
      "\n",
      "Smallest: 1\n",
      "Largest: 9\n",
      "Average: 5.25\n"
     ]
    }
   ],
   "source": [
    "# Define your descriptive_stats_series function here.\n",
    "# Leave the calls in place below in order to test your code.\n",
    "def descriptive_stats_series(serie):\n",
    "    print(f'Smallest: {serie.min()}')\n",
    "    print(f'Largest: {serie.max()}')\n",
    "    print(f'Average: {serie.mean()}')\n",
    "\n",
    "example1 = pd.Series([3, 7, 2, 9, 6, 4], index=[\"a\", \"b\", \"c\", \"d\", \"e\", \"f\"])\n",
    "descriptive_stats_series(example1)\n",
    "# Above statement should print:\n",
    "# Smallest: 2\n",
    "# Largest: 9\n",
    "# Average: 5.166666666666667\n",
    "\n",
    "print()\n",
    "example2 = pd.Series([3, 8, 1, 9], index=[\"a\", \"b\", \"c\", \"d\"])\n",
    "descriptive_stats_series(example2)\n",
    "# Above statement should print:\n",
    "# Smallest: 1\n",
    "# Largest: 9\n",
    "# Average: 5.25"
   ]
  },
  {
   "cell_type": "markdown",
   "id": "1bb0d32f-798b-4c78-b6f3-d26d7ecb5da3",
   "metadata": {},
   "source": [
    "## Step 9: Submit via Canvas ##\n",
    "\n",
    "Be sure to **save your work**, then log into [Canvas](https://canvas.csun.edu/).  Go to the COMP 502 course, and click \"Assignments\" on the left pane.  From there, click \"Assignment 26\".  From there, you can upload the `26_pandas_series_objects.ipynb` file.\n",
    "\n",
    "You can turn in the assignment multiple times, but only the last version you submitted will be graded.\n",
    "\n",
    "### Special Thanks to Dr. Glenn Bruns ###\n",
    "\n",
    "Special thanks to [Dr. Glenn Bruns](https://csumb.edu/scd/glenn-bruns/) at California State University, Monterey Bay, for providing me with closely-related materials which were used in the creation of this assignment."
   ]
  }
 ],
 "metadata": {
  "kernelspec": {
   "display_name": "Python 3 (ipykernel)",
   "language": "python",
   "name": "python3"
  },
  "language_info": {
   "codemirror_mode": {
    "name": "ipython",
    "version": 3
   },
   "file_extension": ".py",
   "mimetype": "text/x-python",
   "name": "python",
   "nbconvert_exporter": "python",
   "pygments_lexer": "ipython3",
   "version": "3.13.5"
  }
 },
 "nbformat": 4,
 "nbformat_minor": 5
}
