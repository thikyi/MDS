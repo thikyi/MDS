{
 "cells": [
  {
   "cell_type": "markdown",
   "id": "b25fba43-6bf5-450b-b1af-f34231d870ec",
   "metadata": {},
   "source": [
    "# Assignment 16: Iterating With Dictionaries and F-Strings #\n",
    "\n",
    "### Goals for this Assignment ###\n",
    "\n",
    "By the time you have completed this assignment, you should be able to:\n",
    "\n",
    "- Use the `keys` method on a dictionary to iterate over its keys\n",
    "- Use the `values` method on a dictionary to iterate over its values\n",
    "- Use the `items` method on a dictionary to iterate over key/value pairs, one pair at a time\n",
    "- Use formatted strings (f-strings) to construct strings which intermix Python expressions\n",
    "- Use dictionaries to determine how many times numbers appear in a list\n",
    "\n",
    "## Step 1: Use `keys` To Get the Sum of the Keys in a Dictionary ##\n",
    "\n",
    "### Background: `keys` Method on Dictionaries and the `list` Function ###\n",
    "\n",
    "The `keys` method on dictionaries can be used to iterate over all keys in a dictionary, in the order in which the keys were added to the dictionary.\n",
    "An example is shown in the next cell:"
   ]
  },
  {
   "cell_type": "code",
   "execution_count": 1,
   "id": "dc8261b1-0761-4969-939d-dc269602d49b",
   "metadata": {},
   "outputs": [
    {
     "name": "stdout",
     "output_type": "stream",
     "text": [
      "foo\n",
      "bar\n"
     ]
    }
   ],
   "source": [
    "d = { \"foo\" : 1, \"bar\" : 2 }\n",
    "for key in d.keys():\n",
    "    print(key)"
   ]
  },
  {
   "cell_type": "markdown",
   "id": "18548767-2aa9-4835-b59b-47821a858708",
   "metadata": {},
   "source": [
    "The `keys` method doesn't quite return a list, but rather something that can be iterated over in a `for...in` loop.\n",
    "For example, if you do:"
   ]
  },
  {
   "cell_type": "code",
   "execution_count": 2,
   "id": "7a6e2abe-eccd-4d82-8e21-23410fbbf7db",
   "metadata": {},
   "outputs": [
    {
     "name": "stdout",
     "output_type": "stream",
     "text": [
      "dict_keys(['foo', 'bar'])\n"
     ]
    }
   ],
   "source": [
    "# requires prior cell to be run in order to define d\n",
    "print(d.keys())"
   ]
  },
  {
   "cell_type": "markdown",
   "id": "85e2362a-5b9f-440d-9b17-6b0af150b387",
   "metadata": {},
   "source": [
    "...this will print `dict_keys(['foo', 'bar'])`, instead of `['foo', 'bar']` as you might expect.\n",
    "If you specifically need a list of the keys, you can apply the output of `keys` to the `list` function, like so:"
   ]
  },
  {
   "cell_type": "code",
   "execution_count": 3,
   "id": "4f982dca-70fd-402f-b9ea-a5c4c36a835a",
   "metadata": {},
   "outputs": [
    {
     "name": "stdout",
     "output_type": "stream",
     "text": [
      "['foo', 'bar']\n"
     ]
    }
   ],
   "source": [
    "# requires earlier cells to be run\n",
    "the_keys = list(d.keys())\n",
    "print(the_keys) # prints ['foo', 'bar']"
   ]
  },
  {
   "cell_type": "markdown",
   "id": "4e8f90e4-a9b9-415f-890f-dfffbcc5ffac",
   "metadata": {},
   "source": [
    "The `list` function attempts to return a list representation of whatever is passed to it, similar in spirit to the `int`, `float`, and `str` functions.\n",
    "\n",
    "### Try this Yourself ###\n",
    "\n",
    "In the following cell, define a function named `sum_keys`, which can be used to compute the sum of the keys in a dictionary.\n",
    "You may assume that the input dictionary's keys are numeric in nature.\n",
    "If the dictionary contains no keys, the sum should be `0`.\n",
    "Example calls are shown in the next cell; leave these in place in order to test your code."
   ]
  },
  {
   "cell_type": "code",
   "execution_count": 5,
   "id": "bf3ff4b3-189e-4dda-a05c-8de96808b737",
   "metadata": {},
   "outputs": [
    {
     "name": "stdout",
     "output_type": "stream",
     "text": [
      "5\n",
      "14\n"
     ]
    }
   ],
   "source": [
    "# Define your sum_keys function here.  Leave the prints for testing purposes.\n",
    "def sum_keys(d):\n",
    "    return sum(d.keys())\n",
    "    \n",
    "print(sum_keys({ 0: 12, 2: \"foo\", 3: \"bar\" })) # should print 5\n",
    "print(sum_keys({ 3: \"hello\", 1: True, 2: False, 8: \"foo\" })) # should print 14"
   ]
  },
  {
   "cell_type": "markdown",
   "id": "0880b8d3-4441-4972-84c1-36208f57db31",
   "metadata": {},
   "source": [
    "## Step 2: Use `values` To Get the Sum of the Values in a Dictionary ##\n",
    "\n",
    "### Background: `values` Method on Dictionaries ###\n",
    "\n",
    "Similar to `keys`, the `values` method can be used to iterate over the _values_ of a dictionary, shown below:"
   ]
  },
  {
   "cell_type": "code",
   "execution_count": 6,
   "id": "ced8bf43-affa-4a5f-8010-afdf301dacb6",
   "metadata": {},
   "outputs": [
    {
     "name": "stdout",
     "output_type": "stream",
     "text": [
      "1\n",
      "2\n"
     ]
    }
   ],
   "source": [
    "d = { \"foo\" : 1, \"bar\" : 2 }\n",
    "for value in d.values():\n",
    "    print(value)"
   ]
  },
  {
   "cell_type": "markdown",
   "id": "64eda1c5-9336-44f1-a1b2-a60aba525f56",
   "metadata": {},
   "source": [
    "Also, like `keys`, while you can iterate over the values with `for...in`, `values` doesn't quite return a list.\n",
    "You'd need to apply the `list` function to the result of `values`, as with:"
   ]
  },
  {
   "cell_type": "code",
   "execution_count": 7,
   "id": "525af69a-af93-4d09-a413-c80ebebc30fb",
   "metadata": {},
   "outputs": [
    {
     "name": "stdout",
     "output_type": "stream",
     "text": [
      "[1, 2]\n"
     ]
    }
   ],
   "source": [
    "print(list(d.values()))"
   ]
  },
  {
   "cell_type": "markdown",
   "id": "cc1a2659-596c-4954-894d-a30ec88fa083",
   "metadata": {},
   "source": [
    "### Try this Yourself ###\n",
    "\n",
    "In the following cell, define a function named `sum_values`, which can be used to compute the sum of the _values_ in a dictionary.\n",
    "You may assume that the input dictionary's values are numeric in nature.\n",
    "If the dictionary contains no keys (and therefore no values), the sum should be `0`.\n",
    "Example calls are shown in the next cell; leave these in place in order to test your code.\n",
    "It should be the case that your `sum_values` is very similar to your `sum_keys` from before."
   ]
  },
  {
   "cell_type": "code",
   "execution_count": 9,
   "id": "b6e86348-b06f-4c71-af03-d260ec27a5ce",
   "metadata": {},
   "outputs": [
    {
     "name": "stdout",
     "output_type": "stream",
     "text": [
      "5\n",
      "14\n"
     ]
    }
   ],
   "source": [
    "# Define your sum_values function here.  Leave the prints for testing purposes.\n",
    "def sum_values(d):\n",
    "    return sum(d.values())\n",
    "\n",
    "print(sum_values({ 12: 0, \"foo\": 2, \"bar\": 3 })) # should print 5\n",
    "print(sum_values({ \"hello\": 3, True: 1, False: 2, \"foo\": 8 })) # should print 14"
   ]
  },
  {
   "cell_type": "markdown",
   "id": "701ab3c8-960c-42d0-b76d-ec597b12382f",
   "metadata": {},
   "source": [
    "## Step 3: Use `items` to Get the Sum of Both Keys and Values in a Dictionary ##\n",
    "\n",
    "### Background: `items` Method on Dictionaries ###\n",
    "\n",
    "The `keys` method is appropriate if we only care about the dictionary keys, and the `value` method is appropriate if we only care about the dictionary values.\n",
    "However, what if we care about both?\n",
    "For example, say we want to write a function which will print out all the key/value pairs in a dictionary, in the format:\n",
    "\n",
    "```\n",
    "KEY: VALUE\n",
    "```\n",
    "\n",
    "...for every key/value pair in the dictionary.\n",
    "One way to do this would be to use `keys`, and then for each key access the corresponding value of the key in the dictionary, like so:"
   ]
  },
  {
   "cell_type": "code",
   "execution_count": 10,
   "id": "bb853edd-754f-4220-be04-6a3e25947e21",
   "metadata": {},
   "outputs": [
    {
     "name": "stdout",
     "output_type": "stream",
     "text": [
      "foo: bar\n",
      "1: 2\n"
     ]
    }
   ],
   "source": [
    "def print_dictionary(d):\n",
    "    for key in d.keys():\n",
    "        print(str(key) + \": \" + str(d[key]))\n",
    "\n",
    "print_dictionary({ \"foo\" : \"bar\", 1 : 2 })"
   ]
  },
  {
   "cell_type": "markdown",
   "id": "b46f1049-080e-4438-89f6-526187be675c",
   "metadata": {},
   "source": [
    "While this works, we can actually do a little bit better here, and avoid the need to access `d[key]`.\n",
    "Specifically, we can instead use the `items` method on dictionaries, which will iterate over _tuples_ of key/value pairs.\n",
    "For example:"
   ]
  },
  {
   "cell_type": "code",
   "execution_count": 11,
   "id": "00277e5e-50ce-4095-8689-d4f4bc66fe1c",
   "metadata": {},
   "outputs": [
    {
     "name": "stdout",
     "output_type": "stream",
     "text": [
      "foo: bar\n",
      "1: 2\n"
     ]
    }
   ],
   "source": [
    "def print_dictionary(d):\n",
    "    for tup in d.items():\n",
    "        print(str(tup[0]) + \": \" + str(tup[1]))\n",
    "\n",
    "print_dictionary({ \"foo\" : \"bar\", 1 : 2 })"
   ]
  },
  {
   "cell_type": "markdown",
   "id": "e4bc44d5-56c4-42e0-94e3-c76c42d9c0cb",
   "metadata": {},
   "source": [
    "This still doesn't look super clean, and arguably is worse than what we had before, since now we need to use indexing to access the key (specifically with `tup[0]`).\n",
    "But destructuring here can clean this up:"
   ]
  },
  {
   "cell_type": "code",
   "execution_count": 12,
   "id": "5293bb22-e4d2-48df-a828-ec64d4473469",
   "metadata": {},
   "outputs": [
    {
     "name": "stdout",
     "output_type": "stream",
     "text": [
      "foo: bar\n",
      "1: 2\n"
     ]
    }
   ],
   "source": [
    "def print_dictionary(d):\n",
    "    for key, value in d.items():\n",
    "        print(str(key) + \": \" + str(value))\n",
    "\n",
    "print_dictionary({ \"foo\" : \"bar\", 1 : 2 })"
   ]
  },
  {
   "cell_type": "markdown",
   "id": "77fe91ce-e995-47b2-bb36-8334a7e8ffe0",
   "metadata": {},
   "source": [
    "### Try this Yourself ###\n",
    "\n",
    "In the following cell, define a function named `sum_keys_and_values`, which can be used to compute the sum of _both_ the keys and values in a dictionary.\n",
    "You may assume that the input dictionary's keys and values are numeric in nature.\n",
    "If the dictionary contains no , the sum should be `0`.\n",
    "Example calls are shown in the next cell; leave these in place in order to test your code."
   ]
  },
  {
   "cell_type": "code",
   "execution_count": 13,
   "id": "24a4aa1f-9ddd-41c6-a421-2e689798176f",
   "metadata": {},
   "outputs": [
    {
     "name": "stdout",
     "output_type": "stream",
     "text": [
      "22\n",
      "23\n"
     ]
    }
   ],
   "source": [
    "# Define your sum_keys_and_values function here.  Leave the prints for testing purposes.\n",
    "def sum_keys_and_values(d):\n",
    "    return sum(d.keys()) + sum(d.values())\n",
    "\n",
    "\n",
    "print(sum_keys_and_values({ 12: 0, 3: 2, 2: 3 })) # should print 22\n",
    "print(sum_keys_and_values({ 5: 3, 1: 1, 0: 2, 3: 8 })) # should print 23"
   ]
  },
  {
   "cell_type": "markdown",
   "id": "e5c167f7-f4f4-41f9-b30a-39a2b4bb1855",
   "metadata": {},
   "source": [
    "## Step 4: Use Formatted Strings to Simplify `print_dictionary` ##\n",
    "\n",
    "This step doesn't specifically involve iterating over dictionaries, but it is well-motivated by trying to clean up `print_dictionary` further.\n",
    "\n",
    "### Background: Formatted Strings ###\n",
    "\n",
    "This step covers formatted strings (or \"f-strings\", for short), which are a convenient way of constructing strings which contain string representations of the results of subexpressions.\n",
    "F-strings are strings which put the letter `f` to the left of the starting quote character, like so:"
   ]
  },
  {
   "cell_type": "code",
   "execution_count": 14,
   "id": "69d6c5ba-61f1-4152-82eb-e3e6812ae6c5",
   "metadata": {},
   "outputs": [
    {
     "name": "stdout",
     "output_type": "stream",
     "text": [
      "bar\n"
     ]
    }
   ],
   "source": [
    "print(f\"bar\")"
   ]
  },
  {
   "cell_type": "markdown",
   "id": "43a19c07-9ac8-496e-9cfe-9d6c50907192",
   "metadata": {},
   "source": [
    "Unlike a regular string, f-strings allow you to embed Python subexpressions inside of them, where the subexpressions are indicated with curly braces (`{}`).\n",
    "This is shown below:"
   ]
  },
  {
   "cell_type": "code",
   "execution_count": 15,
   "id": "33588fd7-c439-4342-bda9-edacc76c9468",
   "metadata": {},
   "outputs": [
    {
     "name": "stdout",
     "output_type": "stream",
     "text": [
      "2\n"
     ]
    }
   ],
   "source": [
    "print(f\"{1 + 1}\")"
   ]
  },
  {
   "cell_type": "markdown",
   "id": "79fa4402-52bd-47b1-bbba-70e3593b3d6c",
   "metadata": {},
   "source": [
    "If the above cell is run, you'll see the output 2, instead of `\"{1 + 1}\"`.\n",
    "That is, `f\"{1 + 1}\"` executes the Python expression `1 + 1`, and then returns the string representation of this expression, much like `str(1 + 1)` would.\n",
    "The main advantage of f-strings over manually calling `str` is that we can intermix other strings (and even other expressions) with f-strings.\n",
    "For example:"
   ]
  },
  {
   "cell_type": "code",
   "execution_count": 16,
   "id": "36a06186-edce-43b4-8d9d-379acef291e8",
   "metadata": {},
   "outputs": [
    {
     "name": "stdout",
     "output_type": "stream",
     "text": [
      "one plus one is: 2, and two plus two is: 4\n"
     ]
    }
   ],
   "source": [
    "print(f\"one plus one is: {1 + 1}, and two plus two is: {2 + 2}\")"
   ]
  },
  {
   "cell_type": "markdown",
   "id": "d24f2119-c0b1-43e4-9081-411bd9b4bef3",
   "metadata": {},
   "source": [
    "The above f-string ends up evaluating both `1 + 1` and `2 + 2`, finds the string representation of them internally using `str`, and then concatenates this all together to form the single string `\"one plus one is: 2, and two plus two is: 4\"`.\n",
    "This is comparatively much cleaner (and shorter) than writing:"
   ]
  },
  {
   "cell_type": "code",
   "execution_count": 17,
   "id": "5ca7a848-57a6-47fd-b942-0170beb071f3",
   "metadata": {},
   "outputs": [
    {
     "name": "stdout",
     "output_type": "stream",
     "text": [
      "one plus one is: 2, and two plus two is: 4\n"
     ]
    }
   ],
   "source": [
    "print(\"one plus one is: \" + str(1 + 1) + \", and two plus two is: \" + str(2 + 2))"
   ]
  },
  {
   "cell_type": "markdown",
   "id": "829ccca9-19e4-49fa-b893-172e5c91b7de",
   "metadata": {},
   "source": [
    "Because the code in the curly braces can be any Python expression, this includes variables.\n",
    "An example is shown in the following cell:"
   ]
  },
  {
   "cell_type": "code",
   "execution_count": 18,
   "id": "8f049a40-93ab-4686-883a-e9eb10403184",
   "metadata": {},
   "outputs": [
    {
     "name": "stdout",
     "output_type": "stream",
     "text": [
      "Result is 36\n"
     ]
    }
   ],
   "source": [
    "some_value = 12 * 3\n",
    "print(f\"Result is {some_value}\")"
   ]
  },
  {
   "cell_type": "markdown",
   "id": "38fd2409-f27e-4b05-9386-9105003ce379",
   "metadata": {},
   "source": [
    "As shown, the variable `some_value` is in scope for the f-string, and therefore it's value is used as-is.\n",
    "\n",
    "### Try this Yourself ###\n",
    "\n",
    "The next cell duplicates the prior definition of `print_dictionary`, which used `str` and string concatenation (`+`) in order to construct strings.\n",
    "Rewrite the code in the next cell (that is, redefine the body of `print_dictionary`) so that an f-string is used instead.\n",
    "The rewritten code shouldn't need to use `+` or `str`."
   ]
  },
  {
   "cell_type": "code",
   "execution_count": 19,
   "id": "4fc4e52c-b5c0-46c5-8fa6-107cee69f0d8",
   "metadata": {},
   "outputs": [
    {
     "name": "stdout",
     "output_type": "stream",
     "text": [
      "foo: bar\n",
      "1: 2\n"
     ]
    }
   ],
   "source": [
    "def print_dictionary(d):\n",
    "    for key, value in d.items():\n",
    "        print(str(key) + \": \" + str(value))\n",
    "\n",
    "print_dictionary({ \"foo\" : \"bar\", 1 : 2 })"
   ]
  },
  {
   "cell_type": "markdown",
   "id": "e0bfd892-913f-4942-87b8-12d9f5418edc",
   "metadata": {},
   "source": [
    "## Step 5: Use a Dictionary to Determine How Many Times Numbers Appear in a List ##\n",
    "\n",
    "This step doesn't introduce anything new, but rather has you put together knowledge that you have so far to accomplish a larger task.\n",
    "It is often the case that we want to know how frequently a given value appears in an input data set.\n",
    "For example, with the following list:\n",
    "\n",
    "```\n",
    "[1, 2, 2, 3, 1, 4, 2]\n",
    "```\n",
    "\n",
    "...we can see that:\n",
    "\n",
    "- `1` appears two times\n",
    "- `2` appears three times\n",
    "- `3` appears one time\n",
    "- `4` appears one time\n",
    "\n",
    "For this step, you need to define a function named `print_frequencies`, which will print out how frequently each number appears in an input list.\n",
    "`print_frequencies` should print out the numbers in _sorted_ order, just as the prior example put the bullet points in order sorted by the numbers in the list.\n",
    "Example expected output is provided in the comments in the next cell; leave these in place in order to test your `print_frequencies` definition.\n",
    "\n",
    "As a fair warning, `print_frequencies` will require you to put skills you've learned from multiple assignments together.\n",
    "There is more than one correct solution, by a long shot.\n",
    "Some hints follow, which may be useful for your implementation:\n",
    "\n",
    "- A dictionary can be used internally to track the numbers you see in the input list, where the keys are the numbers themselves.  The values in this dictionary can track how many times you've seen a particular value.\n",
    "- You likely will need to use `if` to see if you've seen a given number before or not.\n",
    "- You likely will need to update the dictionary as you go through the list, at least to update how many times you have seen a given number.\n",
    "- You likely will need to make use of `sorted` in order to put the numbers in their final sorted order for printing\n",
    "- F-strings will likely simplify printing"
   ]
  },
  {
   "cell_type": "code",
   "execution_count": 20,
   "id": "e57fa8cd-0891-48f8-bc40-61ab008d632d",
   "metadata": {},
   "outputs": [
    {
     "name": "stdout",
     "output_type": "stream",
     "text": [
      "1: 2\n",
      "2: 3\n",
      "3: 1\n",
      "4: 1\n",
      "\n",
      "0: 1\n",
      "2: 1\n",
      "8: 1\n",
      "9: 2\n"
     ]
    }
   ],
   "source": [
    "# define your print_frequencies function here.  Leave the calls below for testing.\n",
    "def print_frequencies(elements):\n",
    "    dic = {} \n",
    "    for num in elements:\n",
    "        if num in dic:\n",
    "            dic[num] += 1\n",
    "        else:\n",
    "            dic[num] = 1\n",
    "    for num in sorted(dic.keys()):\n",
    "        print(f\"{num}: {dic[num]}\")\n",
    "\n",
    "\n",
    "print_frequencies([1, 2, 2, 3, 1, 4, 2])\n",
    "# above line should print the following:\n",
    "# 1: 2\n",
    "# 2: 3\n",
    "# 3: 1\n",
    "# 4: 1\n",
    "\n",
    "print()\n",
    "print_frequencies([8, 2, 9, 0, 9])\n",
    "# above line should print the following:\n",
    "# 0: 1\n",
    "# 2: 1\n",
    "# 8: 1\n",
    "# 9: 2"
   ]
  },
  {
   "cell_type": "markdown",
   "id": "28f5fc89-32b0-4d38-9643-d3ed595a3346",
   "metadata": {},
   "source": [
    "## Step 6: Submit via Canvas ##\n",
    "\n",
    "Be sure to **save your work**, then log into [Canvas](https://canvas.csun.edu/).  Go to the COMP 502 course, and click \"Assignments\" on the left pane.  From there, click \"Assignment 16\".  From there, you can upload the `16_iterating_with_dictionaries_f_strings.ipynb` file.\n",
    "\n",
    "You can turn in the assignment multiple times, but only the last version you submitted will be graded."
   ]
  }
 ],
 "metadata": {
  "kernelspec": {
   "display_name": "Python 3 (ipykernel)",
   "language": "python",
   "name": "python3"
  },
  "language_info": {
   "codemirror_mode": {
    "name": "ipython",
    "version": 3
   },
   "file_extension": ".py",
   "mimetype": "text/x-python",
   "name": "python",
   "nbconvert_exporter": "python",
   "pygments_lexer": "ipython3",
   "version": "3.13.5"
  }
 },
 "nbformat": 4,
 "nbformat_minor": 5
}
