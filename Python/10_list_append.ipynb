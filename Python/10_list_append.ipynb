{
 "cells": [
  {
   "cell_type": "markdown",
   "id": "34fc8814-4542-4b4b-a8fa-dcec55ed073b",
   "metadata": {},
   "source": [
    "# Assignment 10: List Append #\n",
    "\n",
    "### Goals for this Assignment ###\n",
    "\n",
    "By the time you have completed this assignment, you should be able to:\n",
    "\n",
    "- Add elements to an existing list via the `append` method\n",
    "- Define functions which iterate over values and build up a result list with `append`\n",
    "\n",
    "This assignment is mostly a revisit of the prior assignment, but instead of `print`ing values, you will be returning a list of values.\n",
    "\n",
    "## Step 1: Write a Function to Return Squared Elements of a List ##\n",
    "\n",
    "### Background: `append` Method on Lists ###\n",
    "\n",
    "In Python, we can add an element to a list as the programming is running by calling `list`'s `append` method.\n",
    "To illustrate this, consider the code in the following cell:"
   ]
  },
  {
   "cell_type": "code",
   "execution_count": 1,
   "id": "930bc40c-412b-4a41-baa9-03d1b5130183",
   "metadata": {},
   "outputs": [
    {
     "name": "stdout",
     "output_type": "stream",
     "text": [
      "1\n",
      "foo\n",
      "True\n"
     ]
    }
   ],
   "source": [
    "some_list = [] # initially empty\n",
    "some_list.append(1)\n",
    "some_list.append(\"foo\")\n",
    "some_list.append(True)\n",
    "\n",
    "for element in some_list:\n",
    "    print(element)"
   ]
  },
  {
   "cell_type": "markdown",
   "id": "9c000246-35ff-4a7b-af67-2cb91912dafb",
   "metadata": {},
   "source": [
    "If the above code is run, you'll see that this outputs `1`, `\"foo\"`, and `True`, each on its own line.\n",
    "This is because by the time the `for...in` loop executes, `some_list`'s contents were `[1, \"foo\", True]`, **even though** `some_list` started as an empty list.\n",
    "That is, the `append` method modifies a list directly, adding an element to the end.\n",
    "\n",
    "We can use `append` in this fashion to create a new list as we iterate through an existing list.\n",
    "For example, the following code defines a function `increment_elements`, which takes a list of integers.\n",
    "`increment_elements` will then return a new list of integers of the same length, but each integer in the returned list is equal to the same element in the input list `+ 1`."
   ]
  },
  {
   "cell_type": "code",
   "execution_count": 2,
   "id": "d4242c6e-8d43-4e7b-8964-67b29b463efc",
   "metadata": {},
   "outputs": [
    {
     "name": "stdout",
     "output_type": "stream",
     "text": [
      "[3, 8, 2, 4]\n",
      "[4, 9, 3, 5]\n"
     ]
    }
   ],
   "source": [
    "def increment_elements(input_list):\n",
    "    output_list = []\n",
    "    for element in input_list:\n",
    "        output_list.append(element + 1)\n",
    "    return output_list\n",
    "\n",
    "original_list = [3, 8, 2, 4]\n",
    "new_list = increment_elements(original_list)\n",
    "\n",
    "print(original_list) # prints [3, 8, 2, 4]\n",
    "print(new_list)      # prints [4, 9, 3, 5]"
   ]
  },
  {
   "cell_type": "markdown",
   "id": "2925f4cc-ad7e-46ab-af34-873a6b2a43fc",
   "metadata": {},
   "source": [
    "### Try this Yourself ###\n",
    "\n",
    "For this step, you'll revisit the `print_squares` function you used in the prior assignment.\n",
    "Instead of printing out the squares, you will return a new list of them.\n",
    "Specifically, write a function with the following constraints:\n",
    "\n",
    "- The name of the function is `return_squares`\n",
    "- The function takes a list of integers as input\n",
    "- The function returns a list of integers, one for each in the input list.  Each integer in the output is the corresponding input integer squared.\n",
    "\n",
    "Define your function in the next cell.\n",
    "Leave the example calls in place to help test your code."
   ]
  },
  {
   "cell_type": "code",
   "execution_count": 3,
   "id": "605affa1-ccba-4fa8-9b5f-afbf540b1659",
   "metadata": {},
   "outputs": [
    {
     "name": "stdout",
     "output_type": "stream",
     "text": [
      "[9, 4, 16]\n",
      "[]\n",
      "[64]\n"
     ]
    }
   ],
   "source": [
    "# Define your function here.  Leave the calls below for testing.\n",
    "def return_squares(int_elements):\n",
    "    output_list = []\n",
    "    for element in int_elements:\n",
    "        output_list.append(element** 2)\n",
    "    return output_list      \n",
    "    \n",
    "print(return_squares([3, 2, 4])) # should print [9, 4, 16]\n",
    "print(return_squares([]))  # should print []\n",
    "print(return_squares([8])) # should print [64]"
   ]
  },
  {
   "cell_type": "markdown",
   "id": "3b7e4310-66c0-4034-bfe8-0f54e5f2115d",
   "metadata": {},
   "source": [
    "## Step 2: Write a Function to Return List Elements Less Than Value ##\n",
    "\n",
    "This step revisits the `print_less_than` function from the prior assignment.\n",
    "Write a function with the following constraints:\n",
    "\n",
    "- The name of the function is `return_less_than`\n",
    "- The first parameter to the function is a list of integers named `integers`\n",
    "- The second parameter to the function is an integer named `value`\n",
    "- The function returns a list of integers, where each integer is from the input list.  An integer is only included in the output list if it is less than `value`.\n",
    "\n",
    "Define your function in the next cell.\n",
    "Leave the calls in place in order to test your code."
   ]
  },
  {
   "cell_type": "code",
   "execution_count": 4,
   "id": "18962db5-a441-4654-9e58-4fded05da14c",
   "metadata": {},
   "outputs": [
    {
     "name": "stdout",
     "output_type": "stream",
     "text": [
      "[2, 1]\n",
      "[8, 3, 0, 9]\n",
      "[]\n"
     ]
    }
   ],
   "source": [
    "# Define your function below.  Leave the calls in order to test your code.\n",
    "def return_less_than(integers,value):\n",
    "    output_list = []\n",
    "    for int_element in integers:\n",
    "        if int_element < value:\n",
    "            output_list.append(int_element)\n",
    "    return output_list   \n",
    "\n",
    "print(return_less_than([2, 7, 1, 9], 3)) # prints [2, 1]\n",
    "print(return_less_than([8, 12, 3, 0, 9], 10)) # prints [8, 3, 0, 9]\n",
    "print(return_less_than([1, 2, 3], 0)) # prints []"
   ]
  },
  {
   "cell_type": "markdown",
   "id": "120c5b46-cd32-4747-a0c4-96129295b816",
   "metadata": {},
   "source": [
    "## Step 3: Terminate a Loop Early, and Return a List of Values ##\n",
    "\n",
    "This step revisits the `print_all_before` function from the prior assignment.\n",
    "\n",
    "Define a function with the following constraints:\n",
    "\n",
    "- The name of the function is `return_all_before`\n",
    "- The function's first parameter is a list of integers named `integers`\n",
    "- The function's second parameter is an integer named `value`\n",
    "- The function returns a new list.  The list elements in the returned list consist of all list elements before `value` is seen in the input list.  Once `value` is encountered, the loop should terminate.\n",
    "- If `value` appears in the list multiple times, only the elements before the **first** use of `value` should be considered.  Execution should never reach the second use of `value`.\n",
    "\n",
    "Define your function in the next cell.\n",
    "Leave the calls in order to test your code."
   ]
  },
  {
   "cell_type": "code",
   "execution_count": 7,
   "id": "6ac72680-4cce-426c-bad6-e01584d099ee",
   "metadata": {},
   "outputs": [
    {
     "name": "stdout",
     "output_type": "stream",
     "text": [
      "[3, 8]\n",
      "[8, 2, 9, 5]\n",
      "[]\n",
      "[7, 8, 9]\n"
     ]
    }
   ],
   "source": [
    "# Define your function here.  Leave the calls in place to test your code.\n",
    "\n",
    "def return_all_before(integers, value):\n",
    "    output_list = []\n",
    "    for int_element in integers:\n",
    "        if int_element == value:\n",
    "            break\n",
    "        output_list.append(int_element)\n",
    "    return output_list\n",
    "\n",
    "print(return_all_before([3, 8, 5, 4], 5)) # should print [3, 8]\n",
    "print(return_all_before([8, 2, 9, 5], 3)) # should print [8, 2, 9, 5]\n",
    "print(return_all_before([5, 7, 2, 6], 5)) # should print []\n",
    "print(return_all_before([7, 8, 9, 1, 2, 9, 1, 0], 1)) # should print [7, 8, 9]"
   ]
  },
  {
   "cell_type": "markdown",
   "id": "c51a7dfd-88f5-4c40-84a9-4dd23c6663b0",
   "metadata": {},
   "source": [
    "## Step 4: Return Even Numbers in a List ##\n",
    "\n",
    "This step revisits the `skip_odds` function from the prior assignment.\n",
    "\n",
    "Define a function with the following constraints:\n",
    "\n",
    "- The name of the function is `return_evens`\n",
    "- The function takes a list of integers\n",
    "- The function returns a list of integers, which will contain all the even numbers in the input list\n",
    "\n",
    "You may implement this function however you want; you do not need to use `continue` as you did in the prior assignment.\n",
    "Define your function in the next cell.\n",
    "Leave the calls in place in order to test your code."
   ]
  },
  {
   "cell_type": "code",
   "execution_count": 9,
   "id": "7ac69777-9cc1-45fe-bcd1-79e49067d614",
   "metadata": {},
   "outputs": [
    {
     "name": "stdout",
     "output_type": "stream",
     "text": [
      "[2, 8, 4]\n"
     ]
    }
   ],
   "source": [
    "# Define your function here.  Leave the calls in order to test your code.\n",
    "def return_evens(integers):\n",
    "    output_list = []\n",
    "    for integer in integers:\n",
    "        if integer % 2 != 0:\n",
    "            continue\n",
    "        output_list.append(integer)\n",
    "    return output_list\n",
    "\n",
    "print(return_evens([3, 2, 8, 4, 5])) # should print [2, 8, 4]"
   ]
  },
  {
   "cell_type": "markdown",
   "id": "3aa40acf-5886-4448-9d47-ca5ce35b894f",
   "metadata": {},
   "source": [
    "## Step 5: Submit via Canvas ##\n",
    "\n",
    "Be sure to **save your work**, then log into [Canvas](https://canvas.csun.edu/).  Go to the COMP 502 course, and click \"Assignments\" on the left pane.  From there, click \"Assignment 10\".  From there, you can upload the `10_list_append.ipynb` file.\n",
    "\n",
    "You can turn in the assignment multiple times, but only the last version you submitted will be graded."
   ]
  }
 ],
 "metadata": {
  "kernelspec": {
   "display_name": "Python 3 (ipykernel)",
   "language": "python",
   "name": "python3"
  },
  "language_info": {
   "codemirror_mode": {
    "name": "ipython",
    "version": 3
   },
   "file_extension": ".py",
   "mimetype": "text/x-python",
   "name": "python",
   "nbconvert_exporter": "python",
   "pygments_lexer": "ipython3",
   "version": "3.13.5"
  }
 },
 "nbformat": 4,
 "nbformat_minor": 5
}
