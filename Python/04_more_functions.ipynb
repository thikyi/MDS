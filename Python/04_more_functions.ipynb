{
 "cells": [
  {
   "cell_type": "markdown",
   "id": "124e0efa-a098-49e6-ad8b-59b0abfb7e28",
   "metadata": {},
   "source": [
    "# Assignment 4: More Functions #\n",
    "\n",
    "### Goals for this Assignment ###\n",
    "\n",
    "By the time you have completed this assignment, you should be able to:\n",
    "\n",
    "- Define functions which compute the results of some small formulas\n",
    "\n",
    "Technically speaking, this assignment doesn't introduce anything new, but rather puts together all the concepts from the prior assignments into additional practice.\n",
    "\n",
    "## Step 1: Define a Function Which Performs String Concatentation and Prints Result ##\n",
    "\n",
    "Define a function with the following constraints:\n",
    "\n",
    "- The name of the function is `hello`\n",
    "- The function takes a single argument, which can be assumed to be a string\n",
    "- The function, when called, prints `hello PARAM`, where `PARAM` is the parameter passed to the function\n",
    "\n",
    "Example calls are shown below, with the output below those calls:\n",
    "\n",
    "```\n",
    "hello(\"alice\")\n",
    "hello(\"bob\")\n",
    "\n",
    "hello alice\n",
    "hello bob\n",
    "```\n",
    "\n",
    "Define your function in the next cell.\n",
    "The calls from above are provided at the end of the cell, and should remain there."
   ]
  },
  {
   "cell_type": "code",
   "execution_count": 3,
   "id": "f3de7090-90ce-4fff-98e6-b68c80f3e8e4",
   "metadata": {},
   "outputs": [
    {
     "name": "stdout",
     "output_type": "stream",
     "text": [
      "hello alice\n",
      "hello bob\n"
     ]
    }
   ],
   "source": [
    "# Define your hello function here.  The calls below should be kept in place.\n",
    "def hello(PARAM):\n",
    "    print (\"hello \" + str(PARAM))\n",
    "\n",
    "hello(\"alice\")\n",
    "hello(\"bob\")"
   ]
  },
  {
   "cell_type": "markdown",
   "id": "9b663395-d9bf-4d09-ab9f-22027992d6ac",
   "metadata": {},
   "source": [
    "## Step 2: Define a Function Which Calculates Rectangle Perimeter and Returns ##\n",
    "\n",
    "For this step, you need to define a function which will compute the perimeter of a rectangle, and return this perimeter.\n",
    "As a refresher, the perimeter is mathematically computed by `2(length + height)`, where `length` and `height` represent the length and height of the rectangle, respectively.\n",
    "Note that you cannot write this formula directly in Python, since multiplication always requires the `*` operator.\n",
    "\n",
    "Some example calls to this function are below, which are followed by the output.\n",
    "You should be able to figure out the _signature_ of the function from this information, that is, the name of the function, the types of the parameters it takes, and the return type of the output.\n",
    "\n",
    "```python\n",
    "print(perimeter(2, 3))\n",
    "print(perimeter(7, 4))\n",
    "print(perimeter(3, 10))\n",
    "```\n",
    "\n",
    "```\n",
    "10\n",
    "22\n",
    "26\n",
    "```"
   ]
  },
  {
   "cell_type": "code",
   "execution_count": 5,
   "id": "ad410bef-2f45-41fa-b92e-d26752fbf406",
   "metadata": {},
   "outputs": [
    {
     "name": "stdout",
     "output_type": "stream",
     "text": [
      "10\n",
      "22\n",
      "26\n"
     ]
    }
   ],
   "source": [
    "# Define your function here.  The calls below should be kept in place.\n",
    "def perimeter (length,height):\n",
    "    return 2 *(length + height)\n",
    "\n",
    "print(perimeter(2, 3))\n",
    "print(perimeter(7, 4))\n",
    "print(perimeter(3, 10))"
   ]
  },
  {
   "cell_type": "markdown",
   "id": "737ca241-b133-4b39-80f1-051e4327400a",
   "metadata": {},
   "source": [
    "## Step 3: Define a Function Which Converts Celsius to Fahrenheit ##\n",
    "\n",
    "For this step, you'll define a function which converts a temperature in Celsius to Fahrenheit.\n",
    "The formula for this conversion is as follows: `F = C * 1.8 + 32`, where `C` (the input) is a temperature in Celsius, and `F` (the output) is a temperature in Fahrenheit.\n",
    "Your function should allow someone to write `F = convert(C)`.\n",
    "\n",
    "Some example calls to this function are below, which are followed by the output.\n",
    "\n",
    "```python\n",
    "print(convert(41.75))\n",
    "print(convert(20.5))\n",
    "print(convert(32))\n",
    "```\n",
    "\n",
    "```\n",
    "107.15\n",
    "68.9\n",
    "89.6\n",
    "```"
   ]
  },
  {
   "cell_type": "code",
   "execution_count": 7,
   "id": "ab0d7cf3-6242-49e6-a8d5-6a49d0703180",
   "metadata": {},
   "outputs": [
    {
     "name": "stdout",
     "output_type": "stream",
     "text": [
      "107.15\n",
      "68.9\n",
      "89.6\n"
     ]
    }
   ],
   "source": [
    "# Define your function here.  The calls below should be kept in place.\n",
    "def convert(C):\n",
    "    F = C * 1.8 + 32\n",
    "    return F\n",
    "    \n",
    "\n",
    "print(convert(41.75))\n",
    "print(convert(20.5))\n",
    "print(convert(32))"
   ]
  },
  {
   "cell_type": "markdown",
   "id": "3d1a5be3-9ad5-4fd2-b324-a0b6559f30af",
   "metadata": {},
   "source": [
    "## Step 4: Define a Function Which Computes Compound Interest ##\n",
    "\n",
    "For this step, you'll define a function which computes compound interest.\n",
    "This formula requires the following inputs:\n",
    "\n",
    "1. Principal (`P`)\n",
    "2. Annual interest rate (`R`)\n",
    "3. Number of times interest is compounded per year (`N`)\n",
    "4. Number of years invested (`T`)\n",
    "\n",
    "From here, the formula to compound interest is defined as:\n",
    "\n",
    "```\n",
    "compound_interest = P * (1 + R / N)^(N * T)\n",
    "```\n",
    "\n",
    "Exponentiation (`^`) can be performed in Python with the `**` operator.\n",
    "For example, `5^4` can be written in Python as `5**4`.\n",
    "\n",
    "Some example calls to this function are below, which are followed by the output.\n",
    "\n",
    "```python\n",
    "print(compound_interest(500, 0.053, 12, 8))\n",
    "print(compound_interest(10000, 0.06, 12, 20))\n",
    "print(compound_interest(150, 0.07, 52, 1))\n",
    "print(compound_interest(40000, 0.04, 365, 0.5))\n",
    "```\n",
    "\n",
    "```\n",
    "763.3178417090967\n",
    "33102.044758073636\n",
    "160.86865441652702\n",
    "40808.00888320657\n",
    "```"
   ]
  },
  {
   "cell_type": "code",
   "execution_count": 9,
   "id": "b0e0fe0b-c9df-40b3-a836-00448b2ee7df",
   "metadata": {},
   "outputs": [
    {
     "name": "stdout",
     "output_type": "stream",
     "text": [
      "763.3178417090967\n",
      "33102.044758073636\n",
      "160.86865441652702\n",
      "40808.00888320657\n"
     ]
    }
   ],
   "source": [
    "# Define your function here.  The calls below should be kept in place.\n",
    "\n",
    "def compound_interest(P,R,N,T):\n",
    "    compound_interest = P * (1 + R / N)**(N * T)\n",
    "    return compound_interest\n",
    "    \n",
    "print(compound_interest(500, 0.053, 12, 8))\n",
    "print(compound_interest(10000, 0.06, 12, 20))\n",
    "print(compound_interest(150, 0.07, 52, 1))\n",
    "print(compound_interest(40000, 0.04, 365, 0.5))"
   ]
  },
  {
   "cell_type": "markdown",
   "id": "84a4405d-f6f1-416a-bab2-87e1775b630d",
   "metadata": {},
   "source": [
    "## Step 5: Submit via Canvas ##\n",
    "\n",
    "Be sure to **save your work**, then log into [Canvas](https://canvas.csun.edu/).  Go to the COMP 502 course, and click \"Assignments\" on the left pane.  From there, click \"Assignment 4\".  From there, you can upload the `04_more_functions.ipynb` file.\n",
    "\n",
    "You can turn in the assignment multiple times, but only the last version you submitted will be graded."
   ]
  }
 ],
 "metadata": {
  "kernelspec": {
   "display_name": "Python 3 (ipykernel)",
   "language": "python",
   "name": "python3"
  },
  "language_info": {
   "codemirror_mode": {
    "name": "ipython",
    "version": 3
   },
   "file_extension": ".py",
   "mimetype": "text/x-python",
   "name": "python",
   "nbconvert_exporter": "python",
   "pygments_lexer": "ipython3",
   "version": "3.13.5"
  }
 },
 "nbformat": 4,
 "nbformat_minor": 5
}
