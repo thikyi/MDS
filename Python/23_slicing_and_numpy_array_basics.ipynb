{
 "cells": [
  {
   "cell_type": "markdown",
   "id": "77c14196-53d2-40b0-9228-43318628ed97",
   "metadata": {},
   "source": [
    "# Assignment 23: Slicing and NumPy Array Basics #\n",
    "\n",
    "### Goals for this Assignment ###\n",
    "\n",
    "By the time you have completed this assignment, you should be able to:\n",
    "\n",
    "- Use _slicing_ to extract parts of a list into another list\n",
    "- Use negative indices to access list elements from the end of a list\n",
    "- Create arrays of different types with NumPy\n",
    "- Use slicing on NumPy arrays, and understand that these slices return _views_ instead of new arrays\n",
    "\n",
    "## Step 1: Use Slicing to Make List Copies ##\n",
    "\n",
    "### Background: List Slicing in Python ###\n",
    "\n",
    "In Python, `for...in` can be used to iterate over the contents of a whole list.\n",
    "This works fine for operating over an entire list, but sometimes we only want to work with part of a list.\n",
    "For example, from assignment 15 step 3, you needed to implement a `product_then_sum` function, which would compute the product of the first two elements of a list, and then add this product to the sum of the remaining elements of the list.\n",
    "In that case, the intention was to use destructuring to isolate all elements after the first two elements, as with:"
   ]
  },
  {
   "cell_type": "code",
   "execution_count": 1,
   "id": "11499c66-c1cf-446f-99ed-6c4fa384d22e",
   "metadata": {},
   "outputs": [
    {
     "name": "stdout",
     "output_type": "stream",
     "text": [
      "5\n",
      "2\n",
      "[8, 4, 7]\n"
     ]
    }
   ],
   "source": [
    "some_list = [5, 2, 8, 4, 7]\n",
    "a, b, *rest = some_list\n",
    "print(a) # prints 5\n",
    "print(b) # prints 2\n",
    "print(rest) # prints [8, 4, 7]"
   ]
  },
  {
   "cell_type": "markdown",
   "id": "5138b01e-fc88-459e-ad23-2ea3c961a350",
   "metadata": {},
   "source": [
    "As shown, the code above ends up putting all elements after the second element into the list `rest`.\n",
    "This demonstrates that destructuring can be used to isolate different parts of a list into a separate list.\n",
    "\n",
    "That all said, destructuring is limited in its capacity to do this sort of isolation.\n",
    "Say instead we want to define a `product_n_then_sum` function, which:\n",
    "\n",
    "- Takes a list of numbers\n",
    "- Takes some non-negative number `n`\n",
    "\n",
    "Given these parameters, `product_n_then_sum` should find the product of the first `n` elements, and then add this product to the sum of the remaining list elements.\n",
    "To be clear, the `product_n_then_sum` function is a generalization of the `product_then_sum` function, where the number of elements to get the product of is now a parameter, whereas this number is hard-coded to `2` for `product_then_sum`.\n",
    "Phrased a different way, given `product_n_then_sum`, we could trivially implement `product_then_sum` as follows:\n",
    "\n",
    "```python\n",
    "def product_then_sum(input_list):\n",
    "    return product_n_then_sum(input_list, 2)\n",
    "```\n",
    "\n",
    "This generalization with `product_n_then_sum` is problematic with destructuring, because destructuring requires us to know ahead of time exactly how many elements we want to extract in this manner.\n",
    "For example, with:\n",
    "\n",
    "```python\n",
    "a, b, *rest = some_list\n",
    "```\n",
    "\n",
    "...the code's structure itself tells us we are bunching all the list elements from index `2` onwards into `rest`, as we destructure `a` and `b` first.\n",
    "Similarly, with:\n",
    "\n",
    "```python\n",
    "x, y, z, *rest = some_other_list\n",
    "```\n",
    "\n",
    "...this shows we are cutting out the first three list elements (into `x`, `y`, and `z`, respectively), and grouping everything else into `rest`.\n",
    "\n",
    "Importantly, because the number of list elements we extract here is determined by how many variables and commas we provide, this is not suitable for situations where we don't know how many elements we want at the moment when we write the code.\n",
    "Or, phrased another way, while we _can_ write out `n` variables and commas for any `n`, we need to know the specific value of `n` to do so.\n",
    "However, the whole point of parameterizing `n` with `product_n_then_sum` is that this `n` is no longer fixed, so destructuring won't work for this purpose.\n",
    "\n",
    "One way to solve this issue is by introducing a `while` loop and manually working through the list indices.\n",
    "However, there is another Python feature we have yet to see which can be of assistance here: _slicing_.\n",
    "The idea with slicing is that we can create a copy of a list, wherein we specify ranges of indices to copy over into the new list.\n",
    "This can be done with square brackets (`[]`) and colon `:`.\n",
    "An example is shown in the next cell, which implements a version of `product_n_then_sum`:"
   ]
  },
  {
   "cell_type": "code",
   "execution_count": 2,
   "id": "f2606694-e6af-4dd7-8b34-6a020ed47fa1",
   "metadata": {},
   "outputs": [
    {
     "name": "stdout",
     "output_type": "stream",
     "text": [
      "6\n",
      "9\n",
      "18\n",
      "15\n",
      "14\n"
     ]
    }
   ],
   "source": [
    "def product_n_then_sum(input_list, n):\n",
    "    for_product = input_list[:n]\n",
    "    for_sum = input_list[n:]\n",
    "    product_value = 1\n",
    "    for product_element in for_product:\n",
    "        product_value *= product_element\n",
    "    sum_value = 0\n",
    "    for sum_element in for_sum:\n",
    "        sum_value += sum_element\n",
    "    return product_value + sum_value\n",
    "\n",
    "print(product_n_then_sum([3, 2], 2)) # prints 6\n",
    "print(product_n_then_sum([3, 2, 3], 2)) # prints 9\n",
    "print(product_n_then_sum([3, 2, 3], 3)) # prints 18\n",
    "print(product_n_then_sum([4, 3, 1, 1, 1], 2)) # prints 15\n",
    "print(product_n_then_sum([4, 3, 1, 1, 1], 3)) # prints 14"
   ]
  },
  {
   "cell_type": "markdown",
   "id": "130f3c8d-4250-4714-b47f-7e09e922049d",
   "metadata": {},
   "source": [
    "To explain the above code a bit, the notation `input_list[:n]` copies over all elements in `input_list` _up to but not including_ index `n` into a new list.\n",
    "The notation `input_list[n:]` copies all elements in `input_list` _starting at_ index `n` into a new list.\n",
    "In this case, this means that `input_list[:n]` gives you a list of the first `n` elements, and `input_list[n:]` gives you a list of all subsequent elements.\n",
    "\n",
    "You can optionally have a number both before and after the colon (`:`), as with:"
   ]
  },
  {
   "cell_type": "code",
   "execution_count": 3,
   "id": "8b3f2fd9-f771-4a4e-8f67-d0336c300a4f",
   "metadata": {},
   "outputs": [
    {
     "name": "stdout",
     "output_type": "stream",
     "text": [
      "['baz']\n",
      "['bar', 'baz', 'blah', 'moo']\n",
      "['blah', 'moo', 'cow']\n",
      "['blah', 'moo', 'cow', 'bull']\n",
      "[]\n",
      "[]\n"
     ]
    }
   ],
   "source": [
    "example_list = [\"foo\", \"bar\", \"baz\", \"blah\", \"moo\", \"cow\", \"bull\"]\n",
    "\n",
    "print(example_list[2:3]) # prints ['baz']\n",
    "print(example_list[1:5]) # prints ['bar', 'baz', 'blah', 'moo']\n",
    "print(example_list[3:6]) # prints ['blah', 'moo', 'cow']\n",
    "print(example_list[3:7]) # prints ['blah', 'moo', 'cow', 'bull']\n",
    "\n",
    "print(example_list[6:6]) # prints []\n",
    "print(example_list[6:5]) # prints []"
   ]
  },
  {
   "cell_type": "markdown",
   "id": "872a6df1-5e51-4ea3-a5a5-093bdb7403fe",
   "metadata": {},
   "source": [
    "As demonstrated in the prior cell, the number before the colon indicates an _inclusive_ index into the list.\n",
    "This is where list elements will start being taken from for the result list.\n",
    "The number after the colon indicates an _exclusive_ index into the list.\n",
    "That is, the last value taken from the list will be whatever this value after the colon is, minus one.\n",
    "This is why for `example_list[3:6]`, the last list element you see is `'cow'`, corresponding to index `5` (`6 - 1`) in `example_list`.\n",
    "Similarly, `example_list[3:7]` ended up including `'bull'`, which was at index `6` (`7 - 1`) in `example_list`.\n",
    "\n",
    "The number before the colon defaults to `0`, meaning that the two slice expressions in the next cell are equivalent:"
   ]
  },
  {
   "cell_type": "code",
   "execution_count": 4,
   "id": "56fdda51-db82-49fe-be4f-c8e7352b43ee",
   "metadata": {},
   "outputs": [
    {
     "name": "stdout",
     "output_type": "stream",
     "text": [
      "['foo', 'bar']\n",
      "['foo', 'bar']\n"
     ]
    }
   ],
   "source": [
    "print(example_list[:2]) # prints ['foo', 'bar']\n",
    "print(example_list[0:2]) # prints ['foo', 'bar']"
   ]
  },
  {
   "cell_type": "markdown",
   "id": "47b9d66f-eb59-44fb-a18f-cfebf754abd2",
   "metadata": {},
   "source": [
    "This default of `0` is why `for_product` in the cell defining the `product_n_then_sum` function used `input_list[:n]`; `for_product` specifically was for the starting elements of the list (everything before index `n`).\n",
    "\n",
    "The number after the colon defaults to the length of the list, meaning that the following two slice expressions are also equivalent:"
   ]
  },
  {
   "cell_type": "code",
   "execution_count": 5,
   "id": "ae90e5e8-d278-45cf-9cf1-3532e382529d",
   "metadata": {},
   "outputs": [
    {
     "name": "stdout",
     "output_type": "stream",
     "text": [
      "['blah', 'moo', 'cow', 'bull']\n",
      "['blah', 'moo', 'cow', 'bull']\n"
     ]
    }
   ],
   "source": [
    "print(example_list[3:]) # prints ['blah', 'moo', 'cow', 'bull']\n",
    "print(example_list[3:len(example_list)]) # prints ['blah', 'moo', 'cow', 'bull']"
   ]
  },
  {
   "cell_type": "markdown",
   "id": "1ee360fd-a053-43d5-a63f-bd68bbbe593c",
   "metadata": {},
   "source": [
    "Because of these defaults, it is very easy to make a copy of a list by using `[:]`, as with:"
   ]
  },
  {
   "cell_type": "code",
   "execution_count": 6,
   "id": "9b3b6ad9-32ef-4525-b080-c7fb304aa343",
   "metadata": {},
   "outputs": [
    {
     "name": "stdout",
     "output_type": "stream",
     "text": [
      "['foo', 'bar', 'baz', 'blah', 'moo', 'cow', 'bull']\n",
      "['foo', 'bar', 'baz', 'blah', 'moo', 'cow', 'bull']\n",
      "['apple', 'bar', 'baz', 'blah', 'moo', 'cow', 'bull']\n"
     ]
    }
   ],
   "source": [
    "copied_list = example_list[:]\n",
    "print(copied_list) # prints ['foo', 'bar', 'baz', 'blah', 'moo', 'cow', 'bull']\n",
    "\n",
    "copied_list[0] = \"apple\"\n",
    "print(example_list) # prints ['foo', 'bar', 'baz', 'blah', 'moo', 'cow', 'bull']\n",
    "print(copied_list) # prints ['apple', 'bar', 'baz', 'blah', 'moo', 'cow', 'bull']"
   ]
  },
  {
   "cell_type": "markdown",
   "id": "4d56ec48-25b6-4fc9-9f7f-41a1b0d0b61e",
   "metadata": {},
   "source": [
    "As shown, slicing creates a _copy_ of the elements in the original list.\n",
    "As a fair warning, later in this assignment we will see that a syntactically identical operation involving NumPy arrays will _not_ produce a copy, so care needs to be taken when slicing to ensure that it's on exactly what you think it is.\n",
    "\n",
    "### Try this Yourself ###\n",
    "\n",
    "The comments in the next cell ask you to construct and print various sublists from `example_list`, using slicing.\n",
    "The first one is done for you.\n",
    "Write out the remaining ones."
   ]
  },
  {
   "cell_type": "code",
   "execution_count": 27,
   "id": "db5de122-9b11-406c-869e-bf31c7be6858",
   "metadata": {},
   "outputs": [
    {
     "name": "stdout",
     "output_type": "stream",
     "text": [
      "['bar', 'baz', 'blah']\n",
      "['foo', 'bar', 'baz', 'blah']\n",
      "['moo']\n",
      "['cow', 'bull']\n",
      "['baz']\n",
      "['cow']\n"
     ]
    }
   ],
   "source": [
    "# redefined from before so you don't need to keep scrolling back and forth\n",
    "example_list = [\"foo\", \"bar\", \"baz\", \"blah\", \"moo\", \"cow\", \"bull\"]\n",
    "\n",
    "# wanted: ['bar', 'baz', 'blah']\n",
    "print(example_list[1:4])\n",
    "\n",
    "# wanted: ['foo', 'bar', 'baz', 'blah']\n",
    "\n",
    "print(example_list[:4])\n",
    "\n",
    "# wanted: ['moo']\n",
    "print(example_list[4:5])\n",
    "\n",
    "# wanted: ['cow', 'bull']\n",
    "print(example_list[5:7])\n",
    "\n",
    "# wanted: ['baz', 'blah']\n",
    "print(example_list[2:3])\n",
    "\n",
    "# wanted: ['cow']\n",
    "print(example_list[5:6])\n"
   ]
  },
  {
   "cell_type": "markdown",
   "id": "6149fd5a-94d7-4f70-a3f8-1dcc972af6c1",
   "metadata": {},
   "source": [
    "## Step 2: Use Negative Indices for List Access and Slicing ##\n",
    "\n",
    "### Background: Negative List Indices in Python ###\n",
    "\n",
    "In Python, we can also use negative integers to index into a list.\n",
    "Negative integers start from the last element of the list, and go on from there.\n",
    "This is illustrated in the cell below:"
   ]
  },
  {
   "cell_type": "code",
   "execution_count": 7,
   "id": "fe17e781-4853-4be4-b779-7d10037640fb",
   "metadata": {},
   "outputs": [
    {
     "name": "stdout",
     "output_type": "stream",
     "text": [
      "banana\n",
      "pear\n",
      "apple\n"
     ]
    }
   ],
   "source": [
    "some_list = [\"apple\", \"pear\", \"banana\"]\n",
    "print(some_list[-1]) # prints \"banana\"\n",
    "print(some_list[-2]) # prints \"pear\"\n",
    "print(some_list[-3]) # prints \"apple\""
   ]
  },
  {
   "cell_type": "markdown",
   "id": "92eec190-21e2-4295-a742-dddb73bf1360",
   "metadata": {},
   "source": [
    "With negative indexing in mind, each element in a list can be individually accessed (or modified) using one of two possible indices:\n",
    "\n",
    "- A non-negative integer, starting from the first element in the list, and moving towards the right.  This integer is zero-indexed.  In other words, the first element is at index `0`, the second at index `1`, the third at index `2`, and so on.\n",
    "- A negative integer, starting from the last element in the list, and moving towards the left.  This integer is _one-indexed_, as the first element from the right is at index `-1`, and then the second element from the right is at index `-2`, and so on.\n",
    "\n",
    "We can even use negative indices for slicing, as shown in the following cell:"
   ]
  },
  {
   "cell_type": "code",
   "execution_count": 8,
   "id": "b54a9b56-425e-4eda-bc0c-3179f5332955",
   "metadata": {},
   "outputs": [
    {
     "name": "stdout",
     "output_type": "stream",
     "text": [
      "['moo', 'cow', 'bull']\n",
      "['foo', 'bar', 'baz', 'blah']\n"
     ]
    }
   ],
   "source": [
    "# redefined from before so you don't need to keep scrolling back and forth\n",
    "example_list = [\"foo\", \"bar\", \"baz\", \"blah\", \"moo\", \"cow\", \"bull\"]\n",
    "\n",
    "print(example_list[-3:]) # prints ['moo', 'cow', 'bull']\n",
    "print(example_list[:-3]) # prints ['foo', 'bar', 'baz', 'blah']"
   ]
  },
  {
   "cell_type": "markdown",
   "id": "bb87a103-d8e6-494a-9121-9dcd9489039c",
   "metadata": {},
   "source": [
    "In the first line above, with `example_list[-3:]`, this says to start at index `-3`, and go until the end of the list.\n",
    "`'moo'` is at index `-3`, therefore this starts at `'moo'` and proceeds to the end of the list.\n",
    "In the second line above, with `example_list[:-3]`, this says to instead _end_ at index `-3` exclusively, meaning the last element copied into the result list will be at `-3 - 1 = -4`.\n",
    "Sure enough, the result list starts at `0`, and the last element was `'blah'`, which was in the original `example_list` at index `-4`.\n",
    "\n",
    "> As an aside, Python's behavior regarding negative list indices is fairly unique to Python, and you should not expect the same behavior from another language.\n",
    "> In C and C++, negative indices access elements to the left of index `0`; because of other features in C and C++, such accesses oddly can have well-defined meaning in some circumstances.\n",
    "> In Java (and in most other languages), it is a runtime error to access a list with a negative index.\n",
    "\n",
    "### Try this Yourself ###\n",
    "\n",
    "In the next cell, access the requested elements of `example_list` using negative indices, or slice `example_list` with negative indecies.\n",
    "Some are done for you as examples.\n",
    "Be sure to use `print` to display the results."
   ]
  },
  {
   "cell_type": "code",
   "execution_count": 40,
   "id": "1deb420b-23bc-4c8b-804e-bcda68bb0469",
   "metadata": {},
   "outputs": [
    {
     "name": "stdout",
     "output_type": "stream",
     "text": [
      "bull\n",
      "bar\n",
      "blah\n",
      "['bull']\n",
      "['cow', 'bull']\n"
     ]
    }
   ],
   "source": [
    "# redefined from before so you don't need to keep scrolling back and forth\n",
    "example_list = [\"foo\", \"bar\", \"baz\", \"blah\", \"moo\", \"cow\", \"bull\"]\n",
    "\n",
    "# access \"bull\" with a negative index\n",
    "print(example_list[-1])\n",
    "\n",
    "# access \"bar\" with a negative index\n",
    "print(example_list[-6])\n",
    "\n",
    "# access \"blah\" with a negative index\n",
    "print(example_list[-4])\n",
    "\n",
    "# using slicing with a negative index, get the list [\"bull\"]\n",
    "print(example_list[-1:])\n",
    "\n",
    "\n",
    "# using slicing with a negative index, get the list [\"cow\", \"bull\"]\n",
    "print(example_list[-2:])"
   ]
  },
  {
   "cell_type": "markdown",
   "id": "97a3a301-84f9-4341-b0b0-20b769fcff27",
   "metadata": {},
   "source": [
    "## Step 3: Create NumPy Arrays ##\n",
    "\n",
    "### Background: NumPy Arrays ###\n",
    "\n",
    "[NumPy](https://numpy.org/) is a Python library for scientific computing applications.\n",
    "For our purposes, the most important component of NumPy are its _arrays_.\n",
    "NumPy arrays are similar to Python lists, with the following notable differences:\n",
    "\n",
    "- The size of a array is fixed at creation time.  Whereas lists allow us to add and remove elements after the list is created (e.g., with the `append` method), arrays do not allow for such resizing.  With arrays, would would instead have to create a whole new array containing whatever element one wants.\n",
    "- The type of values put into an array is fixed at creation time.  While Python lists can contain elements with mixed types (e.g., `[\"foo\", 3, True]`), NumPy arrays disallow this.  (Technically you _can_ make this work with NumPy, but the result is probably counterintuitively not what you want.)\n",
    "- You have more fine-grained control over the size (in memory) of the array elements, and how they are represented.  For example, you can select the number of bits which will be used for integers, and whether or not they can be negative.  In contrast, normal Python integers are arbitrary precision (meaning they can take up an arbitrarily large amount of memory for a big enough integer), and can always be negative.\n",
    "- NumPy arrays tend to make matrix-level operations easy, or at least easier than with lists.\n",
    "- (Perhaps most importantly) many common operations, particularly arithmetic operations, are **much** faster with NumPy arrays, with performance improvements typically in the 2x - 100x faster range, commonly with values in the 50x range.  This is because NumPy takes advantage of special hardware available on most platforms (specifically [vector operations](https://en.wikipedia.org/wiki/Vector_processor)).  Even typical C/C++ programs don't use this hardware (though they can).  Given that data sets are commonly very large, and pure Python is not particularly good for performance, NumPy offers a good solution here.\n",
    "\n",
    "The cell below imports NumPy, creates an array of integers based on the integers in an input Python list, and prints out the values in that array."
   ]
  },
  {
   "cell_type": "code",
   "execution_count": 9,
   "id": "e0d730b2-c005-4396-9cf6-0fdeb1667bb2",
   "metadata": {},
   "outputs": [
    {
     "name": "stdout",
     "output_type": "stream",
     "text": [
      "8\n",
      "3\n",
      "4\n",
      "5\n",
      "5\n",
      "4\n",
      "3\n",
      "8\n",
      "int64\n"
     ]
    }
   ],
   "source": [
    "import numpy as np\n",
    "\n",
    "example_array = np.array([8, 3, 4, 5])\n",
    "\n",
    "print(example_array[0]) # prints 8\n",
    "print(example_array[1]) # prints 3\n",
    "print(example_array[2]) # prints 4\n",
    "print(example_array[3]) # prints 5\n",
    "\n",
    "print(example_array[-1]) # prints 5\n",
    "print(example_array[-2]) # prints 4\n",
    "print(example_array[-3]) # prints 3\n",
    "print(example_array[-4]) # prints 8\n",
    "\n",
    "print(example_array.dtype) # prints int64"
   ]
  },
  {
   "cell_type": "markdown",
   "id": "74c6f7f1-72a7-4d5b-b649-3a96bccbb691",
   "metadata": {},
   "source": [
    "The following is a line-by-line explanation of this code:\n",
    "\n",
    "1. `import numpy as np`: loads in the NumPy library and makes it accessible.  By convention, the NumPy library should be imported as `np`, as performed in this line.\n",
    "2. `example_array = np.array([8, 3, 4, 5])`: creates a new NumPy array, holding the values `8`, `3`, `4`, and `5`, in that order.  The array is then bound to the new variable `example_array`.  The type of the array elements is automatically determined by NumPy (more on that in a bit).\n",
    "3. `print(example_array[0])`, followed by all the `print`s grouped in the same block: prints out the values in `example_array` at non-negative indices.  As shown, NumPy arrays can be accessed via non-negative indices in the same manner as Python lists.\n",
    "4. `print(example_array[-1])`, followed by all the `print`s grouped in the same block: prints out the values in `example_array` at negative indices.  These behave the same as with negative indices in Python arrays.\n",
    "5. `print(example_array.dtype)`: prints the type of the array elements.  In this case, this prints `int64`, meaning each array element is represented as a _signed 64-bit_ integer.  By \"signed\", we mean the value could be negative.  By 64-bit, we mean each integer occupies 64 bits (64 zeros or ones) in memory.\n",
    "\n",
    "When the `array` function is used, the type of the array elements is automatically determined based on the actual elements passed.\n",
    "In this case, NumPy picked a much larger type than strictly necessary.\n",
    "To understand why, the largest value in the array, `8`, can be represented with 4 bits; exactly why this is is beyond our scope.\n",
    "Additionally, our input list does not contain any negative values, and therefore we don't need a representation capable of storing negative values; we can instead pick an _unsigned_ representation.\n",
    "\n",
    "If we want to control the type of the array elements, we can pass the `dtype` keyword parameter when creating the array, like so:"
   ]
  },
  {
   "cell_type": "code",
   "execution_count": 10,
   "id": "ec4accf5-2cdb-4e70-b5d2-411237106520",
   "metadata": {},
   "outputs": [
    {
     "name": "stdout",
     "output_type": "stream",
     "text": [
      "8\n",
      "3\n",
      "4\n",
      "5\n",
      "uint8\n"
     ]
    }
   ],
   "source": [
    "# redeclaration of example_array with uint8 as the element type\n",
    "example_array = np.array([8, 3, 4, 5], dtype=np.uint8)\n",
    "\n",
    "print(example_array[0]) # prints 8\n",
    "print(example_array[1]) # prints 3\n",
    "print(example_array[2]) # prints 4\n",
    "print(example_array[3]) # prints 5\n",
    "\n",
    "print(example_array.dtype) # prints uint8"
   ]
  },
  {
   "cell_type": "markdown",
   "id": "755189f0-30e5-4411-8c71-a918da4da6c9",
   "metadata": {},
   "source": [
    "In this case, `np.uint8` corresponds to an unsigned 8-bit integer representation.\n",
    "There are a wide variety of types possible; see [this page of the official NumPy documentation](https://numpy.org/doc/1.25/user/basics.types.html) for more information.\n",
    "For our purposes, you will likely not need to pass `dtype`; the defaults tend to work, and err on the side of being larger than what is necessary.\n",
    "This means your code will still probably work without passing `dtype`, but it may consume more memory than desired, especially if you start dealing with very large data sets (millions of rows).\n",
    "In contrast, picking a type that is too small or otherwise not right can break your code, as illustrated in the following cell:"
   ]
  },
  {
   "cell_type": "code",
   "execution_count": 11,
   "id": "ffd3b250-a224-4ad4-99fe-ad648154ee93",
   "metadata": {},
   "outputs": [
    {
     "ename": "OverflowError",
     "evalue": "Python integer -1 out of bounds for uint8",
     "output_type": "error",
     "traceback": [
      "\u001b[1;31m---------------------------------------------------------------------------\u001b[0m",
      "\u001b[1;31mOverflowError\u001b[0m                             Traceback (most recent call last)",
      "Cell \u001b[1;32mIn[11], line 1\u001b[0m\n\u001b[1;32m----> 1\u001b[0m example_array[\u001b[38;5;241m0\u001b[39m] \u001b[38;5;241m=\u001b[39m \u001b[38;5;241m-\u001b[39m\u001b[38;5;241m1\u001b[39m\n",
      "\u001b[1;31mOverflowError\u001b[0m: Python integer -1 out of bounds for uint8"
     ]
    }
   ],
   "source": [
    "example_array[0] = -1"
   ]
  },
  {
   "cell_type": "markdown",
   "id": "9dc15923-ba82-439b-ad08-d1a5e267f3c6",
   "metadata": {},
   "source": [
    "Since `uint8` cannot hold negative integers, the code throws an exception if we attempt to assign a negative integer into the array.\n",
    "\n",
    "Another common way to make NumPy arrays is with the `arange` method, like so:"
   ]
  },
  {
   "cell_type": "code",
   "execution_count": 41,
   "id": "22d344b7-a4e0-475e-a8fd-e75dd23709e4",
   "metadata": {},
   "outputs": [
    {
     "name": "stdout",
     "output_type": "stream",
     "text": [
      "0\n",
      "9\n",
      "10\n",
      "[0 1 2 3 4 5 6 7 8 9]\n"
     ]
    }
   ],
   "source": [
    "another_example = np.arange(10)\n",
    "print(another_example[0]) # prints 0\n",
    "print(another_example[9]) # prints 9\n",
    "print(len(another_example)) # prints 10\n",
    "print(another_example) # prints [0 1 2 3 4 5 6 7 8 9]"
   ]
  },
  {
   "cell_type": "markdown",
   "id": "51ad08fd-90d3-4985-8dfe-f7a6d9fcb2a5",
   "metadata": {},
   "source": [
    "As shown, `arange` creates an array containing `0` until the parameter minus one.\n",
    "This effectively does the same thing as `list(range(10))`, only the result is a NumPy array instead of a list.\n",
    "\n",
    "### Try this Yourself ###\n",
    "\n",
    "The next cell accesses various NumPy arrays at different positions, and `print`s the results.\n",
    "Create arrays that will cause all the `print`s to display the values requested in the comments."
   ]
  },
  {
   "cell_type": "code",
   "execution_count": 45,
   "id": "5e6de018-1c2d-487a-9f0d-66ae63f178a9",
   "metadata": {},
   "outputs": [
    {
     "name": "stdout",
     "output_type": "stream",
     "text": [
      "8\n",
      "3\n"
     ]
    }
   ],
   "source": [
    "# define the integers array below\n",
    "import numpy as np\n",
    "\n",
    "integers = np.array([8, 3, 4, 5])\n",
    "\n",
    "print(integers[0]) # should print 8\n",
    "print(integers[1]) # should print 3\n"
   ]
  },
  {
   "cell_type": "code",
   "execution_count": 48,
   "id": "f7d154e8-65ea-4303-9ca7-f284f859751a",
   "metadata": {},
   "outputs": [
    {
     "name": "stdout",
     "output_type": "stream",
     "text": [
      "True\n",
      "False\n",
      "False\n"
     ]
    }
   ],
   "source": [
    "# define the booleans array below\n",
    "\n",
    "booleans =  np.array([True,False,False])\n",
    "\n",
    "print(booleans[0]) # should print True\n",
    "print(booleans[1]) # should print False\n",
    "print(booleans[2]) # should print False"
   ]
  },
  {
   "cell_type": "markdown",
   "id": "09f84786-7c29-48b5-81a6-5c3e2cb269d0",
   "metadata": {},
   "source": [
    "## Step 4: Use Slicing to Create NumPy Array Views ##\n",
    "\n",
    "### Background: NumPy Array Views ###\n",
    "\n",
    "Like lists, we can use slicing to get subportions of a NumPy array, as shown in the cell below:"
   ]
  },
  {
   "cell_type": "code",
   "execution_count": 12,
   "id": "b3f4215c-17ad-4d72-9b4f-a8c33403e3e4",
   "metadata": {},
   "outputs": [
    {
     "name": "stdout",
     "output_type": "stream",
     "text": [
      "[3 2 8 9 4]\n",
      "[2 8]\n"
     ]
    }
   ],
   "source": [
    "first = np.array([3, 2, 8, 9, 4])\n",
    "second = first[1:3]\n",
    "print(first) # prints [3 2 8 9 4]\n",
    "print(second) # prints [2 8]"
   ]
  },
  {
   "cell_type": "markdown",
   "id": "d4422287-5e7b-4200-8b23-077ea01eb58b",
   "metadata": {},
   "source": [
    "We can similarly use negative indices for slicing.\n",
    "All this said, unlike with lists, slicing NumPy arrays does **not** yield a copy of the sliced portion, but rather a _view_ of the sliced portion.\n",
    "With a view, we really have a window into the original array itself, as opposed to a copy of part of the original array.\n",
    "We can see this if we modify `second`, as done in the following cell:"
   ]
  },
  {
   "cell_type": "code",
   "execution_count": 13,
   "id": "cb98eb05-50f1-4283-a936-d8bb2b2eae42",
   "metadata": {},
   "outputs": [
    {
     "name": "stdout",
     "output_type": "stream",
     "text": [
      "[42  8]\n",
      "[ 3 42  8  9  4]\n"
     ]
    }
   ],
   "source": [
    "second[0] = 42\n",
    "print(second) # prints [42  8]\n",
    "print(first) # prints [ 3 42  8  9  4]"
   ]
  },
  {
   "cell_type": "markdown",
   "id": "400d3d65-aeb7-43b3-acb8-788c4df650c4",
   "metadata": {},
   "source": [
    "As expected, after running `second[0] = 42`, the element at `second[0]` is now `42`.\n",
    "However, the element at `first[1]` is now _also_ `42`.\n",
    "This is because `second` is a view into `first`, and `second[0]` actually directly refers to the same place as `first[1]`.\n",
    "As such, if we change `second`, we will change `first`, and vice-versa; a change to `first` is similarly propagated to `second`, shown below:"
   ]
  },
  {
   "cell_type": "code",
   "execution_count": 14,
   "id": "12d7db1e-02e1-426c-b79c-be48243dd68c",
   "metadata": {},
   "outputs": [
    {
     "name": "stdout",
     "output_type": "stream",
     "text": [
      "[ 3 42 57  9  4]\n",
      "[42 57]\n"
     ]
    }
   ],
   "source": [
    "first[2] = 57\n",
    "print(first) # prints [ 3 42 57  9  4]\n",
    "print(second) # prints [42 57]"
   ]
  },
  {
   "cell_type": "markdown",
   "id": "89c7d630-e760-4497-a6bd-c32f02134c52",
   "metadata": {},
   "source": [
    "This behavior of slicing returning views can lead to nasty surprises when modifying array elements.\n",
    "However, on the flip side, this means that slicing is practically free over NumPy arrays, making it very cheap to access subportions of arrays.\n",
    "Lists, in contrast, require copying over all the values in a slice, whether or not the slice will be modified.\n",
    "\n",
    "When it comes to the sorts of large datasets that NumPy was designed to handle, this view-based behavior tends to make more sense.\n",
    "After all, if desired, one can always use the `array` method to copy the values in another array-like value, including a view, like so:"
   ]
  },
  {
   "cell_type": "code",
   "execution_count": 15,
   "id": "a09378ca-36d9-4461-96f1-ffeae6d3364f",
   "metadata": {},
   "outputs": [
    {
     "name": "stdout",
     "output_type": "stream",
     "text": [
      "[3 2 8 9 4]\n",
      "[2 8]\n",
      "[3 2 8 9 4]\n",
      "[42  8]\n"
     ]
    }
   ],
   "source": [
    "first = np.array([3, 2, 8, 9, 4])\n",
    "second = np.array(first[1:3])\n",
    "print(first) # prints [3 2 8 9 4]\n",
    "print(second) # prints [2 8]\n",
    "\n",
    "second[0] = 42\n",
    "print(first) # prints [3 2 8 9 4]\n",
    "print(second) # prints [42  8]"
   ]
  },
  {
   "cell_type": "markdown",
   "id": "02346ef4-db68-40bf-b4ff-23f2019e3a78",
   "metadata": {},
   "source": [
    "In the above cell, the modification with `second[0] = 42` did not lead to any change in `first`.\n",
    "This is because while `first[1:3]` did return a view over `first`, the subsequent call to `np.array` in the second line copied over all the values in the view into a new array `second`.\n",
    "This effectively broke the connection to `first`, and therefore `first` was not modified when `second` was modified.\n",
    "\n",
    "### Try this Yourself ###\n",
    "\n",
    "The comments in the next cell ask you to construct and print various views from `example_array`, using slicing.\n",
    "The first one is done for you.\n",
    "Write out the remaining ones."
   ]
  },
  {
   "cell_type": "code",
   "execution_count": 59,
   "id": "b3f1fd21-fce8-4ab1-88b9-60c9b0ab1996",
   "metadata": {},
   "outputs": [
    {
     "name": "stdout",
     "output_type": "stream",
     "text": [
      "[0 1 2 3 4 5 6 7 8 9]\n",
      "[10 11 12 13 14 15 16 17 18 19]\n",
      "[ 5  6  7  8  9 10 11 12 13 14]\n",
      "[ 0  1  2  3  4  5  6  7  8  9 10 11 12 13 14 15 16]\n",
      "[17 18 19]\n"
     ]
    }
   ],
   "source": [
    "example_array = np.arange(20)\n",
    "\n",
    "# wanted: [0 1 2 3 4 5 6 7 8 9]\n",
    "print(example_array[:10])\n",
    "\n",
    "# wanted: [10 11 12 13 14 15 16 17 18 19]\n",
    "print(example_array[-10:])\n",
    "\n",
    "# wanted: [ 5  6  7  8  9 10 11 12 13 14]\n",
    "print(example_array[5:15])\n",
    "\n",
    "# wanted: [ 0  1  2  3  4  5  6  7  8  9 10 11 12 13 14 15 16]\n",
    "print(example_array[0:17])\n",
    "\n",
    "# wanted: [17 18 19]\n",
    "print(example_array[-3:])\n"
   ]
  },
  {
   "cell_type": "markdown",
   "id": "f5b139ed-65a0-44a9-8580-d6c6844e0f43",
   "metadata": {},
   "source": [
    "## Step 5: Submit via Canvas ##\n",
    "\n",
    "Be sure to **save your work**, then log into [Canvas](https://canvas.csun.edu/).  Go to the COMP 502 course, and click \"Assignments\" on the left pane.  From there, click \"Assignment 23\".  From there, you can upload the `23_slicing_and_numpy_array_basics.ipynb` file.\n",
    "\n",
    "You can turn in the assignment multiple times, but only the last version you submitted will be graded.\n",
    "\n",
    "### Special Thanks to Dr. Glenn Bruns ###\n",
    "\n",
    "Special thanks to [Dr. Glenn Bruns](https://csumb.edu/scd/glenn-bruns/) at California State University, Monterey Bay, for providing me with closely-related materials which were used in the creation of this assignment."
   ]
  }
 ],
 "metadata": {
  "kernelspec": {
   "display_name": "Python 3 (ipykernel)",
   "language": "python",
   "name": "python3"
  },
  "language_info": {
   "codemirror_mode": {
    "name": "ipython",
    "version": 3
   },
   "file_extension": ".py",
   "mimetype": "text/x-python",
   "name": "python",
   "nbconvert_exporter": "python",
   "pygments_lexer": "ipython3",
   "version": "3.13.5"
  }
 },
 "nbformat": 4,
 "nbformat_minor": 5
}
