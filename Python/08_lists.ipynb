{
 "cells": [
  {
   "cell_type": "markdown",
   "id": "fe6ac45d-d952-4747-9af6-060da1594e25",
   "metadata": {},
   "source": [
    "# Assignment 8: Lists #\n",
    "\n",
    "### Goals for this Assignment ###\n",
    "\n",
    "By the time you have completed this assignment, you should be able to:\n",
    "\n",
    "- Create lists in Python using `[...]`\n",
    "- Use list indicies to access individual list elements\n",
    "- Write out the memory representation of a list\n",
    "\n",
    "## Step 1: Create a List of Elements ##\n",
    "\n",
    "### Background: Lists ###\n",
    "\n",
    "You've previously seen code which would calculate the sum of a fixed number of integers.\n",
    "For example, the `sum3` function in the next cell will find the sum of the three provided integers."
   ]
  },
  {
   "cell_type": "code",
   "execution_count": 10,
   "id": "5a125478-9d64-44b3-9246-1599f076c01a",
   "metadata": {},
   "outputs": [
    {
     "name": "stdout",
     "output_type": "stream",
     "text": [
      "4\n",
      "15\n"
     ]
    }
   ],
   "source": [
    "def sum3(a, b, c):\n",
    "    return a + b + c\n",
    "\n",
    "print(sum3(1, 2, 1)) # prints 4\n",
    "print(sum3(5, 2, 8)) # prints 15"
   ]
  },
  {
   "cell_type": "markdown",
   "id": "850d890b-a362-4ee5-9163-1a93419d33aa",
   "metadata": {},
   "source": [
    "If we have exactly three integers, then `sum3` works perfectly.\n",
    "However, what if we have only two integers?\n",
    "You could call `sum3` with one of the parameters being `0`, as with `sum3(x, y, 0)`, assuming you wish to find the sum of `x` and `y`.\n",
    "However, this may feel (and should feel) a little hacky; `sum3` was purpose-built to take three integers, but we effectively are trying to force it into a context where it only takes two integers.\n",
    "\n",
    "Now, what if we have more than three integers to add?\n",
    "One solution would be to chain calls to `sum3`, as with `sum3(a, b, c) + sum3(x, y, z)`, assuming we want to sum `a` through `c` and `x` through `y`.\n",
    "We could even pass the output of one call of `sum3` as the input to another call to `sum3`, like `sum3(a, b, sum3(c, d, e))`.\n",
    "However, this again looks a little odd.\n",
    "\n",
    "Now let's scale this up to something more realistic.\n",
    "Say you want to compute the sum of a whole data set, in order to compute the average.\n",
    "No matter the size of the data set, the process of computing the sum is the same: keep adding together all the values, until there aren't any values anymore.\n",
    "Nonetheless, if we take the appoach used above, we'd have to chain a _lot_ of calls to `sum3` to make this work.\n",
    "If you wanted to scale this up to 1,000 inputs (which wouldn't usually be considered particularly large, depending on the application), then the expression computing the sum would get impractically large.\n",
    "We need a way to automate this.\n",
    "\n",
    "Towards automation, we need a way to represent a variable number of items.\n",
    "If we could represent a variable number of items, we could define a computation that works over a variable number of items, instead of being _hard-coded_ (or fixed in the structure of the code itself) to take a specific number of inputs.\n",
    "\n",
    "It turns out there are a number of ways to represent a variable number of items, which all have a variety of different properties.\n",
    "We will see multiple kinds of data structures that can represent a variable number of items in this course.\n",
    "However, for our first one, we will consider _lists_.\n",
    "A list represents an ordered sequence of items.\n",
    "A list can be as short or as long as need be; a list containing no items is entirely possible (and even common), and the size of a list is bounded only by how much memory you have.\n",
    "It's not uncommon to see lists with thousands, or even tens of thousands of elements in them.\n",
    "Lists with hundreds of thousands to millions of elements are not out of the question, either.\n",
    "\n",
    "To create a list in Python, you use square brackets.\n",
    "Some lists are created in the next cell."
   ]
  },
  {
   "cell_type": "code",
   "execution_count": 11,
   "id": "dafd5306-c56c-4e77-a984-d0ce0e8d17ba",
   "metadata": {},
   "outputs": [],
   "source": [
    "empty_list = []\n",
    "one_two_three = [1, 2, 3]\n",
    "foo_bar = [\"foo\", \"bar\"]\n",
    "some_booleans = [True, True, False]\n",
    "different_types = [0, 3.14, 12, False, \"this is a string\", 2.3]"
   ]
  },
  {
   "cell_type": "markdown",
   "id": "6c76bbb5-9b91-401c-b971-4bf68b6eea70",
   "metadata": {},
   "source": [
    "A short description of each of the above lists follows.\n",
    "`empty_list` above is a list which does not contain any elements; its _length_ is thus `0`.\n",
    "`one_two_three` is a list of the integers `1`, `2`, and `3`, in that specific order.\n",
    "Because `one_two_three` contains three elements, it has length `3`.\n",
    "`foo_bar` is a list of strings `\"foo\"` and `\"bar\"`, in that specific order; `foo_bar`'s length is `2`, because it contains two elements.\n",
    "`some_booleans` is a list of the booleans `True`, `True`, `False` in that order, with length `3`.\n",
    "Finally, `different_types` is a list of length `6`, holding each value as shown.\n",
    "There are some key takeaways from these examples:\n",
    "\n",
    "- Lists can be of any size\n",
    "- Lists can contain the same element multiple times (as with `some_booleans`), but do not need to do so (as with `foo_bar`)\n",
    "- Lists can contain elements of the same type (as with `one_two_three`, `foo_bar`, and `some_booleans`), but do not need to do so (as with `different_types`)\n",
    "- A list is one thing (specifically a class) that internally contains any number of other things\n",
    "\n",
    "### Try this Yourself ###\n",
    "\n",
    "In the next cell, create the following lists:\n",
    "\n",
    "- A list of the integers 5 through 10, inclusive.  Bind this list to a variable named `integers`.\n",
    "- A list of the strings `\"apple\"`, `\"pear\"`, and `\"banana\"`, in that order.  Bind this list to a variable named `fruits`."
   ]
  },
  {
   "cell_type": "code",
   "execution_count": 12,
   "id": "4562bcce-d51b-4a18-bc81-591f6207ead5",
   "metadata": {},
   "outputs": [
    {
     "name": "stdout",
     "output_type": "stream",
     "text": [
      "[5, 6, 7, 8, 9, 10]\n",
      "['apple', 'pear', 'banana']\n"
     ]
    }
   ],
   "source": [
    "# Define your lists below\n",
    "integers =[5,6,7,8,9,10]\n",
    "fruits =[\"apple\",\"pear\",\"banana\"]\n",
    "\n",
    "print(integers)\n",
    "print(fruits)"
   ]
  },
  {
   "cell_type": "markdown",
   "id": "e911ef76-0727-41db-93dc-32a603c4dcac",
   "metadata": {},
   "source": [
    "## Step 2: Get the Length of a List ##\n",
    "\n",
    "### Background: List Length in Python ###\n",
    "\n",
    "In Python, you can get the length of a list by calling the built-in `len` function.\n",
    "Examples are shown in the next cell."
   ]
  },
  {
   "cell_type": "code",
   "execution_count": 13,
   "id": "d4ae801b-156d-463b-a7d9-c46fe8c21375",
   "metadata": {},
   "outputs": [
    {
     "name": "stdout",
     "output_type": "stream",
     "text": [
      "5\n",
      "4\n",
      "0\n",
      "1\n"
     ]
    }
   ],
   "source": [
    "first_list = [\"alpha\", \"beta\", \"gamma\", \"delta\", \"epsilon\"]\n",
    "second_list = [3, 2, 8, 7]\n",
    "third_list = []\n",
    "fourth_list = [True]\n",
    "\n",
    "print(len(first_list))  # prints 5\n",
    "print(len(second_list)) # prints 4\n",
    "print(len(third_list))  # prints 0\n",
    "print(len(fourth_list)) # prints 1"
   ]
  },
  {
   "cell_type": "markdown",
   "id": "74ec9622-add8-46f8-9c3c-d4dce50d54a9",
   "metadata": {},
   "source": [
    "### Try this Yourself ###\n",
    "\n",
    "Now try this yourself.\n",
    "In the next cell, print out the length of the `integers` and `fruits` list from the prior step.\n",
    "Be sure to call the `len` function to do so, as opposed to hard-coding the values (e.g., `print(0)` would be the hard-coded version of `print(len([]))`)."
   ]
  },
  {
   "cell_type": "code",
   "execution_count": 14,
   "id": "15959078-7284-43a7-b4db-0259a2ae06dc",
   "metadata": {},
   "outputs": [
    {
     "name": "stdout",
     "output_type": "stream",
     "text": [
      "6\n",
      "3\n"
     ]
    }
   ],
   "source": [
    "# Put your calls to the len function and the corresponding prints below\n",
    "\n",
    "print(len(integers))\n",
    "print(len(fruits))\n"
   ]
  },
  {
   "cell_type": "markdown",
   "id": "dd241a63-03f5-46d0-8bab-4c81ee230056",
   "metadata": {},
   "source": [
    "## Step 3: Access List Elements by Index ##\n",
    "\n",
    "### Background: List Indexing ###\n",
    "\n",
    "Each element of a list exists at a unique _index_.\n",
    "Indices start from `0`, and increase by `1` for every item in the list, until there are no more items in the list.\n",
    "In other words, if you have a list of five elements, like:\n",
    "\n",
    "```python\n",
    "[\"a\", \"b\", \"c\", \"d\", \"e\"]\n",
    "```\n",
    "\n",
    "...then the list starts at index `0`, and specifically `\"a\"` will be at index `0`.\n",
    "From there, `\"b\"` will be at index `1`, `\"c\"` at index `2`, `\"d\"` at index `3`, and lastly `\"e\"` at index `4`.\n",
    "Note that the length of the above list is still nonetheless `5`, because there are five elements in this list.\n",
    "This misatch between the last index and the list length can trip up beginners and experts alike, and can easily lead to _off-by-one_ errors, wherein we access the list at the wrong index, but only wrong by one position.\n",
    "\n",
    "To access a given element of the list, we can also use square brackets in Python.\n",
    "This is shown in the cell below, which uses the same list of letters:"
   ]
  },
  {
   "cell_type": "code",
   "execution_count": 15,
   "id": "5aff622b-f8c6-41fa-9a02-7f190f17bf17",
   "metadata": {},
   "outputs": [
    {
     "name": "stdout",
     "output_type": "stream",
     "text": [
      "a\n",
      "b\n",
      "c\n",
      "d\n",
      "e\n",
      "5\n"
     ]
    }
   ],
   "source": [
    "letters = [\"a\", \"b\", \"c\", \"d\", \"e\"]\n",
    "print(letters[0])   # prints \"a\"\n",
    "print(letters[1])   # prints \"b\"\n",
    "print(letters[2])   # prints \"c\"\n",
    "print(letters[3])   # prints \"d\"\n",
    "print(letters[4])   # prints \"e\"\n",
    "print(len(letters)) # prints 5"
   ]
  },
  {
   "cell_type": "markdown",
   "id": "a720205f-e903-45f1-9d16-0fdeb7bbabf9",
   "metadata": {},
   "source": [
    "Accessing an element at a given index of a list is commonly referred to as _indexing_ into the list.\n",
    "As shown, when indexing into a list, the left square bracket (`[`) immediately follows the name of the list we want to index into.\n",
    "Inside the square brackets, an expression evaluating to the index is provided.\n",
    "\n",
    "Note that _any_ expression can be used to specify the index.\n",
    "For example, assuming the `letters` list has been defined by running the prior cell, the code in the following cell runs:"
   ]
  },
  {
   "cell_type": "code",
   "execution_count": 7,
   "id": "65631fb0-d405-4d2a-a09d-59ed7a789514",
   "metadata": {},
   "outputs": [
    {
     "name": "stdout",
     "output_type": "stream",
     "text": [
      "d\n",
      "e\n"
     ]
    }
   ],
   "source": [
    "print(letters[1 + 2]) # prints \"d\", since \"d\" is at index 3\n",
    "\n",
    "some_integer = 2\n",
    "print(letters[some_integer * 2]) # prints \"e\", since \"e\" is at index 4"
   ]
  },
  {
   "cell_type": "markdown",
   "id": "170908b0-2334-4a8a-b6ae-c9995ea1ed12",
   "metadata": {},
   "source": [
    "It is entirely possible to provide an expression which will not evaluate down to a valid list index.\n",
    "For example, see what happens in the next cell if we try to access index `5` of the `letters` list:"
   ]
  },
  {
   "cell_type": "code",
   "execution_count": 8,
   "id": "1ac89554-7ad2-4268-a21d-f5c46f10b38b",
   "metadata": {},
   "outputs": [
    {
     "ename": "IndexError",
     "evalue": "list index out of range",
     "output_type": "error",
     "traceback": [
      "\u001b[1;31m---------------------------------------------------------------------------\u001b[0m",
      "\u001b[1;31mIndexError\u001b[0m                                Traceback (most recent call last)",
      "Cell \u001b[1;32mIn[8], line 1\u001b[0m\n\u001b[1;32m----> 1\u001b[0m \u001b[38;5;28mprint\u001b[39m(letters[\u001b[38;5;241m5\u001b[39m])\n",
      "\u001b[1;31mIndexError\u001b[0m: list index out of range"
     ]
    }
   ],
   "source": [
    "print(letters[5])"
   ]
  },
  {
   "cell_type": "markdown",
   "id": "8ff60e44-86c6-4b66-affc-989f991f024f",
   "metadata": {},
   "source": [
    "If you run the above code, you'll see that this causes an `IndexError`, indicating that an element with the given index does not exist in the list.\n",
    "As such, we need to take care to only access list elements at indicies that exist."
   ]
  },
  {
   "cell_type": "markdown",
   "id": "0b597e5b-de48-49bf-abcd-a252a8b099c1",
   "metadata": {},
   "source": [
    "### Try this Yourself ###\n",
    "\n",
    "Using list indexing, print out the following values from the lists you previously defined:\n",
    "\n",
    "- The `\"alpha\"` from `first_list`\n",
    "- The `\"epsilon\"` from `first_list`\n",
    "- The `8` from `second_list`\n",
    "- The `True` from `fourth_list`\n",
    "\n",
    "The first one has been done for you."
   ]
  },
  {
   "cell_type": "code",
   "execution_count": 16,
   "id": "521d5486-016a-43e9-8766-a8960e8bde4c",
   "metadata": {},
   "outputs": [
    {
     "name": "stdout",
     "output_type": "stream",
     "text": [
      "alpha\n",
      "epsilon\n",
      "8\n",
      "True\n"
     ]
    }
   ],
   "source": [
    "\n",
    "print(first_list[0])\n",
    "# Define the rest of your prints with list indexing below.\n",
    "# You'll need to determine the correct indicies for the requested items.\n",
    "print(first_list[4])\n",
    "print(second_list[2])\n",
    "print(fourth_list[0])"
   ]
  },
  {
   "cell_type": "markdown",
   "id": "82ff0e1f-c8d7-4642-9a2b-93b1fbde47c6",
   "metadata": {},
   "source": [
    "## Step 4: Draw List Memory Representation ##\n",
    "\n",
    "### Background: List Memory Representation ###\n",
    "\n",
    "Lists are objects, but strictly speaking, they do not contain other objects.\n",
    "Rather, lists contain _references_ to other objects.\n",
    "This is analogous to an object's fields containing references to other objects.\n",
    "With this in mind, our `letters` list from before looks much like the following in memory:\n",
    "\n",
    "![list_diagram](list_diagram.jpg)\n",
    "\n",
    "Notably, list objects are of type `list`, and a list object contains exactly as many slots for elements as there are elements.\n",
    "(A slot is represented with an underscore (`_`) in the diagram.)\n",
    "Exactly how a list can represent exactly enough slots is beyond our scope in this course, and Python handless this internally so you shouldn't need to worry about it.\n",
    "\n",
    "### Try this Yourself ###\n",
    "\n",
    "With the memory diagram of `letters` in mind, write out memory diagrams for the following lists which have been previously defined, either by you or the guide:\n",
    "\n",
    "- `fruits`\n",
    "- `second_list`\n",
    "- `third_list`\n",
    "- `fourth_list`\n",
    "\n",
    "For writing your diagrams, you can use any drawing program you like, or even draw them on paper and take a picture.\n",
    "\n"
   ]
  },
  {
   "cell_type": "code",
   "execution_count": 9,
   "id": "eb040206-0faa-4b7f-b7ba-a722076c5b49",
   "metadata": {},
   "outputs": [
    {
     "name": "stdout",
     "output_type": "stream",
     "text": [
      "['apple', 'pear', 'banana']\n",
      "[3, 2, 8, 7]\n",
      "[]\n",
      "[True]\n"
     ]
    }
   ],
   "source": [
    "print(fruits)\n",
    "print(second_list)\n",
    "print(third_list)\n",
    "print(fourth_list)"
   ]
  },
  {
   "attachments": {},
   "cell_type": "markdown",
   "id": "720c2edf-9779-4d96-8295-fc151d2f2d91",
   "metadata": {},
   "source": [
    "![fruits_diag](fruits_diag.png)\n",
    "![second_diag](second_diag.png)\n",
    "![third_diag](third_diag.png)\n",
    "![fourth_diag](fourth_diag.png)"
   ]
  },
  {
   "cell_type": "markdown",
   "id": "81cf1a73-a20f-46ba-a88e-3da1950a9736",
   "metadata": {},
   "source": [
    "## Step 5: Submit via Canvas ##\n",
    "\n",
    "Be sure to **save your work**, then log into [Canvas](https://canvas.csun.edu/).  Go to the COMP 502 course, and click \"Assignments\" on the left pane.  From there, click \"Assignment 8\".  From there, you can upload the `08_lists.ipynb` file, along with the image files corresponding to the problems in step 4.\n",
    "\n",
    "You can turn in the assignment multiple times, but only the last version you submitted will be graded."
   ]
  }
 ],
 "metadata": {
  "kernelspec": {
   "display_name": "Python 3 (ipykernel)",
   "language": "python",
   "name": "python3"
  },
  "language_info": {
   "codemirror_mode": {
    "name": "ipython",
    "version": 3
   },
   "file_extension": ".py",
   "mimetype": "text/x-python",
   "name": "python",
   "nbconvert_exporter": "python",
   "pygments_lexer": "ipython3",
   "version": "3.13.5"
  }
 },
 "nbformat": 4,
 "nbformat_minor": 5
}
