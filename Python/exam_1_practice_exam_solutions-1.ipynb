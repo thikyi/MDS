{
 "cells": [
  {
   "cell_type": "markdown",
   "id": "26d9a982-20a1-4a79-a245-178b86d617a7",
   "metadata": {},
   "source": [
    "# Exam 1 Practice Exam (Solutions) #\n",
    "\n",
    "The exam will be issued on Canvas via a Jupyter notebook, in the same style as all the assignments.\n",
    "You will have the entire week to start the exam, but once started, you'll have two hours to complete it.\n",
    "The content will be designed to be completable within that time.\n",
    "The questions will be a mix of smaller problems and larger problems, with a strong emphasis on writing code to solve problems.\n",
    "The exam will cover the first four weeks of material.\n",
    "\n",
    "This practice exam does not cover anything not covered by the assignments in the first four weeks.\n",
    "The intention with this practice exam is to provide more practice of these concepts.\n",
    "\n",
    "##  Problem 1 ##\n",
    "\n",
    "In the next cell, write a Python expression which will compute `(1 + 3)` to the 14th power."
   ]
  },
  {
   "cell_type": "code",
   "execution_count": null,
   "id": "2ac25502-dd1d-4c14-a70b-460dd2e5f1eb",
   "metadata": {},
   "outputs": [],
   "source": [
    "(1 + 3) ** 14"
   ]
  },
  {
   "cell_type": "markdown",
   "id": "1172330c-5630-4039-afa2-95c396a87585",
   "metadata": {},
   "source": [
    "## Problem 2 ##\n",
    "\n",
    "In the next cell, define a function named `concat`, which will take two strings, concatenate them together, and return a new string.\n",
    "Your `concat` should work according to the provided example calls."
   ]
  },
  {
   "cell_type": "code",
   "execution_count": null,
   "id": "21bfdf44-1810-48b3-a5e3-54ab413b2fba",
   "metadata": {},
   "outputs": [],
   "source": [
    "def concat(s1, s2):\n",
    "    return s1 + s2\n",
    "\n",
    "print(concat(\"foo\", \"bar\")) # should print \"foobar\"\n",
    "print(concat(\"a\", \"b\")) # should print \"ab\""
   ]
  },
  {
   "cell_type": "markdown",
   "id": "c520b04f-0921-49a9-86d6-a115a91df5fe",
   "metadata": {},
   "source": [
    "## Problem 3 ##\n",
    "\n",
    "According to [Ohm's Law](https://en.wikipedia.org/wiki/Ohm%27s_law), one can compute voltage by multiplying the amount of electrical current by resistance, according to the following formula:\n",
    "\n",
    "```\n",
    "V = IR\n",
    "```\n",
    "\n",
    "...where the variables represent:\n",
    "\n",
    "- `V`: voltage\n",
    "- `I`: current (measured in amps)\n",
    "- `R`: resistance (measured in ohms)\n",
    "\n",
    "In the next cell, define a function named `compute_voltage` which will take the current and resistance, and return the voltage.\n",
    "Your `compute_voltage` should work according to the provided example calls."
   ]
  },
  {
   "cell_type": "code",
   "execution_count": null,
   "id": "0b591d2f-d59a-482a-b375-1aba45602516",
   "metadata": {},
   "outputs": [],
   "source": [
    "def compute_voltage(i, r):\n",
    "    return i * r\n",
    "\n",
    "print(compute_voltage(3.1, 1000)) # should print 3100.0\n",
    "print(compute_voltage(0.02, 10)) # should print 0.2"
   ]
  },
  {
   "cell_type": "markdown",
   "id": "75a90e46-df17-4d82-a9d0-832fef00199f",
   "metadata": {},
   "source": [
    "## Problem 4 ##\n",
    "\n",
    "Assume a function named `mystery` is defined, which takes an `int`, `str`, and `float`, in that order.\n",
    "In the next cell, call `mystery` with the parameters `3`, `\"foo\"`, and `1.5`.\n",
    "Note that this cell isn't expected to run correctly because `mystery` isn't actually defined anywhere, but you can pretend `mystery` is defined."
   ]
  },
  {
   "cell_type": "code",
   "execution_count": null,
   "id": "042609bb-42ea-4e0f-b588-1ad08b6497fc",
   "metadata": {},
   "outputs": [],
   "source": [
    "mystery(3, \"foo\", 1.5)"
   ]
  },
  {
   "cell_type": "markdown",
   "id": "00472647-c289-43a7-a913-331300e419c8",
   "metadata": {},
   "source": [
    "## Problem 5 ##\n",
    "\n",
    "If you attempted to run the Python code snippet in the next cell, it would crash.\n",
    "In your own words in a comment, explain why."
   ]
  },
  {
   "cell_type": "code",
   "execution_count": null,
   "id": "185c45ef-5c9b-40e4-8576-b567f3664cac",
   "metadata": {},
   "outputs": [],
   "source": [
    "\"foo\" + 5\n",
    "# Python doesn't allow + to work with a string and an int"
   ]
  },
  {
   "cell_type": "markdown",
   "id": "33c7b666-44db-4252-b6e5-ccbae2bf872f",
   "metadata": {},
   "source": [
    "## Problem 6 ##\n",
    "\n",
    "Consider the function calls in the next cell.\n",
    "Define a function which will run with these calls.\n",
    "As a hint, the function internally adds all of its parameters together and returns that sum."
   ]
  },
  {
   "cell_type": "code",
   "execution_count": null,
   "id": "49fec3f7-9acb-4bfe-b013-1e9fcca7e9b5",
   "metadata": {},
   "outputs": [],
   "source": [
    "def problem_6(x, y=2):\n",
    "    return x + y\n",
    "    \n",
    "print(problem_6(1, 3)) # should print 4\n",
    "print(problem_6(x=2, y=3)) # should print 5\n",
    "print(problem_6(y=4, x=8)) # should print 12\n",
    "print(problem_6(7, y=2)) # should print 9\n",
    "print(problem_6(1)) # should print 3\n",
    "print(problem_6(x=4)) # should print 6"
   ]
  },
  {
   "cell_type": "markdown",
   "id": "e4eea5a7-62f1-4df5-bcf1-2e7305b080dd",
   "metadata": {},
   "source": [
    "## Problem 7 ##\n",
    "\n",
    "In the next cell, define a function named `access`, which will take (in this order):\n",
    "\n",
    "1. A list of values\n",
    "2. An integer named `n`\n",
    "3. Some other value named `default`\n",
    "\n",
    "If the integer `n` is within bounds of the list, `access` should return the list element at that index.\n",
    "If, however, `n` is not within bounds, then instead `access` should return whatever value `default` has."
   ]
  },
  {
   "cell_type": "code",
   "execution_count": null,
   "id": "11a334a9-101f-4962-ab08-65652308a332",
   "metadata": {},
   "outputs": [],
   "source": [
    "def access(lst, n, default):\n",
    "    if n >= 0 and n < len(lst):\n",
    "        return lst[n]\n",
    "    else:\n",
    "        return default\n",
    "        \n",
    "print(access([\"foo\", \"bar\"], 0, 7)) # should print \"foo\"\n",
    "print(access([\"alpha\", \"beta\"], 1, 8)) # should print \"beta\"\n",
    "print(access([\"apple\", \"pear\"], 2, 9)) # should print 9\n",
    "print(access([\"some string\"], 0, 10)) # should print \"some string\"\n",
    "print(access([\"some other string\"], -1, 11)) # should print 11"
   ]
  },
  {
   "cell_type": "markdown",
   "id": "f1d4c689-c5ff-406a-a676-754711e7bb0d",
   "metadata": {},
   "source": [
    "## Problem 8 ##\n",
    "\n",
    "Consider the code in the next cell.\n",
    "Define anything that is needed to make this code print out the values shown in the comments.\n",
    "As a hint, it's expected that you will need to define a class with a constructor, one or more fields, and one or more methods."
   ]
  },
  {
   "cell_type": "code",
   "execution_count": null,
   "id": "d9bbb13c-3a12-4f44-ac3b-1c955ff71003",
   "metadata": {},
   "outputs": [],
   "source": [
    "class Foo:\n",
    "    def __init__(self, value):\n",
    "        self.value = value\n",
    "    def add(self, other):\n",
    "        return self.value + other\n",
    "    def sub(self, other):\n",
    "        return self.value - other\n",
    "\n",
    "f1 = Foo(3)\n",
    "f2 = Foo(5)\n",
    "\n",
    "print(f1.value) # should print 3\n",
    "print(f2.value) # should print 5\n",
    "\n",
    "print(f1.add(4)) # should print 7\n",
    "print(f2.add(4)) # should print 9\n",
    "\n",
    "print(f1.sub(1)) # should print 2\n",
    "print(f2.sub(1)) # should print 4"
   ]
  },
  {
   "cell_type": "markdown",
   "id": "2e011f09-c0fd-4070-ae17-150fff030e39",
   "metadata": {},
   "source": [
    "## Problem 9 ##\n",
    "\n",
    "In the next cell, define a wrapper around lists, which has methods for:\n",
    "\n",
    "- Accessing an element at a given position\n",
    "- Modifying an element at a given position\n",
    "- Getting the length of the list\n",
    "- Adding an element to the end of the list"
   ]
  },
  {
   "cell_type": "code",
   "execution_count": null,
   "id": "18ec9c45-a227-4a6a-87ff-bd3e34b13877",
   "metadata": {},
   "outputs": [],
   "source": [
    "class ListWrapper:\n",
    "    def __init__(self, lst):\n",
    "        self.lst = lst\n",
    "    def length(self):\n",
    "        return len(self.lst)\n",
    "    def access(self, n):\n",
    "        return self.lst[n]\n",
    "    def modify(self, n, new):\n",
    "        self.lst[n] = new\n",
    "    def add_element(self, elem):\n",
    "        self.lst.append(elem)\n",
    "\n",
    "l1 = ListWrapper([])\n",
    "l2 = ListWrapper([\"foo\", \"bar\"])\n",
    "\n",
    "print(l1.length()) # should print 0\n",
    "print(l2.length()) # should print 2\n",
    "\n",
    "print()\n",
    "print(l2.access(0)) # should print \"foo\"\n",
    "print(l2.access(1)) # should print \"bar\"\n",
    "\n",
    "print()\n",
    "l2.modify(0, \"apple\")\n",
    "print(l2.access(0)) # should print \"apple\"\n",
    "print(l2.access(1)) # should print \"bar\"\n",
    "\n",
    "print()\n",
    "l1.add_element(7)\n",
    "print(l1.length()) # should print 1\n",
    "print(l1.access(0)) # should print 7"
   ]
  },
  {
   "cell_type": "markdown",
   "id": "81913a6a-9508-4716-bb1a-77328a23ad8d",
   "metadata": {},
   "source": [
    "## Problem 10 ##\n",
    "\n",
    "In the next cell, define an `add_amount` method, which will take:\n",
    "\n",
    "- A list of numbers\n",
    "- Some number to add, `n`\n",
    "\n",
    "`add_amount` should return a new list of the same length, where each element has the value of the corresponding element in the input list, plus `n`.\n",
    "For full credit, `add_amount` should use a `for...in` loop, and list's `append` method."
   ]
  },
  {
   "cell_type": "code",
   "execution_count": null,
   "id": "92e65fa5-c2d1-4194-addb-5a65d05b5ad7",
   "metadata": {},
   "outputs": [],
   "source": [
    "def add_amount(lst, n):\n",
    "    retval = []\n",
    "    for e in lst:\n",
    "        retval.append(e + n)\n",
    "    return retval\n",
    "    \n",
    "print(add_amount([0, 1, 2], 1)) # should print [1, 2, 3]\n",
    "print(add_amount([], 2)) # should print []\n",
    "print(add_amount([7, 2, 8, 3], 3)) # should print [10, 5, 11, 6]"
   ]
  },
  {
   "cell_type": "markdown",
   "id": "2a9754a2-61df-4ac9-bdf8-e14113bf1f8b",
   "metadata": {},
   "source": [
    "## Problem 11 ##\n",
    "\n",
    "In the next cell, define an `add_amount_comprehension` method, which will take:\n",
    "\n",
    "- A list of numbers\n",
    "- Some number to add, `n`\n",
    "\n",
    "`add_amount_comprehension` should return a new list of the same length, where each element has the value of the corresponding element in the input list, plus `n`.\n",
    "For full credit, `add_amount_comprehension` should use a list comprehension to consruct this new list."
   ]
  },
  {
   "cell_type": "code",
   "execution_count": null,
   "id": "f26c75fa-b61f-4d7e-b582-1a1b6e24850c",
   "metadata": {},
   "outputs": [],
   "source": [
    "def add_amount_comprehension(lst, n):\n",
    "    return [e + n for e in lst]\n",
    "    \n",
    "print(add_amount_comprehension([0, 1, 2], 1)) # should print [1, 2, 3]\n",
    "print(add_amount_comprehension([], 2)) # should print []\n",
    "print(add_amount_comprehension([7, 2, 8, 3], 3)) # should print [10, 5, 11, 6]"
   ]
  },
  {
   "cell_type": "markdown",
   "id": "1d756ca1-19f1-4a8c-a03f-31ae58ed4319",
   "metadata": {},
   "source": [
    "## Problem 12 ##\n",
    "\n",
    "In the next cell, define a `factorial_values` function, which will take some integer `n`.\n",
    "You may assume `n >= 0`.\n",
    "`factorial_values` will return a list of numbers, each the factorial of every number between `0` and `n`, inclusive."
   ]
  },
  {
   "cell_type": "code",
   "execution_count": null,
   "id": "269f5ac1-368d-4d17-8d0b-dda2dc9bfdcf",
   "metadata": {},
   "outputs": [],
   "source": [
    "def factorial_values(n):\n",
    "    retval = [1] # 0! = 1\n",
    "    for cur_value in range(1, n + 1):\n",
    "        retval.append(retval[cur_value - 1] * cur_value)\n",
    "    return retval\n",
    "\n",
    "print(factorial_values(0)) # should print [1]\n",
    "print(factorial_values(1)) # should print [1, 1]\n",
    "print(factorial_values(2)) # should print [1, 1, 2]\n",
    "print(factorial_values(3)) # should print [1, 1, 2, 6]\n",
    "print(factorial_values(4)) # should print [1, 1, 2, 6, 24]"
   ]
  },
  {
   "cell_type": "markdown",
   "id": "50ee6e34-863d-4c34-baad-f6b405376f31",
   "metadata": {},
   "source": [
    "## Problem 13 ##\n",
    "\n",
    "Consider the code in the next cell.\n",
    "Define any code necessary to get this code to work, and produce the output expected from the comments."
   ]
  },
  {
   "cell_type": "code",
   "execution_count": null,
   "id": "4460e452-6f27-444c-9241-0eecbed20a38",
   "metadata": {},
   "outputs": [],
   "source": [
    "def problem_13(a, b, f):\n",
    "    return f(a, b)\n",
    "    \n",
    "print(problem_13(3, 4, lambda a, b: a + b)) # should print 7\n",
    "print(problem_13(5, 1, lambda x, y: x - y)) # should print 4\n",
    "print(problem_13(4, 5, lambda a, b: a * b)) # should print 20"
   ]
  },
  {
   "cell_type": "markdown",
   "id": "04a60c41-f5f2-4390-95b8-ec23bcd6d48f",
   "metadata": {},
   "source": [
    "## Problem 14 ##\n",
    "\n",
    "In the next cell, define a `get_or_else` function, which will take:\n",
    "\n",
    "- A reference to a dictionary\n",
    "- A key\n",
    "- Some value named `default`\n",
    "\n",
    "If the dictionary contains the key, then `get_or_else` should return the value for that key.\n",
    "If the dictionary does **not** contain the key, then `get_or_else` should return the value of `default`."
   ]
  },
  {
   "cell_type": "code",
   "execution_count": null,
   "id": "7ec0469d-8f93-4b7a-baf7-63c6edb12fac",
   "metadata": {},
   "outputs": [],
   "source": [
    "def get_or_else(dictionary, key, default):\n",
    "    if key in dictionary:\n",
    "        return dictionary[key]\n",
    "    else:\n",
    "        return default\n",
    "\n",
    "print(get_or_else({\"a\" : \"b\"}, \"a\", 7)) # should print \"b\"\n",
    "print(get_or_else({\"a\" : \"b\"}, \"b\", 8)) # should print 8\n",
    "print(get_or_else({\"a\" : \"b\"}, \"c\", 9)) # should print 9"
   ]
  },
  {
   "cell_type": "markdown",
   "id": "459563ab-9dd5-48a0-b8ff-599f37158a13",
   "metadata": {},
   "source": [
    "## Problem 15 ##\n",
    "\n",
    "In the next cell, define a `to_dictionary` function, which will take a list of 2-tuples (pairs).\n",
    "The first element in each tuple should be treated as a key, and the second element should be treated as a value.\n",
    "Put the respective keys with their values into a new dictionary, which should be returned.\n",
    "If multiple tuples contain the same key, then the value for the **last** version should be used."
   ]
  },
  {
   "cell_type": "code",
   "execution_count": null,
   "id": "3e80d971-fc43-4eb5-a145-88d434e69f31",
   "metadata": {},
   "outputs": [],
   "source": [
    "def to_dictionary(lst):\n",
    "    retval = {}\n",
    "    for k, v in lst:\n",
    "        retval[k] = v\n",
    "    return retval\n",
    "\n",
    "print(to_dictionary([(\"a\", 3), (\"b\", 4)])) # should print {'a': 3, 'b': 4}\n",
    "print(to_dictionary([(\"a\", 3), (\"a\", 4)])) # should print {'a': 4}\n",
    "print(to_dictionary([])) # should print {}"
   ]
  },
  {
   "cell_type": "markdown",
   "id": "99bac15c-681a-4c1b-aa22-cedbea8599ed",
   "metadata": {},
   "source": [
    "## Problem 16 ##\n",
    "\n",
    "In the next cell, define a `to_dictionary_first` function, which will take a list of 2-tuples (pairs).\n",
    "The first element in each tuple should be treated as a key, and the second element should be treated as a value.\n",
    "Put the respective keys with their values into a new dictionary, which should be returned.\n",
    "If multiple tuples contain the same key, then the value for the **first** version should be used."
   ]
  },
  {
   "cell_type": "code",
   "execution_count": null,
   "id": "dc41cf9f-c15d-49af-a710-c5560528fb1b",
   "metadata": {},
   "outputs": [],
   "source": [
    "def to_dictionary_first(lst):\n",
    "    retval = {}\n",
    "    for k, v in lst:\n",
    "        if k not in retval:\n",
    "            retval[k] = v\n",
    "    return retval\n",
    "\n",
    "print(to_dictionary_first([(\"a\", 3), (\"b\", 4)])) # should print {'a': 3, 'b': 4}\n",
    "print(to_dictionary_first([(\"a\", 3), (\"a\", 4)])) # should print {'a': 3}\n",
    "print(to_dictionary_first([])) # should print {}"
   ]
  },
  {
   "cell_type": "markdown",
   "id": "5c4f6648-20af-4df3-83ad-64aab88f32ec",
   "metadata": {},
   "source": [
    "## Problem 17 ##\n",
    "\n",
    "In the next cell, define a function named `first_rest`, which will take a list.\n",
    "`first_rest` should return a 2-tuple, where the first element in the tuple is the first element of the input list, and the second element of the tuple is a list of all remaining elements in the input list.\n",
    "For full credit, you **must** use destructuring inside `first_rest`.\n",
    "You may assume that the list passed to `first_rest` is non-empty (i.e., its length is at least 1)."
   ]
  },
  {
   "cell_type": "code",
   "execution_count": null,
   "id": "33c0c352-886d-4cd7-a97a-7d2af1e83d42",
   "metadata": {},
   "outputs": [],
   "source": [
    "def first_rest(lst):\n",
    "    first, *rest = lst\n",
    "    return first, rest\n",
    "\n",
    "print(first_rest([1, 2, 3])) # should print (1, [2, 3])\n",
    "print(first_rest([\"foo\", \"bar\", \"baz\"])) # should print ('foo', ['bar', 'baz'])\n",
    "print(first_rest([\"apple\"])) # should print ('apple', [])\n",
    "print(first_rest([3])) # should print (3, [])"
   ]
  },
  {
   "cell_type": "markdown",
   "id": "0ff1f666-9834-4357-8823-6687279a8b61",
   "metadata": {},
   "source": [
    "## Problem 18 ##\n",
    "\n",
    "In the next cell, define a function named `map_values` which will take (in order):\n",
    "\n",
    "1. A dictionary\n",
    "2. A `lambda`, which takes one parameter and returns something else\n",
    "\n",
    "`map_values` should return a new dictionary, where the keys all come from the original input dictionary.\n",
    "However, for the values, the values are the output of the `lambda`, applied to each value from the original dictionary."
   ]
  },
  {
   "cell_type": "code",
   "execution_count": null,
   "id": "aebbee99-e8da-46df-b90d-3d23b3e7027b",
   "metadata": {},
   "outputs": [],
   "source": [
    "def map_values(dictionary, func):\n",
    "    retval = {}\n",
    "    for key, value in dictionary.items():\n",
    "        retval[key] = func(value)\n",
    "    return retval\n",
    "\n",
    "print(map_values({ \"a\" : \"apple\", \"b\" : \"pear\" }, lambda s: len(s))) # should print {'a': 5, 'b': 4}\n",
    "print(map_values({ \"a\" : \"apple\", \"b\" : \"pear\" }, lambda s: s + \"foo\")) # should print {'a': 'applefoo', 'b': 'pearfoo'}\n",
    "print(map_values({ \"foo\" : 3, \"bar\" : 5, \"baz\" : 1 }, lambda x: x + 5)) # should print {'foo': 8, 'bar': 10, 'baz': 6}"
   ]
  },
  {
   "cell_type": "markdown",
   "id": "c9982e0c-b8c1-4a0c-8d48-e77a1707c5cd",
   "metadata": {},
   "source": [
    "## Problem 19 ##\n",
    "\n",
    "In the next cell, define a function named `filter_keys`, which will take:\n",
    "\n",
    "1. A dictionary\n",
    "2. A `lambda`, which takes one parameter and returns a Boolean value\n",
    "\n",
    "`filter_keys` should return a new dictionary, where the keys and values all come from the original input dictionary.\n",
    "However, only keys for which the `lambda` returned `True` should be retained in the output dictionary."
   ]
  },
  {
   "cell_type": "code",
   "execution_count": null,
   "id": "7e01238e-d20a-4a4f-9ba5-aeeb7ac34486",
   "metadata": {},
   "outputs": [],
   "source": [
    "def filter_keys(dictionary, func):\n",
    "    retval = {}\n",
    "    for key, value in dictionary.items():\n",
    "        if func(key):\n",
    "            retval[key] = value\n",
    "    return retval\n",
    "\n",
    "print(filter_keys({ \"a\" : \"apple\", \"b\": \"pear\" }, lambda s: s == \"a\")) # should print {'a': 'apple'}\n",
    "print(filter_keys({ \"foo\" : \"bar\", \"baz\" : \"blah\", \"alpha\" : \"beta\", \"gamma\" : \"delta\" }, lambda s: len(s) == 5)) # should print {'alpha': 'beta', 'gamma': 'delta'}\n",
    "print(filter_keys({ 3 : \"foo\", 5 : \"bar\", 1 : \"baz\", 7 : \"blah\"}, lambda k: k < 5)) # should print {3: 'foo', 1: 'baz'}"
   ]
  },
  {
   "cell_type": "markdown",
   "id": "0a0b5200-3304-4017-b66a-a8e7d3bb3e8a",
   "metadata": {},
   "source": [
    "## Problem 20 ##\n",
    "\n",
    "The next cell defines the variables `a` and `b`, which both hold integers.\n",
    "From there, it uses a combination of calls to `str` and string concatenation to construct a new string.\n",
    "Rewrite this code to instead use an f-string."
   ]
  },
  {
   "cell_type": "code",
   "execution_count": null,
   "id": "df1335f1-d064-42e6-93b8-751f28dd62ac",
   "metadata": {},
   "outputs": [],
   "source": [
    "a = 7\n",
    "b = 3\n",
    "#some_string = \"foo: \" + str(a) + \"; bar: \" + str(b) + \".\"\n",
    "some_string = f\"foo: {a}; bar: {b}.\"\n",
    "print(some_string) # prints foo: 7; bar: 3."
   ]
  }
 ],
 "metadata": {
  "kernelspec": {
   "display_name": "Python 3 (ipykernel)",
   "language": "python",
   "name": "python3"
  },
  "language_info": {
   "codemirror_mode": {
    "name": "ipython",
    "version": 3
   },
   "file_extension": ".py",
   "mimetype": "text/x-python",
   "name": "python",
   "nbconvert_exporter": "python",
   "pygments_lexer": "ipython3",
   "version": "3.13.5"
  }
 },
 "nbformat": 4,
 "nbformat_minor": 5
}
