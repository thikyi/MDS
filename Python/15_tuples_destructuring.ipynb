{
 "cells": [
  {
   "cell_type": "markdown",
   "id": "b6cab26d-e44f-4ce0-ae8e-6c5f63552d2a",
   "metadata": {},
   "source": [
    "# Assignment 15: Tuples and Destructuring #\n",
    "\n",
    "### Goals for this Assignment ###\n",
    "\n",
    "By the time you have completed this assignment, you should be able to:\n",
    "\n",
    "- Create tuples via commas (and possibly parentheses)\n",
    "- Access tuple elements using indexing (`[]`)\n",
    "- Access tuple elements using destructuring\n",
    "- Access elements of lists and dictionaries using destructuring\n",
    "\n",
    "## Step 1: Create Some Tuples and Access Elements of Them ##\n",
    "\n",
    "### Background: Tuples ###\n",
    "\n",
    "Python, as well as many programming languages, has built-in support for [tuples](https://en.wikipedia.org/wiki/Tuple), which come straight from mathematics.\n",
    "In plain English, a tuple is a single piece of data which holds other pieces of data.\n",
    "This is much like a list, a dictionary, or a class containing fields.\n",
    "However, tuples in Python have a few distinctions:\n",
    "\n",
    "- The number of fields in a tuple is fixed at the time the tuple is created.  We cannot add or remove fields from an existing tuple.  If you wanted to add or remove fields, you'd instead need to create a new tuple reflecting whatever changes you wanted.\n",
    "- Tuples are _immutable_, meaning you may not modify the contents of the tuple after it is created.\n",
    "\n",
    "Tuples in Python are created via the use of commas, and fields of a tuple can be accessed using list-like indexing.\n",
    "The following cell shows some examples."
   ]
  },
  {
   "cell_type": "code",
   "execution_count": 1,
   "id": "1de65014-10a8-40b8-927e-774c275fd2c8",
   "metadata": {},
   "outputs": [
    {
     "name": "stdout",
     "output_type": "stream",
     "text": [
      "1\n",
      "True\n",
      "foo\n",
      "(1, True, 'foo')\n",
      "\n",
      "hello\n",
      "False\n",
      "('hello', False)\n"
     ]
    }
   ],
   "source": [
    "t1 = 1, True, \"foo\"\n",
    "t2 = \"hello\", False\n",
    "\n",
    "print(t1[0]) # prints 1\n",
    "print(t1[1]) # prints True\n",
    "print(t1[2]) # prints \"foo\"\n",
    "print(t1) # prints (1, True, \"foo\")\n",
    "\n",
    "print()\n",
    "print(t2[0]) # prints \"hello\"\n",
    "print(t2[1]) # prints False\n",
    "print(t2) # prints (\"hello\", False)"
   ]
  },
  {
   "cell_type": "markdown",
   "id": "8f94e7d5-21d6-480a-b220-26ea5c4dd2db",
   "metadata": {},
   "source": [
    "To explain the above code a bit, using comma bundles values together in a tuple.\n",
    "The tuple itself is a single data structure holding all the elements bound together with commas.\n",
    "With this in mind, `1, True, \"foo\"` creates a tuple holding the values `1`, `True`, and `\"foo\"` in that order.\n",
    "We can then access these individual elements in the tuple via list-like indexing, where the first element (`1`) is at index `0`, the second element (`True`) is at index `1`, and the third element (`\"foo\"`) is at index `2`.\n",
    "Finally, if we print out the whole tuple, the whole contents are enclosed in parentheses (`()`).\n",
    "\n",
    "Since tuples are immutable, you cannot change the values at any of these indecies.\n",
    "For example, the code in the following cell gives a `TypeError`:"
   ]
  },
  {
   "cell_type": "code",
   "execution_count": 2,
   "id": "4dd8110d-483b-4c2d-ba53-efe616cc4197",
   "metadata": {},
   "outputs": [
    {
     "ename": "TypeError",
     "evalue": "'tuple' object does not support item assignment",
     "output_type": "error",
     "traceback": [
      "\u001b[1;31m---------------------------------------------------------------------------\u001b[0m",
      "\u001b[1;31mTypeError\u001b[0m                                 Traceback (most recent call last)",
      "Cell \u001b[1;32mIn[2], line 2\u001b[0m\n\u001b[0;32m      1\u001b[0m t3 \u001b[38;5;241m=\u001b[39m \u001b[38;5;241m17\u001b[39m, \u001b[38;5;124m\"\u001b[39m\u001b[38;5;124mfoo\u001b[39m\u001b[38;5;124m\"\u001b[39m\n\u001b[1;32m----> 2\u001b[0m t3[\u001b[38;5;241m0\u001b[39m] \u001b[38;5;241m=\u001b[39m \u001b[38;5;241m1\u001b[39m\n",
      "\u001b[1;31mTypeError\u001b[0m: 'tuple' object does not support item assignment"
     ]
    }
   ],
   "source": [
    "t3 = 17, \"foo\"\n",
    "t3[0] = 1"
   ]
  },
  {
   "cell_type": "markdown",
   "id": "5c8f8a3e-971d-4d6a-a92b-fa25acda8ccd",
   "metadata": {},
   "source": [
    "The specific error states that tuple objects do not support item assignment.\n",
    "\n",
    "To do something akin to what the above code was attempting to do, we instead would need to make another tuple reflecting the change, as shown in the following code:"
   ]
  },
  {
   "cell_type": "code",
   "execution_count": 3,
   "id": "3888837c-d846-43da-b953-cea6e1eba908",
   "metadata": {},
   "outputs": [
    {
     "name": "stdout",
     "output_type": "stream",
     "text": [
      "(17, 'foo', False)\n",
      "(0, 'foo', False)\n"
     ]
    }
   ],
   "source": [
    "t3 = 17, \"foo\", False\n",
    "t4 = 0, t3[1], t3[2]\n",
    "print(t3)\n",
    "print(t4)"
   ]
  },
  {
   "cell_type": "markdown",
   "id": "55e94afc-d559-4cfb-8746-3f43a7965bdf",
   "metadata": {},
   "source": [
    "That is, if we want a tuple that holds the same contents as another tuple except for one field that is different, we create a new tuple that holds a copy of the original tuple's fields, but has a different value for the one field we want to change.\n",
    "\n",
    "While the above examples work and reflect common Python coding practices, it's fairly common to see people put parentheses around the creation of a tuple.\n",
    "This doesn't work any differently from putting any other expression in parentheses, in that it just says that some expression should be treated at a higher precedence than another (following the same rules of arithmetic).\n",
    "For example:"
   ]
  },
  {
   "cell_type": "code",
   "execution_count": 4,
   "id": "e154fd16-cba9-452b-b3a7-776ea173c10a",
   "metadata": {},
   "outputs": [
    {
     "name": "stdout",
     "output_type": "stream",
     "text": [
      "1\n",
      "foo\n",
      "False\n",
      "(1, 'foo', False)\n"
     ]
    }
   ],
   "source": [
    "with_parens = (1, \"foo\", False)\n",
    "print(with_parens[0])\n",
    "print(with_parens[1])\n",
    "print(with_parens[2])\n",
    "print(with_parens)"
   ]
  },
  {
   "cell_type": "markdown",
   "id": "28ac58d3-dc5f-4543-9775-b7b32dc9b7ab",
   "metadata": {},
   "source": [
    "Depending on the specific context of where the code is written, adding parentheses can improve the readability of the code.\n",
    "In some contexts, the parentheses are even necessary due to syntactic ambiguities that arise without them.\n",
    "For example, if we call:\n",
    "\n",
    "```python\n",
    "foo(1, 2, 3)\n",
    "```\n",
    "\n",
    "Syntactically speaking, this could mean one of two things, based on the Python we've seen so far:\n",
    "\n",
    "1. Call the `foo` function with actual parameters `1`, `2`, and `3`\n",
    "2. Create a tuple holding the values `1`, `2`, and `3`, and then call the `foo` function with this single tuple as `foo`'s parameter\n",
    "\n",
    "Ambiguities like this are generally very bad for a programming language, because we need to be very precise with what our meaning is.\n",
    "Fortunately, Python resolves this ambiguity by always choosing the first interpretation; that is, we are passing three parameters to the `foo` function, not creating a tuple containing three elements and passing the tuple to `foo`.\n",
    "This means that if we want to instead apply the second interpretation where a tuple is passed, we need to apply an extra set of parentheses, like so:\n",
    "\n",
    "```python\n",
    "foo((1, 2, 3))\n",
    "```\n",
    "\n",
    "As an aside, most programming languages which support tuples require parentheses when tuples are created, no matter what.\n",
    "Python here, relatively speaking, is the oddball.\n",
    "\n",
    "### Try this Yourself ###\n",
    "\n",
    "The following cell contains a number of `print` statements, with comments showing what the results of the `print`s are expected to be.\n",
    "Define tuples so that the `print` statements produce the expected outputs.\n",
    "Leave the `print`s in place in order to test your code."
   ]
  },
  {
   "cell_type": "code",
   "execution_count": 5,
   "id": "ec90c4e2-d3d7-43f4-8420-6dfb6d308cda",
   "metadata": {},
   "outputs": [
    {
     "name": "stdout",
     "output_type": "stream",
     "text": [
      "True\n",
      "False\n",
      "5\n",
      "8\n",
      "9\n",
      "foo\n",
      "bar\n"
     ]
    }
   ],
   "source": [
    "# Define your tuples and variables here.  Leave the prints below to test your code.\n",
    "booleans = True,False\n",
    "integers = 5,8,9\n",
    "strings = \"foo\",\"bar\"\n",
    "\n",
    "print(booleans[0]) # should print True\n",
    "print(booleans[1]) # should print False\n",
    "\n",
    "print(integers[0]) # should print 5\n",
    "print(integers[1]) # should print 8\n",
    "print(integers[2]) # should print 9\n",
    "\n",
    "print(strings[0]) # should print \"foo\"\n",
    "print(strings[1]) # should print \"bar\""
   ]
  },
  {
   "cell_type": "markdown",
   "id": "7110bbf2-636c-4da4-9360-1d9597a63d3b",
   "metadata": {},
   "source": [
    "## Step 2: Use Destructuring to Access Tuple Elements ##\n",
    "\n",
    "### Background: Destructuring ###\n",
    "\n",
    "While the indexing syntax previously-shown works to access individual tuple elements, this can quickly become inconvenient, especially when tuples grow quite large.\n",
    "To understand why, it's important to know the context behind how tuples commonly get used in practice, versus lists.\n",
    "Because lists have variable length, we generally cannot rely on a list having a specific length.\n",
    "Lists are usually used to represent something of a size that is unknown before the program runs.\n",
    "All this means that it's atypical to see a situation wherein any one particular index of a list has any special meaning, so consequently it is not that common to manipulate lists at individual indecies, at least outside of a loop.\n",
    "Phrased another way, we don't usually see hardcoded list indecies like `some_list[5]`, but rather `some_list[index]`, where `index` is an integer.\n",
    "Even then, because of `for...in`, it's still somewhat uncommon to even see `some_list[index]`.\n",
    "\n",
    "In contrast, because tuples have fixed length and this length is known when the tuple is created, it's usually the case that each specific index has a particular meaning associated with it.\n",
    "For example, consider the following `sum_diff` function, which is used to simultaneously compute the sum and the difference of two values:"
   ]
  },
  {
   "cell_type": "code",
   "execution_count": 6,
   "id": "55919e46-c964-47a5-9c83-f2a9e33cc826",
   "metadata": {},
   "outputs": [
    {
     "name": "stdout",
     "output_type": "stream",
     "text": [
      "8\n",
      "4\n"
     ]
    }
   ],
   "source": [
    "def sum_diff(x, y):\n",
    "    return (x + y, x - y)\n",
    "\n",
    "tup = sum_diff(6, 2)\n",
    "added = tup[0]\n",
    "subtracted = tup[1]\n",
    "print(added)\n",
    "print(subtracted)"
   ]
  },
  {
   "cell_type": "markdown",
   "id": "ee4cc55b-3c07-46f5-be27-d30c2154a545",
   "metadata": {},
   "source": [
    "As shown, `sum_diff` returns a tuple.\n",
    "Tuples are very commonly used in this manner, in order to effectively return multiple values from a function.\n",
    "In reality, only one value is returned (the tuple), but since tuples can contain any number of elements, this gets around the limitation where we can only return one thing.\n",
    "Importantly, this tuple:\n",
    "\n",
    "- Always has length 2\n",
    "- Always puts the sum of `x` and `y` into index `0` of the tuple\n",
    "- Always puts the difference of `x` and `y` into index `1` of the tuple\n",
    "\n",
    "Because each index in this returned tuple has a particular meaning associated with it, it makes sense that we not only want to access the tuple at these indices (necessitating indexing with `[]`), we also use hard-coded indices.\n",
    "For a tuple containing only two elements, this isn't too bad, but this gets uglier as the length of the tuple increases.\n",
    "Also, without looking at any comments or other documentation, it's not clear to the reader why `tup[0]` would be any different than `tup[1]` here.\n",
    "That is, indexing into the tuple doesn't add any information to the reader about what the tuple specifically contains.\n",
    "In the above code, some of that missing context was added by introducing the variables `added` and `subtracted` which are initialized to `tup[0]` and `tup[1]`, respectively.\n",
    "This gives more information to the reader than directly printing out `tup[0]` or `tup[1]`.\n",
    "\n",
    "To address this issue, Python (and many other languages) supports _destructuring_.\n",
    "The idea with destructuring is that we can syntactically break down tuples and access their fields in a very similar way as we constructed the tuple in the first place.\n",
    "To see destructuring in practice, the `sum_diff` example is rewritten below to make use of destructuring."
   ]
  },
  {
   "cell_type": "code",
   "execution_count": 7,
   "id": "e0f6ae22-1e84-43e1-84eb-18a2c0e87dd4",
   "metadata": {},
   "outputs": [
    {
     "name": "stdout",
     "output_type": "stream",
     "text": [
      "8\n",
      "4\n"
     ]
    }
   ],
   "source": [
    "def sum_diff(x, y):\n",
    "    return (x + y, x - y)\n",
    "\n",
    "added, subtracted = sum_diff(6, 2)\n",
    "print(added)\n",
    "print(subtracted)"
   ]
  },
  {
   "cell_type": "markdown",
   "id": "f944f837-8df9-445d-863e-9118f05ca072",
   "metadata": {},
   "source": [
    "As shown, on the lefthand side of the `=`, we now have two new comma-separated variables, namely `added` and `subtracted`.\n",
    "On the righthand side of the `=`, this syntax would _create_ a tuple, but because we are using it on the lefthand side of the `=`, this instead _destructs_ a tuple.\n",
    "Specifically, the fields of the tuple are bound to the variables in the same order they are introduced, leading to what is effectively the same code as the prior example with `sum_diff`.\n",
    "That is, `added` refers to the element in the first field of the tuple returns by `sum_diff`, whereas `subtracted` refers to the element in the second field of this tuple.\n",
    "\n",
    "This use of destructuring has shrunk down the code, and eliminated the need to refer to particular indecies.\n",
    "This also allowed us to immediately give meaningful names to each field of the tuple, providing the reader of the code a bit more context as to what might be happening.\n",
    "(Of course, it's up to us as programmers to ensure our names are meaningful enough to provide this sort of context.)\n",
    "\n",
    "### Try this Yourself ###\n",
    "\n",
    "The following cell defines a number of tuples, and then prints out the values of some variables which are not currently defined.\n",
    "For each tuple, add a line that destructures the tuple to introduce the new variables, so that the prints print out what is expected (shown in the comments).\n",
    "The first one has been done for you as an example."
   ]
  },
  {
   "cell_type": "code",
   "execution_count": 10,
   "id": "05c8fbe7-ca64-42e4-94c3-3d393576d1e1",
   "metadata": {},
   "outputs": [
    {
     "name": "stdout",
     "output_type": "stream",
     "text": [
      "True\n",
      "False\n",
      "1\n",
      "foo\n",
      "bar\n",
      "[4, 2, 5]\n",
      "alpha\n",
      "3.14\n"
     ]
    }
   ],
   "source": [
    "tup1 = (True, False)\n",
    "t, f = tup1\n",
    "print(t) # should print True\n",
    "print(f) # should print False\n",
    "\n",
    "tup2 = (1, \"foo\", \"bar\")\n",
    "number,first_string,second_string =tup2\n",
    "# Add your line that destructures tup2 here\n",
    "\n",
    "print(number) # should print 1\n",
    "print(first_string) # should print \"foo\"\n",
    "print(second_string) # should print \"bar\"\n",
    "\n",
    "tup3 = ([4, 2, 5], \"alpha\", 3.14)\n",
    "# Add your line that destructures tup3 here\n",
    "the_list,the_string,the_float =tup3\n",
    "\n",
    "\n",
    "print(the_list) # should print [4, 2, 5]\n",
    "print(the_string) # should print \"alpha\"\n",
    "print(the_float) # should print 3.14"
   ]
  },
  {
   "cell_type": "markdown",
   "id": "c6d4e89a-c568-444e-b619-a3e399f5ba53",
   "metadata": {},
   "source": [
    "## Step 3: Use Destructuring to Access List and Dictionary Elements ##\n",
    "\n",
    "### Background: Destructuring Lists and Dictionaries, and Collection ###\n",
    "\n",
    "While less common, destructuring can also be used to access elements of a list or dictionary.\n",
    "This is shown in the cell below:"
   ]
  },
  {
   "cell_type": "code",
   "execution_count": 11,
   "id": "ce7ba989-9c86-4ecc-a3f3-0155faaf4425",
   "metadata": {},
   "outputs": [
    {
     "name": "stdout",
     "output_type": "stream",
     "text": [
      "1\n",
      "2\n",
      "3\n",
      "foo\n",
      "bar\n"
     ]
    }
   ],
   "source": [
    "a, b, c = [1, 2, 3]\n",
    "print(a) # prints 1\n",
    "print(b) # prints 2\n",
    "print(c) # prints 3\n",
    "\n",
    "k1, k2 = { \"foo\" : 1, \"bar\" : 2 }\n",
    "print(k1) # prints \"foo\"\n",
    "print(k2) # prints \"bar\""
   ]
  },
  {
   "cell_type": "markdown",
   "id": "6df4cf41-99ac-42b2-a622-5d5b85384da4",
   "metadata": {},
   "source": [
    "For lists, this behavior is consistent with looking at a list as a giant tuple.\n",
    "\n",
    "For dictionaries, the destructuring is based on the keys in the dictionary.\n",
    "The specific ordering used for a dictionary corresponds to the order in which the keys were inserted in the dictionary.\n",
    "When a dictionary is initially created, the order in which keys are specified internally corresponds to the order in which keys are added to a new, empty dictionary.\n",
    "For example, consider the following cell, which destructures a larger dictionary:"
   ]
  },
  {
   "cell_type": "code",
   "execution_count": 12,
   "id": "689b6789-0aea-4415-9f1c-2d0ac25caa1f",
   "metadata": {},
   "outputs": [
    {
     "name": "stdout",
     "output_type": "stream",
     "text": [
      "first\n",
      "second\n",
      "third\n",
      "fourth\n"
     ]
    }
   ],
   "source": [
    "d = { \"first\" : True, \"second\" : False }\n",
    "d[\"third\"] = 2.3\n",
    "d[\"fourth\"] = 4.5\n",
    "w, x, y, z = d\n",
    "print(w) # prints \"first\"\n",
    "print(x) # prints \"second\"\n",
    "print(y) # prints \"third\"\n",
    "print(z) # prints \"fourth\""
   ]
  },
  {
   "cell_type": "markdown",
   "id": "96ae8391-4bfb-41fe-81cc-607cbbd1ba40",
   "metadata": {},
   "source": [
    "As an aside, while Python stores the order in which keys are added to a dictionary, in many map implementations this information is not stored.\n",
    "That is, if you move to another language, you likely would not see behavior like this.\n",
    "\n",
    "Because lists and dictionaries can have arbitrary size, it is often the case that you don't know exactly how long they are ahead of time.\n",
    "This can create problems when it comes to destructuring.\n",
    "For example, say you want to use destructuring to grab the first three elements of a given list and add them, like so:"
   ]
  },
  {
   "cell_type": "code",
   "execution_count": 13,
   "id": "f846a8e7-de37-44c8-be35-f48752dcfbc7",
   "metadata": {},
   "outputs": [
    {
     "name": "stdout",
     "output_type": "stream",
     "text": [
      "11\n"
     ]
    }
   ],
   "source": [
    "def sum_first_three(input_list):\n",
    "    a, b, c = input_list\n",
    "    return a + b + c\n",
    "\n",
    "print(sum_first_three([3, 7, 1]))"
   ]
  },
  {
   "cell_type": "markdown",
   "id": "e6fc6887-57c3-4d21-a1da-ef57142a6a4b",
   "metadata": {},
   "source": [
    "The above code works without an issue.\n",
    "However, let's try calling `sum_first_three` with a list that contains more than three elements:"
   ]
  },
  {
   "cell_type": "code",
   "execution_count": 14,
   "id": "d4c00898-8340-4eb1-8ad1-244ae7795c97",
   "metadata": {},
   "outputs": [
    {
     "ename": "ValueError",
     "evalue": "too many values to unpack (expected 3)",
     "output_type": "error",
     "traceback": [
      "\u001b[1;31m---------------------------------------------------------------------------\u001b[0m",
      "\u001b[1;31mValueError\u001b[0m                                Traceback (most recent call last)",
      "Cell \u001b[1;32mIn[14], line 2\u001b[0m\n\u001b[0;32m      1\u001b[0m \u001b[38;5;66;03m# prior cell needs to be run first in order to define sum_first_three\u001b[39;00m\n\u001b[1;32m----> 2\u001b[0m sum_first_three([\u001b[38;5;241m8\u001b[39m, \u001b[38;5;241m9\u001b[39m, \u001b[38;5;241m0\u001b[39m, \u001b[38;5;241m10\u001b[39m])\n",
      "Cell \u001b[1;32mIn[13], line 2\u001b[0m, in \u001b[0;36msum_first_three\u001b[1;34m(input_list)\u001b[0m\n\u001b[0;32m      1\u001b[0m \u001b[38;5;28;01mdef\u001b[39;00m\u001b[38;5;250m \u001b[39m\u001b[38;5;21msum_first_three\u001b[39m(input_list):\n\u001b[1;32m----> 2\u001b[0m     a, b, c \u001b[38;5;241m=\u001b[39m input_list\n\u001b[0;32m      3\u001b[0m     \u001b[38;5;28;01mreturn\u001b[39;00m a \u001b[38;5;241m+\u001b[39m b \u001b[38;5;241m+\u001b[39m c\n",
      "\u001b[1;31mValueError\u001b[0m: too many values to unpack (expected 3)"
     ]
    }
   ],
   "source": [
    "# prior cell needs to be run first in order to define sum_first_three\n",
    "sum_first_three([8, 9, 0, 10])"
   ]
  },
  {
   "cell_type": "markdown",
   "id": "642cefe4-f657-431b-b081-324e1fe64cf0",
   "metadata": {},
   "source": [
    "If you attempt to run the above code, you'll get a `ValueError`, with the information that there are too many values to unpack.\n",
    "_Unpacking_ is another term for destructuring.\n",
    "This error is basically saying that, from the destructure, we are expecting exactly three elements in `input_list`, but in this case we have more than three.\n",
    "This is considered an error in Python.\n",
    "\n",
    "There is a way around this.\n",
    "We can put `*` in front of the last variable, which will be used to _collect_ any remaining elements in the destructed list into a separate list.\n",
    "For example, consider the following cell:"
   ]
  },
  {
   "cell_type": "code",
   "execution_count": 15,
   "id": "3ef866cc-77ab-4af4-8401-073aea99cd0c",
   "metadata": {},
   "outputs": [
    {
     "name": "stdout",
     "output_type": "stream",
     "text": [
      "1\n",
      "2\n",
      "[3, 4, 5, 6]\n"
     ]
    }
   ],
   "source": [
    "first, second, *rest = [1, 2, 3, 4, 5, 6]\n",
    "print(first) # prints 1\n",
    "print(second) # prints 2\n",
    "print(rest) # prints [3, 4, 5, 6]"
   ]
  },
  {
   "cell_type": "markdown",
   "id": "4580bb9d-9d3e-4fb4-9ded-b5c20e3aed82",
   "metadata": {},
   "source": [
    "As shown, by putting `*` before `rest`, any remaining elements in the list are collected into a new list.\n",
    "This works even if there aren't any remaining elements, as with:"
   ]
  },
  {
   "cell_type": "code",
   "execution_count": 16,
   "id": "207fcebe-a7fd-4a00-bd2e-a0367ad4d1f6",
   "metadata": {},
   "outputs": [
    {
     "name": "stdout",
     "output_type": "stream",
     "text": [
      "1\n",
      "2\n",
      "[]\n"
     ]
    }
   ],
   "source": [
    "a, b, *c = [1, 2]\n",
    "print(a) # prints 1\n",
    "print(b) # prints 2\n",
    "print(c) # prints []"
   ]
  },
  {
   "cell_type": "markdown",
   "id": "092b5534-7b8a-418f-ab4a-7b12139547fb",
   "metadata": {},
   "source": [
    "We can use `*` to rewrite our `sum_first_three` to ignore any list elements after the third element, like so:"
   ]
  },
  {
   "cell_type": "code",
   "execution_count": 17,
   "id": "8cc73baf-78f7-405a-a594-2ffc82c9a8c1",
   "metadata": {},
   "outputs": [
    {
     "name": "stdout",
     "output_type": "stream",
     "text": [
      "17\n"
     ]
    }
   ],
   "source": [
    "def revised_sum_first_three(input_list):\n",
    "    a, b, c, *rest = input_list\n",
    "    return a + b + c\n",
    "\n",
    "print(revised_sum_first_three([8, 9, 0, 10])) # prints 17"
   ]
  },
  {
   "cell_type": "markdown",
   "id": "62043198-c942-48da-a121-1aec5811728a",
   "metadata": {},
   "source": [
    "The above code works, and internally `rest` will be bound to the list `[10]`.\n",
    "However, a bit of a quirk is that we don't actually use `rest` at all in `revised_sum_first_three`.\n",
    "This makes sense; we want to ignore the rest of the elements in the list, so we shouldn't be using this variable.\n",
    "However, it still looks a little weird to introduce a variable that we never use.\n",
    "\n",
    "By convention, in scenarios like this where we don't actually want one of the components of destructuring, Python programmers will name the variable `_`.\n",
    "For example, instead of introducing a variable named `rest` in `revised_sum_first_three`, we'd instead write the following:"
   ]
  },
  {
   "cell_type": "code",
   "execution_count": 18,
   "id": "adaac143-7f77-489f-9ccf-6d8b84e32aad",
   "metadata": {},
   "outputs": [],
   "source": [
    "def revised_sum_first_three(input_list):\n",
    "    a, b, c, *_ = input_list\n",
    "    return a + b + c"
   ]
  },
  {
   "cell_type": "markdown",
   "id": "847dc2a4-1f93-4aca-8723-e3cad0b41d98",
   "metadata": {},
   "source": [
    "This use of `_` applies to any destructuring.\n",
    "For example, if we want to destructure a 3-tuple (i.e., a tuple holding three values), but we only want the first and last values, we can do the following:"
   ]
  },
  {
   "cell_type": "code",
   "execution_count": 19,
   "id": "ff829a26-37f1-49fb-87d0-f5cf7f581272",
   "metadata": {},
   "outputs": [
    {
     "name": "stdout",
     "output_type": "stream",
     "text": [
      "3\n",
      "8\n"
     ]
    }
   ],
   "source": [
    "first, _, last = 3, 2, 8\n",
    "print(first) # prints 3\n",
    "print(last) # prints 8"
   ]
  },
  {
   "cell_type": "markdown",
   "id": "cc8d737e-384d-42ac-a1e2-b92d17be5276",
   "metadata": {},
   "source": [
    "One quirk of this use of underscore (`_`) is that this _does_ create a variable in Python, it's just that this variable is named `_`.\n",
    "We can see this in the prior example if we attempt to print `_`:"
   ]
  },
  {
   "cell_type": "code",
   "execution_count": 20,
   "id": "b0fed56c-947e-4aba-b953-2656241fc19d",
   "metadata": {},
   "outputs": [
    {
     "name": "stdout",
     "output_type": "stream",
     "text": [
      "3\n",
      "2\n",
      "8\n"
     ]
    }
   ],
   "source": [
    "first, _, last = 3, 2, 8\n",
    "print(first) # prints 3\n",
    "print(_) # prints 2\n",
    "print(last) # prints 8"
   ]
  },
  {
   "cell_type": "markdown",
   "id": "268a00dc-6017-48cc-9967-bfa636896e8b",
   "metadata": {},
   "source": [
    "### Try this Yourself ###\n",
    "\n",
    "Define a function `product_then_sum`, which:\n",
    "\n",
    "- Takes a list of at least two elements\n",
    "- It will find the product of the first two elements\n",
    "- It will find the sum of the remaining elements.  If there are no remaining elements, then the sum should be considered `0`.\n",
    "- It will add the product and the sum, and return this new sum\n",
    "- Uses destructuring and collection (`*`) to internally achieve this\n",
    "\n",
    "Example calls to `product_then_sum`, along with what the calls should return, are shown in the next cell.\n",
    "Define your function in the next cell.\n",
    "Lave the `print`s in place in order to test your code."
   ]
  },
  {
   "cell_type": "code",
   "execution_count": 21,
   "id": "76dbedb3-4715-44ea-becd-c95b3383aebd",
   "metadata": {},
   "outputs": [
    {
     "name": "stdout",
     "output_type": "stream",
     "text": [
      "6\n",
      "9\n",
      "15\n"
     ]
    }
   ],
   "source": [
    "# Define your function here.  Leave the calls in order to test your code.\n",
    "def product_then_sum(elements):\n",
    "    first, second, *rest = elements      \n",
    "    product = first * second\n",
    "    total_sum = sum(rest) \n",
    "    return product + total_sum\n",
    "\n",
    "\n",
    "print(product_then_sum([3, 2])) # should print 6\n",
    "print(product_then_sum([3, 2, 3])) # should print 9\n",
    "print(product_then_sum([4, 3, 1, 1, 1])) # should print 15"
   ]
  },
  {
   "cell_type": "markdown",
   "id": "469906fa-cc61-4d42-9b06-cee00fcd9085",
   "metadata": {},
   "source": [
    "## Step 4: Submit via Canvas ##\n",
    "\n",
    "Be sure to **save your work**, then log into [Canvas](https://canvas.csun.edu/).  Go to the COMP 502 course, and click \"Assignments\" on the left pane.  From there, click \"Assignment 15\".  From there, you can upload the `15_tuples_destructuring.ipynb` file.\n",
    "\n",
    "You can turn in the assignment multiple times, but only the last version you submitted will be graded."
   ]
  }
 ],
 "metadata": {
  "kernelspec": {
   "display_name": "Python 3 (ipykernel)",
   "language": "python",
   "name": "python3"
  },
  "language_info": {
   "codemirror_mode": {
    "name": "ipython",
    "version": 3
   },
   "file_extension": ".py",
   "mimetype": "text/x-python",
   "name": "python",
   "nbconvert_exporter": "python",
   "pygments_lexer": "ipython3",
   "version": "3.13.5"
  }
 },
 "nbformat": 4,
 "nbformat_minor": 5
}
