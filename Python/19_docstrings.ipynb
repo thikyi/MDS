{
 "cells": [
  {
   "cell_type": "markdown",
   "id": "bea36b75-f6e1-4803-8420-cea93d22f706",
   "metadata": {},
   "source": [
    "# Assignment 19: Docstrings #\n",
    "\n",
    "### Goals for this Assignment ###\n",
    "\n",
    "By the time you have completed this assignment, you should be able to:\n",
    "\n",
    "- Define multi-line strings using triple quotes\n",
    "- Define documentation strings (docstrings) for functions, classes, constructors, and methods\n",
    "- Use the built-in `help` function to get docstrings for functions, classes, constructors, and methods\n",
    "- Use the `__doc__` field to access docstrings\n",
    "\n",
    "## Step 1: Define a Multi-line String ##\n",
    "\n",
    "### Background: Multi-line Strings ###\n",
    "\n",
    "While the single-quoted or double-quoted strings we have seen so far work, these can occasionally be a bit unwieldy to work with, especially if they start getting long.\n",
    "For example:"
   ]
  },
  {
   "cell_type": "code",
   "execution_count": 1,
   "id": "b3b9c3de-a2a5-49fe-82b6-c4ea41a99efb",
   "metadata": {},
   "outputs": [
    {
     "name": "stdout",
     "output_type": "stream",
     "text": [
      "This is a string which has a lot of words in it, and because of that, it's starting to roll off of the end of the line and look very odd\n"
     ]
    }
   ],
   "source": [
    "long_string = \"This is a string which has a lot of words in it, and because of that, it's starting to roll off of the end of the line and look very odd\"\n",
    "print(long_string)"
   ]
  },
  {
   "cell_type": "markdown",
   "id": "9da4a6c6-f906-4273-9a2d-8e817353eb72",
   "metadata": {},
   "source": [
    "While Python doesn't have any limits on how long a line can be (bounded by avilable memory, anyway), programmers tend to prefer it when code does not require any horizontal scrolling to read.\n",
    "Some coding conventions even require that no line spans more than 80 characters long.\n",
    "This can be problematic when it comes to working with longer strings.\n",
    "\n",
    "One way to get around this problem is to define multiple smaller strings, and then concatenate them together.\n",
    "Because of how Python parses the code, you'd need to enclose the whole expression together.\n",
    "For example:"
   ]
  },
  {
   "cell_type": "code",
   "execution_count": 2,
   "id": "70d25ce3-10c6-43d3-9784-28b7c3b3eefa",
   "metadata": {},
   "outputs": [
    {
     "name": "stdout",
     "output_type": "stream",
     "text": [
      "This is a string which has a lot of words in it, and because of that, it's starting to roll off of the end of the line and look very odd\n"
     ]
    }
   ],
   "source": [
    "long_string = (\"This is a string which has a lot of words in it, \" +\n",
    "               \"and because of that, it's starting to roll off of the \" +\n",
    "               \"end of the line and look very odd\")\n",
    "print(long_string)"
   ]
  },
  {
   "cell_type": "markdown",
   "id": "a2151f49-b899-47fb-96d0-89f6e27b4f27",
   "metadata": {},
   "source": [
    "Interestingly enough, you don't even need the `+`, as Python will _implicitly_ concatenate strings together:"
   ]
  },
  {
   "cell_type": "code",
   "execution_count": 3,
   "id": "3736426b-a2bc-4ca2-acd7-23d17bc1500a",
   "metadata": {},
   "outputs": [
    {
     "name": "stdout",
     "output_type": "stream",
     "text": [
      "This is a string which has a lot of words in it, and because of that, it's starting to roll off of the end of the line and look very odd\n"
     ]
    }
   ],
   "source": [
    "long_string = (\"This is a string which has a lot of words in it, \"\n",
    "               \"and because of that, it's starting to roll off of the \"\n",
    "               \"end of the line and look very odd\")\n",
    "print(long_string)"
   ]
  },
  {
   "cell_type": "markdown",
   "id": "10dfc133-eac8-4067-adec-7a70aa52e968",
   "metadata": {},
   "source": [
    "Python has an additional feature which is used to address this problem: triple-quoted strings.\n",
    "Triple-quoted strings offer a single string which truly spans multiple lines, as opposed to multiple strings that are concatenated together.\n",
    "This is shown below:"
   ]
  },
  {
   "cell_type": "code",
   "execution_count": 4,
   "id": "81b542df-ee19-409e-b5a8-bedfcdbd6a05",
   "metadata": {},
   "outputs": [
    {
     "name": "stdout",
     "output_type": "stream",
     "text": [
      "This is a string which has a lot of words in it, and because of that, it's starting to roll off of the end of the line and look very odd\n"
     ]
    }
   ],
   "source": [
    "long_string = \"\"\"This is a string which has a lot of words in it, \\\n",
    "and because of that, it's starting to roll off of the \\\n",
    "end of the line and look very odd\"\"\"\n",
    "print(long_string)"
   ]
  },
  {
   "cell_type": "markdown",
   "id": "ab4196ae-018b-4f84-a79a-ea8e84b4e466",
   "metadata": {},
   "source": [
    "Looking at the definition of `long_string` in the prior line, you may have noticed that:\n",
    "\n",
    "1. Each line is ended with `\\`\n",
    "2. There is no indenting after the first line\n",
    "\n",
    "The reason for this is that, in a multi-line string, all whitespace put between the `\"\"\"` ends up in the output string by default.\n",
    "This means that the whitespace added for indenting would end up in the string.\n",
    "This also means that the newlines at the end of each line would end up in the string.\n",
    "The one exception here is that if a line ends with `\\`, then this says that the newline should _not_ be included in the string.\n",
    "\n",
    "To illustrate this, if `long_string` is redefined with a multi-line string without accounting for these differences, we see something very different get printed:"
   ]
  },
  {
   "cell_type": "code",
   "execution_count": 5,
   "id": "3e2a4ef6-573e-4493-83c4-74eefa2fb994",
   "metadata": {},
   "outputs": [
    {
     "name": "stdout",
     "output_type": "stream",
     "text": [
      "This is a string which has a lot of words in it, \n",
      "                 and because of that, it's starting to roll off of the \n",
      "                 end of the line and look very odd\n"
     ]
    }
   ],
   "source": [
    "long_string = \"\"\"This is a string which has a lot of words in it, \n",
    "                 and because of that, it's starting to roll off of the \n",
    "                 end of the line and look very odd\"\"\"\n",
    "print(long_string)"
   ]
  },
  {
   "cell_type": "markdown",
   "id": "e7f02276-b95b-475f-a9b5-bb5a698b314b",
   "metadata": {},
   "source": [
    "If the above cell is run, you'll see that while `long_string` is still a single string, the contents now contain multiple lines, as well as a lot of extra spaces corresponding to the indents.\n",
    "\n",
    "### Try this Yourself ###\n",
    "\n",
    "Using a multi-line (triple-quoted) string, define a string holding the following text:\n",
    "\n",
    "```\n",
    "This is on the first line.\n",
    "This is on the second line.\n",
    "The third line is here.\n",
    "```\n",
    "\n",
    "The string should be bound to the new variable `my_string`.\n",
    "Define `my_string` in the next cell."
   ]
  },
  {
   "cell_type": "code",
   "execution_count": 9,
   "id": "9885da33-4f83-4f82-b9ee-a2a8d1358805",
   "metadata": {},
   "outputs": [
    {
     "name": "stdout",
     "output_type": "stream",
     "text": [
      "This is on the first line. \n",
      "This is on the second line. \n",
      "The third line is here.\n"
     ]
    }
   ],
   "source": [
    "# Define my_string below using a triple-quoted string\n",
    "my_string = \"\"\"This is on the first line. \n",
    "This is on the second line. \n",
    "The third line is here.\"\"\"\n",
    "\n",
    "print(my_string)"
   ]
  },
  {
   "cell_type": "markdown",
   "id": "3e087948-027c-4697-996e-a9b459c170fb",
   "metadata": {},
   "source": [
    "## Step 2: Define a Docstring for a Function ##\n",
    "\n",
    "### Background: Documentation ###\n",
    "\n",
    "In an ideal world, when programming, in addition to the code you write, you also write documentation for that code.\n",
    "The documentation provides important context for whoever is reading the code, such as:\n",
    "\n",
    "- What the bit of code is trying to do\n",
    "- What sorts of values are held in any variables involved, and what these values represent\n",
    "- (For a function) what parameters the function takes, and what these represent\n",
    "- (For a function) what is returned from a function, and what this represents\n",
    "- Any _side-effects_ of the given code.  These include things which are printed out, any I/O performed, or variables modified.\n",
    "\n",
    "Exactly what to document and how much you document is a highly subjective problem.\n",
    "From the standpoint of Python itself, documentation is irrelevant to your program's execution, and it will be ignored.\n",
    "However, programmers themselves generally expect _some_ documentation, and code with poor/no documentation is notorious for being difficult to work with.\n",
    "In practice, what and how you document will depend on:\n",
    "\n",
    "- Any coding conventions of the language you are working with\n",
    "- Any coding conventions of the specific project you are working on.  It's common for large projects to have _style guides_, which can formalize documentation expectations, among other things (e.g., dictating how variables be named, how much spacing to use for indents, etc.)\n",
    "- Your own particular preferences\n",
    "\n",
    "As to where the documentation lives, some of it is in the code itself, as with comments.\n",
    "However, it's not uncommon for documentation to live at least somewhat separately from the code itself.\n",
    "For example, with matplotlib, the documentation which was linked was on a website.\n",
    "However, parts of that website were automatically-generated based on documentation in the code (we will get to that shortly).\n",
    "\n",
    "#### Documentation in Relation to this Course ###\n",
    "\n",
    "For the purposes of this class, outside of this assignment, I will not require you do document anything you do.\n",
    "However, be advised that some professors _do_ expect this, some even without explicitly saying that, so it's worth asking in the future if you aren't 100% sure what the expectation is.\n",
    "If you don't document, you should be reasonably confident that your code is correct; if I see your code isn't working correctly, any documentation can help me understand your thought process (and possibly award more partial credit).\n",
    "\n",
    "My reasoning why I don't require documentation is because in my own projects, I tend to try to write [_self-documenting code_](https://en.wikipedia.org/wiki/Self-documenting_code), wherein one carefully uses names, types, and code structure to make the code's meaning as clear as possible.\n",
    "(Whether or not I actually do this properly is another question. :) )\n",
    "Counterintuitively, I also tend to ignore large block comments when reading other people's code, which should theoretically be a rich source of documentation.\n",
    "The reason I do this is because nothing ensures that the comments actually correspond to what the code does.\n",
    "Moreover, as code evolves in a large project (i.e., bugs are fixed, features are added, etc.), nothing enforces that such large chunks of documentation get updated.\n",
    "From my own experience dealing with industry-scale codebases (specifically [the Rust language compiler](https://github.com/rust-lang/rust) and the [OpenJDK for Java](https://github.com/openjdk/jdk)), I've found that programmers tend _not_ to update such documentation.\n",
    "The end result is documentation that corresponds to the code well enough that you think it applies, but is different enough to lead you down false paths.\n",
    "I've found that in such cases it's better to have no documentation at all, as opposed to documentation which is misleading at best or flat-out wrong.\n",
    "This is all a huge motivation for self-documenting code, because self-documenting code is forced to be up-to-date with what the code actually does.\n",
    "All this said, my position is quite extreme on the spectrum of documentation, so take this all with a grain of salt.\n",
    "\n",
    "### Background: (Partially) Automatically-Generated Websites from Code Documentation, and Docstrings ###\n",
    "\n",
    "Comments are commonly-used to document code, and for good reason: comments can be put directly alongside the code they document.\n",
    "This means we can see the documentation immediately in the context of the code it is documenting.\n",
    "However, there are a couple downsides to this:\n",
    "\n",
    "- Because comments are generally ignored by whatever executes the language, there isn't a good way for us to manipulate comments programmatically.  That is, comments are, by construction, secondary to the code itself.\n",
    "- The fact that comments are defined alongside the code is a double-edged sword.  This means that someone who wants to read the documentation **must** also read the code that it is documenting, or at least, have it on screen.  For something large like matplotlib, you probably don't want to see (and very likely will never need to see) how its functions and methods internally work.  You only need to know how to call them.\n",
    "\n",
    "For these reasons, many languages support some way to write comments (or comment-like) structures in code, but with a twist: they can be automatically extracted by a separate tool, and this tool can then automatically build a website around this.\n",
    "Unlike the code itself, a website makes it easy to link related things together, to where the reader only needs to click to jump around.\n",
    "A website also allows for better formatting than code itself (which is limited to whatever your specific text editor or editing environment presents things).\n",
    "\n",
    "This is most easily shown by example.\n",
    "In the prior assignment, you used matplotlib's `scatter` method to generate scatter plots.\n",
    "In that assignment, the [official documentation for `scatter`](https://matplotlib.org/stable/api/_as_gen/matplotlib.axes.Axes.scatter.html) was linked.\n",
    "Much of that page was actually automatically-generated from [this source code](https://github.com/matplotlib/matplotlib/blob/v3.10.6/lib/matplotlib/axes/_axes.py#L4782-L5071), which is linked off of the page.\n",
    "Exactly what that code does is not important here; we will focus on _how_ this was done.\n",
    "The important part is that, on the line after the `def`, you see the start of a triple-quoted string.\n",
    "An excerpt of this is shown below:\n",
    "\n",
    "```python\n",
    "    def scatter(self, x, y, s=None, c=None, marker=None, cmap=None, norm=None,\n",
    "                vmin=None, vmax=None, alpha=None, linewidths=None, *,\n",
    "                edgecolors=None, colorizer=None, plotnonfinite=False, **kwargs):\n",
    "        \"\"\"\n",
    "        A scatter plot of *y* vs. *x* with varying marker size and/or color.\n",
    "\n",
    "        Parameters\n",
    "        ----------\n",
    "        x, y : float or array-like, shape (n, )\n",
    "        ...\n",
    "```\n",
    "\n",
    "This triple-quoted string is not explicitly bound to any variables; it just sort of floats below the function's `def`.\n",
    "That's because in this context, it's not a normal triple-quoted string, but rather a _documentation string_ (or _docstring_, for short).\n",
    "Docstrings can be used to automatically generate the sort of documentation seen for matplotlib, and sure enough, matplotlib's documentation for `scatter` contains all the text seen in this docstring.\n",
    "However, unlike the Python code itself, the documentation for matplotlib uses formatting to make this more readable.\n",
    "Specifically, certain parts are bolded, bullets are used, and even an HTML table appears.\n",
    "Moreover, because this information is presented in a webpage, this allows someone to glance through this without opening the code, and someone reading this documentation can easily see which functions are provided by matplotlib (summarized on the lefthand side of matplotlib's documentation page).\n",
    "That is, the webpage is a much more user-friendly and explorable representation of the information in the docstring, but the docstring itself can be defined right next to the code it documents.\n",
    "\n",
    "One important thing to note here is that _any_ text within the triple quotes is the docstring.\n",
    "Because this is a string, you can truly put anything in here that is a string.\n",
    "For better or for worse, there is not a single standard behind what goes in this string, or how it should be formatted within.\n",
    "There is [one particular commonly-used standard used by Google](https://google.github.io/styleguide/pyguide.html#381-docstrings), and [another one for NumPy](https://numpydoc.readthedocs.io/en/latest/format.html).\n",
    "For our purposes, we will not be following any particular guide, though you are welcome to use any formatting you want in a docstring.\n",
    "\n",
    "Docstrings can be attached to functions, classes, constructors, and methods.\n",
    "This is shown below in the `IntWrapper` class, which is intended to wrap around a given integer.\n",
    "This is also shown in the `add` function, which can add two integers together."
   ]
  },
  {
   "cell_type": "code",
   "execution_count": 10,
   "id": "d9c02c85-5907-42d6-ac6b-df8f7f079a07",
   "metadata": {},
   "outputs": [
    {
     "name": "stdout",
     "output_type": "stream",
     "text": [
      "5\n",
      "3\n"
     ]
    }
   ],
   "source": [
    "def add(x, y):\n",
    "    \"\"\"Takes two integers, and returns their sum\"\"\"\n",
    "    return x + y\n",
    "\n",
    "class IntWrapper:\n",
    "    \"\"\"Wraps around a given integer.\"\"\"\n",
    "\n",
    "    def __init__(self, value):\n",
    "        \"\"\"\n",
    "        Takes an integer to wrap around.\n",
    "        This is showing a different docstring style where the beginning and ending\n",
    "        triple-quotes are on their own lines.\n",
    "        \"\"\"\n",
    "        self.value = value\n",
    "\n",
    "    def get_integer(self):\n",
    "        \"\"\"Gets the underlying integer we wrap around.\n",
    "           This is spread across two lines in a different way.\"\"\"\n",
    "        return self.value\n",
    "\n",
    "print(add(2, 3))\n",
    "w1 = IntWrapper(3)\n",
    "print(w1.get_integer())"
   ]
  },
  {
   "cell_type": "markdown",
   "id": "989bb5b8-187c-4d42-97ca-672ec26161fb",
   "metadata": {},
   "source": [
    "As shown, we can put docstrings below any `def` or `class`, and there is quite a lot of flexibility behind how these look.\n",
    "\n",
    "### Try this Yourself ###\n",
    "\n",
    "Define your own class named `StringWrapper`, which will wrap around a given string in a similar manner as `IntWrapper`.\n",
    "Your `StringWrapper` class should have:\n",
    "\n",
    "- A docstring for the class itself\n",
    "- A constructor that takes a string, and saves the string to a field.\n",
    "- A docstring for the constructor\n",
    "- A method named `concatenate`, which will concatenate a given string parameter with the string saved on the instance of `StringWrapper`.  `concatenate` should return the new, concatenated string.\n",
    "- A docstring for the `concatenate` method\n",
    "\n",
    "Define `StringWrapper` in the next cell.\n",
    "The `print` statements show how the code should run; leave these in place in order to test your code."
   ]
  },
  {
   "cell_type": "code",
   "execution_count": 29,
   "id": "a1c1e586-47bf-422e-9b59-37892e9fb146",
   "metadata": {},
   "outputs": [
    {
     "name": "stdout",
     "output_type": "stream",
     "text": [
      "fooapple\n",
      "barpear\n"
     ]
    }
   ],
   "source": [
    "# Define your StringWrapper class here, including the docstrings.\n",
    "# Leave the code in place below in order to test your implementation.\n",
    "class StringWrapper:\n",
    "    \"\"\"\n",
    "    Wraps around a given string using concatenate method.\n",
    "    \"\"\"\n",
    "    def __init__(self, value):\n",
    "        \n",
    "        \"\"\"\n",
    "        Constructs a StringWrapper instance.\n",
    "        value (str) parameter: The string to be stored.\n",
    "        \"\"\"\n",
    "        \n",
    "        self.wrapped_string = value\n",
    "\n",
    "    def concatenate(self, value):\n",
    "        \n",
    "        \"\"\"\n",
    "        Concatenates a given string to the existing string.\n",
    "        value (str) paramenter: The string to append.\n",
    "        Returns the concatenated string.\n",
    "        \"\"\"\n",
    "        \n",
    "        return self.wrapped_string + value\n",
    "\n",
    "\n",
    "\n",
    "\n",
    "s1 = StringWrapper(\"foo\")\n",
    "s2 = StringWrapper(\"bar\")\n",
    "\n",
    "print(s1.concatenate(\"apple\")) # should print \"fooapple\"\n",
    "print(s2.concatenate(\"pear\")) # should print \"barpear\""
   ]
  },
  {
   "cell_type": "markdown",
   "id": "138ce3f8-06df-4e7e-997e-1e3225679b17",
   "metadata": {},
   "source": [
    "## Step 3: Use the `help` Function to Display Docstrings ##\n",
    "\n",
    "### Background: The `help` Function ###\n",
    "\n",
    "Python has a built-in function named `help` which can be used to display docstrings, as well as any other relevant documentation attached to something in the code.\n",
    "This is best shown by example, reusing the definitions of `add` and `IntWrapper` from before.\n",
    "Note that you'll need to make sure to execute the cell defining this aforementioned code or else the next cell won't work."
   ]
  },
  {
   "cell_type": "code",
   "execution_count": 25,
   "id": "d7834421-77eb-4311-b275-37ea9001ef94",
   "metadata": {},
   "outputs": [
    {
     "name": "stdout",
     "output_type": "stream",
     "text": [
      "Help on function add in module __main__:\n",
      "\n",
      "add(x, y)\n",
      "    Takes two integers, and returns their sum\n",
      "\n",
      "\n",
      "Help on class IntWrapper in module __main__:\n",
      "\n",
      "class IntWrapper(builtins.object)\n",
      " |  IntWrapper(value)\n",
      " |\n",
      " |  Wraps around a given integer.\n",
      " |\n",
      " |  Methods defined here:\n",
      " |\n",
      " |  __init__(self, value)\n",
      " |      Takes an integer to wrap around.\n",
      " |      This is showing a different docstring style where the beginning and ending\n",
      " |      triple-quotes are on their own lines.\n",
      " |\n",
      " |  get_integer(self)\n",
      " |      Gets the underlying integer we wrap around.\n",
      " |      This is spread across two lines in a different way.\n",
      " |\n",
      " |  ----------------------------------------------------------------------\n",
      " |  Data descriptors defined here:\n",
      " |\n",
      " |  __dict__\n",
      " |      dictionary for instance variables\n",
      " |\n",
      " |  __weakref__\n",
      " |      list of weak references to the object\n",
      "\n",
      "\n",
      "Help on function __init__ in module __main__:\n",
      "\n",
      "__init__(self, value)\n",
      "    Takes an integer to wrap around.\n",
      "    This is showing a different docstring style where the beginning and ending\n",
      "    triple-quotes are on their own lines.\n",
      "\n",
      "\n",
      "Help on function get_integer in module __main__:\n",
      "\n",
      "get_integer(self)\n",
      "    Gets the underlying integer we wrap around.\n",
      "    This is spread across two lines in a different way.\n",
      "\n"
     ]
    }
   ],
   "source": [
    "help(add) # displays the docstring for the add function\n",
    "\n",
    "print()\n",
    "help(IntWrapper) # displays the docstring for the IntWrapper class as a whole\n",
    "\n",
    "print()\n",
    "help(IntWrapper.__init__) # displays the docstring for IntWrapper's constructor\n",
    "\n",
    "print()\n",
    "help(IntWrapper.get_integer) # displays the docstring for the get_integer method"
   ]
  },
  {
   "cell_type": "markdown",
   "id": "3e823ec3-b17d-4880-9380-c67dfc7ca170",
   "metadata": {},
   "source": [
    "Looking at the output from `help`, particularly for the `IntWrapper` class as a whole, you see something which was never explicitly stated: `__dict__` and `__weakref__`.\n",
    "These are object fields which are automatically created for you.\n",
    "These fields are beyond our scope.\n",
    "\n",
    "Looking at the different calls to `help`, syntactically speaking this may look a bit odd.\n",
    "Specifically, we aren't calling the constructor (`__init__`) or the `get_integer` method, but rather accessing those `def`s directly to get their docstrings and any related documentation.\n",
    "In other words, we call `help(IntWrapper.__init__)` and `help(IntWrapper.get_integer)`.\n",
    "The details here are beyond our scope, but Python allows us to access anything defined by a `def`, in addition to calling anything defined by `def`.\n",
    "For our purposes, we will only ever do this for calling the `help` function.\n",
    "\n",
    "### Try this Yourself ###\n",
    "\n",
    "Now call the `help` function to access this same information for your `StringWrapper` class you defined in the prior step.\n",
    "You should have three separate calls to `help`, corresponding to:\n",
    "\n",
    "- The class itself\n",
    "- The constructor for the class\n",
    "- The `concatenate` method\n",
    "\n",
    "Write the calls in the next cell."
   ]
  },
  {
   "cell_type": "code",
   "execution_count": 26,
   "id": "be02e107-5e28-4c37-ae40-a1e3b34063f5",
   "metadata": {},
   "outputs": [
    {
     "name": "stdout",
     "output_type": "stream",
     "text": [
      "Help on function add in module __main__:\n",
      "\n",
      "add(x, y)\n",
      "    Takes two integers, and returns their sum\n",
      "\n",
      "\n",
      "Help on class StringWrapper in module __main__:\n",
      "\n",
      "class StringWrapper(builtins.object)\n",
      " |  StringWrapper(value)\n",
      " |\n",
      " |  Wraps around a given string using concatenate method.\n",
      " |\n",
      " |  Methods defined here:\n",
      " |\n",
      " |  __init__(self, value)\n",
      " |      Constructs a StringWrapper instance.\n",
      " |      value (str) parameter: The string to be stored.\n",
      " |\n",
      " |  concatenate(self, value)\n",
      " |      Concatenates a given string to the existing string.\n",
      " |      value (str) paramenter: The string to append.\n",
      " |      Returns the concatenated string.\n",
      " |\n",
      " |  ----------------------------------------------------------------------\n",
      " |  Data descriptors defined here:\n",
      " |\n",
      " |  __dict__\n",
      " |      dictionary for instance variables\n",
      " |\n",
      " |  __weakref__\n",
      " |      list of weak references to the object\n",
      "\n",
      "\n",
      "Help on function __init__ in module __main__:\n",
      "\n",
      "__init__(self, value)\n",
      "    Constructs a StringWrapper instance.\n",
      "    value (str) parameter: The string to be stored.\n",
      "\n",
      "\n",
      "Help on function concatenate in module __main__:\n",
      "\n",
      "concatenate(self, value)\n",
      "    Concatenates a given string to the existing string.\n",
      "    value (str) paramenter: The string to append.\n",
      "    Returns the concatenated string.\n",
      "\n"
     ]
    }
   ],
   "source": [
    "# Write your calls to help here\n",
    "help(add) # displays the docstring for the add function\n",
    "\n",
    "print()\n",
    "help(StringWrapper) \n",
    "\n",
    "print()\n",
    "help(StringWrapper.__init__) \n",
    "\n",
    "print()\n",
    "help(StringWrapper.concatenate) "
   ]
  },
  {
   "cell_type": "markdown",
   "id": "028cec08-bff6-4047-b3b5-37dac7e3de05",
   "metadata": {},
   "source": [
    "## Step 4: Use `__doc__` to Access Docstrings ##\n",
    "\n",
    "### Background: `__doc__` ###\n",
    "\n",
    "In addition to `help`, Python also allows you to directly access the docstrings via `__doc__`, which is a special field.\n",
    "This is shown by example below, using again our definitions of `add` and `IntWrapper`:"
   ]
  },
  {
   "cell_type": "code",
   "execution_count": 27,
   "id": "0207b8b3-d5f6-435f-944b-0cd0c93a1f3e",
   "metadata": {},
   "outputs": [
    {
     "name": "stdout",
     "output_type": "stream",
     "text": [
      "Takes two integers, and returns their sum\n",
      "Wraps around a given integer.\n",
      "\n",
      "Takes an integer to wrap around.\n",
      "This is showing a different docstring style where the beginning and ending\n",
      "triple-quotes are on their own lines.\n",
      "\n",
      "Gets the underlying integer we wrap around.\n",
      "This is spread across two lines in a different way.\n"
     ]
    }
   ],
   "source": [
    "print(add.__doc__)\n",
    "print(IntWrapper.__doc__)\n",
    "print(IntWrapper.__init__.__doc__)\n",
    "print(IntWrapper.get_integer.__doc__)"
   ]
  },
  {
   "cell_type": "markdown",
   "id": "79c53862-5908-4c3c-a056-32c09bd291a0",
   "metadata": {},
   "source": [
    "As shown, this syntax allows us to access the docstrings directly.\n",
    "This means that docstrings are in a sort of special place as far as code documentation codes; we can actually write code to work with docstrings themselves.\n",
    "Additionally, because `__doc__` is a field, this means that `add`, `IntWrapper`, `IntWrapper.__init__`, and `IntWrapper.get_integer` are all objects; this is beyond the scope of this class, but is sufficies to say that pretty much everything in Python is an object, which allows us to do all sorts of things.\n",
    "\n",
    "### Try this Yourself ###\n",
    "\n",
    "Now use `__doc__` to access all the docstrings on your `StringWrapper` class you previously defined.\n",
    "Use `print` to print out the contents of these docstrings.\n",
    "You should have three separate calls to `print` and corresponding accesses to `__doc__`, one for:\n",
    "\n",
    "- The class itself\n",
    "- The constructor for the class\n",
    "- The `concatenate` method\n",
    "\n",
    "Write these `print`s and `__doc__` accesses in the next cell."
   ]
  },
  {
   "cell_type": "code",
   "execution_count": 28,
   "id": "cbead07d-317d-4d6b-bc08-9a5b4c3fa3e8",
   "metadata": {},
   "outputs": [
    {
     "name": "stdout",
     "output_type": "stream",
     "text": [
      "Takes two integers, and returns their sum\n",
      "\n",
      "Wraps around a given string using concatenate method.\n",
      "\n",
      "\n",
      "Constructs a StringWrapper instance.\n",
      "value (str) parameter: The string to be stored.\n",
      "\n",
      "\n",
      "Concatenates a given string to the existing string.\n",
      "value (str) paramenter: The string to append.\n",
      "Returns the concatenated string.\n",
      "\n"
     ]
    }
   ],
   "source": [
    "# Write your prints and __doc__ accesses here\n",
    "print(add.__doc__)\n",
    "print(StringWrapper.__doc__)\n",
    "print(StringWrapper.__init__.__doc__)\n",
    "print(StringWrapper.concatenate.__doc__)"
   ]
  },
  {
   "cell_type": "markdown",
   "id": "6c8ca020-d1f3-4494-bf2a-0ba9ba42c2ab",
   "metadata": {},
   "source": [
    "## Step 5: Submit via Canvas ##\n",
    "\n",
    "Be sure to **save your work**, then log into [Canvas](https://canvas.csun.edu/).  Go to the COMP 502 course, and click \"Assignments\" on the left pane.  From there, click \"Assignment 19\".  From there, you can upload the `19_docstrings.ipynb` file.\n",
    "\n",
    "You can turn in the assignment multiple times, but only the last version you submitted will be graded."
   ]
  }
 ],
 "metadata": {
  "kernelspec": {
   "display_name": "Python 3 (ipykernel)",
   "language": "python",
   "name": "python3"
  },
  "language_info": {
   "codemirror_mode": {
    "name": "ipython",
    "version": 3
   },
   "file_extension": ".py",
   "mimetype": "text/x-python",
   "name": "python",
   "nbconvert_exporter": "python",
   "pygments_lexer": "ipython3",
   "version": "3.13.5"
  }
 },
 "nbformat": 4,
 "nbformat_minor": 5
}
