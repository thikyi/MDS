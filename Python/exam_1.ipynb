{
 "cells": [
  {
   "cell_type": "markdown",
   "id": "e7fcc3d5-cd8d-4ab7-8f09-7806cf1c1d61",
   "metadata": {},
   "source": [
    "# Exam 1 #\n",
    "\n",
    "I had previously stated that you'd have two hours to complete the exam from once you started it.\n",
    "However, this struck me as confusing considering the assignments don't work this way.\n",
    "For these reasons:\n",
    "\n",
    "1. You will have the entire time the exam is available to work on it.\n",
    "2. I am changing the deadline from Friday, September 26 (stated in the syllabus) to Monday, September 29.  This makes the exam deadline consistent with the assignments."
   ]
  },
  {
   "cell_type": "markdown",
   "id": "aecc9cb9-c528-48a6-9731-04cf7d958054",
   "metadata": {},
   "source": [
    "## Problem 1 ##\n",
    "\n",
    "Consider the Python function `p1` in the next cell.\n",
    "Write calls to `p1` in the cell below to print the various requested output.\n",
    "You should not change `p1`'s definition.\n",
    "The first one has been provided to you as an example."
   ]
  },
  {
   "cell_type": "code",
   "execution_count": 11,
   "id": "791f7f09-e0dc-4945-9402-05556dae6937",
   "metadata": {},
   "outputs": [
    {
     "name": "stdout",
     "output_type": "stream",
     "text": [
      "example\n",
      "first\n",
      "second\n",
      "third\n",
      "fourth\n",
      "fifth\n"
     ]
    }
   ],
   "source": [
    "def p1(a, b, c, d):\n",
    "    if a == 1 and b == 1 and c == 1 and d == 1:\n",
    "        print(\"example\")\n",
    "    elif a == 7 and b > 2:\n",
    "        if c == 24 or d < 3:\n",
    "            print(\"first\")\n",
    "        elif c > 2:\n",
    "            print(\"second\")\n",
    "        else:\n",
    "            print(\"third\")\n",
    "    else:\n",
    "        if a == 7:\n",
    "            print(\"fourth\")\n",
    "        elif b > 2:\n",
    "            print(\"fifth\")\n",
    "\n",
    "# write a call to p1 which prints \"example\"\n",
    "p1(1, 1, 1, 1)\n",
    "\n",
    "# write a call to p1 which prints \"first\"\n",
    "p1(7,3,24,3)\n",
    "\n",
    "# write a call to p1 which prints \"second\"\n",
    "p1(7,3,23,4)\n",
    "\n",
    "# write a call to p1 which prints \"third\"\n",
    "p1(7,3,1,4)\n",
    "\n",
    "# write a call to p1 which prints \"fourth\"\n",
    "p1(7,2,24,4)\n",
    "\n",
    "# write a call to p1 which prints \"fifth\"\n",
    "p1(8,3,24,2)\n"
   ]
  },
  {
   "cell_type": "markdown",
   "id": "4adad65f-4ce9-4d6b-9319-ed698d554c38",
   "metadata": {},
   "source": [
    "## Problem 2 ##\n",
    "\n",
    "In the cell below, define a function named `multipleOf3Or5`, which takes an integer as a parameter.\n",
    "`multipleOf3Or5` should return `True` if the parameter is evenly divisible by `3` or `5`.\n",
    "Example calls are provided in the next cell; leave these in place in order to test your code."
   ]
  },
  {
   "cell_type": "code",
   "execution_count": 16,
   "id": "e1f595d3-c996-464c-82ab-1b5e2fb16038",
   "metadata": {},
   "outputs": [
    {
     "name": "stdout",
     "output_type": "stream",
     "text": [
      "False\n",
      "True\n",
      "False\n",
      "True\n",
      "\n",
      "True\n",
      "False\n",
      "True\n",
      "True\n"
     ]
    }
   ],
   "source": [
    "# Define your multipleOf3Or5 function here\n",
    "def multipleOf3Or5(intparam):\n",
    "    if intparam % 3  == 0 or intparam % 5 == 0:\n",
    "        return True\n",
    "    else:\n",
    "        return False\n",
    "        \n",
    "print(multipleOf3Or5(2)) # should print False\n",
    "print(multipleOf3Or5(3)) # should print True\n",
    "print(multipleOf3Or5(4)) # should print False\n",
    "print(multipleOf3Or5(5)) # should print True\n",
    "\n",
    "print()\n",
    "print(multipleOf3Or5(15)) # should print True\n",
    "print(multipleOf3Or5(98)) # should print False\n",
    "print(multipleOf3Or5(99)) # should print True\n",
    "print(multipleOf3Or5(100)) # should print True"
   ]
  },
  {
   "cell_type": "markdown",
   "id": "c75dbbed-8afa-4e21-add6-4202041428eb",
   "metadata": {},
   "source": [
    "## Problem 3 ##\n",
    "\n",
    "Consider the `while` loop in the next cell, which prints the numbers between `0` (inclusive) and `10` (exclusive).\n",
    "Rewrite this `while` loop to instead use `for...in` with `range`."
   ]
  },
  {
   "cell_type": "code",
   "execution_count": 20,
   "id": "2753ec20-8793-4e5c-9fbf-27f4a6391eae",
   "metadata": {},
   "outputs": [
    {
     "name": "stdout",
     "output_type": "stream",
     "text": [
      "0\n",
      "1\n",
      "2\n",
      "3\n",
      "4\n",
      "5\n",
      "6\n",
      "7\n",
      "8\n",
      "9\n",
      "\n",
      "0\n",
      "1\n",
      "2\n",
      "3\n",
      "4\n",
      "5\n",
      "6\n",
      "7\n",
      "8\n",
      "9\n"
     ]
    }
   ],
   "source": [
    "value = 0\n",
    "while value < 10:\n",
    "    print(value)\n",
    "    value = value + 1\n",
    "print ()\n",
    "# you may modify the above code directly, or redefine it below this comment\n",
    "for value in range(0,10):\n",
    "    print(value)"
   ]
  },
  {
   "cell_type": "markdown",
   "id": "7b898193-4a0b-4eb4-bb24-4f224484c760",
   "metadata": {},
   "source": [
    "## Problem 4 ##\n",
    "\n",
    "Define a function named `duplicate`, which will take a string as a parameter.\n",
    "`duplicate` should return another string which \"duplicates\" the given parameter, i.e., the same input string is repeated twice in the output parameter.\n",
    "\n",
    "Define `duplicate` in the next cell.\n",
    "Leave the calls in place to test your code.\n",
    "Expected output is shown in the comments."
   ]
  },
  {
   "cell_type": "code",
   "execution_count": 21,
   "id": "0a17c07e-7a6b-4f06-bda5-bccc6f136fd8",
   "metadata": {},
   "outputs": [
    {
     "name": "stdout",
     "output_type": "stream",
     "text": [
      "foofoo\n",
      "barbar\n",
      "bazbaz\n",
      "blahblah\n"
     ]
    }
   ],
   "source": [
    "# Define your duplicate function here.\n",
    "# Leave the calls below in order to test your code.\n",
    "def duplicate(param):\n",
    "    return str(param) + str(param)\n",
    "\n",
    "print(duplicate(\"foo\")) # should print \"foofoo\"\n",
    "print(duplicate(\"bar\")) # should print \"barbar\"\n",
    "print(duplicate(\"baz\")) # should print \"bazbaz\"\n",
    "print(duplicate(\"blah\")) # should print \"blahblah\""
   ]
  },
  {
   "cell_type": "markdown",
   "id": "703c779d-0866-43bb-bfcd-5ebc00cc540d",
   "metadata": {},
   "source": [
    "## Problem 5 ##\n",
    "\n",
    "In the next cell, define a function named `each_unique`, which returns `True` if each element of an input list is unique, else `False`.\n",
    "Phrased another way, `each_unique` should return `False` if any element in a list appears more than once in the list, else `True`.\n",
    "As a hint, dictionaries should internally be useful within your `each_unique` definition, and this problem is very similar to one you solved for assignment 16.\n",
    "Leave the `print`s in place in order to test your code."
   ]
  },
  {
   "cell_type": "code",
   "execution_count": 25,
   "id": "b6c35a1b-4480-401c-aa92-b1942b05eb10",
   "metadata": {},
   "outputs": [
    {
     "name": "stdout",
     "output_type": "stream",
     "text": [
      "True\n",
      "True\n",
      "True\n",
      "False\n",
      "False\n",
      "True\n"
     ]
    }
   ],
   "source": [
    "# Define your each_unique function here.  Leave the prints\n",
    "# below in order to test your code\n",
    "def each_unique(lst):\n",
    "    dic = {}  \n",
    "    for element in lst:\n",
    "        if element in dic:\n",
    "            return False \n",
    "        else:\n",
    "            dic[element] = True  \n",
    "    return True \n",
    "    \n",
    "print(each_unique([])) # should print True\n",
    "print(each_unique([5])) # should print True\n",
    "print(each_unique([4, 5])) # should print True\n",
    "print(each_unique([4, 4])) # should print False\n",
    "print(each_unique([1, 5, 4, 5])) # should print False\n",
    "print(each_unique([3, 2, 7, 4])) # should print True"
   ]
  },
  {
   "cell_type": "markdown",
   "id": "f9afd48a-07fe-4f6a-b65d-49512c848f97",
   "metadata": {},
   "source": [
    "## Problem 6 ##\n",
    "\n",
    "In the next cell, define a function named `attempt_get`, which takes:\n",
    "\n",
    "- A list `lst`\n",
    "- An index `n` to access.  You can assume this will be a non-negative integer.\n",
    "- An **optional** parameter named `if_not`.  The default value should be `-1`.\n",
    "\n",
    "If `n` is within `lst`'s bounds, then `attempt_get` should get whatever element is at index `n` in `lst`.\n",
    "If, however, `n` is **not** within bounds, then `attempt_get` should return the value of `if_not`.\n",
    "Example calls are shown in the next cell; leave these calls in place in order to test your code."
   ]
  },
  {
   "cell_type": "code",
   "execution_count": 27,
   "id": "e7f1dd72-ac1c-4454-a918-051523290d12",
   "metadata": {},
   "outputs": [
    {
     "name": "stdout",
     "output_type": "stream",
     "text": [
      "foo\n",
      "-1\n",
      "other\n",
      "-1\n",
      "beta\n",
      "foo\n"
     ]
    }
   ],
   "source": [
    "# Define your attempt_get function here.\n",
    "# Leave the calls below in order to test your code\n",
    "def attempt_get(lst,n,if_not = -1):\n",
    "    if n< len(lst):\n",
    "        return lst[n]\n",
    "    else:\n",
    "        return if_not\n",
    "\n",
    "print(attempt_get([\"foo\", \"bar\", \"baz\"], 0)) # should print \"foo\"\n",
    "print(attempt_get([\"foo\", \"bar\", \"baz\"], 5)) # should print -1\n",
    "print(attempt_get([\"foo\", \"bar\", \"baz\"], 4, \"other\")) # should print \"other\"\n",
    "print(attempt_get([\"alpha\", \"beta\"], 2)) # should print -1\n",
    "print(attempt_get([\"alpha\", \"beta\"], 1, \"foo\")) # should print \"beta\"\n",
    "print(attempt_get([\"alpha\", \"beta\"], 2, \"foo\")) # should print \"foo\""
   ]
  },
  {
   "cell_type": "markdown",
   "id": "b0fd39d5-84dd-475a-85b7-36f13331b9cf",
   "metadata": {},
   "source": [
    "## Problem 7 ##\n",
    "\n",
    "In the cell below, define a class named `TwoInts`, which has the following:\n",
    "\n",
    "- A constructor taking two integers.  These two integers should be internally saved.\n",
    "- An `add` method, which takes no parameters.  This should return the sum of the two integers.\n",
    "- A `multiply` method, which takes no parameters.  This should return the product of the two integers.\n",
    "- A `sum_with` method, which takes an integer as a parameter.  `sum_with` should return the sum of the two internally-stored integers, plus whatever the integer parameter was.\n",
    "\n",
    "Leave the calls in place in order to test your code."
   ]
  },
  {
   "cell_type": "code",
   "execution_count": 34,
   "id": "ae7ba92f-ed44-48e8-bcbf-349aeeac0b8a",
   "metadata": {},
   "outputs": [
    {
     "name": "stdout",
     "output_type": "stream",
     "text": [
      "7\n",
      "12\n",
      "15\n",
      "9\n",
      "14\n",
      "10\n"
     ]
    }
   ],
   "source": [
    "# Define your TwoInts class and related methods here.\n",
    "# Leave the calls below in order to test your code.\n",
    "class TwoInts:\n",
    "    def __init__(self, num1, num2):\n",
    "        self.num1 = num1\n",
    "        self.num2 = num2\n",
    "    def add(self):\n",
    "        return self.num1 + self.num2\n",
    "    def multiply(self):\n",
    "        return self.num1 * self.num2\n",
    "    def sum_with(self,x=0):\n",
    "        return self.num1 + self.num2 + x\n",
    "\n",
    "two_ints_1 = TwoInts(3, 4)\n",
    "print(two_ints_1.add()) # should print 7\n",
    "print(two_ints_1.multiply()) # should print 12\n",
    "print(two_ints_1.sum_with(8)) # should print 15\n",
    "\n",
    "two_ints_2 = TwoInts(7, 2)\n",
    "print(two_ints_2.add()) # should print 9\n",
    "print(two_ints_2.multiply()) # should print 14\n",
    "print(two_ints_2.sum_with(1)) # should print 10"
   ]
  },
  {
   "cell_type": "markdown",
   "id": "7bb388dd-cc88-4a46-9f24-fd8d999ae1e4",
   "metadata": {},
   "source": [
    "## Problem 8 ##\n",
    "\n",
    "In the next cell, define a `swap_keys_values` function, which takes a dictionary as input.\n",
    "`swap_keys_values` should return a new dictionary, where the values from the input dictionary are the keys, and the corresponding keys from the original dictionary are the values.\n",
    "You can assume that the input dictionary has completely unique keys and values.\n",
    "Example calls are shown in the next cell; leave these calls in place in order to test your code."
   ]
  },
  {
   "cell_type": "code",
   "execution_count": 39,
   "id": "99e74953-121e-4a9e-8e15-565c5d9cf5fc",
   "metadata": {},
   "outputs": [
    {
     "name": "stdout",
     "output_type": "stream",
     "text": [
      "{}\n",
      "{2: 1}\n",
      "{1: 'foo', 2: 'bar'}\n",
      "{'alpha': 5, 'beta': 2}\n"
     ]
    }
   ],
   "source": [
    "# Define your swap_keys_values function here.\n",
    "# Leave the calls below in order to test your code.\n",
    "\n",
    "def swap_keys_values(dic):\n",
    "    return {value: key for key, value in dic.items()}\n",
    "    \n",
    "print(swap_keys_values({})) # should print {}\n",
    "print(swap_keys_values({1 : 2})) # should print {2: 1}\n",
    "print(swap_keys_values({\"foo\" : 1, \"bar\" : 2})) # should print {1: 'foo', 2: 'bar'}\n",
    "print(swap_keys_values({5 : \"alpha\", 2 : \"beta\"})) # should print {'alpha': 5, 'beta': 2}"
   ]
  },
  {
   "cell_type": "code",
   "execution_count": null,
   "id": "3466c1b4-e5b5-4338-9035-85e8dd941373",
   "metadata": {},
   "outputs": [],
   "source": []
  },
  {
   "cell_type": "code",
   "execution_count": null,
   "id": "a9165224-4a13-4029-bc12-d7ab65af6d12",
   "metadata": {},
   "outputs": [],
   "source": []
  }
 ],
 "metadata": {
  "kernelspec": {
   "display_name": "Python 3 (ipykernel)",
   "language": "python",
   "name": "python3"
  },
  "language_info": {
   "codemirror_mode": {
    "name": "ipython",
    "version": 3
   },
   "file_extension": ".py",
   "mimetype": "text/x-python",
   "name": "python",
   "nbconvert_exporter": "python",
   "pygments_lexer": "ipython3",
   "version": "3.13.5"
  }
 },
 "nbformat": 4,
 "nbformat_minor": 5
}
