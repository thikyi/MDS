{
 "cells": [
  {
   "cell_type": "markdown",
   "id": "aad189d6-d425-4c5a-8969-ae3d4ea0c6e2",
   "metadata": {},
   "source": [
    "# Assignment 11: Loops Part 2 #\n",
    "\n",
    "### Goals for this Assignment ###\n",
    "\n",
    "By the time you have completed this assignment, you should be able to:\n",
    "\n",
    "- Build up a single non-list result value via multiple loop iterations\n",
    "- Iterate based on some condition using `while`\n",
    "- Use `range` to iterate over a range of values\n",
    "- Loop over a list by index and modify it in-place\n",
    "\n",
    "## Step 1: Write a Function to Compute the Sum of a List of Numbers ##\n",
    "\n",
    "### Background: Building Up a Single Result While Iterating ###\n",
    "\n",
    "It's common to see loops which roughly do the following:\n",
    "\n",
    "- Before the loop starts, some new variable is set to an initial value\n",
    "- For each element of the loop, we update this new variable based on the current list element, as well as the current value of the variable\n",
    "\n",
    "Or, in _psuedocode_, we see something like:\n",
    "\n",
    "```python\n",
    "new_variable = initial_value\n",
    "for element in some_list:\n",
    "    new_variable = some_operation(new_variable, element)\n",
    "```\n",
    "\n",
    "For example, the function below computes the product of a list (i.e., the result of multiplying all elements together):"
   ]
  },
  {
   "cell_type": "code",
   "execution_count": 1,
   "id": "5cb4494f-c7d5-4c7d-95fd-a4290740ad36",
   "metadata": {},
   "outputs": [
    {
     "name": "stdout",
     "output_type": "stream",
     "text": [
      "10\n",
      "16\n",
      "120\n",
      "1\n"
     ]
    }
   ],
   "source": [
    "def product(numbers):\n",
    "    result = 1\n",
    "    for number in numbers:\n",
    "        result = result * number\n",
    "    return result\n",
    "\n",
    "print(product([2, 5])) # prints 10\n",
    "print(product([1, 8, 2])) # prints 16\n",
    "print(product([4, 5, 3, 2])) # prints 120\n",
    "print(product([])) # prints 1"
   ]
  },
  {
   "cell_type": "markdown",
   "id": "5164f4c0-8f74-4f03-b438-dfe3b859be24",
   "metadata": {},
   "source": [
    "For product, we select our initial value to be `1`; this follows from the fact that any number times 1 is 1.\n",
    "That is, it is always safe to multiply by 1.\n",
    "From there, we take our running value (`result`), and multiply it by the current element of the list (`result * number`).\n",
    "We finally update `result` with this new value (`result = result * number`), and keep following this process until no list elements remain.\n",
    "At that point, we can return the computed result.\n",
    "\n",
    "### Try this Yourself ###\n",
    "\n",
    "Now write a function named `find_sum` which will compute the sum of an input list of numbers.\n",
    "Define your function in the next cell.\n",
    "Leave the calls in place in order to test your code."
   ]
  },
  {
   "cell_type": "code",
   "execution_count": 3,
   "id": "ade34f8f-bd2b-44d8-bb00-b6ad117c63e7",
   "metadata": {},
   "outputs": [
    {
     "name": "stdout",
     "output_type": "stream",
     "text": [
      "3\n",
      "15\n",
      "17\n",
      "0\n"
     ]
    }
   ],
   "source": [
    "# Define your function below.  Leave the calls in place to test your code.\n",
    "def find_sum(numbers):\n",
    "    result = 0\n",
    "    for number in numbers:\n",
    "        result +=number\n",
    "    return result\n",
    "\n",
    "print(find_sum([0, 1, 2])) # should print 3\n",
    "print(find_sum([8, 3, 4])) # should print 15\n",
    "print(find_sum([2, 1, 5, 9])) # should print 17\n",
    "print(find_sum([])) # should print 0"
   ]
  },
  {
   "cell_type": "markdown",
   "id": "e46019d4-398b-4706-993e-8fc437a27a24",
   "metadata": {},
   "source": [
    "## Step 2: Compute Factorial using `while` ##\n",
    "\n",
    "### Background: `while` Loops ###\n",
    "\n",
    "In addition to `for...in` loops, Python also supports `while` loops.\n",
    "Instead of iterating over a list or some fixed number of elements, a `while` loop behaves much more like an `if`: if a given Boolean expression evaluates to `False`, then the body of the `while` is not executed, and Python moves on to the next statement.\n",
    "If the condition for `while` evaluates to `True`, then the body of the `while` loop is executed, as with an `if`.\n",
    "However, with `while`, once the body is done executing, a `while` loop starts the entire process over again from the condition.\n",
    "\n",
    "For example, consider the following code, which will repeatedly increment a variable until it is equal to `2`:"
   ]
  },
  {
   "cell_type": "code",
   "execution_count": 4,
   "id": "fdd43b63-b892-49ee-b96e-b42be566edbb",
   "metadata": {},
   "outputs": [
    {
     "name": "stdout",
     "output_type": "stream",
     "text": [
      "0\n",
      "1\n",
      "after loop\n"
     ]
    }
   ],
   "source": [
    "counter = 0\n",
    "while counter < 2:\n",
    "    print(counter)\n",
    "    counter += 1\n",
    "print(\"after loop\")"
   ]
  },
  {
   "cell_type": "markdown",
   "id": "240f12c9-91bd-46ab-a55e-ae59e55bb6ea",
   "metadata": {},
   "source": [
    "The above code will print `0`, `1`, `2`, and `\"after loop\"`, in that order, if executed.\n",
    "Execution proceeds stepwise as follows:\n",
    "\n",
    "1. `counter` is initialized to `0` with `counter = 0`\n",
    "2. The `while` loop is entered.  Since `counter < 2` evaluates to `True`, we execute the body of the loop.\n",
    "3. The loop body is executed, printing out the current value of `counter` (`0`), and incrementing `counter`, so `counter` is now `1`.\n",
    "4. Execution loops back to the start of the loop, rechecking the condition `counter < 2`.  Since `1 < 2` evaluates to `True`, execution reenters the body of the loop.\n",
    "5. The loop body is executed again, printing out the current vaue of `counter` (`1`), and incrementing `counter` (now `2`).\n",
    "6. Execution loops back to the start, rechecking `counter < 2`.  Since `counter` is now `2`, and `2 < 2` evaluates to `False`, execution jumps past the loop.\n",
    "7. The first statement after the loop is reached (`print(\"after loop\")`), resulting in `\"after loop\"` being printed out.\n",
    "\n",
    "Despite the name, `while` loops, strictly speaking, do not execute the body of the loop while the condition evaluates to `True`.\n",
    "Notably, the loop condition is only checked when execution reaches the top of the loop.\n",
    "This distinction is illustrated through the following example:"
   ]
  },
  {
   "cell_type": "code",
   "execution_count": 5,
   "id": "2c93e436-85f7-42d1-bade-d169a1c8010d",
   "metadata": {},
   "outputs": [
    {
     "name": "stdout",
     "output_type": "stream",
     "text": [
      "in loop\n",
      "still in loop\n",
      "after loop\n"
     ]
    }
   ],
   "source": [
    "num = 5\n",
    "while num < 10:\n",
    "    print(\"in loop\")\n",
    "    num = 20\n",
    "    print(\"still in loop\")\n",
    "print(\"after loop\")"
   ]
  },
  {
   "cell_type": "markdown",
   "id": "134b4059-f69b-4fbc-9337-7daeb09f2c52",
   "metadata": {},
   "source": [
    "Notably, _both_ `\"in loop\"` and `\"still in loop\"` are printed if the above code is executed.\n",
    "While `num < 10` evaluates to `False` if `num` is `20`, and `num` is set to `20` within the loop, we don't check the condition until we return to the top of the loop.\n",
    "This means that we will continue to execute the body of the loop (printing `\"still in loop\"`), and won't notice the condition change until the remainder of the body is finished executing.\n",
    "\n",
    "### Try this Yourself ###\n",
    "\n",
    "Implement a function named `factorial` which will take an integer `n`, and compute the factorial of `n` (`n!`).\n",
    "An implementation strategy follows:\n",
    "\n",
    "1. Initialize some result variable to `1`.\n",
    "2. As long as `n` is greater than `0`, multiply the result variable by `n`, and update the result with the product.  Then decrement `n`.\n",
    "3. Once `n` hits `0`, the result variable should hold the factorial.\n",
    "\n",
    "Define your function in the next cell.\n",
    "Leave the example calls in place to help test your code."
   ]
  },
  {
   "cell_type": "code",
   "execution_count": 6,
   "id": "752f4d80-323c-4a4a-a20b-ff63d73e808e",
   "metadata": {},
   "outputs": [
    {
     "name": "stdout",
     "output_type": "stream",
     "text": [
      "1\n",
      "1\n",
      "2\n",
      "6\n",
      "24\n"
     ]
    }
   ],
   "source": [
    "# Define your function here.  Leave the calls below for testing.\n",
    "def factorial(n):\n",
    "    result = 1\n",
    "    while n > 0:       \n",
    "        result *= n     \n",
    "        n -= 1         \n",
    "    return result\n",
    "\n",
    "print(factorial(0)) # should print 1\n",
    "print(factorial(1)) # should print 1\n",
    "print(factorial(2)) # should print 2\n",
    "print(factorial(3)) # should print 6\n",
    "print(factorial(4)) # should print 24"
   ]
  },
  {
   "cell_type": "markdown",
   "id": "ba07e6c6-2ddc-4bed-9f1f-23a2b0004e3c",
   "metadata": {},
   "source": [
    "## Step 3: Write a Function to Compute the Sum of Numbers in a Range using `range` ##\n",
    "\n",
    "### Background: `range` Function and Generators ###\n",
    "\n",
    "A common task is to iterate through all the numbers in a given range.\n",
    "For example, say we want to iterate through all elements of a list, but instead of iterating left-to-right like `for...in`, we want to iterate through them right-to-left.\n",
    "One way to do this is via the use of `while`, starting at the maximum valid index in a list, and descending until we hit the beginning of the list.\n",
    "This is shown in the cell below."
   ]
  },
  {
   "cell_type": "code",
   "execution_count": 7,
   "id": "c239f7e0-e4ea-497c-bcb0-c1e81a88dacc",
   "metadata": {},
   "outputs": [
    {
     "name": "stdout",
     "output_type": "stream",
     "text": [
      "baz\n",
      "bar\n",
      "foo\n"
     ]
    }
   ],
   "source": [
    "def print_right_to_left(list_elements):\n",
    "    index = len(list_elements) - 1\n",
    "    while index >= 0:\n",
    "        print(list_elements[index])\n",
    "        index -= 1\n",
    "\n",
    "print_right_to_left([]) # prints nothing\n",
    "print_right_to_left([\"foo\", \"bar\", \"baz\"])"
   ]
  },
  {
   "cell_type": "markdown",
   "id": "ae8ca9bb-c955-4b58-b713-d1a1f94704ee",
   "metadata": {},
   "source": [
    "In the above code, the maximal index is computed by finding the length of the list, and decrementing the result.\n",
    "From there, we iterate while the index is non-negative, and use list indexing to get and print the element at the given index.\n",
    "We then decrement the index, in order to move onto the next list element to the left.\n",
    "\n",
    "While the above approach works, it is arguably not ideal.\n",
    "For one, `while` loops tend to be uncommon in Python, and `for...in` loops are prefered.\n",
    "More importantly, we need to take care to decrement `index` inside of the body of `while`.\n",
    "If we forget to decrement `index`, the end result would be an _infinite loop_, that is, a loop which will never terminate.\n",
    "This is because without the decrement, `index` will never change, and therefore `index >= 0` will never change, either.\n",
    "Infinite loops can be difficult to debug, as externally a program in an infinite loop might merely appear to be taking a long time.\n",
    "If we are expecting the program to take a long time, it may be awhile before we'd even suspect something is amiss.\n",
    "\n",
    "Python has a built-in function which can help address these issues, specifically the `range` function.\n",
    "The `range` function is used to iterate through all numbers in a range via a `for...in` loop.\n",
    "The `range` function can take more than one actual parameter; some usages of the range function are in the cell below."
   ]
  },
  {
   "cell_type": "code",
   "execution_count": 8,
   "id": "eb20abfd-801a-4f24-9cef-d1d164be7abc",
   "metadata": {},
   "outputs": [
    {
     "name": "stdout",
     "output_type": "stream",
     "text": [
      "Single parameter:\n",
      "0\n",
      "1\n",
      "2\n",
      "\n",
      "Two parameters:\n",
      "5\n",
      "6\n",
      "7\n",
      "8\n",
      "\n",
      "Three parameters:\n",
      "10\n",
      "8\n",
      "6\n",
      "4\n",
      "2\n"
     ]
    }
   ],
   "source": [
    "print(\"Single parameter:\")\n",
    "# Single-parameter version: iterate through the integers in the range [0, num),\n",
    "# where num is 3 in this example.  To be clear, we start at 0, but end at num - 1.\n",
    "for num in range(3):\n",
    "    print(num)\n",
    "\n",
    "print()\n",
    "\n",
    "print(\"Two parameters:\")\n",
    "# Two-parameter version: iterate through the integers in the range [first, second)\n",
    "for num in range(5, 9):\n",
    "    print(num)\n",
    "\n",
    "print()\n",
    "\n",
    "print(\"Three parameters:\")\n",
    "# Three-parameter version: Start at first, end when second is reached, but don't\n",
    "# include second.  The third parameter is added to first for each iteration.\n",
    "# In this case, because the third parameter is negative, we end up counting down.\n",
    "for num in range(10, 0, -2):\n",
    "    print(num)"
   ]
  },
  {
   "cell_type": "markdown",
   "id": "d9020f7f-f76b-4c76-a260-21926888dea6",
   "metadata": {},
   "source": [
    "Using `range`, we can reimplement `print_right_to_left` using `for...in`, like so:"
   ]
  },
  {
   "cell_type": "code",
   "execution_count": 9,
   "id": "dbc3c41e-c055-4715-ba30-4804d97ac8c0",
   "metadata": {},
   "outputs": [
    {
     "name": "stdout",
     "output_type": "stream",
     "text": [
      "baz\n",
      "bar\n",
      "foo\n"
     ]
    }
   ],
   "source": [
    "def alt_print_right_to_left(list_elements):\n",
    "    for index in range(len(list_elements) - 1, -1, -1):\n",
    "        print(list_elements[index])\n",
    "\n",
    "alt_print_right_to_left([]) # prints nothing\n",
    "alt_print_right_to_left([\"foo\", \"bar\", \"baz\"])"
   ]
  },
  {
   "cell_type": "markdown",
   "id": "595a807f-a9ac-44c8-a234-a46a5d439654",
   "metadata": {},
   "source": [
    "Because of the use of `range` above, we no longer need to worry about decrementing `index` on each loop iteration.\n",
    "The code itself has shrunk a bit as well, though admittedly the line introducing `for...in` is a little long.\n",
    "\n",
    "While you can think of `range` as returning a list, in reality `range` returns a _generator_.\n",
    "The distinction is that a list requires you to have all elements in memory at the same time, whereas a generator allows you to only produce a single element at a time.\n",
    "This means that generators generally only need as much memory as any single element, as opposed to lists which need memory for all elements at once.\n",
    "This makes generators much more efficient on memory.\n",
    "\n",
    "Working with generators more is beyond the scope of the class.\n",
    "However, you should remember that `range`, despite appearances, is very efficient.\n",
    "You should also remember that `for...in` can be used to iterate over more than just lists (in this case, also generators).\n",
    "\n",
    "### Try this Yourself ###\n",
    "\n",
    "Define a function named `sum_between` which will compute the sum of all numbers within a given range, and return that sum.\n",
    "Specifically, `sum_between` will take two parameters:\n",
    "\n",
    "1. The start of the range, inclusive\n",
    "2. The end of the range, **exclusive**\n",
    "\n",
    "As a hint, your code is expected to be similar to what you wrote for Step 1.\n",
    "However, instead of `sum_between` taking a list, you instead should call the `range` function to iterate through all numbers in the range via a `for...in` loop.\n",
    "\n",
    "Define your function in the next cell.\n",
    "Leave the example calls in place to help test your code."
   ]
  },
  {
   "cell_type": "code",
   "execution_count": 10,
   "id": "07383828-968f-4d2a-bb92-1d8b3cc96b53",
   "metadata": {},
   "outputs": [
    {
     "name": "stdout",
     "output_type": "stream",
     "text": [
      "0\n",
      "5\n",
      "10\n",
      "38\n",
      "0\n"
     ]
    }
   ],
   "source": [
    "# Define your function here.  Leave the calls below for testing.\n",
    "def sum_between(range_start, range_end):\n",
    "    total = 0\n",
    "    for num in range(range_start, range_end): \n",
    "        total += num\n",
    "    return total\n",
    "\n",
    "print(sum_between(0, 1)) # 0\n",
    "print(sum_between(5, 6)) # 5\n",
    "print(sum_between(1, 5)) # 1 + 2 + 3 + 4 = 10\n",
    "print(sum_between(8, 12)) # 8 + 9 + 10 + 11 = 38\n",
    "print(sum_between(5, 4)) # range is empty - return 0"
   ]
  },
  {
   "cell_type": "markdown",
   "id": "1dad02af-af52-46db-8c98-dd3d26b84836",
   "metadata": {},
   "source": [
    "## Step 4: Modify List Elements with Squared Versions ##\n",
    "\n",
    "### Background: Modifying List Elements with Indexing ###\n",
    "\n",
    "You've already used list indexing to access the elements of a list.\n",
    "However, you can also use list indexing to _modify_ the elements of a list.\n",
    "For example, consider the code in the following cell:"
   ]
  },
  {
   "cell_type": "code",
   "execution_count": 11,
   "id": "63c2c9bb-bc77-48e2-b672-5d891f290ecd",
   "metadata": {},
   "outputs": [
    {
     "name": "stdout",
     "output_type": "stream",
     "text": [
      "alpha\n",
      "bar\n",
      "beta\n",
      "blah\n"
     ]
    }
   ],
   "source": [
    "some_list = [\"foo\", \"bar\", \"baz\", \"blah\"]\n",
    "some_list[0] = \"alpha\"\n",
    "some_list[2] = \"beta\"\n",
    "for element in some_list:\n",
    "    print(element)"
   ]
  },
  {
   "cell_type": "markdown",
   "id": "1e59bae6-7e81-4a3f-979a-a39f7a5fec63",
   "metadata": {},
   "source": [
    "If the cell above is run, you'll see that the element at index `0` is no longer `\"foo\"`, but is instead `\"alpha\"`.\n",
    "Similarly, the element at index `2` is no longer `\"baz\"`, but rather `\"beta\"`.\n",
    "The key point is that list indexing can be used on the lefthand side of the assignment (`=`), and in so doing, one modifies the element at the provided index.\n",
    "\n",
    "As before, while the above example uses hard-coded indicies, any expression between the square brackets (`[` and `]`) which evaluates to an integer will do.\n",
    "For example:"
   ]
  },
  {
   "cell_type": "code",
   "execution_count": 12,
   "id": "8565813a-f2b6-4f9c-824b-5962acb9804c",
   "metadata": {},
   "outputs": [
    {
     "name": "stdout",
     "output_type": "stream",
     "text": [
      "alpha\n",
      "bar\n",
      "gamma\n",
      "delta\n"
     ]
    }
   ],
   "source": [
    "some_list[1 + 1] = \"gamma\"\n",
    "some_variable = 3\n",
    "some_list[some_variable] = \"delta\"\n",
    "for element in some_list:\n",
    "    print(element)"
   ]
  },
  {
   "cell_type": "markdown",
   "id": "69ddcae8-0137-4d3b-bec8-ab43036c3c60",
   "metadata": {},
   "source": [
    "Since `1 + 1` evaluates to `2`, `some_list[2]` ends up being modified to be `\"gamma\"` with the first line.\n",
    "Similarly, since `some_variable` evaluates to `3`, `some_list[3]` is modified to be `\"delta\"`.\n",
    "\n",
    "### Try this Yourself ###\n",
    "\n",
    "For this step, you will revisit the `return_squares` function you implemented in the prior assignment.\n",
    "You will need to define a function named `squares`, which will take a list of numbers, and compute the square of each number (i.e., each number to the second power).\n",
    "However, unlike `return_squares`, `squares` should instead _modify_ the list in-place.\n",
    "\n",
    "Define your function in the next cell.\n",
    "Leave the example calls in place to help test your code."
   ]
  },
  {
   "cell_type": "code",
   "execution_count": 13,
   "id": "1f8bddb5-de10-4f4d-85f8-48be9d9d733c",
   "metadata": {},
   "outputs": [
    {
     "name": "stdout",
     "output_type": "stream",
     "text": [
      "9\n",
      "4\n",
      "16\n",
      "\n",
      "\n",
      "64\n"
     ]
    }
   ],
   "source": [
    "# Define your function here.  Leave the calls and definition of \n",
    "# print_list below for testing.\n",
    "def squares(int_elements):\n",
    "    for i in range(len(int_elements)):\n",
    "        int_elements[i] = int_elements[i] ** 2\n",
    "\n",
    "def print_list(list_elements):\n",
    "    for element in list_elements:\n",
    "        print(element)\n",
    "\n",
    "first_list = [3, 2, 4]\n",
    "second_list = []\n",
    "third_list = [8]\n",
    "\n",
    "squares(first_list)\n",
    "squares(second_list)\n",
    "squares(third_list)\n",
    "\n",
    "print_list(first_list)\n",
    "# Above statement should print:\n",
    "# 9\n",
    "# 4\n",
    "# 16\n",
    "\n",
    "print()\n",
    "\n",
    "print_list(second_list)\n",
    "# Above statement should not print anything\n",
    "\n",
    "print()\n",
    "\n",
    "print_list(third_list)\n",
    "# Above statement should print:\n",
    "# 64"
   ]
  },
  {
   "cell_type": "markdown",
   "id": "2a6f9e9e-c428-4a0b-9c04-3da4fa563648",
   "metadata": {},
   "source": [
    "### Note About References vs. Objects ###\n",
    "\n",
    "It was previously mentioned that the distinction between references and the objects that they refer to can sometimes be _very_ important to understanding what code does.\n",
    "Your definition of `squares` is one such example.\n",
    "`squares` takes a _reference_ to a list object, not a list object itself, and the reference to this list is copied when `squares` is called.\n",
    "As a result, when `squares` modifies individual list elements, it ends up modifying the original list.\n",
    "If the list itself were instead copied (i.e., `squares` took a copy of the list itself instead of a copy of the reference to the list), then `squares` would _instead_ be modifying a _copy_ of the original list.\n",
    "If `squares` only modified a copy of the original list, then the calls to `print_list` above would show no change from the original list elements.\n",
    "However, because `squares` ends up working with the original lists, `print_list` ends up displaying the modifications to the original list.\n",
    "\n",
    "In practice, it is _very_ common for us to be working with data structures like lists, wherein only one instance of the data structure itself lives in memory, but we have potentially many references to this data structure.\n",
    "Since all the references refer to the same memory, if we change this data structure, the changes are effectively propagated everywhere.\n",
    "Or, phrased in a more human way, if we pass around addresses to a given building, and the building is repainted, if everyone with the address were to go to the address and look at the building, then everyone would see that the building has been repainted.\n",
    "That is, there is only a single building, and any changes on that building impact the building itself, no matter how many people know the address of the building.\n",
    "\n",
    "## Step 5: Submit via Canvas ##\n",
    "\n",
    "Be sure to **save your work**, then log into [Canvas](https://canvas.csun.edu/).  Go to the COMP 502 course, and click \"Assignments\" on the left pane.  From there, click \"Assignment 11\".  From there, you can upload the `11_loops_part_2.ipynb` file.\n",
    "\n",
    "You can turn in the assignment multiple times, but only the last version you submitted will be graded."
   ]
  }
 ],
 "metadata": {
  "kernelspec": {
   "display_name": "Python 3 (ipykernel)",
   "language": "python",
   "name": "python3"
  },
  "language_info": {
   "codemirror_mode": {
    "name": "ipython",
    "version": 3
   },
   "file_extension": ".py",
   "mimetype": "text/x-python",
   "name": "python",
   "nbconvert_exporter": "python",
   "pygments_lexer": "ipython3",
   "version": "3.13.5"
  }
 },
 "nbformat": 4,
 "nbformat_minor": 5
}
