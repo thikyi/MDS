{
 "cells": [
  {
   "cell_type": "markdown",
   "id": "f60543b9-bb9d-49b3-a121-2e119648fa9c",
   "metadata": {},
   "source": [
    "# Assignment 6: If #\n",
    "\n",
    "### Goals for this Assignment ###\n",
    "\n",
    "By the time you have completed this assignment, you should be able to:\n",
    "\n",
    "- Write `if` statements\n",
    "- Write `if`/`else` statements\n",
    "- Write `if`/`elif`/`else` statements\n",
    "\n",
    "## Step 1: Use `if` to Conditionally Print Something ##\n",
    "\n",
    "### Background: Conditional Execution with `if` Statements ###\n",
    "\n",
    "It is often the case that we only want to execute some piece of code sometimes, depending on a given condition.\n",
    "For example, it only makes sense to execute error-handling routines if an error occurs.\n",
    "\n",
    "The most fundamental (and common) way of conditionally executing code in Python is via the `if` statement.\n",
    "`if` takes a Boolean expression, and if the expression evaluates to `True`, it will execute the code indented underneath the `if` (i.e., the _body_ of the `if`).\n",
    "An example is shown in the next cell."
   ]
  },
  {
   "cell_type": "code",
   "execution_count": 1,
   "id": "f75b8289-df10-4488-b581-e3af0746b987",
   "metadata": {},
   "outputs": [
    {
     "name": "stdout",
     "output_type": "stream",
     "text": [
      "Two is less than three\n"
     ]
    }
   ],
   "source": [
    "if 2 < 3:\n",
    "    print(\"Two is less than three\")\n",
    "\n",
    "if 5 < 1:\n",
    "    print(\"Five is less than one\")"
   ]
  },
  {
   "cell_type": "markdown",
   "id": "43c8663f-0768-4cbf-aad1-e85de028cae0",
   "metadata": {},
   "source": [
    "If you run this cell, you'll see that `\"Two is less than three\"` gets printed out, but **not** `\"Five is less than one\"`.\n",
    "The reason is because of the condition on the `if`.\n",
    "Specifically, since `2 < 3` in the first `if` evaluates to `True`, the `if`'s body is executed.\n",
    "However, for the second `if`, since `5 < 1` evaluates to `False`, the body is completely ignored.\n",
    "\n",
    "### Try this Yourself ###\n",
    "\n",
    "Consider the following Python code and output:\n",
    "\n",
    "```python\n",
    "greater_than(1, 3) # does not print anything\n",
    "greater_than(3, 1) # prints \"greater than\"\n",
    "greater_than(3, 3) # does not print anything\n",
    "```\n",
    "\n",
    "As shown, the `greater_than` function will print out `\"greater than\"` if the first parameter is greater than the second parameter.\n",
    "If the first parameter is **not** greater than the second parameter, then `greater_than` prints nothing.\n",
    "\n",
    "Define `greater_than` in the next cell.\n",
    "You should leave the calls to `greater_than` in place for testing purposes."
   ]
  },
  {
   "cell_type": "code",
   "execution_count": 4,
   "id": "b3892b4f-5af0-47d6-88dc-ea23ca066350",
   "metadata": {},
   "outputs": [
    {
     "name": "stdout",
     "output_type": "stream",
     "text": [
      "greater than\n"
     ]
    }
   ],
   "source": [
    "# Define the greater_than function here.\n",
    "def greater_than(num1,num2):\n",
    "    if num1 > num2:\n",
    "        print (\"greater than\")\n",
    "\n",
    "\n",
    "greater_than(1, 3) # does not print anything\n",
    "greater_than(3, 1) # prints \"greater than\"\n",
    "greater_than(3, 3) # does not print anything"
   ]
  },
  {
   "cell_type": "markdown",
   "id": "b6350656-1658-4dce-860b-e038de71292c",
   "metadata": {},
   "source": [
    "## Step 2: Use `if`/`else` to Conditionally Print Something ##\n",
    "\n",
    "### Background: `if`/`else` Statements ###\n",
    "\n",
    "Sometimes it is necessary to execute some piece of code if the condition evaluates to `True`, **and** to execute some **different** piece of code if the condition evaluates to `False`.\n",
    "One way to handle this using only `if` is as follows:\n",
    "\n",
    "```python\n",
    "condition = ... # ... is whatever we want to check\n",
    "if condition:\n",
    "    ... # code to execute if the condition is True\n",
    "if not condition:\n",
    "    ... # code to execute if the condition is False\n",
    "```\n",
    "\n",
    "That is, we first evaluate the condition (`...`), and save the result in a variable (`condition`).\n",
    "We then use an `if` with the condition, to conditionally execute code if the condition is `True`.\n",
    "We then follow this `if` with another `if`, which checks the **negated** condition (`not condition`), and thus will execute code if the condition is `False`.\n",
    "\n",
    "This works, but it's very inconvenient, especially considering how common this sort of operation is.\n",
    "As a result, we instead have a variant of `if` called `if`/`else`.\n",
    "With `if`/`else`, we can instead write the above code as:\n",
    "\n",
    "```python\n",
    "if ...:\n",
    "    ... # code to execute if the condition is True\n",
    "else:\n",
    "    ... # code to execute if the condition is False\n",
    "```\n",
    "\n",
    "Building on the `greater_than` example, we can define a `check_equality` function, which will print either `\"are equal\"` or `\"are NOT equal\"`, by using `if`/`else`.\n",
    "This is shown in the cell below."
   ]
  },
  {
   "cell_type": "code",
   "execution_count": 5,
   "id": "f05835cb-5f25-4be5-b304-0ac8b880a421",
   "metadata": {},
   "outputs": [
    {
     "name": "stdout",
     "output_type": "stream",
     "text": [
      "are NOT equal\n",
      "are NOT equal\n",
      "are equal\n",
      "are equal\n"
     ]
    }
   ],
   "source": [
    "def check_equality(x, y):\n",
    "    if x == y:\n",
    "        print(\"are equal\")\n",
    "    else:\n",
    "        print(\"are NOT equal\")\n",
    "\n",
    "check_equality(1, 2) # prints \"are NOT equal\"\n",
    "check_equality(2, 1) # prints \"are NOT equal\"\n",
    "check_equality(1, 1) # prints \"are equal\"\n",
    "check_equality(2, 2) # prints \"are equal\""
   ]
  },
  {
   "cell_type": "markdown",
   "id": "fc5e1081-54ec-419a-a9c9-b75bba160fad",
   "metadata": {},
   "source": [
    "### Try this Yourself ###\n",
    "\n",
    "In the next cell, define **two** functions named `my_min` and `my_max`, which will return whichever of their two inputs is smaller or bigger, respectively.\n",
    "If both inputs are the same, you can select either one as the input you return.\n",
    "Examples follow:\n",
    "\n",
    "```python\n",
    "print(my_min(1, 2)) # prints 1\n",
    "print(my_min(4, 3)) # prints 3\n",
    "print(my_min(5, 5)) # prints 5\n",
    "\n",
    "print(my_max(1, 2)) # prints 2\n",
    "print(my_max(4, 3)) # prints 4\n",
    "print(my_max(5, 5)) # prints 5\n",
    "```"
   ]
  },
  {
   "cell_type": "code",
   "execution_count": 7,
   "id": "5cd5157d-28f9-4757-9b8e-237a02176137",
   "metadata": {},
   "outputs": [
    {
     "name": "stdout",
     "output_type": "stream",
     "text": [
      "1\n",
      "3\n",
      "5\n",
      "2\n",
      "4\n",
      "5\n"
     ]
    }
   ],
   "source": [
    "# Define your my_min and my_max functions below.  You should leave the calls\n",
    "# in place for testing your code\n",
    "def my_min(num1,num2):\n",
    "    if num1 > num2:\n",
    "        return num2\n",
    "    else:\n",
    "        return num1\n",
    "\n",
    "print(my_min(1, 2)) # prints 1\n",
    "print(my_min(4, 3)) # prints 3\n",
    "print(my_min(5, 5)) # prints 5\n",
    "\n",
    "def my_max(num1,num2):\n",
    "    if num1 > num2:\n",
    "        return num1\n",
    "    else:\n",
    "        return num2\n",
    "\n",
    "print(my_max(1, 2)) # prints 2\n",
    "print(my_max(4, 3)) # prints 4\n",
    "print(my_max(5, 5)) # prints 5"
   ]
  },
  {
   "cell_type": "markdown",
   "id": "1149ea05-2559-4582-a110-1638032f0641",
   "metadata": {},
   "source": [
    "## Step 3: Use `if`/`elif`/`else` to Compare Numbers ##\n",
    "\n",
    "### Background: `if`/`elif`/`else` ###\n",
    "\n",
    "Sometimes you want to perform multiple condition checks, and execute code for the first condition which was true.\n",
    "For this, you can use `if`/`elif`/`else`.\n",
    "An example is shown in the next cell."
   ]
  },
  {
   "cell_type": "code",
   "execution_count": 8,
   "id": "6858a741-6b5d-43b1-b8b2-451da8f44f06",
   "metadata": {},
   "outputs": [
    {
     "name": "stdout",
     "output_type": "stream",
     "text": [
      "some other number\n",
      "zero\n",
      "one\n",
      "two\n",
      "three\n",
      "some other number\n"
     ]
    }
   ],
   "source": [
    "def english_name(number):\n",
    "    if number == 0:\n",
    "        return \"zero\"\n",
    "    elif number == 1:\n",
    "        return \"one\"\n",
    "    elif number == 2:\n",
    "        return \"two\"\n",
    "    elif number == 3:\n",
    "        return \"three\"\n",
    "    else:\n",
    "        return \"some other number\"\n",
    "\n",
    "print(english_name(-1)) # prints \"some other number\"\n",
    "print(english_name(0)) # prints \"zero\"\n",
    "print(english_name(1)) # prints \"one\"\n",
    "print(english_name(2)) # prints \"two\"\n",
    "print(english_name(3)) # prints \"three\"\n",
    "print(english_name(4)) # prints \"some other number\""
   ]
  },
  {
   "cell_type": "markdown",
   "id": "76e8ada7-1a7b-40f2-8660-2a9de0c9fdcf",
   "metadata": {},
   "source": [
    "As shown, the body of the first condition which evaluates to `True` is executed.\n",
    "You can have as many or as few `elif`s as you want (and having no `elif`s reduces this to a normal `if`/`else` statement).\n",
    "\n",
    "### Try this Yourself ###\n",
    "\n",
    "Define a function named `compare`, which takes two integers.\n",
    "`compare` should compare the integers, and **return** one of the following strings:\n",
    "\n",
    "- `\"less than\"`, if the first integer is less than the second one\n",
    "- `\"equal to\"`, if the first integer is equal to the second\n",
    "- `\"greater than\"`, if the first integer is greater than the second one\n",
    "\n",
    "Define your `compare` function in the next cell.\n",
    "Example calls are provided at the end of the cell, along with comments showing the expected output."
   ]
  },
  {
   "cell_type": "code",
   "execution_count": 9,
   "id": "135a9946-6173-4d84-ab19-9220400f45dc",
   "metadata": {},
   "outputs": [
    {
     "name": "stdout",
     "output_type": "stream",
     "text": [
      "Less than\n",
      "equal to\n",
      "greater than\n"
     ]
    }
   ],
   "source": [
    "# Define your compare function here.  You should leave the subsequent calls in place\n",
    "# in order to test your code.\n",
    "def compare(num1,num2):\n",
    "    if num1 < num2:\n",
    "        return \"Less than\"\n",
    "    elif num1 == num2:\n",
    "        return \"equal to\"\n",
    "    else:\n",
    "        return \"greater than\"\n",
    "\n",
    "print(compare(1, 2)) # prints \"less than\"\n",
    "print(compare(3, 3)) # prints \"equal to\"\n",
    "print(compare(5, 4)) # prints \"greater than\""
   ]
  },
  {
   "cell_type": "markdown",
   "id": "de618ba4-b628-4797-b448-02b4a9fdc0f7",
   "metadata": {},
   "source": [
    "## Step 4: Write a Function to Compute Letter Grades ##\n",
    "\n",
    "Define a function named `letter_grade`, which, given an integer, will return a string representing what letter grade this corresponds to, according to the class syllabus.\n",
    "From the syllabus, the mapping of scores to grades is as follows:\n",
    "\n",
    "- 95 - 100: A\n",
    "- 90 - 94: A-\n",
    "- 87 - 89: B+\n",
    "- 83 - 86: B\n",
    "- 80 - 82: B-\n",
    "- 77 - 79: C+\n",
    "- 73 - 76: C\n",
    "- 70 - 72: C-\n",
    "- 60 - 69: D\n",
    "- 0 - 59: F\n",
    "\n",
    "Example calls are shown in the next cell, with expected outputs in the comments.\n",
    "It's recommended to leave those in place so you can test your code.\n",
    "You may assume that the input will be of type `int` (not `float`).\n",
    "\n",
    "One way to approach this is by implementing a series of `if` statements, or using one big `if`/`elif`/`else` statement.\n",
    "\n",
    "As a hint, it is possible to simplify some conditions by using information you know from other conditions which have failed.\n",
    "For example, in the `english_name` function from before, by the time the `number == 2` condition is reached, from the prior conditions you alreay know that the number isn't `0` or `1`, because if it were, then one of those conditions would have caught it."
   ]
  },
  {
   "cell_type": "code",
   "execution_count": 10,
   "id": "a47141aa-5c12-4af1-ad80-c9352b891c20",
   "metadata": {},
   "outputs": [
    {
     "name": "stdout",
     "output_type": "stream",
     "text": [
      "A\n",
      "A-\n",
      "B+\n",
      "B\n",
      "B-\n",
      "C+\n",
      "C\n",
      "C-\n",
      "D\n",
      "F\n"
     ]
    }
   ],
   "source": [
    "# Define your letter_grade function here.  Keep the calls below in place\n",
    "# in order to test your code\n",
    "def letter_grade(score):\n",
    "    if 95 <= score <= 100:\n",
    "        return \"A\"\n",
    "    elif 90 <= score <= 94:\n",
    "        return \"A-\"\n",
    "    elif 87 <= score <= 89:\n",
    "        return \"B+\"\n",
    "    elif 83 <= score <= 86:\n",
    "        return \"B\"\n",
    "    elif 80 <= score <= 82:\n",
    "        return \"B-\"\n",
    "    elif 77 <= score <= 79:\n",
    "        return \"C+\"\n",
    "    elif 73 <= score <= 76:\n",
    "        return \"C\"\n",
    "    elif 70 <= score <= 72:\n",
    "        return \"C-\"\n",
    "    elif 60 <= score <= 69:\n",
    "        return \"D\"\n",
    "    else:  # 0–59\n",
    "        return \"F\"\n",
    "\n",
    "print(letter_grade(95)) # prints \"A\"\n",
    "print(letter_grade(94)) # prints \"A-\"\n",
    "print(letter_grade(88)) # prints \"B+\"\n",
    "print(letter_grade(83)) # prints \"B\"\n",
    "print(letter_grade(82)) # prints \"B-\"\n",
    "print(letter_grade(77)) # prints \"C+\"\n",
    "print(letter_grade(76)) # prints \"C\"\n",
    "print(letter_grade(71)) # prints \"C-\"\n",
    "print(letter_grade(65)) # prints \"D\"\n",
    "print(letter_grade(32)) # prints \"F\""
   ]
  },
  {
   "cell_type": "markdown",
   "id": "180c23df-42f9-476f-9c13-18cee5101d57",
   "metadata": {},
   "source": [
    "## Step 5: Write a Function to Score Dice Rolls for a Hypothetical Game ##\n",
    "\n",
    "Define a function named `score_dice`, which will take two integer inputs.\n",
    "These inputs represent the values rolled on 6-sided dice.\n",
    "From there, `score_dice` returns some integer score, according to the following rules:\n",
    "\n",
    "- If two 1's or two 6's were rolled, the score is 10\n",
    "- If any other doubles were rolled (2, 3, 4, or 5), then the score is 8\n",
    "- If two different values were rolled, then the score is whichever value is smaller\n",
    "\n",
    "Example calls are shown in the next cell, with expected outputs in the comments.\n",
    "It's recommended to leave those in place so you can test your code."
   ]
  },
  {
   "cell_type": "code",
   "execution_count": 12,
   "id": "a33887e6-f9bc-4df2-92bf-1c5d01d95758",
   "metadata": {},
   "outputs": [
    {
     "name": "stdout",
     "output_type": "stream",
     "text": [
      "10\n",
      "10\n",
      "8\n",
      "8\n",
      "8\n",
      "8\n",
      "1\n",
      "1\n",
      "2\n"
     ]
    }
   ],
   "source": [
    "# Define your function below.  It's recommended to keep the calls in place\n",
    "# in order to test your code\n",
    "def score_dice(dice1, dice2):\n",
    "    if dice1 == dice2 and (dice1 == 1 or dice1 == 6):\n",
    "        return 10\n",
    "    elif dice1 == dice2:  \n",
    "        return 8\n",
    "    else:  \n",
    "        return min(dice1, dice2)\n",
    "\n",
    "print(score_dice(1, 1)) # prints 10\n",
    "print(score_dice(6, 6)) # prints 10\n",
    "print(score_dice(2, 2)) # prints 8\n",
    "print(score_dice(3, 3)) # prints 8\n",
    "print(score_dice(4, 4)) # prints 8\n",
    "print(score_dice(5, 5)) # prints 8\n",
    "print(score_dice(1, 6)) # prints 1\n",
    "print(score_dice(6, 1)) # prints 1\n",
    "print(score_dice(2, 3)) # prints 2"
   ]
  },
  {
   "cell_type": "markdown",
   "id": "8c01f6e1-e1a6-443a-94da-eada8347724c",
   "metadata": {},
   "source": [
    "## Step 6: Submit via Canvas ##\n",
    "\n",
    "Be sure to **save your work**, then log into [Canvas](https://canvas.csun.edu/).  Go to the COMP 502 course, and click \"Assignments\" on the left pane.  From there, click \"Assignment 6\".  From there, you can upload the `06_if.ipynb` file.\n",
    "\n",
    "You can turn in the assignment multiple times, but only the last version you submitted will be graded."
   ]
  }
 ],
 "metadata": {
  "kernelspec": {
   "display_name": "Python 3 (ipykernel)",
   "language": "python",
   "name": "python3"
  },
  "language_info": {
   "codemirror_mode": {
    "name": "ipython",
    "version": 3
   },
   "file_extension": ".py",
   "mimetype": "text/x-python",
   "name": "python",
   "nbconvert_exporter": "python",
   "pygments_lexer": "ipython3",
   "version": "3.13.5"
  }
 },
 "nbformat": 4,
 "nbformat_minor": 5
}
