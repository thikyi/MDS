{
 "cells": [
  {
   "cell_type": "markdown",
   "id": "f8cbefa3-c4b9-4deb-9c2d-18643cc2561b",
   "metadata": {},
   "source": [
    "# Assignment 12: List Comprehensions #\n",
    "\n",
    "### Goals for this Assignment ###\n",
    "\n",
    "By the time you have completed this assignment, you should be able to:\n",
    "\n",
    "- Use list comprehensions to iterate over a list, perform an operation, and produce a new list\n",
    "- Use `if` in list comrehensions to find desired elements\n",
    "- Use list comprehensions to simultaneously filter elements and perform an operation\n",
    "\n",
    "## Step 1: Revisit Function to Return Squared Elements of a List ##\n",
    "\n",
    "### Background: Performing Operations with List Comprehensions ###\n",
    "\n",
    "From the assignment covering the `append` method on `list`, we saw functions which would traverse a list and produce a new list.\n",
    "For example (copied from that assignment):"
   ]
  },
  {
   "cell_type": "code",
   "execution_count": 3,
   "id": "76c05fc3-87be-43cb-aae0-4e4d7a2fd4b3",
   "metadata": {},
   "outputs": [
    {
     "name": "stdout",
     "output_type": "stream",
     "text": [
      "[4, 2, 9]\n",
      "[]\n",
      "[9, 6, 6, 7]\n"
     ]
    }
   ],
   "source": [
    "def increment_elements(input_list):\n",
    "    output_list = []\n",
    "    for element in input_list:\n",
    "        output_list.append(element + 1)\n",
    "    return output_list\n",
    "\n",
    "print(increment_elements([3, 1, 8])) # prints [4, 2, 9]\n",
    "print(increment_elements([])) # prints []\n",
    "print(increment_elements([8, 5, 5, 6])) # prints [9, 6, 6, 7]"
   ]
  },
  {
   "cell_type": "markdown",
   "id": "2534d0d9-6739-41a9-9dbd-5cc383907b59",
   "metadata": {},
   "source": [
    "The `increment_elements` function above uses `for...in` to iterate over every element of an input list (`input_list`), perform some operation on each element (`element + 1`), save the result in some output list (`output_list.append(...)`), and finally return the result (`return output_list`).\n",
    "\n",
    "It turns out that this sort of pattern is very common in Python (and in programming in general).\n",
    "While the input list, operation, and output list may be very different, the process of processing the list one element at a time and saving the results to another list is done repetitively.\n",
    "To help cut down on this repetition and improve code writability and readability, Python implements a feature known as _list comprehensions_.\n",
    "List comprehensions are a special syntax (i.e., set of symbols) for performing exactly the sort of operation that `increment_elements` does, but without being so verbose about it.\n",
    "\n",
    "An updated version of `increment_elements` is shown in the next cell, which uses list comprehensions in the function body instead of a `for...in` loop:"
   ]
  },
  {
   "cell_type": "code",
   "execution_count": 4,
   "id": "6827df8c-808b-4105-8e3b-8798fefc17f4",
   "metadata": {},
   "outputs": [
    {
     "name": "stdout",
     "output_type": "stream",
     "text": [
      "[4, 2, 9]\n",
      "[]\n",
      "[9, 6, 6, 7]\n"
     ]
    }
   ],
   "source": [
    "def updated_increment_elements(input_list):\n",
    "    return [element + 1 for element in input_list]\n",
    "\n",
    "print(updated_increment_elements([3, 1, 8])) # prints [4, 2, 9]\n",
    "print(updated_increment_elements([])) # prints []\n",
    "print(updated_increment_elements([8, 5, 5, 6])) # prints [9, 6, 6, 7]"
   ]
  },
  {
   "cell_type": "markdown",
   "id": "0102cecb-6152-4ccf-bcdc-0c787ac40599",
   "metadata": {},
   "source": [
    "We can see that the list comprehension significantly cut down on the amount of code necessary to implement `increment_elements`.\n",
    "To break down what this actually says, list comprehensions in general look as follows:\n",
    "\n",
    "```python\n",
    "[expression for variable_name in input_list]\n",
    "```\n",
    "\n",
    "List comprehensions are written in a way which may be a little out of order from what you'd expect.\n",
    "Specifically, each part works as follows:\n",
    "\n",
    "- `input_list` is a list of items to iterate over.  Strictly speaking, it is anything than can be iterated over (including a generator), but for the most part we can think of this as a list.\n",
    "- `variable_name` is the name of a new variable.  Each element in the list will be bound, one iteration at a time, to this variable.  As a whole, `input_list` and `variable_name` work much the same way as in a normal `for...in`, and this is even written in the same way as you're used to.\n",
    "- `expression` is some expression to evaluate.  `variable_name` is in scope in `expression`; that is, the variable is declared _after_ the expression which uses the variable.\n",
    "\n",
    "Putting all this together, looking at the list comprehension in `updated_increment_elements`, this iterates over `input_list`, and binds each element in `input_list` to `element`.\n",
    "This part of the list comprehension looks like a normal `for...in`, except for the fact that the whole comprehension is enclosed in square brackets (`[]`).\n",
    "From there, `element + 1` is evaluated for every element in `input_list`, and the results are saved in a new output list.\n",
    "\n",
    "Unlike in the original `increment_elements`, the output list is never named; i.e., there is no `output_list` variable declared anywhere in `updated_increment_elements`.\n",
    "There are similarly no calls to `append`; the results of `element + 1` are implicitly appended to some new, unnamed output list.\n",
    "Additionally, the whole list comprehension acts as an expression (i.e., it returns a value, namely a new list).\n",
    "Because the list comprehension is an expression, we can `return` it as-is.\n",
    "Collectively, this all cuts down on the amount of code that we need to write.\n",
    "This also helps prevent some possible programming errors from happening (e.g., you cannot `append` an element to the wrong list, if you never call `append` in the first place).\n",
    "\n",
    "### Try this Yourself ###\n",
    "\n",
    "For this step, you'll revisit the `return_squares` function that you previously implemented in assignment 10.\n",
    "However, instead of implementing the body of `return_squares` with a normal `for...in` loop, you instead must use a list comprehension.\n",
    "Specifically, write a function with the following constraints:\n",
    "\n",
    "- The name of the function is `return_squares_with_list_comprehension`\n",
    "- The function takes a list of integers as input\n",
    "- The function returns a list of integers, one for each in the input list.  Each integer in the output is the corresponding input integer squared.\n",
    "- The function internally uses a list comprehension for this task.\n",
    "\n",
    "Define your function in the next cell.\n",
    "Leave the example calls in place to help test your code."
   ]
  },
  {
   "cell_type": "code",
   "execution_count": 6,
   "id": "38e30863-7649-4855-bd5f-227f202d1cb1",
   "metadata": {},
   "outputs": [
    {
     "name": "stdout",
     "output_type": "stream",
     "text": [
      "[9, 4, 16]\n",
      "[]\n",
      "[64]\n"
     ]
    }
   ],
   "source": [
    "# Define your function here.  Leave the calls below for testing.\n",
    "\n",
    "def return_squares_with_list_comprehension(int_elements):\n",
    "    return [element ** 2 for element in int_elements]\n",
    "\n",
    "print(return_squares_with_list_comprehension([3, 2, 4])) # should print [9, 4, 16]\n",
    "print(return_squares_with_list_comprehension([]))  # should print []\n",
    "print(return_squares_with_list_comprehension([8])) # should print [64]"
   ]
  },
  {
   "cell_type": "markdown",
   "id": "247736e0-6089-498f-8945-e19ac1da19cc",
   "metadata": {},
   "source": [
    "## Step 2: Write a Function to Return List Elements Less Than Value ##\n",
    "\n",
    "### Background: `if` in a List Comprehension ###\n",
    "\n",
    "In a list comprehension, `if` can be used to conditionally apply an operation only to certain elements.\n",
    "This is illustrated below, where `if` is used to process only the input list elements which are not equal to `3`:"
   ]
  },
  {
   "cell_type": "code",
   "execution_count": 7,
   "id": "4cde1d94-80c5-4687-b677-9cede1044f72",
   "metadata": {},
   "outputs": [
    {
     "name": "stdout",
     "output_type": "stream",
     "text": [
      "[2, 3, 5]\n",
      "[]\n"
     ]
    }
   ],
   "source": [
    "def increment_non_three(input_list):\n",
    "    return [e + 1 for e in input_list if e != 3]\n",
    "\n",
    "print(increment_non_three([1, 2, 3, 4])) # prints [2, 3, 5]\n",
    "print(increment_non_three([3, 3, 3])) # prints []"
   ]
  },
  {
   "cell_type": "markdown",
   "id": "391e596c-ee33-43c0-b106-c4f59f520ec2",
   "metadata": {},
   "source": [
    "In the code above, `increment_non_three` will iterate over every element in `input_list`, bind each element to `e`, check if `e != 3`, and if so, put `e + 1` in a new output list.\n",
    "The reason why the first call to `increment_non_three` prints `[2, 3, 5]` is because only the elements `[1, 2, 4]` will be processed in the input list `[1, 2, 3, 4]` will be processed (i.e., `3` is skipped because `3 != 3` evaluates to `False`).\n",
    "From there, adding `1` to each element results in `[2, 3, 5]`, as `1 + 1 = 2`, `2 + 1 = 3`, and `4 + 1 = 5`.\n",
    "Similarly, for the second call to `increment_non_three` (`increment_non_three([3, 3, 3])`), in this case all the input list elements are skipped over, as `e != 3` evaluates to `False` for all of them.\n",
    "This results in an empty output list (`[]`).\n",
    "\n",
    "### Try this Yourself ###\n",
    "\n",
    "This step revisits the `print_less_than` function from assignment 10.\n",
    "Write a function with the following constraints:\n",
    "\n",
    "- The name of the function is `return_less_than_with_list_comprehension`\n",
    "- The first parameter to the function is a list of integers named `integers`\n",
    "- The second parameter to the function is an integer named `value`\n",
    "- The function returns a list of integers, where each integer is from the input list.  An integer is only included in the output list if it is less than `value`.\n",
    "- The function internally uses a list comprehension with `if` within it\n",
    "\n",
    "Define your function in the next cell.\n",
    "Leave the calls in place in order to test your code.\n",
    "As a hint, while the `expression` portion of a list comprehension can evaluate to something different than the value in the original input list, there is no need to make it do so.\n",
    "For example, for some list `input_list`, `[e for e in input_list]` will evaluate to a _copy_ of the original `input_list`."
   ]
  },
  {
   "cell_type": "code",
   "execution_count": 12,
   "id": "1c551f90-4f5a-43ac-a2e9-a765bce75b2a",
   "metadata": {},
   "outputs": [
    {
     "name": "stdout",
     "output_type": "stream",
     "text": [
      "[2, 1]\n",
      "[8, 3, 0, 9]\n",
      "[]\n"
     ]
    }
   ],
   "source": [
    "# Define your function below.  Leave the calls in order to test your code.\n",
    "\n",
    "\n",
    "def return_less_than_with_list_comprehension(integers,value):\n",
    "    return [e for e in integers if e < value]\n",
    "\n",
    "print(return_less_than_with_list_comprehension([2, 7, 1, 9], 3)) # prints [2, 1]\n",
    "print(return_less_than_with_list_comprehension([8, 12, 3, 0, 9], 10)) # prints [8, 3, 0, 9]\n",
    "print(return_less_than_with_list_comprehension([1, 2, 3], 0)) # prints []"
   ]
  },
  {
   "cell_type": "markdown",
   "id": "50dae49f-5035-479a-af08-1cd841396d9a",
   "metadata": {},
   "source": [
    "## Step 3: Return Even Numbers in a List ##\n",
    "\n",
    "This step revisits the `return_evens` function from assignment 10.\n",
    "\n",
    "Define a function with the following constraints:\n",
    "\n",
    "- The name of the function is `return_evens_with_list_comprehension`\n",
    "- The function takes a list of integers\n",
    "- The function returns a list of integers, which will contain all the even numbers in the input list\n",
    "- The function internally uses a list comprehension with `if` within it\n",
    "\n",
    "Define your function in the next cell.\n",
    "Leave the calls in place in order to test your code."
   ]
  },
  {
   "cell_type": "code",
   "execution_count": 15,
   "id": "a9b79faa-cb45-4b98-9136-12768ac83d42",
   "metadata": {},
   "outputs": [
    {
     "name": "stdout",
     "output_type": "stream",
     "text": [
      "[2, 8, 4]\n"
     ]
    }
   ],
   "source": [
    "# Define your function here.  Leave the calls in order to test your code.\n",
    "\n",
    "def return_evens_with_list_comprehension(integers):\n",
    "    return [e for e in integers if e %2 == 0]\n",
    "\n",
    "print(return_evens_with_list_comprehension([3, 2, 8, 4, 5])) # should print [2, 8, 4]"
   ]
  },
  {
   "cell_type": "markdown",
   "id": "9ee33ca5-8396-46e6-9d1f-c0bcd9373396",
   "metadata": {},
   "source": [
    "## Step 4: Compute Cubes of Odd Numbers in a List ##\n",
    "\n",
    "Define a function with the following constraints:\n",
    "\n",
    "- The name of the function is `cubes_of_odds`\n",
    "- The function takes a list of integers\n",
    "- The function returns a list of integers, where each integer is the result of cubing the odd numbers in the input list (i.e., finding the third power of the input odd numbers)\n",
    "\n",
    "Define your function in the next cell.\n",
    "Leave the calls in place in order to test your code."
   ]
  },
  {
   "cell_type": "code",
   "execution_count": 17,
   "id": "1e540ee5-79a0-4243-9a6e-7daf01b1fb38",
   "metadata": {},
   "outputs": [
    {
     "name": "stdout",
     "output_type": "stream",
     "text": [
      "[27, 125]\n",
      "[]\n",
      "[]\n",
      "[27, 125, 729]\n"
     ]
    }
   ],
   "source": [
    "# Define your function here.  Leave the calls in order to test your code.\n",
    "\n",
    "def cubes_of_odds(integers):\n",
    "    return [e**3 for e in integers if e%2 != 0]\n",
    "\n",
    "print(cubes_of_odds([2, 3, 4, 5])) # prints [27, 125]\n",
    "print(cubes_of_odds([])) # prints []\n",
    "print(cubes_of_odds([2, 4, 2, 6])) # prints []\n",
    "print(cubes_of_odds([3, 5, 9])) # prints [27, 125, 729]"
   ]
  },
  {
   "cell_type": "markdown",
   "id": "4636f83f-0d7c-4ffd-9774-a7ce3df14899",
   "metadata": {},
   "source": [
    "## Step 5: Submit via Canvas ##\n",
    "\n",
    "Be sure to **save your work**, then log into [Canvas](https://canvas.csun.edu/).  Go to the COMP 502 course, and click \"Assignments\" on the left pane.  From there, click \"Assignment 12\".  From there, you can upload the `12_list_comprehensions.ipynb` file.\n",
    "\n",
    "You can turn in the assignment multiple times, but only the last version you submitted will be graded."
   ]
  }
 ],
 "metadata": {
  "kernelspec": {
   "display_name": "Python 3 (ipykernel)",
   "language": "python",
   "name": "python3"
  },
  "language_info": {
   "codemirror_mode": {
    "name": "ipython",
    "version": 3
   },
   "file_extension": ".py",
   "mimetype": "text/x-python",
   "name": "python",
   "nbconvert_exporter": "python",
   "pygments_lexer": "ipython3",
   "version": "3.13.5"
  }
 },
 "nbformat": 4,
 "nbformat_minor": 5
}
