{
 "cells": [
  {
   "cell_type": "markdown",
   "id": "b610a27b-74db-4e92-9b7d-5304e1851b6a",
   "metadata": {},
   "source": [
    "# Assignment 25: NumPy Vector Operations #\n",
    "\n",
    "### Goals for this Assignment ###\n",
    "\n",
    "By the time you have completed this assignment, you should be able to:\n",
    "\n",
    "- Use NumPy's vector operations to operate over many array elements at a time, without loops\n",
    "- Use NumPy's _broadcasting_ with scalar values to effectively treat a single value as an array\n",
    "- Use vector operations and broadcasting with masking to extract values meeting conditions\n",
    "- Use `mean`, `min`, and `max` to gather basic statistical information over a data set represented as a NumPy array\n",
    "\n",
    "## Step 1: Use Arithmetic and Logical Vector Operations in NumPy ##\n",
    "\n",
    "### Background: Vector Operations in NumPy ###\n",
    "\n",
    "When working with data sets, we often want to uniformly apply some operation to the data, or at least to some subset of the data.\n",
    "Through the lens of NumPy, fancy indexing and masking can both be used to get subsets of data.\n",
    "As for the operations we apply to data, this is where _vector operations_ come in.\n",
    "The idea is that we can simultaneously apply a given operation to many values in an array, all at once, resulting in a new array.\n",
    "To see this in action, consider the code in the following cell:"
   ]
  },
  {
   "cell_type": "code",
   "execution_count": 1,
   "id": "4a2eba50-1acb-4534-bb2d-20c0aed0408b",
   "metadata": {
    "scrolled": true
   },
   "outputs": [
    {
     "name": "stdout",
     "output_type": "stream",
     "text": [
      "[3 2 7 8]\n",
      "[1 8 2 5]\n",
      "[ 4 10  9 13]\n"
     ]
    }
   ],
   "source": [
    "import numpy as np\n",
    "first = np.array([3, 2, 7, 8])\n",
    "second = np.array([1, 8, 2, 5])\n",
    "result = first + second\n",
    "print(first) # prints [3 2 7 8]\n",
    "print(second) # prints [1 8 2 5]\n",
    "print(result) # prints [ 4 10  9 13]"
   ]
  },
  {
   "cell_type": "markdown",
   "id": "a2edf8f8-b5d8-4a3a-841f-976dc16c264e",
   "metadata": {},
   "source": [
    "To explain the above code, the first three lines import NumPy and create some arrays, as normal.\n",
    "With the line `result = first + second`, this appears to be adding two entire arrays together.\n",
    "What `+` means for NumPy arrays is to perform addition on each individual pair of elements, putting the results in some returned output array (named `result` in this code).\n",
    "Looking at the results of the `print`s, `first` and `second` are unaffected by `+`; these still hold the same values they started with.\n",
    "As for the values in `result`, `result[0]` is `first[0] + second[0]`, `result[1]` is `first[1] + second[1]`, `result[2]` is `first[2] + second[2]`, and `result[3]` is `first[3] + second[3]`.\n",
    "That is, each index of `result` corresponds to adding together the values of `first` and `second` at the given index.\n",
    "Even though `first + second` thus inherently applied `+` for as many times as we had array elements, there are no loops explicitly present in the code; any looping is actually handled by NumPy itself.\n",
    "Additionally, internally within NumPy's implementation of `+`, specialized hardware-level components are used to make this as fast as possible, well beyond what a normal loop would allow you to do.\n",
    "In short, we performed a loop-like operation without all the trouble of writing a loop, and we did it quickly, too.\n",
    "\n",
    "All the usual arithmetic operations can be applied in this fashion, for example:"
   ]
  },
  {
   "cell_type": "code",
   "execution_count": 2,
   "id": "c31bdbcc-cae4-45ef-baa5-1f26cc6d5ce2",
   "metadata": {},
   "outputs": [
    {
     "name": "stdout",
     "output_type": "stream",
     "text": [
      "[ 2 -6  5  3]\n",
      "[ 3 16 14 40]\n",
      "[3.   0.25 3.5  1.6 ]\n"
     ]
    }
   ],
   "source": [
    "subtract = first - second\n",
    "print(subtract) # prints [ 2 -6  5  3]\n",
    "\n",
    "multiply = first * second\n",
    "print(multiply) # prints [ 3 16 14 40]\n",
    "\n",
    "divide = first / second\n",
    "print(divide) # prints [3.   0.25 3.5  1.6 ]"
   ]
  },
  {
   "cell_type": "markdown",
   "id": "5f37e9ef-3497-472e-af5d-54a0dc3df65c",
   "metadata": {},
   "source": [
    "In all three cases above, the left operand of the arithmetic operator is taken from `first`, and the right operand is taken from `second`.\n",
    "\n",
    "We also can apply numeric relational operators to NumPy arrays, as with:"
   ]
  },
  {
   "cell_type": "code",
   "execution_count": 3,
   "id": "3de4ef7f-4241-452e-a9ed-293ab9b41f13",
   "metadata": {},
   "outputs": [
    {
     "name": "stdout",
     "output_type": "stream",
     "text": [
      "[ True False  True False  True]\n",
      "[False False False False False]\n",
      "[False  True False  True False]\n"
     ]
    }
   ],
   "source": [
    "nums1 = np.array([3, 2, 7, 4, 5])\n",
    "nums2 = np.array([7, 2, 8, 4, 9])\n",
    "res = nums1 < nums2\n",
    "print(res) # prints [ True False  True False  True]\n",
    "print(nums1 > nums2) # prints [False False False False False]\n",
    "print(nums1 == nums2) # prints [False  True False  True False]"
   ]
  },
  {
   "cell_type": "markdown",
   "id": "05c4719f-79ec-431a-92cf-8d174cc9edb6",
   "metadata": {},
   "source": [
    "For example, `res[0]` holds the result of `nums1[0] < nums2[0]`; this is `True` since `3 < 7`.\n",
    "The results of all other cases follow by applying each operator pairwise to its operands.\n",
    "\n",
    "### Try this Yourself ###\n",
    "\n",
    "The next cell defines two different arrays, `arr1` and `arr2`.\n",
    "The comments say which operation is requested for you to perform.\n",
    "The first one is provided for you as an example."
   ]
  },
  {
   "cell_type": "code",
   "execution_count": 7,
   "id": "29bb10ba-b570-43d7-9f28-a751d6f15cb1",
   "metadata": {},
   "outputs": [
    {
     "name": "stdout",
     "output_type": "stream",
     "text": [
      "[4 8 9 0 2 0 4]\n",
      "[0 1 2 3 4 5 6]\n",
      "\n",
      "[ 4  9 11  3  6  5 10]\n",
      "\n",
      "[ 4  7  7 -3 -2 -5 -2]\n",
      "\n",
      "[ 0  8 18  0  8  0 24]\n",
      "\n",
      "[False False False  True  True  True  True]\n",
      "\n",
      "[False False False  True  True  True  True]\n",
      "\n",
      "[ True  True  True False False False False]\n",
      "\n",
      "[ True  True  True False False False False]\n"
     ]
    }
   ],
   "source": [
    "arr1 = np.array([4, 8, 9, 0, 2, 0, 4])\n",
    "arr2 = np.arange(7)\n",
    "print(arr1)\n",
    "print(arr2)\n",
    "print() \n",
    "\n",
    "# +\n",
    "print(arr1 + arr2) # should print [ 4  9 11  3  6  5 10]\n",
    "\n",
    "# -\n",
    "print() # should print [ 4  7  7 -3 -2 -5 -2]\n",
    "print(arr1 - arr2)\n",
    "# *\n",
    "print() # should print [ 0  8 18  0  8  0 24]\n",
    "print(arr1 * arr2)\n",
    "# <\n",
    "print() # should print [False False False  True  True  True  True]\n",
    "print(arr1 < arr2)\n",
    "# <=\n",
    "print() # should print [False False False  True  True  True  True]\n",
    "print(arr1 <= arr2)\n",
    "# >\n",
    "print() # should print [ True  True  True False False False False]\n",
    "print(arr1 > arr2)\n",
    "# >=\n",
    "print() # should print [ True  True  True False False False False]\n",
    "print(arr1 >= arr2)"
   ]
  },
  {
   "cell_type": "markdown",
   "id": "f9047b03-c34b-49c4-9958-1b95aea7ee7e",
   "metadata": {},
   "source": [
    "## Step 2: Use Broadcasting to Treat a Scalar as an Array ##\n",
    "\n",
    "### Background: Dimensionality and Broadcasting ###\n",
    "\n",
    "When applying operations in this fashion with NumPy arrays, generally both arrays used must have the same size.\n",
    "For example, the code in the following cell throws an exception:"
   ]
  },
  {
   "cell_type": "code",
   "execution_count": 9,
   "id": "a50a61ed-c4b1-4dc7-899a-cd9f934ad5de",
   "metadata": {},
   "outputs": [
    {
     "name": "stdout",
     "output_type": "stream",
     "text": [
      "[2 1 8]\n",
      "[9 3 5 1]\n"
     ]
    },
    {
     "ename": "ValueError",
     "evalue": "operands could not be broadcast together with shapes (3,) (4,) ",
     "output_type": "error",
     "traceback": [
      "\u001b[1;31m---------------------------------------------------------------------------\u001b[0m",
      "\u001b[1;31mValueError\u001b[0m                                Traceback (most recent call last)",
      "Cell \u001b[1;32mIn[9], line 7\u001b[0m\n\u001b[0;32m      4\u001b[0m \u001b[38;5;28mprint\u001b[39m(has_three )\n\u001b[0;32m      5\u001b[0m \u001b[38;5;28mprint\u001b[39m(has_four)\n\u001b[1;32m----> 7\u001b[0m \u001b[38;5;28mprint\u001b[39m(has_three \u001b[38;5;241m+\u001b[39m has_four)\n",
      "\u001b[1;31mValueError\u001b[0m: operands could not be broadcast together with shapes (3,) (4,) "
     ]
    }
   ],
   "source": [
    "has_three = np.array([2, 1, 8])\n",
    "has_four = np.array([9, 3, 5, 1])\n",
    "\n",
    "print(has_three )\n",
    "print(has_four)\n",
    "\n",
    "print(has_three + has_four)"
   ]
  },
  {
   "cell_type": "markdown",
   "id": "88ee5e12-eed4-4c7b-aec5-8573f08436f8",
   "metadata": {},
   "source": [
    "The code above specifically throws a `ValueError` exception, saying the operands could not be _broadcast_ together with shapes `(3,)`, `(4,)`.\n",
    "The _shape_ of an array refers to the number of elements in the array, as well as the array's _dimensionality_.\n",
    "So far, we have only dealt with so-called _single-dimensional_ data structures, meaning only one index needs to be provided to access any given element.\n",
    "For example:\n",
    "\n",
    "- Python lists: accessing `some_list[5]` will get the value at index `5`.\n",
    "- Python dictionaries: accessing `some_dictionary[\"foo\"]` gets the value for key `\"foo\"`.  In this case, `\"foo\"` behaves very similarly to an index.\n",
    "- NumPy arrays: accessing `some_array[7]` will get the value at index `7`, similar to a Python list.\n",
    "\n",
    "That all said, we can set up a _multidimensional_ data structure, wherein multiple indices need to be provided to get a particular value.\n",
    "This is most commonly done by nesting one of the above data structures in another instance of itself, as with:"
   ]
  },
  {
   "cell_type": "code",
   "execution_count": 10,
   "id": "b960418f-6a35-4b9e-a083-d56ef732fc24",
   "metadata": {},
   "outputs": [
    {
     "name": "stdout",
     "output_type": "stream",
     "text": [
      "5\n",
      "4\n",
      "2\n"
     ]
    }
   ],
   "source": [
    "nested_list = [[0, 1, 2], [5], [12, 4]]\n",
    "print(nested_list[1][0]) # prints 5\n",
    "print(nested_list[2][1]) # prints 4\n",
    "print(nested_list[0][2]) # prints 2"
   ]
  },
  {
   "cell_type": "markdown",
   "id": "e90fdf52-ccf0-4499-968c-5d968999be6c",
   "metadata": {},
   "source": [
    "In this case, `nested_list` is said to specifically be a two-dimensional list, because it is a list which itself contains lists of integers.\n",
    "To access any particular datum, we need to provide two indices, as with `nested_list[1][0]`, hence this is two-dimensional.\n",
    "We can view this access as involving some implicit parentheses, namely `(nested_list[1])[0]`.\n",
    "That is, starting from the outermost list (`nested_list`), we access the value at a given index.\n",
    "In this case though, each value is _itself_ a list.\n",
    "As such, from there we access individual elements in that returned list, giving us back whatever integer was stored in the innermost list.\n",
    "\n",
    "In the same fashion as `nested_list` above, NumPy arrays can themselves contain other NumPy arrays, allowing for multidimensional arrays.\n",
    "In practice, this is useful for repsenting information like a table, where a table can have many rows and columns; for example, we can have an array of rows, where each row is a separate array of values in the columns.\n",
    "However, in the case of `has_three` and `has_four`, these are only single-dimensional arrays.\n",
    "The specific shapes `(3,)` and `(4,)` refer to the number of elements in these arrays; these values themselves are actually tuples, but only one element is in the tuple.\n",
    "If we were dealing with multidimensional arrays, more than one value would be in the tuple for the shape.\n",
    "For example, the shape `(5, 9)` would refer to a two-dimensional array with five rows and nine columns per row.\n",
    "Since we are only dealing with single-dimensional arrays here, the `3` and `4` refer only to the number of elements in `has_three` and `has_four`, respectively.\n",
    "\n",
    "As for the term \"broadcast\" in the error message above, this is a NumPy-specific term for what is attempted when the arrays do **not** have the same length / dimensionality.\n",
    "In that case, we have a bit of a problem, as there is at least one index for which we don't have both operands for the given operator.\n",
    "Broadcasting effectively tries to convert one of the operands into an array of the expected size.\n",
    "Broadcasting can't always be performed, as not everything can be treated as an array; in the above code, for example, NumPy couldn't apply broadcasting.\n",
    "However, for our purposes, there is one important case where broadcasting _does_ work: when dealing with a _scalar_ (i.e., non-array) value.\n",
    "When dealing with scalar values, semantically speaking, a new array is created which has a length of the expected array, and the scalar value is copied into every cell of the new array.\n",
    "This represents the most common case of broadcasting by far.\n",
    "The following cell shows an example of this broadcasting of a scalar value, specifically `5`:"
   ]
  },
  {
   "cell_type": "code",
   "execution_count": 17,
   "id": "afacb615-3136-43f4-b044-35c24c248a1a",
   "metadata": {},
   "outputs": [
    {
     "name": "stdout",
     "output_type": "stream",
     "text": [
      "[ True  True False  True False]\n"
     ]
    }
   ],
   "source": [
    "#brocasting\n",
    "\n",
    "arr = np.array([3, 2, 8, 4, 5])\n",
    "less_than_five_entries = arr < 5\n",
    "print(less_than_five_entries) # [ True  True False  True False]"
   ]
  },
  {
   "cell_type": "markdown",
   "id": "cb768f38-7fa5-44bb-bc5e-9db1dbf0c1be",
   "metadata": {},
   "source": [
    "As shown, `5` is treated as if it is a NumPy array.\n",
    "This would normally throw an exception, but this is one of the cases where broadcasting applies.\n",
    "Specifically, NumPy will see the following:\n",
    "\n",
    "- We are attempting to apply `<` to a valid NumPy array, `arr`\n",
    "- The righthand operand of `<` is **not** a NumPy array, but rather a scalar (non-array) value\n",
    "- Semantically speaking, we can turn `5` into a NumPy array by making an array of the same size as `arr`, and copying `5` into each cell of this new array.  In other words, `5` in the code above effectively becomes `np.array([5, 5, 5, 5, 5])`, because there were five elements in `arr`.\n",
    "\n",
    "I say \"semantically speaking\", because NumPy may or may not actually create a separate array, but rather treat this specially somehow; these details are abstracted away from us.\n",
    "We can, however, treat this as if it does create a new NumPy array containing all `5`s.\n",
    "Looking at the output of `print(less_than_five_entries)`, this ends up printing all the Boolean values resulting from `3 < 5`, `2 < 5`, `8 < 5`, `4 < 5`, and `5 < 5`, corresponding to each of the values in `arr`, in order.\n",
    "\n",
    "There are other situations in which broadcasting can occur, but they are beyond our scope in this assignment.\n",
    "If you're curious, you can read more about broadcasting and these other situations in the [official NumPy documentation for broadcasting](https://numpy.org/devdocs/user/basics.broadcasting.html).\n",
    "\n",
    "### Try this Yourself ###\n",
    "\n",
    "The next cell defines an array named `arr3`, as well as a bunch of operations combined with a scalar value in the comments.\n",
    "Similar to the prior step, print out the result of applying each operation and scalar value to `arr3`.\n",
    "The first one is provided for you as an example."
   ]
  },
  {
   "cell_type": "code",
   "execution_count": 12,
   "id": "d332e08b-c984-4ae1-99f3-f8aeb7abca54",
   "metadata": {},
   "outputs": [
    {
     "name": "stdout",
     "output_type": "stream",
     "text": [
      "\n",
      "[ 8  7 12 13]\n",
      "\n",
      "[1 0 5 6]\n",
      "\n",
      "[12  8 28 32]\n",
      "\n",
      "[1.5 1.  3.5 4. ]\n",
      "\n",
      "[1 0 1 0]\n",
      "\n",
      "[ True False  True  True]\n"
     ]
    }
   ],
   "source": [
    "arr3 = np.array([3, 2, 7, 8])\n",
    "\n",
    "# + 5\n",
    "print() # should print [ 8  7 12 13]\n",
    "print(arr3 + 5) \n",
    "# - 2\n",
    "print() # should print [1 0 5 6]\n",
    "print(arr3 -2) \n",
    "# * 4\n",
    "print() # should print [12  8 28 32]\n",
    "print(arr3 *4) \n",
    "# / 2\n",
    "print() # should print [1.5 1.  3.5 4. ]\n",
    "print(arr3 /2) \n",
    "# % 2\n",
    "print() # should print [1 0 1 0]\n",
    "print(arr3 %2) \n",
    "# > 2\n",
    "print() # should print [ True False  True  True]\n",
    "print(arr3 >2) "
   ]
  },
  {
   "cell_type": "markdown",
   "id": "7bb7c0a9-7668-4737-b8b4-f6e6320a7ceb",
   "metadata": {},
   "source": [
    "## Step 3: Combine with Masking to Extract Values Meeting Conditions ##\n",
    "\n",
    "### Background: Combining Operations ###\n",
    "\n",
    "At this point, we have covered:\n",
    "\n",
    "- Using fancy indexing to access values using another NumPy array (or something iterable), resulting in a NumPy array\n",
    "- Using masking to access values using another NumPy array (or something iterable), resulting in a NumPy array\n",
    "- Using broadcasting to implicitly treat scalar values as NumPy arrays\n",
    "- Using vector operations over NumPy arrays to create new NumPy arrays\n",
    "\n",
    "We can now start to put all this functionality together to perform higher-level tasks efficiently, with surprisingly minimal code.\n",
    "In terms of the design of NumPy itself, importantly, all these operations work with NumPy arrays and yield NumPy arrays, meaning we can easily combine these to perform bigger-picture tasks.\n",
    "For example, consider the `evens` function in the following cell, which can be used to extract all the even numbers in a given input NumPy array `arr`:"
   ]
  },
  {
   "cell_type": "code",
   "execution_count": 13,
   "id": "67123f51-ce60-4f8a-a01c-1c62a3a877b1",
   "metadata": {},
   "outputs": [
    {
     "name": "stdout",
     "output_type": "stream",
     "text": [
      "[2 8]\n",
      "[2 4 6 8]\n",
      "[]\n",
      "[]\n"
     ]
    }
   ],
   "source": [
    "def evens(arr):\n",
    "    return arr[arr % 2 == 0]\n",
    "\n",
    "print(evens(np.array([3, 7, 2, 8, 9]))) # prints [2 8]\n",
    "print(evens(np.array([2, 4, 6, 8]))) # prints [2 4 6 8]\n",
    "print(evens(np.array([3, 5, 7, 9]))) # prints []\n",
    "print(evens(np.array([]))) # prints []"
   ]
  },
  {
   "cell_type": "markdown",
   "id": "bc51a749-704d-429e-b9a8-c3d77ef6cc2a",
   "metadata": {},
   "source": [
    "To explain the body of `evens`, the `return`ed expression evaluates the following, in order:\n",
    "\n",
    "- `arr % 2` broadcasts `2`, and ends up returning a NumPy array of the results of each value in `arr`, but modded by `2`.\n",
    "- `arr % 2 == 0` then takes the array from `arr % 2`, broadcasts `0`, and compares each value to to `0`.  The resulting NumPy array of booleans will hold `True` at each index where the element was `0`, and `False` otherwise.  From a higher-level perspective, this yields a NumPy array of Booleans of the same length as `arr`, where each `True` means the corresponding element in `arr` is even, and each `False` means the corresponding element in `arr` is odd.\n",
    "- `arr[arr % 2 == 0]` takes the array of Booleans from `arr % 2 == 0`, and uses this as a mask to create a new NumPy array of all the elements in `arr` which have `True` at the corresponding index in `arr % 2 == 0`.  Or, from a high-level perspective, this extracts out all the even elements into a new array.\n",
    "\n",
    "Comparatively, if we were to define `evens` using Python lists and list comprehensions, this wouldn't be nearly as short, as shown in the cell below."
   ]
  },
  {
   "cell_type": "code",
   "execution_count": 18,
   "id": "ebab1703-0a90-449c-b912-6ff297d61db9",
   "metadata": {},
   "outputs": [
    {
     "name": "stdout",
     "output_type": "stream",
     "text": [
      "[2, 8]\n",
      "[2, 4, 6, 8]\n",
      "[]\n",
      "[]\n"
     ]
    }
   ],
   "source": [
    "def evens_list(lst):\n",
    "    return [e for e in lst if e % 2 == 0]\n",
    "\n",
    "print(evens_list([3, 7, 2, 8, 9])) # prints [2, 8]\n",
    "print(evens_list([2, 4, 6, 8])) # prints [2, 4, 6, 8]\n",
    "print(evens_list([3, 5, 7, 9])) # prints []\n",
    "print(evens_list([])) # prints []"
   ]
  },
  {
   "cell_type": "markdown",
   "id": "a7b59a34-e0b0-44d1-8b2d-c78a76dfea84",
   "metadata": {},
   "source": [
    "Even though the list comprehension lets us avoid a typical loop, this code is still a bit longer, primarily because of the need to introduce a variable `e` representing each individual element.\n",
    "With the NumPy version, this is entirely implicit; we never individually access any given element.\n",
    "Furthermore, the NumPy version is expected to be much faster, because this will internally use vector operations to do practically everything.\n",
    "\n",
    "### Try this Yourself ###\n",
    "\n",
    "In the next cell, define a `greater_than_n` function which will take:\n",
    "\n",
    "- An input NumPy array\n",
    "- An integer `n`\n",
    "\n",
    "Your `greater_than_n` function should return a NumPy array containing all values in the input NumPy array which are greater than the second parameter `n`.\n",
    "Leave the calls to `greater_than_n` in place in order to test your code."
   ]
  },
  {
   "cell_type": "code",
   "execution_count": 19,
   "id": "c3ffd1cf-4258-4d8a-baf6-24273b50debe",
   "metadata": {},
   "outputs": [
    {
     "name": "stdout",
     "output_type": "stream",
     "text": [
      "[8 6]\n",
      "[8 9]\n",
      "[14 27 34]\n",
      "[]\n"
     ]
    }
   ],
   "source": [
    "# Define your greater_than_n function here.\n",
    "# Leave the calls below in place in order to test your code.\n",
    "def greater_than_n(arr,n):\n",
    "    return arr[arr > n]\n",
    "    \n",
    "\n",
    "print(greater_than_n(np.array([2, 8, 3, 6]), 3)) # should print [8 6]\n",
    "print(greater_than_n(np.array([8, 4, 6, 1, 9]), 6)) # should print [8 9]\n",
    "print(greater_than_n(np.array([10, 14, 27, 34]), 10)) # should print [14 27 34]\n",
    "print(greater_than_n(np.array([]), 0)) # should print []"
   ]
  },
  {
   "cell_type": "markdown",
   "id": "b094e8db-15cf-4fc1-b727-05dcb9924e1e",
   "metadata": {},
   "source": [
    "## Step 4: Use `mean`, `min`, and `max` to Compute Basic Statistics ##\n",
    "\n",
    "### Background: Statistical Operations with NumPy ###\n",
    "\n",
    "NumPy has a number of statistical operations in place which can be performed over arrays; a full list can be seen [in the official NumPy documentation](https://numpy.org/doc/2.3/reference/routines.statistics.html).\n",
    "For our purposes, we will only consider three such operations: `mean`, `min`, and `max`.\n",
    "These perform the operations implied by their name, as demonstrated in the cell below:"
   ]
  },
  {
   "cell_type": "code",
   "execution_count": 20,
   "id": "32568dda-ff2b-4d11-b70b-fe810cd2daeb",
   "metadata": {},
   "outputs": [
    {
     "name": "stdout",
     "output_type": "stream",
     "text": [
      "5.166666666666667\n",
      "2\n",
      "9\n"
     ]
    }
   ],
   "source": [
    "arr = np.array([3, 7, 2, 9, 6, 4])\n",
    "print(np.mean(arr)) # prints 5.166666666666667\n",
    "print(np.min(arr)) # prints 2\n",
    "print(np.max(arr)) # prints 9"
   ]
  },
  {
   "cell_type": "markdown",
   "id": "dea034ed-9b77-45a1-aec7-18e559b8b49c",
   "metadata": {},
   "source": [
    "As before, you can combine these operations to do quite a bit of work with one expression.\n",
    "For example, the following cell prints the mean of all the numbers in `arr` which are greater than `3`:"
   ]
  },
  {
   "cell_type": "code",
   "execution_count": 21,
   "id": "a2cbcd16-bb0a-4a93-80eb-d7845dbdebae",
   "metadata": {},
   "outputs": [
    {
     "name": "stdout",
     "output_type": "stream",
     "text": [
      "6.5\n"
     ]
    }
   ],
   "source": [
    "print(np.mean(arr[arr > 3]))"
   ]
  },
  {
   "cell_type": "markdown",
   "id": "9a6dcd8d-997d-4a40-aff2-24e1b8ae3473",
   "metadata": {},
   "source": [
    "### Try this Yourself ###\n",
    "\n",
    "In the next cell, define a function named `descriptive_stats`, which will print the smallest, largest, and average number in a given input NumPy array.\n",
    "This output should be printed as follows:\n",
    "\n",
    "```\n",
    "Smallest: MIN\n",
    "Largest: MAX\n",
    "Average: MEAN\n",
    "```\n",
    "\n",
    "Leave the calls in place for the next cell in order to test your code."
   ]
  },
  {
   "cell_type": "code",
   "execution_count": 24,
   "id": "52d65383-32bc-4428-b64d-e22f7f26fa6b",
   "metadata": {},
   "outputs": [
    {
     "name": "stdout",
     "output_type": "stream",
     "text": [
      "Smallest: 2\n",
      "Largest: 9\n",
      "Average: 5.166666666666667\n",
      "\n",
      "Smallest: 1\n",
      "Largest: 9\n",
      "Average: 5.25\n"
     ]
    }
   ],
   "source": [
    "# Define your descriptive_stats function here.\n",
    "# Leave the calls in place below in order to test your code.\n",
    "def descriptive_stats(arr):\n",
    "    print(f'Smallest: {np.min(arr)}')\n",
    "    print(f'Largest: {np.max(arr)}')\n",
    "    print(f'Average: {np.mean(arr)}')\n",
    "    \n",
    "\n",
    "descriptive_stats(np.array([3, 7, 2, 9, 6, 4]))\n",
    "# Above statement should print:\n",
    "# Smallest: 2\n",
    "# Largest: 9\n",
    "# Average: 5.166666666666667\n",
    "\n",
    "print()\n",
    "descriptive_stats(np.array([3, 8, 1, 9]))\n",
    "# Above statement should print:\n",
    "# Smallest: 1\n",
    "# Largest: 9\n",
    "# Average: 5.25"
   ]
  },
  {
   "cell_type": "markdown",
   "id": "8e4d3888-1635-4266-9437-0667dd34d36a",
   "metadata": {},
   "source": [
    "## Step 5: Submit via Canvas ##\n",
    "\n",
    "Be sure to **save your work**, then log into [Canvas](https://canvas.csun.edu/).  Go to the COMP 502 course, and click \"Assignments\" on the left pane.  From there, click \"Assignment 25\".  From there, you can upload the `25_numpy_vector_operations.ipynb` file.\n",
    "\n",
    "You can turn in the assignment multiple times, but only the last version you submitted will be graded.\n",
    "\n",
    "### Special Thanks to Dr. Glenn Bruns ###\n",
    "\n",
    "Special thanks to [Dr. Glenn Bruns](https://csumb.edu/scd/glenn-bruns/) at California State University, Monterey Bay, for providing me with closely-related materials which were used in the creation of this assignment."
   ]
  }
 ],
 "metadata": {
  "kernelspec": {
   "display_name": "Python 3 (ipykernel)",
   "language": "python",
   "name": "python3"
  },
  "language_info": {
   "codemirror_mode": {
    "name": "ipython",
    "version": 3
   },
   "file_extension": ".py",
   "mimetype": "text/x-python",
   "name": "python",
   "nbconvert_exporter": "python",
   "pygments_lexer": "ipython3",
   "version": "3.13.5"
  }
 },
 "nbformat": 4,
 "nbformat_minor": 5
}
