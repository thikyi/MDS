{
 "cells": [
  {
   "cell_type": "markdown",
   "id": "194b2fbd-b3aa-4a2c-b1ce-cc156ef6660f",
   "metadata": {},
   "source": [
    "# Assignment 9: Loops Part 1 #\n",
    "\n",
    "### Goals for this Assignment ###\n",
    "\n",
    "By the time you have completed this assignment, you should be able to:\n",
    "\n",
    "- Iterate over lists using `for...in`\n",
    "- Use `if` inside of a loop\n",
    "- Use `break` to terminate a loop immediately\n",
    "- Use `continue` to skip to the next loop iteration\n",
    "\n",
    "## Step 1: Write a Function to Print Squared Elements of List ##\n",
    "\n",
    "### Background: `for..in` Loops ###\n",
    "\n",
    "While lists allow us to represent any number of values inside of a single object, indexing is inherently limited to accessing only a single element at a time.\n",
    "As a result, we still can't quite automate the process of working over any number of input values.\n",
    "To this end, we will need a new kind of programming construct: a _loop_.\n",
    "Loops are so-named because they allow a program's execution to loop back upon itself.\n",
    "That is, allow for the same piece of code to be executed some number of times, and are a fundamental building block for performing the sort of automation we need.\n",
    "\n",
    "The most common kind of loop in Python is the `for...in` loop.\n",
    "`for...in` allows us to _iterate_ over the elements of a list, one element at a time.\n",
    "This means we can execute some piece of code with respect to each individual list element.\n",
    "To see this in practice, consider the following code:"
   ]
  },
  {
   "cell_type": "code",
   "execution_count": 1,
   "id": "d063dfa2-cfb8-4beb-97d3-d1f602c99678",
   "metadata": {},
   "outputs": [
    {
     "name": "stdout",
     "output_type": "stream",
     "text": [
      "foo\n",
      "True\n",
      "4\n",
      "2.3\n"
     ]
    }
   ],
   "source": [
    "for e in [\"foo\", True, 4, 2.3]:\n",
    "    print(e)"
   ]
  },
  {
   "cell_type": "markdown",
   "id": "e6ea15ec-fe70-4fff-b63e-4d847c29dbd0",
   "metadata": {},
   "source": [
    "If you run this code, you'll see that this prints each list element, in the same order in which they appear in the list.\n",
    "The semantics (behavior) of `for...in` is that we first need to introduce some new variable in between the `for` and the `in`, which in this case is `e`.\n",
    "From there, we specify what thing we wish to iterate over, which comes after the `in`.\n",
    "In this case, we are iterating over the list `[\"foo\", True, 3, 2.3]`.\n",
    "(Later on we will see that there are more kinds of things we can iterate over, but for now we will stick to lists.)\n",
    "After the colon (`:`), an indent level is added, meaning a `for...in` loop has a body.\n",
    "The idea is that the new variable `e` will initially be bound to the first list element.\n",
    "From there, we will execute the body of the loop.\n",
    "In this case, this means that `e` will be bound to the string `\"foo\"`, and then the `print(e)` will be executed.\n",
    "Once the body of the loop finishes execution, instead of code moving on to the next statement, we will instead go _back_ to the `for...in`.\n",
    "At this point, the next element of the list will be selected, and `e` will be bound to this next element (`True` in this example).\n",
    "From there, we will execute the body of the loop again, now with `e` bound to a different element.\n",
    "This process repeats until there are no remaining elements in the list.\n",
    "Once we run out of elements in the list, execution proceeds forward beyond the loop itself.\n",
    "\n",
    "The next example shows what happens when we have a statement immediately following the loop:"
   ]
  },
  {
   "cell_type": "code",
   "execution_count": 2,
   "id": "9ba99d75-159b-4e94-beff-fee0c62863bd",
   "metadata": {},
   "outputs": [
    {
     "name": "stdout",
     "output_type": "stream",
     "text": [
      "9\n",
      "10\n",
      "2\n",
      "3\n",
      "0\n",
      "1\n",
      "1\n",
      "2\n",
      "after loop\n"
     ]
    }
   ],
   "source": [
    "def make_list():\n",
    "    return [9, 2, 0, 1]\n",
    "\n",
    "for some_variable in make_list():\n",
    "    print(some_variable)\n",
    "    print(some_variable + 1)\n",
    "    \n",
    "print(\"after loop\")"
   ]
  },
  {
   "cell_type": "markdown",
   "id": "f2edecf0-7ba7-47da-81b4-6a44c82d44b5",
   "metadata": {},
   "source": [
    "If you run the above code, you'll see that `\"after loop\"` is printed out once the loop terminates.\n",
    "\n",
    "To be clear, the code after the `in` and before the colon (`:`) is an expression which evaluates down to a list, not necessarily a hard-coded list itself.\n",
    "For example, we can create a function that takes a list, and prints out all elements of that list, shown below:"
   ]
  },
  {
   "cell_type": "code",
   "execution_count": 3,
   "id": "66ef2d34-8e57-4087-a770-3dc2e72a4b88",
   "metadata": {},
   "outputs": [
    {
     "name": "stdout",
     "output_type": "stream",
     "text": [
      "before\n",
      "IN LOOP\n",
      "IN LOOP\n",
      "IN LOOP\n",
      "after\n"
     ]
    }
   ],
   "source": [
    "print(\"before\")\n",
    "for e in [3, 2, 9]:\n",
    "    print(\"IN LOOP\")\n",
    "print(\"after\")"
   ]
  },
  {
   "cell_type": "code",
   "execution_count": 4,
   "id": "b1aa5a28-01ea-4798-994b-0d9b2dc77c0e",
   "metadata": {},
   "outputs": [
    {
     "name": "stdout",
     "output_type": "stream",
     "text": [
      "3\n",
      "2\n",
      "4\n",
      "foo\n",
      "bar\n",
      "True\n"
     ]
    }
   ],
   "source": [
    "def print_all(list_elements):\n",
    "    for element in list_elements:\n",
    "        print(element)\n",
    "\n",
    "some_list = [3, 2, 4]\n",
    "\n",
    "print_all(some_list)\n",
    "\n",
    "\n",
    "print_all([\"foo\", \"bar\"])\n",
    "print_all([True])\n",
    "print_all([])"
   ]
  },
  {
   "cell_type": "markdown",
   "id": "29f8cf11-e97d-4a0a-af04-ee664cf3280e",
   "metadata": {},
   "source": [
    "### Try this Yourself ###\n",
    "\n",
    "Write a function with the following constraints:\n",
    "\n",
    "- The name of the function is `print_squares`\n",
    "- The function takes a list of integers as input\n",
    "- For each integer in the list, it prints out the value of the integer squared\n",
    "\n",
    "Define your function in the next cell.\n",
    "Leave the example calls in place to help test your code."
   ]
  },
  {
   "cell_type": "code",
   "execution_count": 8,
   "id": "16e1236c-5521-4bf2-b40e-3d078dd1df0d",
   "metadata": {},
   "outputs": [
    {
     "name": "stdout",
     "output_type": "stream",
     "text": [
      "9\n",
      "4\n",
      "16\n",
      "64\n"
     ]
    }
   ],
   "source": [
    "# Define your function below.  Leave the calls in place for testing.\n",
    "def print_squares(int_elements):\n",
    "     for element in int_elements:\n",
    "        print(element** 2)\n",
    "\n",
    "print_squares([3, 2, 4])\n",
    "# Prior statement should print:\n",
    "# 9\n",
    "# 4\n",
    "# 16\n",
    "\n",
    "print_squares([])\n",
    "# Prior statement shouldn't print anything\n",
    "\n",
    "print_squares([8])\n",
    "# Prior statement should print:\n",
    "# 64"
   ]
  },
  {
   "cell_type": "markdown",
   "id": "5dba9cac-b8f8-4f2f-b293-d7bbf6f54b35",
   "metadata": {},
   "source": [
    "## Step 2: Write a Function to Print List Elements Less Than Value ##\n",
    "\n",
    "### Background: Nesting `if` in `for...in` ###\n",
    "\n",
    "Much like the body of a function, any statement(s) can be nested inside of the body of a loop.\n",
    "To demonstrate this, first let's introduce a new use of the `len` function: finding the length of a string.\n",
    "This is shown below:"
   ]
  },
  {
   "cell_type": "code",
   "execution_count": 9,
   "id": "0d862baa-3308-432f-9b88-baeba2260947",
   "metadata": {},
   "outputs": [
    {
     "name": "stdout",
     "output_type": "stream",
     "text": [
      "3\n",
      "5\n",
      "0\n"
     ]
    }
   ],
   "source": [
    "print(len(\"foo\"))   # prints 3\n",
    "print(len(\"apple\")) # prints 5\n",
    "print(len(\"\"))      # prints 0"
   ]
  },
  {
   "cell_type": "markdown",
   "id": "a3d6a438-fdcb-4d43-8f26-eecfb74f8c93",
   "metadata": {},
   "source": [
    "Building on this new `len` behavior, we can write a function which takes a list of strings, and prints out all the strings of length `3`.\n",
    "This is shown in the cell below:"
   ]
  },
  {
   "cell_type": "code",
   "execution_count": 10,
   "id": "4885dc1d-ad86-47aa-a6d7-a4b130e71edc",
   "metadata": {},
   "outputs": [
    {
     "name": "stdout",
     "output_type": "stream",
     "text": [
      "foo\n",
      "bar\n",
      "moo\n",
      "cow\n"
     ]
    }
   ],
   "source": [
    "def print_strings_of_length_3(strings):\n",
    "    for string in strings:\n",
    "        if len(string) == 3:\n",
    "            print(string)\n",
    "\n",
    "print_strings_of_length_3([\"foo\", \"foobar\", \"bar\"])\n",
    "# Prior statement prints:\n",
    "# foo\n",
    "# bar\n",
    "\n",
    "print_strings_of_length_3([\"blah\", \"moo\", \"cow\"])\n",
    "# Prior statement prints:\n",
    "# moo\n",
    "# cow"
   ]
  },
  {
   "cell_type": "markdown",
   "id": "b3d1a9bd-0352-44ba-91b2-54bf70c0d380",
   "metadata": {},
   "source": [
    "### Try this Yourself ###\n",
    "\n",
    "Write a function with the following constraints:\n",
    "\n",
    "- The name of the function is `print_less_than`\n",
    "- The first parameter to the function is a list of integers named `integers`\n",
    "- The second parameter to the function is an integer named `value`\n",
    "- The function prints all elements of `integers` which are less than `value`, in order\n",
    "\n",
    "Define your function in the next cell.\n",
    "Leave the calls in place in order to test your code."
   ]
  },
  {
   "cell_type": "code",
   "execution_count": 12,
   "id": "30b50d2a-2127-4540-8882-5cf30796fcc8",
   "metadata": {},
   "outputs": [
    {
     "name": "stdout",
     "output_type": "stream",
     "text": [
      "2\n",
      "1\n",
      "8\n",
      "3\n",
      "0\n",
      "9\n"
     ]
    }
   ],
   "source": [
    "# Define your function below.  Leave the calls in order to test your code.\n",
    "def print_less_than(integers,value):\n",
    "    for int_element in integers:\n",
    "        if int_element < value:\n",
    "            print(int_element)\n",
    "\n",
    "print_less_than([2, 7, 1, 9], 3)\n",
    "# Prior statement should print:\n",
    "# 2\n",
    "# 1\n",
    "\n",
    "print_less_than([8, 12, 3, 0, 9], 10)\n",
    "# Prior statement should print:\n",
    "# 8\n",
    "# 3\n",
    "# 0\n",
    "# 9\n",
    "\n",
    "print_less_than([1, 2, 3], 0)\n",
    "# Prior statement shouldn't print anything"
   ]
  },
  {
   "cell_type": "markdown",
   "id": "f1e4a93b-6e1b-4a9f-9c40-44a7c11da4e5",
   "metadata": {},
   "source": [
    "## Step 3: Use `break` to Terminate a Loop Early ##\n",
    "\n",
    "### Background: `break` ###\n",
    "\n",
    "The `break` statement can be used to terminate a loop early.\n",
    "If `break` is ever executed, then execution jumps to the statement after the loop, even if there are remaining elements in the list.\n",
    "For example, the following code will use `break` to terminate a loop after the second time the body has been executed, regardless of how many remaining list elements remain."
   ]
  },
  {
   "cell_type": "code",
   "execution_count": 13,
   "id": "2ab38d0c-17c6-4456-8cdc-91e2b4052031",
   "metadata": {},
   "outputs": [
    {
     "name": "stdout",
     "output_type": "stream",
     "text": [
      "3\n",
      "after loop\n"
     ]
    }
   ],
   "source": [
    "for e in [3, 2, 9, 0, 7, 8]:\n",
    "    print(e)\n",
    "    break\n",
    "print(\"after loop\")"
   ]
  },
  {
   "cell_type": "code",
   "execution_count": 14,
   "id": "7c65b3db-0591-4121-8de2-5680608e75e5",
   "metadata": {},
   "outputs": [
    {
     "name": "stdout",
     "output_type": "stream",
     "text": [
      "foo\n",
      "bar\n",
      "after loop\n"
     ]
    }
   ],
   "source": [
    "num_times_executed = 0\n",
    "for element in [\"foo\", \"bar\", \"baz\", \"moo\", \"cow\", \"bull\"]:\n",
    "    # The following statement is shorthand for num_times_executed = num_times_executed + 1\n",
    "    # num_times_executed = num_times_executed + 1\n",
    "    num_times_executed += 1\n",
    "    if num_times_executed > 2:\n",
    "        break\n",
    "    print(element)\n",
    "\n",
    "print(\"after loop\")"
   ]
  },
  {
   "cell_type": "markdown",
   "id": "b3b9899d-b812-48fa-882d-9b0db91616c4",
   "metadata": {},
   "source": [
    "If you execute the prior cell, you'll see that the only list elements output are `\"foo\"` and `\"bar\"`; once `break` is executed, the loop will no longer execute.\n",
    "At that point, the `print` after the loop is executed, printing `\"after loop\"`.\n",
    "\n",
    "### Try this Yourself ###\n",
    "\n",
    "Define a function with the following constraints:\n",
    "\n",
    "- The name of the function is `print_all_before`\n",
    "- The function's first parameter is a list of integers named `integers`\n",
    "- The function's second parameter is an integer named `value`\n",
    "- The function prints all list elements before `value` is seen in the list.  Once `value` is encountered, the loop should terminate, without printing `value`.\n",
    "- If `value` appears in the list multiple times, only the elements before the **first** use of `value` will be printed.  Execution should never reach the second use of `value`.\n",
    "\n",
    "Define your function in the next cell.\n",
    "Leave the calls in order to test your code."
   ]
  },
  {
   "cell_type": "code",
   "execution_count": 19,
   "id": "7f802dab-b1f9-4541-b461-bd07518ede48",
   "metadata": {},
   "outputs": [
    {
     "name": "stdout",
     "output_type": "stream",
     "text": [
      "3\n",
      "8\n",
      "8\n",
      "2\n",
      "9\n",
      "5\n",
      "7\n",
      "8\n",
      "9\n"
     ]
    }
   ],
   "source": [
    "# Define your function here.  Leave the calls in place to test your code.\n",
    "def print_all_before(integers, value):\n",
    "    for int_element in integers:\n",
    "        if int_element == value:\n",
    "            break \n",
    "        print(int_element)\n",
    "        \n",
    "print_all_before([3, 8, 5, 4], 5)\n",
    "# The prior statement should print:\n",
    "# 3\n",
    "# 8\n",
    "\n",
    "print_all_before([8, 2, 9, 5], 3)\n",
    "# The prior statement should print:\n",
    "# 8\n",
    "# 2\n",
    "# 9\n",
    "# 5\n",
    "\n",
    "print_all_before([5, 7, 2, 6], 5)\n",
    "# The prior statement shouldn't print anything\n",
    "\n",
    "print_all_before([7, 8, 9, 1, 2, 9, 1, 0], 1)\n",
    "# The prior statement should print:\n",
    "# 7\n",
    "# 8\n",
    "# 9"
   ]
  },
  {
   "cell_type": "markdown",
   "id": "81889186-c675-4ebd-a2ba-0fad30116a68",
   "metadata": {},
   "source": [
    "## Step 4: Use `continue` to Skip to the Next List Element ##\n",
    "\n",
    "### Background: `continue` ###\n",
    "\n",
    "The `continue` statement, if executed, is used to skip back to the top of a loop.\n",
    "This can be useful to individually skip elements of whatever is being iterated over.\n",
    "The next cell shows an example where `continue` is used to skip over even elements of a list.\n",
    "Here we use the _modulo operator_ (`%`) to determine the remainder of division by `2`, and even numbers are expected to have a remainder of `0` (i.e., `2` evenly divides any even number)."
   ]
  },
  {
   "cell_type": "code",
   "execution_count": 20,
   "id": "9d234267-f4de-4212-8ae5-3d0c62422541",
   "metadata": {},
   "outputs": [
    {
     "name": "stdout",
     "output_type": "stream",
     "text": [
      "foobar\n",
      "blah\n"
     ]
    }
   ],
   "source": [
    "for e in [\"foo\", \"bar\", \"foobar\", \"blah\", \"moo\"]:\n",
    "    if len(e) == 3:\n",
    "        continue\n",
    "    print(e)"
   ]
  },
  {
   "cell_type": "code",
   "execution_count": 21,
   "id": "3bc97566-315b-46da-bedc-3d9389b6a968",
   "metadata": {},
   "outputs": [
    {
     "name": "stdout",
     "output_type": "stream",
     "text": [
      "True\n",
      "False\n",
      "False\n",
      "True\n"
     ]
    }
   ],
   "source": [
    "def is_even(number):\n",
    "    return number % 2 == 0\n",
    "def is_odd(number):\n",
    "    return number % 2 != 0\n",
    "\n",
    "print(is_even(4))\n",
    "print(is_odd(4))\n",
    "\n",
    "print(is_even(5))\n",
    "print(is_odd(5))"
   ]
  },
  {
   "cell_type": "code",
   "execution_count": 22,
   "id": "a589f3e2-9a76-468d-832d-23d003d12af8",
   "metadata": {},
   "outputs": [
    {
     "name": "stdout",
     "output_type": "stream",
     "text": [
      "3\n",
      "5\n"
     ]
    }
   ],
   "source": [
    "def skip_evens(integers):\n",
    "    for integer in integers:\n",
    "        if integer % 2 == 0:\n",
    "            continue\n",
    "        print(integer)\n",
    "\n",
    "skip_evens([3, 2, 8, 4, 5])\n",
    "# Prior statement prints:\n",
    "# 3\n",
    "# 5"
   ]
  },
  {
   "cell_type": "code",
   "execution_count": 23,
   "id": "bbe4099d-6c47-4af4-b4cc-88fc64ad9b00",
   "metadata": {},
   "outputs": [
    {
     "name": "stdout",
     "output_type": "stream",
     "text": [
      "3\n",
      "4\n"
     ]
    }
   ],
   "source": [
    "print(len(\"foo\"))\n",
    "print(len([True, True, False, False]))"
   ]
  },
  {
   "cell_type": "markdown",
   "id": "c85a5bb8-13ae-40d7-9b4b-b4a769f780b6",
   "metadata": {},
   "source": [
    "### Try this Yourself ###\n",
    "\n",
    "Now define a very similar function named `skip_odds`, which uses `continue` to skip over odd elements and ultimately print all even elements in a given list.\n",
    "Define your function in the next cell."
   ]
  },
  {
   "cell_type": "code",
   "execution_count": 25,
   "id": "dd04247d-ef9c-43c0-81ba-f2a8c2d991be",
   "metadata": {},
   "outputs": [
    {
     "name": "stdout",
     "output_type": "stream",
     "text": [
      "2\n",
      "8\n",
      "4\n"
     ]
    }
   ],
   "source": [
    "# Define your function here.  Leave the calls in order to test your code.\n",
    "def skip_odds(integers):\n",
    "    for integer in integers:\n",
    "        if integer % 2 != 0:\n",
    "            continue\n",
    "        print(integer)\n",
    "\n",
    "skip_odds([3, 2, 8, 4, 5])\n",
    "# Prior statement should print:\n",
    "# 2\n",
    "# 8\n",
    "# 4"
   ]
  },
  {
   "cell_type": "markdown",
   "id": "e7480917-7615-48f9-b169-00cc3aa23391",
   "metadata": {},
   "source": [
    "## Step 5: Submit via Canvas ##\n",
    "\n",
    "Be sure to **save your work**, then log into [Canvas](https://canvas.csun.edu/).  Go to the COMP 502 course, and click \"Assignments\" on the left pane.  From there, click \"Assignment 9\".  From there, you can upload the `09_loops_part_1.ipynb` file.\n",
    "\n",
    "You can turn in the assignment multiple times, but only the last version you submitted will be graded."
   ]
  }
 ],
 "metadata": {
  "kernelspec": {
   "display_name": "Python 3 (ipykernel)",
   "language": "python",
   "name": "python3"
  },
  "language_info": {
   "codemirror_mode": {
    "name": "ipython",
    "version": 3
   },
   "file_extension": ".py",
   "mimetype": "text/x-python",
   "name": "python",
   "nbconvert_exporter": "python",
   "pygments_lexer": "ipython3",
   "version": "3.13.5"
  }
 },
 "nbformat": 4,
 "nbformat_minor": 5
}
