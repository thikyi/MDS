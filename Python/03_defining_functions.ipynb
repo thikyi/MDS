{
 "cells": [
  {
   "cell_type": "markdown",
   "id": "912f3a22-64f9-4960-8a4f-477ba8c51446",
   "metadata": {},
   "source": [
    "# Assignment 3: Defining Functions #\n",
    "\n",
    "### Goals for this Assignment ###\n",
    "\n",
    "By the time you have completed this assignment, you should be able to:\n",
    "\n",
    "- Use `def` to define your own functions\n",
    "- Define functions which take zero or more parameters\n",
    "- Use `return` to return a value from inside of a function\n",
    "\n",
    "## Step 1: Define a Function Taking No Parameters ##\n",
    "\n",
    "### Background: Why Functions and Defining Functions ###\n",
    "\n",
    "Functions allow us to take some chunk of code, effectively give that chunk of code a name, and then execute that code whenever we use that name.\n",
    "This allows for us to reuse some piece of code repeatedly, without needing to repeat the code itself.\n",
    "In natural languages, this is analogous to creating a new word and giving that word a definition we all agree on.\n",
    "As long as we agree on the definition, we merely need to say the word in order for the semantic meaning behind the word to be conveyed.\n",
    "Unlike words in natural languages, functions can takes values as input (known as _parameters_) and produce values as output, though we won't get into that until the next step.\n",
    "\n",
    "In Python, you can define your own functions using the `def` reserved word.\n",
    "From there, you need to provide a name for your function, some parentheses, and a colon.\n",
    "After the colon, and code that follows on the next line **which is indented** is part of the same function.\n",
    "By indentation, this means the code is shifted over by some number of spaces (for our purposes, and in general, this should be four spaces).\n",
    "For example, the following cell defines a function named `example`, which will print `\"this is an example\"` every time `example` is called."
   ]
  },
  {
   "cell_type": "code",
   "execution_count": 3,
   "id": "eff56781-84ea-482a-b499-e8b0b31ee09c",
   "metadata": {},
   "outputs": [],
   "source": [
    "def example():\n",
    "    print(\"this is an example\")"
   ]
  },
  {
   "cell_type": "markdown",
   "id": "d9b04927-d92f-4f8b-a72b-6e8740674ee7",
   "metadata": {},
   "source": [
    "If you run the above cell, nothing will appear to happen.\n",
    "This is because this code merely defined the function, but did not execute (call) it.\n",
    "\n",
    "Let's call `example` in the next cell.\n",
    "Note you will **need to run the prior cell** for this next cell to work correctly, otherwise `example` will never be defined (and it is an error to call a function that has not been defined)."
   ]
  },
  {
   "cell_type": "code",
   "execution_count": 4,
   "id": "a60f6261-983f-4c12-bb6b-4a704b3e4bfd",
   "metadata": {},
   "outputs": [
    {
     "name": "stdout",
     "output_type": "stream",
     "text": [
      "this is an example\n"
     ]
    }
   ],
   "source": [
    "example()"
   ]
  },
  {
   "cell_type": "markdown",
   "id": "2f380084-8327-4930-83d1-1462a42fdd0a",
   "metadata": {},
   "source": [
    "If you run the prior cell, you can see that the `print` inside of `example` was executed.\n",
    "This `print`, and in general the indented part of a function, form the function's _body_.\n",
    "\n",
    "The body of a function can (and usually does) span multiple lines.\n",
    "For example, the function `longer_example` in the next cell has multiple calls to `print`, and is called at the end of the cell.\n",
    "If you run this cell, the entire body of `longer_example` will be executed in order."
   ]
  },
  {
   "cell_type": "code",
   "execution_count": 5,
   "id": "ede9dcaa-dc9b-4a46-9654-a7ef11fdc1fd",
   "metadata": {},
   "outputs": [
    {
     "name": "stdout",
     "output_type": "stream",
     "text": [
      "first line\n",
      "second line\n"
     ]
    }
   ],
   "source": [
    "def longer_example():\n",
    "    print(\"first line\")\n",
    "    print(\"second line\")\n",
    "\n",
    "longer_example()"
   ]
  },
  {
   "cell_type": "markdown",
   "id": "d1b66ad9-412b-46af-a3ef-cdff53e719b9",
   "metadata": {},
   "source": [
    "### Try this Yourself ###\n",
    "\n",
    "Now that you have some background on functions, define a function in the next cell named `step_one` which, when called, will print out the following output:\n",
    "\n",
    "```\n",
    "foo\n",
    "bar\n",
    "42\n",
    "```\n",
    "\n",
    "The call to `step_one` has been provided in the next cell, but you'll need to define `step_one` itself.\n",
    "Note that `step_one` will need to be defined _before_ the call to `step_one`; generally functions need to be defined before they can be called."
   ]
  },
  {
   "cell_type": "code",
   "execution_count": 21,
   "id": "42e27f28-3705-4dd4-ab54-4e909cbf0dd7",
   "metadata": {},
   "outputs": [
    {
     "name": "stdout",
     "output_type": "stream",
     "text": [
      "foo\n",
      "bar\n",
      "42\n"
     ]
    }
   ],
   "source": [
    "# Define step_one below.  The call to step_one (step_one()) at the end of this cell\n",
    "# should be left alone\n",
    "def step_one():\n",
    "    print(\"foo\")\n",
    "    print(\"bar\")\n",
    "    print(\"42\")\n",
    "    \n",
    "step_one()"
   ]
  },
  {
   "cell_type": "markdown",
   "id": "2afe0e49-195f-4bcb-8502-6f2c9a8aff41",
   "metadata": {},
   "source": [
    "## Step 2: Define Another Function Taking no Arguments ##\n",
    "\n",
    "The `greeting` function, when called, should print the following:\n",
    "\n",
    "```\n",
    "hello\n",
    "goodbye\n",
    "```\n",
    "\n",
    "The above output resulted from calling `greeting()`.\n",
    "Define the `greeting` function in the next cell."
   ]
  },
  {
   "cell_type": "code",
   "execution_count": 7,
   "id": "9e1e4b29-5e75-4825-b8b5-6a72628cfad1",
   "metadata": {},
   "outputs": [
    {
     "name": "stdout",
     "output_type": "stream",
     "text": [
      "hello\n",
      "goodbye\n"
     ]
    }
   ],
   "source": [
    "# Define your greeting function below\n",
    "def greeting():\n",
    "    print(\"hello\")\n",
    "    print(\"goodbye\")\n",
    "    \n",
    "greeting()"
   ]
  },
  {
   "cell_type": "markdown",
   "id": "450db74b-790d-4614-8a2b-20b66ff5309c",
   "metadata": {},
   "source": [
    "## Step 3: Define a Function Taking One Parameter ##\n",
    "\n",
    "### Background: Function Parameters ###\n",
    "\n",
    "As in mathematics, Python functions can take parameters.\n",
    "When defining a function, one defines the function's _formal parameters_.\n",
    "The actual values of the formal parameters depends on the call to the function; the parameters in the call itself are referred to as the _actual parameters_.\n",
    "\n",
    "For specifying the formal parameters, one uses _variables_.\n",
    "As in mathematics, a Python variable can hold some value.\n",
    "In fact, Python variables can hold _any_ value.\n",
    "\n",
    "To see this in action, the next cell defines a `takes_param` function, which takes a single formal parameter named `x`.\n",
    "`takes_param` is then called multiple times, each time with a different actual parameter.\n",
    "The actual value of `x` is _bound_ to whatever value was passed for the actual parameter."
   ]
  },
  {
   "cell_type": "code",
   "execution_count": 8,
   "id": "82c491d7-90bf-48a2-ac31-1944dca95da0",
   "metadata": {},
   "outputs": [
    {
     "name": "stdout",
     "output_type": "stream",
     "text": [
      "Calling takes_param\n",
      "some string\n",
      "Calling takes_param\n",
      "2\n",
      "Calling takes_param\n",
      "3.14\n"
     ]
    }
   ],
   "source": [
    "def takes_param(x):\n",
    "    print(\"Calling takes_param\")\n",
    "    print(x)\n",
    "\n",
    "takes_param(\"some string\")\n",
    "takes_param(2)\n",
    "takes_param(3.14)"
   ]
  },
  {
   "cell_type": "markdown",
   "id": "e7e41625-40bd-4e10-847d-2b8930fbc2bb",
   "metadata": {},
   "source": [
    "As shown, exactly what `takes_param` prints with the second `print` in the body depends entirely on whatever the actual parameter to `takes_param` was.\n",
    "This actual parameter is bound to the formal parameter `x`, and since `takes_param` prints `x`, `takes_param` thus ends up printing whatever the actual parameter's value was.\n",
    "\n",
    "### Try this Yourself ###\n",
    "\n",
    "Now that you've seen `takes_param`, in the following cell, define a function which has the following constraints:\n",
    "\n",
    "- The function's name is `step_three`\n",
    "- The function takes one formal parameter named `input_param`\n",
    "- The function prints the value of its formal parameter when multiplied by 3\n",
    "\n",
    "The following cell already contains some calls to `step_three`.\n",
    "Your `step_three` definition should precede these calls.\n",
    "These calls should collectively produce the following output:\n",
    "\n",
    "```\n",
    "3\n",
    "9\n",
    "24\n",
    "```"
   ]
  },
  {
   "cell_type": "code",
   "execution_count": 10,
   "id": "44a24be9-d819-4ae6-b2c0-e4a48dc8a138",
   "metadata": {},
   "outputs": [
    {
     "name": "stdout",
     "output_type": "stream",
     "text": [
      "3\n",
      "9\n",
      "24\n"
     ]
    }
   ],
   "source": [
    "# Define step_three below.  The calls to step_three at the end of this cell\n",
    "# should be left alone\n",
    "def step_three(x):\n",
    "    print(x *3)\n",
    "\n",
    "step_three(1)\n",
    "step_three(3)\n",
    "step_three(8)"
   ]
  },
  {
   "cell_type": "markdown",
   "id": "725aaf4d-4ed6-4d1e-aece-eff2954541cf",
   "metadata": {},
   "source": [
    "## Step 4: Define a Function Taking Multiple Parameters ##\n",
    "\n",
    "### Background: Multi-parameter Functions ###\n",
    "\n",
    "You can also define functions which take more than one parameter.\n",
    "When passing multiple parameters, each parameter, both for the formal parameters and the actual parameters, need to be separated by commas (`,`).\n",
    "For example, the `print_plus_result` function below takes two formal parameters, and will apply `+` to them and print the result.\n",
    "Multiple calls to `print_plus_result` are also provided as examples."
   ]
  },
  {
   "cell_type": "code",
   "execution_count": 11,
   "id": "c28ce1a7-417e-4a63-8032-6ee5906a007a",
   "metadata": {},
   "outputs": [
    {
     "name": "stdout",
     "output_type": "stream",
     "text": [
      "5\n",
      "foobar\n",
      "3.75\n"
     ]
    }
   ],
   "source": [
    "def print_plus_result(first, second):\n",
    "    print(first + second)\n",
    "\n",
    "print_plus_result(2, 3)\n",
    "print_plus_result(\"foo\", \"bar\")\n",
    "print_plus_result(1.25, 2.5)"
   ]
  },
  {
   "cell_type": "markdown",
   "id": "f77963b5-a49d-4d5b-9e5e-fc12f2ca985d",
   "metadata": {},
   "source": [
    "Any number of parameters can be strung together using `,`.\n",
    "For example, the `takes_three` function below takes three formal arguments, and will print each one of them."
   ]
  },
  {
   "cell_type": "code",
   "execution_count": 12,
   "id": "f3bf671a-1cf7-4258-b212-022d7e0a4f17",
   "metadata": {},
   "outputs": [
    {
     "name": "stdout",
     "output_type": "stream",
     "text": [
      "alpha\n",
      "beta\n",
      "gamma\n",
      "1\n",
      "2\n",
      "3\n"
     ]
    }
   ],
   "source": [
    "def takes_three(a, b, c):\n",
    "    print(a)\n",
    "    print(b)\n",
    "    print(c)\n",
    "\n",
    "takes_three(\"alpha\", \"beta\", \"gamma\")\n",
    "takes_three(1, 2, 3)"
   ]
  },
  {
   "cell_type": "markdown",
   "id": "51b839cb-ca41-40f2-aa62-c5de46000427",
   "metadata": {},
   "source": [
    "### Try this Yourself ###\n",
    "\n",
    "Now that you've seen `takes_three`, in the following cell, define a function which has the following constraints:\n",
    "\n",
    "- The function's name is `step_four`\n",
    "- The function takes four parameters, named `w`, `x`, `y`, and `z`, in that order\n",
    "- The function prints whatever `(w + x) * y / z` is\n",
    "\n",
    "The following cell already contains some calls to `step_four`.\n",
    "Your `step_four` definition should precede these calls.\n",
    "These calls should collectively produce the following output:\n",
    "\n",
    "```\n",
    "4.0\n",
    "10.0\n",
    "7.5\n",
    "```"
   ]
  },
  {
   "cell_type": "code",
   "execution_count": 14,
   "id": "6c13187e-1c43-43a3-b736-b04d13e1c7cd",
   "metadata": {},
   "outputs": [
    {
     "name": "stdout",
     "output_type": "stream",
     "text": [
      "4.0\n",
      "10.0\n",
      "7.5\n"
     ]
    }
   ],
   "source": [
    "# Define step_four below.  The calls to step_four at the end of this cell\n",
    "# should be left alone\n",
    "def step_four(w, x, y,z):\n",
    "    print((w + x) * y / z)\n",
    "\n",
    "    \n",
    "step_four(2, 3, 4, 5)\n",
    "step_four(10, 5, 2, 3)\n",
    "step_four(10, 5, 2, 4)"
   ]
  },
  {
   "cell_type": "markdown",
   "id": "fc7535a5-5b28-4519-bdfd-870d6503877b",
   "metadata": {},
   "source": [
    "## Step 5: Define a Function Returning a Value ##\n",
    "\n",
    "### Background: Functions can Return Values ###\n",
    "\n",
    "All the functions defined so far have printed out some sort of value.\n",
    "However, not all functions (even most functions) don't work quite like this.\n",
    "For example, you previously saw the functions `int`, `float`, and `str`, which could be used to convert some input to an integer, floating-point, or string representation, respectively.\n",
    "The following cell is a quick refresher on these."
   ]
  },
  {
   "cell_type": "code",
   "execution_count": 22,
   "id": "8087b460-de6d-4304-bc5d-2c8e1600b1cf",
   "metadata": {},
   "outputs": [
    {
     "name": "stdout",
     "output_type": "stream",
     "text": [
      "3\n",
      "9.2\n"
     ]
    }
   ],
   "source": [
    "print(int(\"3\"))\n",
    "print(float(\"9.2\"))"
   ]
  },
  {
   "cell_type": "markdown",
   "id": "8f026a17-6381-42e7-9f0c-66a89e3bd022",
   "metadata": {},
   "source": [
    "While the above cell does print out some output, it is the `print` function which prints this output, _not_ `int` or `float`.\n",
    "This means that `int` and `float`, much like functions in mathematics, are instead _returning_ some values, and those values serve as input to `print`.\n",
    "\n",
    "Returned values allow function calls to behave as any other expression.\n",
    "For example, in `1 + 2 + 3`, Python computes the value of `1 + 2` before it adds `3`, per the usual order of operations for arithmetic.\n",
    "While this intermediate result of `1 + 2` is later used when adding `3`, this intermediate result is not actually displayed anywhere.\n",
    "Function calls work in much the same way - when a function is called, any value the function returns is not automatically displayed or otherwise shown.\n",
    "\n",
    "### Background: Functions can Abstract Over Computation ###\n",
    "\n",
    "Not displaying or otherwise communicating intermediate values can be a bad thing.\n",
    "For example, if our code isn't working correctly and we are trying to debug it, we may want to see some of these intermediate values to better understand what might be going wrong.\n",
    "However, this lack of communication counterintuitively is usually a _very_ good thing, as realistic programs can generate trillions of intermediate values, quickly overwhelming our ability to reason through them.\n",
    "We usually only care about a very small subset of the values computed in a program, not the results of intermediate computations needed to get there, and so it makes sense to use `print` only the values we care about.\n",
    "\n",
    "Case in point, `print` itself _abstracts_ over a lot of detail.\n",
    "Abstraction means that details behind the operation aren't needed to request that the operation be performed.\n",
    "For example, with `print(\"foo\")`, we don't say where exactly we are printing to, or what encoding the output should have; those details have been abstracted away from us.\n",
    "Nonetheless, we can call `print`, which internally must know these details.\n",
    "In fact, `print` ultimately needs to know a _lot_ of information, including:\n",
    "\n",
    "- What cell or terminal is the `print` being executed in?  This influences where the output should be displayed.\n",
    "- Is this `print` being executed interactively, or in batch?  If it's interactive, then this output should be displayed directly to the user.  If it's in batch, then the output will be written to a file.\n",
    "- If we are displaying directly to the user, what specific program is doing the display?  This influences how the information will be displayed.\n",
    "- If we are displaying ultimately on a monitor, what graphics card (or integrated graphics) is the system using?  Moreover, how do we communicate this information to the operating system, and how does the graphics driver handle this information?\n",
    "- If we are ultimately writing to a file, where is this being written?  How is this information communicated to the operating system?  If this file resides on disk, what device drivers are being used to interact with the underlying hardware?\n",
    "\n",
    "This is only a sliver of all the things which `print` ultimately is responsible for, and is not an exaggeration; `print` is remarkably complex if you start looking at all the details.\n",
    "But importantly, _you generally don't need to worry about any of it_ in order to call `print`.\n",
    "You only need to tell `print` what you want to print, and `print` will directly (or indirectly) figure everything else out.\n",
    "The reality is that `print` itself calls out to many other functions (including functions not even defined in Python) which each abstracts over increasingly low-level information.\n",
    "The fact that we don't generally need to worry about any of this is testament to the fact that `print` has abstracted over printing very effectively.\n",
    "\n",
    "### Background: Returning Values from Functions ###\n",
    "\n",
    "To return a value from a function in Python, we use the `return` reserved word.\n",
    "`return` is specifically used inside of functions to return a value from the function, and in so doing, terminating execution of the function.\n",
    "`return` takes an expression, and it will evaluate that expression down to a value, and the value is ultimately returned from the function.\n",
    "\n",
    "An example is shown in the cell below, wherein the `add` function is defined, which takes two parameters.\n",
    "The `add` function computes the sum of its parameters, and returns the result back to the caller.\n",
    "Multiple calls to `add` follow, and `print` is used to print out whatever `add` returned."
   ]
  },
  {
   "cell_type": "code",
   "execution_count": 15,
   "id": "3cf151ad-715a-43b9-a41a-9b7d0879b6b9",
   "metadata": {},
   "outputs": [
    {
     "name": "stdout",
     "output_type": "stream",
     "text": [
      "3\n",
      "7\n",
      "18\n"
     ]
    }
   ],
   "source": [
    "def add(a, b):\n",
    "    return a + b\n",
    "\n",
    "print(add(1, 2))\n",
    "print(add(4, 3))\n",
    "print(add(7, 11))"
   ]
  },
  {
   "cell_type": "markdown",
   "id": "98f3295c-1bc5-4d25-975d-a4e361a016a7",
   "metadata": {},
   "source": [
    "### Try this Yourself ###\n",
    "\n",
    "Now you try.\n",
    "Define a function with the following constraints:\n",
    "\n",
    "- It is named `step_five`\n",
    "- It takes three parameters\n",
    "- It computes the product of these three parameters (i.e., it multiplies them all together)\n",
    "- It returns this product\n",
    "\n",
    "The following cell already contains some calls to `step_five`.\n",
    "Your `step_five` definition should precede these calls.\n",
    "These calls should collectively produce the following output:\n",
    "\n",
    "```\n",
    "24\n",
    "162\n",
    "6\n",
    "```"
   ]
  },
  {
   "cell_type": "code",
   "execution_count": 16,
   "id": "d160da90-e378-4a47-9411-fe4c7e545909",
   "metadata": {},
   "outputs": [
    {
     "name": "stdout",
     "output_type": "stream",
     "text": [
      "24\n",
      "162\n",
      "6\n"
     ]
    }
   ],
   "source": [
    "# Define step_five below.  The calls to step_five at the end of this cell\n",
    "# should be left alone, as well as the prints\n",
    "def step_five(a, b,c):\n",
    "    return a * b * c\n",
    "\n",
    "print(step_five(2, 3, 4))\n",
    "print(step_five(9, 3, 6))\n",
    "print(step_five(1, 2, 3))"
   ]
  },
  {
   "cell_type": "markdown",
   "id": "e98fe052-1f31-4d47-84d1-702ffb200ce1",
   "metadata": {},
   "source": [
    "## Step 6: Define Another Function Taking One Parameter and Returning a Value ##\n",
    "\n",
    "For this step, you need to define a function with the following constraints:\n",
    "\n",
    "- The name of the function is `multiply_by_seven`\n",
    "- The function takes a single formal parameter, which is assumed to be a number (either `int` or `float`)\n",
    "- The function will multiply this parameter by `7`, and return the result\n",
    "\n",
    "Some example calls to `multiply_by_seven` are provided below, with their expected outputs.\n",
    "\n",
    "```python\n",
    "print(multiply_by_seven(1))\n",
    "print(multiply_by_seven(2))\n",
    "print(multiply_by_seven(3))\n",
    "```\n",
    "\n",
    "```\n",
    "7\n",
    "14\n",
    "21\n",
    "```\n",
    "\n",
    "Define your `multiply_by_seven` function in the next cell."
   ]
  },
  {
   "cell_type": "code",
   "execution_count": 17,
   "id": "fbe4e9b7-12d9-44ee-8208-5a722fe7c802",
   "metadata": {},
   "outputs": [
    {
     "name": "stdout",
     "output_type": "stream",
     "text": [
      "7\n",
      "14\n",
      "21\n"
     ]
    }
   ],
   "source": [
    "# Define multiply_by_seven here.  Leave the calls at the end.\n",
    "\n",
    "def multiply_by_seven(a):\n",
    "    return int(a) * 7\n",
    "\n",
    "print(multiply_by_seven(1))\n",
    "print(multiply_by_seven(2))\n",
    "print(multiply_by_seven(3))"
   ]
  },
  {
   "cell_type": "markdown",
   "id": "04a48692-59bd-416f-a29a-e0862a70b53c",
   "metadata": {},
   "source": [
    "## Step 7: Define A Function Which Concatenates a String to an Integer and Returns the Result ##\n",
    "\n",
    "For this step, you need to define a function with the following constraints:\n",
    "\n",
    "- The name of the function is `concat_string_int`\n",
    "- The function takes two formal parameters.  The first is assumed to be a string (`str`), and the second is assumed to be an integer (`int`).\n",
    "- The function will concatenate the string and the integer, and return the result of this concatenation\n",
    "\n",
    "Some example calls to `concat_string_int` are provided below, with their expected outputs.\n",
    "\n",
    "```python\n",
    "print(concat_string_int(\"foo\", 1))\n",
    "print(concat_string_int(\"bar\", 2))\n",
    "print(concat_string_int(\"baz\", 56))\n",
    "```\n",
    "\n",
    "```\n",
    "foo1\n",
    "bar2\n",
    "baz56\n",
    "```\n",
    "\n",
    "Define your `concat_string_int` function in the next cell.\n",
    "\n",
    "Note that Python does not allow you to directly concatenate strings and integers.\n",
    "As a reminder (and a hint), the `str` function can be used to convert an integer to a string."
   ]
  },
  {
   "cell_type": "code",
   "execution_count": 20,
   "id": "d89fdd3e-8d71-4318-af21-39d778cdae52",
   "metadata": {},
   "outputs": [
    {
     "name": "stdout",
     "output_type": "stream",
     "text": [
      "foo1\n",
      "bar2\n",
      "baz56\n"
     ]
    }
   ],
   "source": [
    "# Define concat_string_int here.  Leave the calls below.\n",
    "def concat_string_int(a,b):\n",
    "    return a+str(b)\n",
    "\n",
    "print(concat_string_int(\"foo\", 1))\n",
    "print(concat_string_int(\"bar\", 2))\n",
    "print(concat_string_int(\"baz\", 56))"
   ]
  },
  {
   "cell_type": "markdown",
   "id": "5f6e4c59-b291-43d9-bbd1-bee841952dd7",
   "metadata": {},
   "source": [
    "## Step 8: Submit via Canvas ##\n",
    "\n",
    "Be sure to **save your work**, then log into [Canvas](https://canvas.csun.edu/).  Go to the COMP 502 course, and click \"Assignments\" on the left pane.  From there, click \"Assignment 3\".  From there, you can upload the `03_defining_functions.ipynb` file.\n",
    "\n",
    "You can turn in the assignment multiple times, but only the last version you submitted will be graded."
   ]
  }
 ],
 "metadata": {
  "kernelspec": {
   "display_name": "Python 3 (ipykernel)",
   "language": "python",
   "name": "python3"
  },
  "language_info": {
   "codemirror_mode": {
    "name": "ipython",
    "version": 3
   },
   "file_extension": ".py",
   "mimetype": "text/x-python",
   "name": "python",
   "nbconvert_exporter": "python",
   "pygments_lexer": "ipython3",
   "version": "3.13.5"
  }
 },
 "nbformat": 4,
 "nbformat_minor": 5
}
