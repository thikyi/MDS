{
 "cells": [
  {
   "cell_type": "markdown",
   "id": "e2463618-4b28-49ce-8319-e62e49d02930",
   "metadata": {},
   "source": [
    "# Assignment 13: Lambda and Keyword Arguments #\n",
    "\n",
    "### Goals for this Assignment ###\n",
    "\n",
    "By the time you have completed this assignment, you should be able to:\n",
    "\n",
    "- Use `lambda` to create new functions in any position an expression is expected\n",
    "- Use the `key` keyword argument of `sorted` to help sort a list of custom objects\n",
    "- Define a function using keyword and optional arguments\n",
    "\n",
    "## Step 1: Use `lambda` to Create Functions ##\n",
    "\n",
    "### Background: `lambda` and Abstracting Over Computation ###\n",
    "\n",
    "By this point, you are used to defining your own functions.\n",
    "However, it turns out there is a bit of a limit to the sorts of functions we have been working with.\n",
    "To illustrate this, let's revisit the pseudocode shown in step 1 of assignment 11, duplicated below for convenience:\n",
    "\n",
    "```python\n",
    "new_variable = initial_value\n",
    "for element in some_list:\n",
    "    new_variable = some_operation(new_variable, element)\n",
    "```\n",
    "\n",
    "In assignment 11, it was stated that this sort of pattern comes up frequently in code, and is used to incrementally build up a result while iterating over some list.\n",
    "Some of your solutions for assignment 11 required you to repeat this pattern in order to solve various problems.\n",
    "However, this begs a question: why repeat this code, when we could instead _abstract_ over this code by defining a function?\n",
    "That is, why didn't we just define a function that executed the code shown above, and then merely call that function each time we needed that code, instead of repeating the code itself?\n",
    "\n",
    "Towards that end, we will try to define a function which abstracts over the above pattern.\n",
    "The usual strategy when abstracting over code in this fashion is that anything that is expected to be different in different problem instances becomes a variable.\n",
    "In the code above, `initial_value`, `some_list`, and `some_operation` all depend on the specific instance of the problem (i.e., the thing we are actually trying to compute), and therefore these make sense to turn into function parameters.\n",
    "We attempt to do this in the next cell."
   ]
  },
  {
   "cell_type": "code",
   "execution_count": 1,
   "id": "124b934a-2249-4835-89fd-e36e23115b59",
   "metadata": {},
   "outputs": [],
   "source": [
    "def pattern(initial_value, some_list, some_operation):\n",
    "    new_variable = initial_value\n",
    "    for element in some_list:\n",
    "        new_variable = some_operation(new_variable, element)\n",
    "    return new_variable"
   ]
  },
  {
   "cell_type": "markdown",
   "id": "9c037196-6a60-4bc5-834f-d295462df2aa",
   "metadata": {},
   "source": [
    "The code above is a valid Python function.\n",
    "`initial_value`, `some_list`, and `some_operation` all became parameters, and therefore someone using `pattern` could pass in different values for there parameters.\n",
    "`new_variable` becomes a local variable in `pattern`, i.e., `new_variable` is only in scope within the `pattern` function.\n",
    "`element` similarly is in scope within the `for...in` loop, and the body of the loop repeatedly updates `new_variable`.\n",
    "The part that may potentially jump out at you as strange is the `some_operation(new_variable, element)` part.\n",
    "This shows us _calling_ `some_operation` as a function, passing `new_variable` and `element` as parameters.\n",
    "Keep in mind that `some_operation` here is a _parameter_ to `pattern`, and therefore the value of `some_operation` depends on the specific call to `pattern`.\n",
    "In the above code, `some_operation` will be called as many times as there are elements in `some_list`.\n",
    "\n",
    "For the above code to work, we need to be able to pass functions themselves as parameters to other functions.\n",
    "Or, phrased another way, this code assumes we can treat functions as data, meaning we can assign functions to variables and treat them as we do any other data (e.g, integers, strings, etc.).\n",
    "\n",
    "It turns out that Python does allow this, and `pattern` already is correctly written to use a function as a parameter.\n",
    "The question now is how to pass in a function as a value into `pattern`.\n",
    "This can be most directly done in Python via use of `lamdba` expressions, which create new functions on the fly.\n",
    "Specifically, a `lambda` expression will create an object of type `function`, and `function` objects can be called.\n",
    "This is shown by example in the cell below."
   ]
  },
  {
   "cell_type": "code",
   "execution_count": 2,
   "id": "1ac11600-e29f-49d6-a743-7b9993c64678",
   "metadata": {},
   "outputs": [
    {
     "name": "stdout",
     "output_type": "stream",
     "text": [
      "3\n",
      "11\n",
      "1\n",
      "3\n",
      "8\n",
      "32\n"
     ]
    }
   ],
   "source": [
    "add = lambda a, b: a + b\n",
    "increment = lambda x: x + 1\n",
    "mult = lambda first, second: first * second\n",
    "\n",
    "print(add(1, 2)) # prints 3\n",
    "print(add(5, 6)) # prints 11\n",
    "\n",
    "print(increment(0)) # prints 1\n",
    "print(increment(2)) # prints 3\n",
    "\n",
    "print(mult(4, 2)) # prints 8\n",
    "print(mult(8, 4)) # prints 32"
   ]
  },
  {
   "cell_type": "markdown",
   "id": "91da2430-ce98-49e6-ac52-95aae807836f",
   "metadata": {},
   "source": [
    "To provide some explanation to the above code, let's elaborate on the first line.\n",
    "The expression `lambda a, b: a + b` creates a `function` object.\n",
    "The specific function takes two parameters; here we specify the formal parameters, which are named `a` and `b`, respectively.\n",
    "When called, `a` and `b` will be bound to the two actual parameters, and the function will evaluate `a + b` and return whatever `a + b` returns.\n",
    "From there, we bind a reference to this newly-created function object to the `add` variable.\n",
    "Later on, when we call this function (e.g., with `add(1, 2)`), this references the `add` variable, and calls this `function` object.\n",
    "\n",
    "The next two lines show that `lambda` functions work much like normal functions: they can take any number of parameters, and the names of the formal parameters have the same rules as named for the formal paramerters of more typical, named functions.\n",
    "\n",
    "Using `pattern` and `lambda`, we can revisit the `product` function from assignment 11, which is repeated in the next cell for convenience:"
   ]
  },
  {
   "cell_type": "code",
   "execution_count": 3,
   "id": "6d4f733d-f95c-4965-8efb-ae6f9630fcbb",
   "metadata": {},
   "outputs": [],
   "source": [
    "def product(numbers):\n",
    "    result = 1\n",
    "    for number in numbers:\n",
    "        result = result * number\n",
    "    return result"
   ]
  },
  {
   "cell_type": "markdown",
   "id": "fcf098c7-d81e-45ca-a32c-b772a3289411",
   "metadata": {},
   "source": [
    "We can redefine `product` with a call to `pattern` with `lambda`, shown below:"
   ]
  },
  {
   "cell_type": "code",
   "execution_count": 4,
   "id": "b3d0858b-53a9-4488-991e-eff0a55eff6d",
   "metadata": {},
   "outputs": [
    {
     "name": "stdout",
     "output_type": "stream",
     "text": [
      "10\n",
      "16\n",
      "120\n",
      "1\n"
     ]
    }
   ],
   "source": [
    "def new_product(numbers):\n",
    "    return pattern(1, numbers, lambda a, b: a * b)\n",
    "\n",
    "print(new_product([2, 5])) # prints 10\n",
    "print(new_product([1, 8, 2])) # prints 16\n",
    "print(new_product([4, 5, 3, 2])) # prints 120\n",
    "print(new_product([])) # prints 1"
   ]
  },
  {
   "cell_type": "markdown",
   "id": "90459b97-dbb7-4500-a721-1938bbe35620",
   "metadata": {},
   "source": [
    "### Try this Yourself ###\n",
    "\n",
    "Consider the `print` statements and comments below, which make calls to various functions with various behaviors.\n",
    "Define these functions using `lambda` and variables with the appropriate names, similar to what was done with `add`, `increment`, and `mult` above."
   ]
  },
  {
   "cell_type": "code",
   "execution_count": 5,
   "id": "4d030352-f0ad-4740-be32-22daa5e79e04",
   "metadata": {},
   "outputs": [
    {
     "name": "stdout",
     "output_type": "stream",
     "text": [
      "4\n",
      "1\n",
      "2.0\n",
      "3.5\n",
      "4\n",
      "8\n",
      "9\n",
      "16\n"
     ]
    }
   ],
   "source": [
    "# Define your functions USING LAMBDA here.  Leave the calls below for testing.\n",
    "decrement = lambda x: x - 1\n",
    "div = lambda first, second: first / second\n",
    "exponent = lambda first, second: first**second\n",
    "\n",
    "print(decrement(5)) # should print 4\n",
    "print(decrement(2)) # should print 1\n",
    "\n",
    "print(div(4, 2)) # should print 2.0\n",
    "print(div(7, 2)) # should print 3.5\n",
    "\n",
    "print(exponent(2, 2)) # should print 4\n",
    "print(exponent(2, 3)) # should print 8\n",
    "print(exponent(3, 2)) # should print 9\n",
    "print(exponent(4, 2)) # should print 16"
   ]
  },
  {
   "cell_type": "markdown",
   "id": "cf1d87f8-02eb-4e77-a064-6a63570e955d",
   "metadata": {},
   "source": [
    "## Step 2: Print Only Specified Elements of a List ##\n",
    "\n",
    "For this step, you'll need to define a function with the following constraints:\n",
    "\n",
    "- The name of the function is `print_some`\n",
    "- `print_some`'s first parameter is a list of elements of any type\n",
    "- `print_some`'s second parameter is a function, which takes a single parameter.  The function should be able to take any kind of element in the list.  The function returns a Boolean indicating if a given list element should be printed or not.\n",
    "- `print_some` itself should be defined as a typical named function with `def`, but it is expected to take a function, much like `pattern` above.\n",
    "\n",
    "Example calls to `print_some` are shown in the next cell, along with the expected output.\n",
    "Define `print_some` in the next cell.\n",
    "Leave the calls in place in order to test your code."
   ]
  },
  {
   "cell_type": "code",
   "execution_count": 9,
   "id": "9cb616cf-c385-4e46-8949-720c204f95c2",
   "metadata": {},
   "outputs": [
    {
     "name": "stdout",
     "output_type": "stream",
     "text": [
      "2\n",
      "8\n",
      "4\n",
      "\n",
      "3\n",
      "5\n",
      "\n",
      "2\n",
      "4\n",
      "0\n",
      "\n",
      "8\n",
      "9\n"
     ]
    },
    {
     "data": {
      "text/plain": [
       "[None, None]"
      ]
     },
     "execution_count": 9,
     "metadata": {},
     "output_type": "execute_result"
    }
   ],
   "source": [
    "# Define your function below.  Leave the calls in place to test your code.\n",
    "print_some = lambda li, func:[print(item) for item in li if func(item)]\n",
    "\n",
    "print_some([3, 2, 8, 5, 4], lambda x: x % 2 == 0)\n",
    "# the above statement prints all even elements of the given list, namely:\n",
    "# 2\n",
    "# 8\n",
    "# 4\n",
    "\n",
    "print()\n",
    "print_some([3, 2, 8, 5, 4], lambda x: x % 2 == 1)\n",
    "# the above statement prints all odd elements of the given list, namely:\n",
    "# 3\n",
    "# 5\n",
    "\n",
    "print()\n",
    "print_some([8, 2, 4, 9, 0], lambda x: x <= 4)\n",
    "# the above statement prints all elements <= 4, namely:\n",
    "# 2\n",
    "# 4\n",
    "# 0\n",
    "\n",
    "print()\n",
    "print_some([8, 2, 4, 9, 0], lambda x: x > 5)\n",
    "# the above statement prints all elements > 5, namely:\n",
    "# 8\n",
    "# 9"
   ]
  },
  {
   "cell_type": "markdown",
   "id": "cb7274e2-0548-4708-af9a-317f1084a53b",
   "metadata": {},
   "source": [
    "## Step 3: Utilize the `key` Parameter of `sorted` to Sort a List of Objects ##\n",
    "\n",
    "### Background: Sorting Lists in Python and Keyword Arguments ###\n",
    "\n",
    "There exist a large variety of [_sorting algorithms_](https://en.wikipedia.org/wiki/Sorting_algorithm), which are general approaches to putting the elements of a list in sorted order (e.g., `[1, 2, 3]`, vs. `[3, 1, 2]`).\n",
    "Exactly how these algorithms work and why there are so many of them is beyond the scope of this course.\n",
    "For our purposes, you need only know that Python already provides a way to sort lists out of the box, namely with the `sorted` function and the `sort` method.\n",
    "A description of both follow.\n",
    "\n",
    "`sorted` is a built-in function which takes a list and returns a new, sorted version of that list.\n",
    "This is illustrated in the cell below."
   ]
  },
  {
   "cell_type": "code",
   "execution_count": 10,
   "id": "ce5415db-c401-4299-a098-9ebc3787407d",
   "metadata": {},
   "outputs": [
    {
     "name": "stdout",
     "output_type": "stream",
     "text": [
      "[9, 3, 7, 2]\n",
      "[2, 3, 7, 9]\n"
     ]
    }
   ],
   "source": [
    "first_list = [9, 3, 7, 2]\n",
    "second_list = sorted(first_list)\n",
    "print(first_list) # prints [9, 3, 7, 2]\n",
    "print(second_list) # prints [2, 3, 7, 9]"
   ]
  },
  {
   "cell_type": "markdown",
   "id": "8f5c5ca8-14d4-4376-8733-266bf8af98d8",
   "metadata": {},
   "source": [
    "As shown, the call to `sorted` does not change `first_list`, and instead returns a new list of the same elements but in sorted order.\n",
    "\n",
    "In constrast, the closely-related `sort` method on lists _does_ modify the original list.\n",
    "This is shown by example in the cell below:"
   ]
  },
  {
   "cell_type": "code",
   "execution_count": 11,
   "id": "0746cd38-f856-4cc9-8004-18b6add41600",
   "metadata": {},
   "outputs": [
    {
     "name": "stdout",
     "output_type": "stream",
     "text": [
      "[0, 1, 2, 3, 5, 8]\n"
     ]
    }
   ],
   "source": [
    "some_list = [3, 2, 8, 5, 0, 1]\n",
    "some_list.sort()\n",
    "print(some_list) # prints [0, 1, 2, 3, 5, 8]"
   ]
  },
  {
   "cell_type": "markdown",
   "id": "2d7637f1-888d-4422-a633-f5c1dfd95f7b",
   "metadata": {},
   "source": [
    "As short, `sort` modifies the list itself; this is sometimes referred to as modifying the list in-place.\n",
    "Because `sort` does not create a new list, this can be better for minimizing memory usage.\n",
    "However, in some contexts `sorted` is much more convenient, and the extra memory usage is moot if one needs to make a copy of the original list anyway for some reason.\n",
    "\n",
    "`sorted` can be applied to lists holding any elements.\n",
    "For example, we can also use `sorted` to sort lists of strings, which will put them in [lexicographic ordering](https://en.wikipedia.org/wiki/Lexicographic_order) (i.e., as you'd see the words in a dictionary).\n",
    "This is shown in the next cell."
   ]
  },
  {
   "cell_type": "code",
   "execution_count": 12,
   "id": "d0599ad3-7dbf-48ad-adf2-f625c8321447",
   "metadata": {},
   "outputs": [
    {
     "name": "stdout",
     "output_type": "stream",
     "text": [
      "['foo', 'bar', 'baz', 'blah', 'moo', 'cow', 'bull']\n",
      "['bar', 'baz', 'blah', 'bull', 'cow', 'foo', 'moo']\n"
     ]
    }
   ],
   "source": [
    "third_list = [\"foo\", \"bar\", \"baz\", \"blah\", \"moo\", \"cow\", \"bull\"]\n",
    "fourth_list = sorted(third_list)\n",
    "print(third_list) # prints ['foo', 'bar', 'baz', 'blah', 'moo', 'cow', 'bull']\n",
    "print(fourth_list) # prints ['bar', 'baz', 'blah', 'bull', 'cow', 'foo', 'moo']"
   ]
  },
  {
   "cell_type": "markdown",
   "id": "b69ad964-c966-4837-a1ba-2b3a678eaafe",
   "metadata": {},
   "source": [
    "Internally, `sorted` needs to know how to compare any two individual elements of a list to each other, in order to know which element is supposed to come before which other element.\n",
    "`sorted` achieves this with `<`, which works over both integers and strings, like so:"
   ]
  },
  {
   "cell_type": "code",
   "execution_count": 13,
   "id": "18eb6fbe-5fab-4336-8ab7-5ef9b1a1f9e9",
   "metadata": {},
   "outputs": [
    {
     "name": "stdout",
     "output_type": "stream",
     "text": [
      "True\n",
      "False\n",
      "False\n",
      "True\n"
     ]
    }
   ],
   "source": [
    "print(1 < 2)\n",
    "print(2 < 1)\n",
    "print(\"foo\" < \"bar\")\n",
    "print(\"bar\" < \"foo\")"
   ]
  },
  {
   "cell_type": "markdown",
   "id": "e557862d-73a7-46bc-8ee0-b8f77c3d2732",
   "metadata": {},
   "source": [
    "The one problem with using `<` is that it only works if all objects in the list have the same type.\n",
    "For example, if you try:"
   ]
  },
  {
   "cell_type": "code",
   "execution_count": 14,
   "id": "b82905c7-dbce-4a59-9ffb-3c9ad2f04c41",
   "metadata": {},
   "outputs": [
    {
     "ename": "TypeError",
     "evalue": "'<' not supported between instances of 'int' and 'str'",
     "output_type": "error",
     "traceback": [
      "\u001b[1;31m---------------------------------------------------------------------------\u001b[0m",
      "\u001b[1;31mTypeError\u001b[0m                                 Traceback (most recent call last)",
      "Cell \u001b[1;32mIn[14], line 1\u001b[0m\n\u001b[1;32m----> 1\u001b[0m \u001b[38;5;28mprint\u001b[39m(\u001b[38;5;28msorted\u001b[39m([\u001b[38;5;124m\"\u001b[39m\u001b[38;5;124mfoo\u001b[39m\u001b[38;5;124m\"\u001b[39m, \u001b[38;5;241m1\u001b[39m, \u001b[38;5;241m2\u001b[39m, \u001b[38;5;124m\"\u001b[39m\u001b[38;5;124mbar\u001b[39m\u001b[38;5;124m\"\u001b[39m]))\n",
      "\u001b[1;31mTypeError\u001b[0m: '<' not supported between instances of 'int' and 'str'"
     ]
    }
   ],
   "source": [
    "print(sorted([\"foo\", 1, 2, \"bar\"]))"
   ]
  },
  {
   "cell_type": "markdown",
   "id": "9d0fa0e0-7e0d-4906-be04-dc207e494354",
   "metadata": {},
   "source": [
    "...this ends up crashing with a `TypeError` stating that you can't compare an `int` to a `str`.\n",
    "\n",
    "On some level, this error makes sense: what does it mean for an integer to be less than some given string?\n",
    "In general, there might not be an answer to this question.\n",
    "But for your specific application, there might be.\n",
    "For example, one way to circumvent this issue would be to use the string representation (from the `str` function) of each integer involved, in order to uniformly compare strings.\n",
    "In other words, we instead do:"
   ]
  },
  {
   "cell_type": "code",
   "execution_count": 15,
   "id": "e1b57e10-593f-40ea-a6ba-3262ee8e85ef",
   "metadata": {},
   "outputs": [
    {
     "name": "stdout",
     "output_type": "stream",
     "text": [
      "['1', '2', 'bar', 'foo']\n"
     ]
    }
   ],
   "source": [
    "print(sorted([\"foo\", \"1\", \"2\", \"bar\"]))"
   ]
  },
  {
   "cell_type": "markdown",
   "id": "2391cdae-13b4-4462-ada1-f890d6b3d036",
   "metadata": {},
   "source": [
    "The above code gives us `['1', '2', 'bar', 'foo']`, putting the numbers before the strings.\n",
    "This, admittedly, is not always desirable, and can have some unintended consequences.\n",
    "For example, multi-digit integers exhibit some potentially surprising behavior:"
   ]
  },
  {
   "cell_type": "code",
   "execution_count": 16,
   "id": "0a9dd1d6-64b9-4fad-b540-f875567ea8e3",
   "metadata": {},
   "outputs": [
    {
     "name": "stdout",
     "output_type": "stream",
     "text": [
      "['1', '12', '123', '133', '2', 'bar', 'foo']\n"
     ]
    }
   ],
   "source": [
    "print(sorted([\"foo\", \"1\", \"2\", \"bar\", \"12\", \"123\", \"133\"]))"
   ]
  },
  {
   "cell_type": "markdown",
   "id": "bac10877-bbe0-4897-8e2c-1e6064a9e978",
   "metadata": {},
   "source": [
    "If the above cell is run, you'll see that `'2'` is listed after all the other numbers.\n",
    "The reasoning is because we aren't comparing these as numbers anymore, but rather as strings, and the character `2` on the keyboard comes after `1`.\n",
    "Per dictionary ordering, this means that any number that starts with `1` must come before any number starting with `2`.\n",
    "For our purposes, we will say this is intended behavior, but in general, this might not be what you want.\n",
    "\n",
    "While we can now sort numbers along with our strings, we needed to change the list elements themselves to do this.\n",
    "This might be desirable, but for our purposes, let's assume it isn't.\n",
    "We instead want our original list elements, intermixed with strings and integers, but in sorted order based on the string representation of all the elements.\n",
    "In other words, we want the output list `[1, 12, 123, 133, 2, 'bar', 'foo']`, _not_ `['1', '12', '123', '133', '2', 'bar', 'foo']` (i.e., the integers should be integers, not strings of digits).\n",
    "\n",
    "It turns out the `sorted` function does have a way to do exactly what we want, by passing an additional parameter.\n",
    "Specifically, we can pass a function to `sorted`, and the function will be called on every element of the original list.\n",
    "The list items will be sorted _by the output of the function_, as opposed to sorting the items themselves.\n",
    "This is best shown by example, seen in the following cell:"
   ]
  },
  {
   "cell_type": "code",
   "execution_count": 17,
   "id": "ab4ca9fa-8cae-4fc7-9835-eb772e210774",
   "metadata": {},
   "outputs": [
    {
     "name": "stdout",
     "output_type": "stream",
     "text": [
      "[1, 12, 123, 133, 2, 'bar', 'foo']\n"
     ]
    }
   ],
   "source": [
    "print(sorted([\"foo\", 1, 2, \"bar\", 12, 123, 133], key=lambda e: str(e)))"
   ]
  },
  {
   "cell_type": "markdown",
   "id": "9d8aa9d1-52f0-4824-af02-6ec2994292c7",
   "metadata": {},
   "source": [
    "If the above cell is run, you'll see that you get an output list containing both strings and integers.\n",
    "`sorted` has been given an additional parameter, namely the whole `key=lambda e: str(e)` part.\n",
    "The `key=` part is referred to as a _keyword argument_ in Python, that is, we can pass parameters with specific names.\n",
    "These names are fixed by the function itself; i.e., `sorted` here is specifically defined to take a keyword argument named `key`.\n",
    "In many cases, keyword arguments are _optional_, meaning they don't have to be passed (and we were not passing them with all the prior calls to `sorted`).\n",
    "The `lambda e: str(e)` part creates a function which takes a single parameter (named `e`), and will return the result of `str(e)`.\n",
    "That is, this function returns the string representation of its argument.\n",
    "In thise case, the actual sort performed by `sorted` is then performed on those string representations, though the original elements are nonetheless preserved.\n",
    "\n",
    "The `sort` method also takes a `key` parameter, and uses this in the same way as `sorted` does.\n",
    "For example:"
   ]
  },
  {
   "cell_type": "code",
   "execution_count": 18,
   "id": "63a07ec5-72d3-452b-95cf-79ceaf3c1daf",
   "metadata": {},
   "outputs": [
    {
     "name": "stdout",
     "output_type": "stream",
     "text": [
      "[1, 12, 123, 133, 2, 'bar', 'foo']\n"
     ]
    }
   ],
   "source": [
    "original_items = [\"foo\", 1, 2, \"bar\", 12, 123, 133]\n",
    "original_items.sort(key=lambda e: str(e))\n",
    "print(original_items)"
   ]
  },
  {
   "cell_type": "markdown",
   "id": "9fbc5155-a085-4614-9016-7acb381a6d62",
   "metadata": {},
   "source": [
    "### Try This Yourself ###\n",
    "\n",
    "In the next cell, a custom class is defined which will internally hold an integer (named `some_integer`).\n",
    "The goal is to sort instances of this class (i.e., objects) based on the value of `some_integer`.\n",
    "You can achieve this goal via the use if `key=`, provided a `lambda` function.\n",
    "The provided calls to `sorted` will currently not work correctly without this additional keyword argument.\n",
    "Modify the calls to `sorted` to add `key=` arguments which will lead to the correct output."
   ]
  },
  {
   "cell_type": "code",
   "execution_count": 21,
   "id": "132708f1-1e7c-456c-a9cd-91f9305806c7",
   "metadata": {},
   "outputs": [
    {
     "name": "stdout",
     "output_type": "stream",
     "text": [
      "1\n",
      "2\n",
      "3\n",
      "4\n"
     ]
    }
   ],
   "source": [
    "class CustomClass:\n",
    "    def __init__(self, some_integer):\n",
    "        self.some_integer = some_integer\n",
    "\n",
    "one = CustomClass(1)\n",
    "two = CustomClass(2)\n",
    "three = CustomClass(3)\n",
    "four = CustomClass(4)\n",
    "items = [four, one, three, two]\n",
    "\n",
    "sorted_items = sorted(items, key=lambda e: e.some_integer) # modify this line to add a key= parameter\n",
    "\n",
    "for item in sorted_items:\n",
    "    print(item.some_integer)\n",
    "\n",
    "# Overall expected output:\n",
    "# 1\n",
    "# 2\n",
    "# 3\n",
    "# 4"
   ]
  },
  {
   "cell_type": "markdown",
   "id": "adf59848-6657-4329-beb7-fa1451dc5133",
   "metadata": {},
   "source": [
    "## Step 4: Define a Function with an Optional Keyword Argument ##\n",
    "\n",
    "### Background: Defining Functions with Keyword Arguments ###\n",
    "\n",
    "Up until this point, you've only defined functions which take positional arguments.\n",
    "For example, with:"
   ]
  },
  {
   "cell_type": "code",
   "execution_count": 22,
   "id": "0bbca6af-7049-4cf1-ae73-e7b6197850aa",
   "metadata": {},
   "outputs": [],
   "source": [
    "def add(x, y):\n",
    "    return x + y"
   ]
  },
  {
   "cell_type": "markdown",
   "id": "3a9bd2e7-cff2-43fd-8950-db41a7a08a34",
   "metadata": {},
   "source": [
    "...`x` is in the first position, and `y` is in the second position.\n",
    "This means that in the call `add(5, 6)`, since `5` is in the first position in the call, `x` will be bound to `5`.\n",
    "Similarly, since `6` is in the second position in the call, `y` will be bound to `6`.\n",
    "\n",
    "It turns out that Python also allows us to specify `x` and `y` as keyword arguments here, as with the call:"
   ]
  },
  {
   "cell_type": "code",
   "execution_count": 23,
   "id": "4c752e17-7957-46ce-a4e0-ca149e7fabaf",
   "metadata": {},
   "outputs": [
    {
     "name": "stdout",
     "output_type": "stream",
     "text": [
      "7\n"
     ]
    }
   ],
   "source": [
    "# Be sure to load prior cell defining add before this one, or else this one\n",
    "# won't have the `add` function defined\n",
    "print(add(x=3, y=4))"
   ]
  },
  {
   "cell_type": "markdown",
   "id": "d8bc73e3-ce34-437f-a3a9-a274dc14acd8",
   "metadata": {},
   "source": [
    "As shown, you can use the names of the formal parameters as keyword arguments, and everything works as normal.\n",
    "In fact, when one calls a function using keyword arguments in this style, there is no need to maintain the position of those arguments.\n",
    "For example:"
   ]
  },
  {
   "cell_type": "code",
   "execution_count": 24,
   "id": "49d00853-7587-479b-add5-7b320761f9ee",
   "metadata": {},
   "outputs": [
    {
     "name": "stdout",
     "output_type": "stream",
     "text": [
      "6\n"
     ]
    }
   ],
   "source": [
    "print(add(y=5, x=1))"
   ]
  },
  {
   "cell_type": "markdown",
   "id": "c4bbccde-5a88-4b3a-9aaf-fca2b64426bb",
   "metadata": {},
   "source": [
    "As shown, even though positionally `x` is defined before `y` in the `add` function, we can nonetheless pass `y` first, as long as we are using keyword arguments.\n",
    "Rewritten as positional arguments, the above call is equivalent to `add(1, 5)`.\n",
    "\n",
    "### Background: Optional Arguments and Default Arguments ###\n",
    "\n",
    "`sort` and `sorted` both took the keyword argument `key`, but you don't have to provide `key`.\n",
    "For this reason, `key` is said to be optional.\n",
    "One can define functions which take optional parameters by providing a value which will be used by default if the caller does not provide such a value.\n",
    "This is most easily shown by example, like so:"
   ]
  },
  {
   "cell_type": "code",
   "execution_count": 25,
   "id": "26b5210f-4b12-4994-b238-2eabe078e38a",
   "metadata": {},
   "outputs": [
    {
     "name": "stdout",
     "output_type": "stream",
     "text": [
      "4\n",
      "6\n"
     ]
    }
   ],
   "source": [
    "def increment(value, by=1):\n",
    "    return value + by\n",
    "\n",
    "print(increment(3))\n",
    "print(increment(4, by=2))"
   ]
  },
  {
   "cell_type": "markdown",
   "id": "7ca31f04-a320-4fbc-a169-eeaafa57d5e3",
   "metadata": {},
   "source": [
    "As shown, `increment` takes a positional argument `value`, which must be provided.\n",
    "However, the second parameter `by` looks a little weird, because it ends with `=1`.\n",
    "The `=` part says that `by` has a _default_ value, namely `1` in this case.\n",
    "Semantically, if the caller provides a value for `by`, then whatever value passed is used.\n",
    "For example, in the above cell with `increment(4, by=2)`, because a value for `by` is explicitly passed, the value of `by` will be `2` inside of the `increment` function.\n",
    "However, with the call `increment(3)`, no value for `by` was passed.\n",
    "As a result, `by` will instead use the default value in `increment`'s definition, so `by` will be `1`.\n",
    "\n",
    "### Try this Yourself ###\n",
    "\n",
    "Define a function named `decrement`, which works much like the `increment` function above, but it will instead subtract the given optional value `by` from the given number.\n",
    "Example calls are shown in the next cell, along with comments showing what those calls should return.\n",
    "Leave the calls in place in order to test your code."
   ]
  },
  {
   "cell_type": "code",
   "execution_count": 27,
   "id": "1a7d5d22-8f80-44f3-aa55-615ee77fe5ba",
   "metadata": {},
   "outputs": [
    {
     "name": "stdout",
     "output_type": "stream",
     "text": [
      "2\n",
      "2\n",
      "1\n"
     ]
    }
   ],
   "source": [
    "# Define your function here.  Leave the calls below for testing purposes.\n",
    "def decrement(value, by=1):\n",
    "    return value - by\n",
    "\n",
    "print(decrement(3)) # should print 2\n",
    "print(decrement(4, by=2)) # should print 2\n",
    "print(decrement(5, by=4)) # should print 1"
   ]
  },
  {
   "cell_type": "markdown",
   "id": "e2b09167-e136-467c-95b1-5c077c681224",
   "metadata": {},
   "source": [
    "## Step 5: Define a Function Which Returns a Possibly-Transformed List ##\n",
    "\n",
    "Define a function with the following constraints:\n",
    "\n",
    "- The name of the function is `maybe_transform`\n",
    "- `maybe_transform` takes a list of elements\n",
    "- `maybe_transform` takes an optional function, with the named argument `using`\n",
    "- `maybe_transform` returns a new list\n",
    "\n",
    "If the optional function is provided, `maybe_transform` will return a new list holding the results of applying the function to each element of the original list.\n",
    "If the optional function is not provided, `maybe_transform` will return a new list which is a copy of the original list.\n",
    "\n",
    "Example calls are shown in the next cell, along with comments showing what those calls should return.\n",
    "Leave the calls in place in order to test your code.\n",
    "As a hint, list comprehensions may be useful here, and you can define a `lambda` which just returns its parameter."
   ]
  },
  {
   "cell_type": "code",
   "execution_count": 29,
   "id": "bd382b0c-f36c-4a30-84f6-a16385ef099b",
   "metadata": {},
   "outputs": [
    {
     "name": "stdout",
     "output_type": "stream",
     "text": [
      "[4, 3, 10, 5]\n",
      "[3, 3, 4]\n",
      "[True, False, False]\n"
     ]
    }
   ],
   "source": [
    "# Define your function here.  Leave the calls below for testing purposes.\n",
    "maybe_transform = lambda elements, using=None: [using(item) if using else item for item in elements]\n",
    "\n",
    "\n",
    "print(maybe_transform([3, 2, 9, 4], using=lambda x: x + 1)) # should print [4, 3, 10, 5]\n",
    "print(maybe_transform([\"foo\", \"bar\", \"blah\"], using=lambda s: len(s))) # should print [3, 3, 4]\n",
    "print(maybe_transform([True, False, False])) # should print [True, False, False]"
   ]
  },
  {
   "cell_type": "markdown",
   "id": "02270cca-c0ba-472a-a059-32fac2940e95",
   "metadata": {},
   "source": [
    "## Step 6: Submit via Canvas ##\n",
    "\n",
    "Be sure to **save your work**, then log into [Canvas](https://canvas.csun.edu/).  Go to the COMP 502 course, and click \"Assignments\" on the left pane.  From there, click \"Assignment 13\".  From there, you can upload the `13_lambda_keyword_arguments.ipynb` file.\n",
    "\n",
    "You can turn in the assignment multiple times, but only the last version you submitted will be graded."
   ]
  }
 ],
 "metadata": {
  "kernelspec": {
   "display_name": "Python 3 (ipykernel)",
   "language": "python",
   "name": "python3"
  },
  "language_info": {
   "codemirror_mode": {
    "name": "ipython",
    "version": 3
   },
   "file_extension": ".py",
   "mimetype": "text/x-python",
   "name": "python",
   "nbconvert_exporter": "python",
   "pygments_lexer": "ipython3",
   "version": "3.13.5"
  }
 },
 "nbformat": 4,
 "nbformat_minor": 5
}
