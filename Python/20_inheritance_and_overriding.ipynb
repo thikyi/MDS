{
 "cells": [
  {
   "cell_type": "markdown",
   "id": "9714a5ce-7388-422c-bcd8-6c2b64b6d4f8",
   "metadata": {},
   "source": [
    "# Assignment 20: Polymorphism, Inheritance, and Overriding #\n",
    "\n",
    "### Goals for this Assignment ###\n",
    "\n",
    "By the time you have completed this assignment, you should be able to:\n",
    "\n",
    "- Define functions which use _polymorphism_ to transparently call different methods with the same name\n",
    "- Define classes which inherit from other classes\n",
    "- Define constructors which call the parent class' constructor\n",
    "- Override inherited methods in a child class\n",
    "\n",
    "## Step 1: Define a Function Which Uses Polymorphism ##\n",
    "\n",
    "### Background: Polymorphism in Python ###\n",
    "\n",
    "At this point, you are used to calling methods on objects, and even defining your own methods on objects.\n",
    "There is a bit of functionality here which effectively comes for free in Python, which is easy to overlook.\n",
    "Specifically, when you call a method in Python, Python only checks if the given object has a given method with the same name and correct number of arguments.\n",
    "Python doesn't check anything deeper.\n",
    "Because of this, you can substitute in different objects as the target of the call, as long as all the objects share a method with the same name and number of parameters.\n",
    "\n",
    "As an example, we will revisit some various shape-related classes from assignment 7 in the next cell below."
   ]
  },
  {
   "cell_type": "code",
   "execution_count": 3,
   "id": "f62c059a-49d1-4154-9ccd-823348f14595",
   "metadata": {},
   "outputs": [
    {
     "name": "stdout",
     "output_type": "stream",
     "text": [
      "28.26\n",
      "18.84\n",
      "\n",
      "25\n",
      "20\n"
     ]
    }
   ],
   "source": [
    "class Circle:\n",
    "    def __init__(self, radius):\n",
    "        self.radius = radius\n",
    "    def area(self):\n",
    "        return 3.14 * (self.radius ** 2)\n",
    "    def perimeter(self):\n",
    "        return 2 * 3.14 * self.radius\n",
    "\n",
    "class Square:\n",
    "    def __init__(self, side):\n",
    "        self.side = side\n",
    "    def area(self):\n",
    "        return self.side ** 2\n",
    "    def perimeter(self):\n",
    "        return 4 * self.side\n",
    "\n",
    "def print_area_perimeter(shape):\n",
    "    print(shape.area())\n",
    "    print(shape.perimeter())\n",
    "\n",
    "circle = Circle(3)\n",
    "square = Square(5)\n",
    "\n",
    "print_area_perimeter(circle)\n",
    "print()\n",
    "print_area_perimeter(square)"
   ]
  },
  {
   "cell_type": "markdown",
   "id": "19352774-5c2c-4a11-969b-42475e3110e2",
   "metadata": {},
   "source": [
    "Importantly, in the `print_area_perimeter` function, the underlying type of `shape` is actually different for the two different calls later in the code.\n",
    "In the first call, `shape` is of type `Circle`, but in the second call, `shape` is of type `Square`.\n",
    "Despite the fact that the type of `shape` is different, and despite the fact that `print_area_perimeter` calls methods on the given shape, this code works problem-free.\n",
    "This is because both `Circle` and `Square` define the `area` and `perimeter` methods, which each take no arguments.\n",
    "This is the only real _contract_ (meaning, software expectations) that `print_area_perimeter` puts on `shape`: the `shape` needs to define these `area` and `perimeter` methods, and if so, then `print_area_perimeter` will work correctly, no matter the underlying type of `shape`.\n",
    "This ability to substitute types is often referred to as _polymorphism_, which comes from a Greek word meaning _many forms_.\n",
    "That is, the underlying object can have different types.\n",
    "This ability is also sometimes called _duck typing_, which is from the adage that if \"something looks like a duck, swims like a duck, and quacks like a duck, then it is probably a duck\".\n",
    "Basically, as long as an object looks enough like a duck, then it will work as a duck.\n",
    "\n",
    "> Slight pedantic aside/rant, which can be completely skipped: this is specifically exhibiting _ad-hoc polymorphism_, which means that the actual choice of method called can be delayed until runtime.\n",
    "> The term \"polymorphism\" by itself is not well-defined, as there are other kinds of polymorphism which are unrelated to how this code works, such as subtyping polymorphism, parametric polymorphism, and row polymorphism.\n",
    "> All of these different kinds of polymorphism share the property of allowing you to reuse code for different kinds of things, but the particularities are wildly different.\n",
    "> However, outside of programming language design, this is generally not well-understood, and people commonly use the term \"polymorphism\" to refer to both ad-hoc polymorphism and subtyping polymorphism.\n",
    "> While we will discuss subclasses, we will not discuss subtyping polymorphism, because strictly speaking, Python doesn't have it, as it is subsumed by Python's dynamic typing.\n",
    "> Furthermore, the term \"duck typing\" is also not particularly well-defined once you get into all the details, so I'll be avoiding the term.\n",
    "> I will use the unqualified term \"polymorphism\" from this point forward, as this is consistent with how this information is usually presented on the Internet or in textbooks.\n",
    "\n",
    "The take-home point with this is that you can use polymorphism to reuse code (specifically our `print_area_permeter` function above) by passing in different kinds of objects, as long as all the objects you pass define the methods you call.\n",
    "\n",
    "You've actually been using a predefined polymorphic function for awhile now: `len`.\n",
    "As a recap, `len` can be used to get the length of strings, lists, and dictionaries, as with:"
   ]
  },
  {
   "cell_type": "code",
   "execution_count": 4,
   "id": "2f471f6e-ae20-4b18-b5fc-26d0fc518c32",
   "metadata": {},
   "outputs": [
    {
     "name": "stdout",
     "output_type": "stream",
     "text": [
      "6\n",
      "2\n",
      "1\n"
     ]
    }
   ],
   "source": [
    "print(len(\"foobar\"))\n",
    "print(len([\"alpha\", \"beta\"]))\n",
    "print(len({ \"gamma\" : \"delta\" }))"
   ]
  },
  {
   "cell_type": "markdown",
   "id": "0e9022a7-755b-465e-a543-9e3f6e05daef",
   "metadata": {},
   "source": [
    "Internally, `len` ends up calling the given object's `__len__` method, which takes no arguments.\n",
    "We can see this with a custom class, like so:"
   ]
  },
  {
   "cell_type": "code",
   "execution_count": 5,
   "id": "b6050acc-1e13-4dc4-9f48-cfe7b6ad4d65",
   "metadata": {},
   "outputs": [
    {
     "name": "stdout",
     "output_type": "stream",
     "text": [
      "3\n",
      "6\n"
     ]
    }
   ],
   "source": [
    "class CustomLength:\n",
    "    def __init__(self, expected_len):\n",
    "        self.expected_len = expected_len\n",
    "    def __len__(self):\n",
    "        return self.expected_len\n",
    "\n",
    "c1 = CustomLength(3)\n",
    "c2 = CustomLength(6)\n",
    "print(len(c1))\n",
    "print(len(c2))"
   ]
  },
  {
   "cell_type": "markdown",
   "id": "042384bf-7175-4814-ba01-b16fd29b8cbb",
   "metadata": {},
   "source": [
    "As shown with `CustomLength`, `len` internally is calling the `__len__` method on the passed object, in order to determine the actual length of the object.\n",
    "\n",
    "### Try this Yourself ###\n",
    "\n",
    "In the next cell, there are two classes predefined which define a `do_operation` method.\n",
    "Note that even though these classes do not define constructors, Python effectively gives them the following constructor:\n",
    "\n",
    "```python\n",
    "def __init__(self):\n",
    "    pass # needed to say the body is otherwise empty\n",
    "```\n",
    "\n",
    "That is, the constructor exists, but it doesn't do anything particularly useful.\n",
    "\n",
    "`do_operation` takes two integers, and will return an integer.\n",
    "The implementations of `do_operation` are different for the two different classes.\n",
    "\n",
    "Define a function named `test_operation` which:\n",
    "\n",
    "- Takes an object defining a `do_operation` method with the aforementioned expected parameters and return value\n",
    "- Prints out the result of calling `do_operation` with `3` and `7`\n",
    "- Prints out the result of calling `do_operation` with `2` and `9`\n",
    "\n",
    "Define `test_operation` in the next cell.\n",
    "Leave the calls in place in order to test your code.\n",
    "The expected output to be printed out is shown in the comments."
   ]
  },
  {
   "cell_type": "code",
   "execution_count": 6,
   "id": "3375c1e5-b4b8-42e7-a284-c3e3029b31c6",
   "metadata": {},
   "outputs": [
    {
     "name": "stdout",
     "output_type": "stream",
     "text": [
      "10\n",
      "11\n",
      "\n",
      "21\n",
      "18\n"
     ]
    }
   ],
   "source": [
    "# Define your test_operation function here.  Leave the calls at the end for testing\n",
    "\n",
    "def test_operation(param):\n",
    "    print(param.do_operation(3, 7))\n",
    "    print(param.do_operation(2, 9))\n",
    "    \n",
    "\n",
    "class Add:\n",
    "    def do_operation(self, x, y):\n",
    "        return x + y\n",
    "\n",
    "class Multiply:\n",
    "    def do_operation(self, x, y):\n",
    "        return x * y\n",
    "\n",
    "add = Add();\n",
    "mult = Multiply()\n",
    "\n",
    "test_operation(add)\n",
    "# above statement should print:\n",
    "# 10\n",
    "# 11\n",
    "\n",
    "print()\n",
    "test_operation(mult)\n",
    "# above statement should print:\n",
    "# 21\n",
    "# 18"
   ]
  },
  {
   "cell_type": "markdown",
   "id": "22843ae7-e648-4d76-8e10-cdd65359e5cc",
   "metadata": {},
   "source": [
    "## Step 2: Define a Class that Inherits Functionality from Another Class ##\n",
    "\n",
    "### Background: Class Inheritance ###\n",
    "\n",
    "Let's revisit the `print_area_perimeter` function from the prior step, repeated below for convenience:\n",
    "\n",
    "```python\n",
    "def print_area_perimeter(shape):\n",
    "    print(shape.area())\n",
    "    print(shape.perimeter())\n",
    "```\n",
    "\n",
    "While this code works, it's arguably not ideal from the standpoint of how the code is structured.\n",
    "If we read the code, we can see that it is intended to work with shapes, but there is nothing in the larger code structure which indicates this.\n",
    "Functions sort of float in the ether, and are only connected to whatever module they are defined in.\n",
    "Sometimes this is appropriate, but many times it isn't.\n",
    "In this case, since `print_area_perimeter` is really intended to work with shapes, it makes more sense to define it directly on our shape classes.\n",
    "This is illustrated in the cell below, which redefines our `Circle` and `Square` classes to make `print_area_perimeter` a method instead:"
   ]
  },
  {
   "cell_type": "code",
   "execution_count": 6,
   "id": "5e94d370-8528-4119-abe3-7ef77b6acf98",
   "metadata": {},
   "outputs": [
    {
     "name": "stdout",
     "output_type": "stream",
     "text": [
      "28.26\n",
      "18.84\n",
      "\n",
      "25\n",
      "20\n"
     ]
    }
   ],
   "source": [
    "class Circle:\n",
    "    def __init__(self, radius):\n",
    "        self.radius = radius\n",
    "    def area(self):\n",
    "        return 3.14 * (self.radius ** 2)\n",
    "    def perimeter(self):\n",
    "        return 2 * 3.14 * self.radius\n",
    "    def print_area_perimeter(self):\n",
    "        print(self.area())\n",
    "        print(self.perimeter())\n",
    "\n",
    "class Square:\n",
    "    def __init__(self, side):\n",
    "        self.side = side\n",
    "    def area(self):\n",
    "        return self.side ** 2\n",
    "    def perimeter(self):\n",
    "        return 4 * self.side\n",
    "    def print_area_perimeter(self):\n",
    "        print(self.area())\n",
    "        print(self.perimeter())\n",
    "\n",
    "circle = Circle(3)\n",
    "square = Square(5)\n",
    "\n",
    "circle.print_area_perimeter()\n",
    "print()\n",
    "square.print_area_perimeter()"
   ]
  },
  {
   "cell_type": "markdown",
   "id": "cc63a8b9-894e-4049-85dd-306cfc9e2a98",
   "metadata": {},
   "source": [
    "As shown, we now call `print_area_perimeter` as a method on `circle` and `square`, which directly connects this to the definition of those classes.\n",
    "Now, from the code structure itself, we know that `print_area_perimeter` is to be used with these classes, without knowing any other details.\n",
    "This also means that instead of calling `print_area_perimeter(circle)`, we call `circle.print_area_perimeter()`, and so on.\n",
    "\n",
    "However, as written, there is an enormous downside here: we completely duplicated the definition of `print_area_perimeter` once for `Circle`, and another time for `Square`.\n",
    "This is referred to as _copy/paste programming_, which has some major downsides:\n",
    "\n",
    "- It can take time to copy/paste code into all the places it needs to go\n",
    "- It can bloat the side of the code, making it take longer to read, understand, and especially debug\n",
    "- (Most important in my opinion) if there are any bugs in the code you copy/paste (and you usually won't know for sure), you end up duplicating the bug every time you copy/paste the code.  This can easily lead to situations where you find a bug, fix it, and then later discover that you needed to fix the same bug somewhere else because the original buggy code has been copied elsewhere.\n",
    "\n",
    "Ideally, we only want to define our `print_area_perimeter` method once, but nonetheless have this method be used in both `Circle` and `Square`.\n",
    "Python allows us to reuse code in this fashion without copy/pasting via _inheritance_.\n",
    "The idea with inheritance is that you can define a class which contains any code you want to share.\n",
    "We will refer to this class as the _base class_, or _parent class_.\n",
    "You then define classes which _inherit_ from the base class, and in so doing, get all the code defined on that base class.\n",
    "These classes which inherit from the base class are known as _subclasses_, or _child classes_.\n",
    "This means we only need to define any shared code once, specifically in the base class.\n",
    "Through inheritance, that code is automatically available in subclasses.\n",
    "This addresses all the aforementioned issues with copy/paste coding, because the shared code is only ever defined once (in the base class).\n",
    "\n",
    "This is best shown through example.\n",
    "The following cell redefines our `Circle` and `Square` classes.\n",
    "Instead of duplicating the `print_area_perimeter` method, they instead inherit from a common base class named `Shape`."
   ]
  },
  {
   "cell_type": "code",
   "execution_count": 7,
   "id": "10775924-9e99-4b02-8c1a-b4c2e9c83a47",
   "metadata": {},
   "outputs": [
    {
     "name": "stdout",
     "output_type": "stream",
     "text": [
      "28.26\n",
      "18.84\n",
      "\n",
      "25\n",
      "20\n"
     ]
    }
   ],
   "source": [
    "class Shape:\n",
    "    def print_area_perimeter(self):\n",
    "        print(self.area())\n",
    "        print(self.perimeter())\n",
    "\n",
    "class Circle(Shape):\n",
    "    def __init__(self, radius):\n",
    "        self.radius = radius\n",
    "    def area(self):\n",
    "        return 3.14 * (self.radius ** 2)\n",
    "    def perimeter(self):\n",
    "        return 2 * 3.14 * self.radius\n",
    "\n",
    "class Square(Shape):\n",
    "    def __init__(self, side):\n",
    "        self.side = side\n",
    "    def area(self):\n",
    "        return self.side ** 2\n",
    "    def perimeter(self):\n",
    "        return 4 * self.side\n",
    "\n",
    "circle = Circle(3)\n",
    "square = Square(5)\n",
    "\n",
    "circle.print_area_perimeter()\n",
    "print()\n",
    "square.print_area_perimeter()"
   ]
  },
  {
   "cell_type": "markdown",
   "id": "53cff44d-d496-4f52-bb23-f28c7ee948dd",
   "metadata": {},
   "source": [
    "The actual inheritance part happens on the same line as `class` is used for `Circle` and `Square`.\n",
    "Specifically, before the `:`, you can put a class name in parentheses.\n",
    "This such a class name is provided, the defined class will inherit from the provided class.\n",
    "In other words:\n",
    "\n",
    "```python\n",
    "class Square(Shape):\n",
    "```\n",
    "\n",
    "...says that we are defining the `Square` class, and `Square` is inheriting from the `Shape` class.\n",
    "This is why we are later able to call `print_area_perimeter` on `square` (which is an instance of `Square`): even though `Square` itself doesn't define `print_area_perimeter`, `Square` inherits from `Shape`, and `Shape` _does_ define `print_area_perimeter`.\n",
    "As such, `Square` inherits the definition of `print_area_perimeter` from `Shape`, only by saying that `Square` inherits from `Shape`.\n",
    "\n",
    "### Try this Yourself ###\n",
    "\n",
    "The prior step required you to define the `test_operation` function, which would take either an `Add` or `Multiply` instance.\n",
    "Redefine this code below to make `test_operation` instead a method defined on a base class, and have `Add` and `Multiply` inherit from that base class.\n",
    "You will need to redefine `Add` and `Multiply` themselves to make this work, though you should only need to change the line that uses `class`.\n",
    "\n",
    "Define your code in the next cell.\n",
    "Leave the existing code in place in order to test your code."
   ]
  },
  {
   "cell_type": "code",
   "execution_count": 2,
   "id": "fc7300ee-5fd8-4a36-b791-40ad364b571e",
   "metadata": {},
   "outputs": [
    {
     "name": "stdout",
     "output_type": "stream",
     "text": [
      "10\n",
      "11\n",
      "\n",
      "21\n",
      "18\n"
     ]
    }
   ],
   "source": [
    "# Define your code here.  Leave the code below in order to test what you write.\n",
    "       \n",
    "class Operation:\n",
    "    def test_operation(self):\n",
    "        print(self.do_operation(3, 7))\n",
    "        print(self.do_operation(2, 9))\n",
    "\n",
    "class Add(Operation):\n",
    "    def do_operation(self, x, y):\n",
    "        return x + y\n",
    "\n",
    "class Multiply(Operation):\n",
    "    def do_operation(self, x, y):\n",
    "        return x * y\n",
    "\n",
    "add = Add()\n",
    "mult = Multiply()\n",
    "\n",
    "add.test_operation()\n",
    "# above statement should print:\n",
    "# 10\n",
    "# 11\n",
    "\n",
    "print()\n",
    "mult.test_operation()\n",
    "# above statement should print:\n",
    "# 21\n",
    "# 18"
   ]
  },
  {
   "cell_type": "markdown",
   "id": "e7f815fd-1a69-45d1-a655-7c04dcafd37d",
   "metadata": {},
   "source": [
    "## Step 3: Define a Subclass that Calls the Parent Class' Constructor ##\n",
    "\n",
    "### Background: Inheritance with Constructors ###\n",
    "\n",
    "In the code we've worked with so far, we have not defined any constructors.\n",
    "Specifically, we have relied upon the fact that Python will automatically define a constructor for us which will not take any arguments and not do anything particularly useful.\n",
    "However, this is not always appropriate.\n",
    "For example, say we modify the `Shape` class from the prior example, so that we have a constructor which:\n",
    "\n",
    "- Takes the name of the particular kind of shape\n",
    "- Saves that name\n",
    "- Prints out that a shape with this name has been created\n",
    "\n",
    "We will also add a `get_name` method, which will get the name of this shape.\n",
    "All of this is shown in the cell below, along with our `Circle` and `Square` classes:"
   ]
  },
  {
   "cell_type": "code",
   "execution_count": 3,
   "id": "c7262cdf-bae2-45b9-a0b7-c96bdf4363bc",
   "metadata": {},
   "outputs": [
    {
     "name": "stdout",
     "output_type": "stream",
     "text": [
      "28.26\n",
      "18.84\n",
      "\n",
      "25\n",
      "20\n",
      "\n"
     ]
    },
    {
     "ename": "AttributeError",
     "evalue": "'Circle' object has no attribute 'name'",
     "output_type": "error",
     "traceback": [
      "\u001b[1;31m---------------------------------------------------------------------------\u001b[0m",
      "\u001b[1;31mAttributeError\u001b[0m                            Traceback (most recent call last)",
      "Cell \u001b[1;32mIn[3], line 35\u001b[0m\n\u001b[0;32m     32\u001b[0m square\u001b[38;5;241m.\u001b[39mprint_area_perimeter()\n\u001b[0;32m     34\u001b[0m \u001b[38;5;28mprint\u001b[39m()\n\u001b[1;32m---> 35\u001b[0m \u001b[38;5;28mprint\u001b[39m(circle\u001b[38;5;241m.\u001b[39mget_name())\n\u001b[0;32m     36\u001b[0m \u001b[38;5;28mprint\u001b[39m(square\u001b[38;5;241m.\u001b[39mget_name())\n",
      "Cell \u001b[1;32mIn[3], line 9\u001b[0m, in \u001b[0;36mShape.get_name\u001b[1;34m(self)\u001b[0m\n\u001b[0;32m      8\u001b[0m \u001b[38;5;28;01mdef\u001b[39;00m\u001b[38;5;250m \u001b[39m\u001b[38;5;21mget_name\u001b[39m(\u001b[38;5;28mself\u001b[39m):\n\u001b[1;32m----> 9\u001b[0m     \u001b[38;5;28;01mreturn\u001b[39;00m \u001b[38;5;28mself\u001b[39m\u001b[38;5;241m.\u001b[39mname\n",
      "\u001b[1;31mAttributeError\u001b[0m: 'Circle' object has no attribute 'name'"
     ]
    }
   ],
   "source": [
    "class Shape:\n",
    "    def __init__(self, name):\n",
    "        self.name = name\n",
    "        print(f\"Created a {name}\")\n",
    "    def print_area_perimeter(self):\n",
    "        print(self.area())\n",
    "        print(self.perimeter())\n",
    "    def get_name(self):\n",
    "        return self.name\n",
    "\n",
    "class Circle(Shape):\n",
    "    def __init__(self, radius):\n",
    "        self.radius = radius\n",
    "    def area(self):\n",
    "        return 3.14 * (self.radius ** 2)\n",
    "    def perimeter(self):\n",
    "        return 2 * 3.14 * self.radius\n",
    "\n",
    "class Square(Shape):\n",
    "    def __init__(self, side):\n",
    "        self.side = side\n",
    "    def area(self):\n",
    "        return self.side ** 2\n",
    "    def perimeter(self):\n",
    "        return 4 * self.side\n",
    "\n",
    "circle = Circle(3)\n",
    "square = Square(5)\n",
    "\n",
    "circle.print_area_perimeter()\n",
    "print()\n",
    "square.print_area_perimeter()\n",
    "\n",
    "print()\n",
    "print(circle.get_name())\n",
    "print(square.get_name())"
   ]
  },
  {
   "cell_type": "markdown",
   "id": "cd847fa7-709d-4d1c-8a9b-1f4a58d31301",
   "metadata": {},
   "source": [
    "If you run this cell, everything will work as normal until the `circle.get_name` method is called.\n",
    "At that point, `get_name` attempts to access the `name` field, but we instead get an `AttributeError`, indicating that there is no `name` field on the circle.\n",
    "This is because we **never ran `Shape`'s constructor**, which is ultimately what defines the `name` field.\n",
    "\n",
    "This shows that constructors are in a sort of weird space when it comes to inheritance.\n",
    "Strictly speaking, constructors are not normal methods, and are therefore not inherited.\n",
    "If a parent class' constructor does some work (as `Shape` does above), it's up to the programmer to ensure that this work is performed in subclass constructors.\n",
    "We could do this by copy/pasting what the `Shape` constructor does (and in so reintroducing all the problems with copy/paste coding), but a better approach is to instead explicitly call the parent class' constructor in the subclass, like so:"
   ]
  },
  {
   "cell_type": "code",
   "execution_count": 10,
   "id": "85b08c1f-4221-403c-a214-cfb35e0cb688",
   "metadata": {},
   "outputs": [
    {
     "name": "stdout",
     "output_type": "stream",
     "text": [
      "Created a circle\n",
      "Created a square\n",
      "28.26\n",
      "18.84\n",
      "\n",
      "25\n",
      "20\n",
      "\n",
      "circle\n",
      "square\n"
     ]
    }
   ],
   "source": [
    "class Shape:\n",
    "    def __init__(self, name):\n",
    "        self.name = name\n",
    "        print(f\"Created a {name}\")\n",
    "    def print_area_perimeter(self):\n",
    "        print(self.area())\n",
    "        print(self.perimeter())\n",
    "    def get_name(self):\n",
    "        return self.name\n",
    "\n",
    "class Circle(Shape):\n",
    "    def __init__(self, radius):\n",
    "        Shape.__init__(self, \"circle\")\n",
    "        self.radius = radius\n",
    "    def area(self):\n",
    "        return 3.14 * (self.radius ** 2)\n",
    "    def perimeter(self):\n",
    "        return 2 * 3.14 * self.radius\n",
    "\n",
    "class Square(Shape):\n",
    "    def __init__(self, side):\n",
    "        Shape.__init__(self, \"square\")\n",
    "        self.side = side\n",
    "    def area(self):\n",
    "        return self.side ** 2\n",
    "    def perimeter(self):\n",
    "        return 4 * self.side\n",
    "\n",
    "circle = Circle(3)\n",
    "square = Square(5)\n",
    "\n",
    "circle.print_area_perimeter()\n",
    "print()\n",
    "square.print_area_perimeter()\n",
    "\n",
    "print()\n",
    "print(circle.get_name())\n",
    "print(square.get_name())"
   ]
  },
  {
   "cell_type": "markdown",
   "id": "59d092ae-b984-484f-8d32-78205c3c42f6",
   "metadata": {},
   "source": [
    "In the constructors of `Circle` and `Square`, we now call `Shape`'s constructor directly via `Shape.__init__`.\n",
    "We need to pass along the reference to the object being created `self`, and since `Shape` expects the name of the kind of shape this is, a string representing the sort of shape we are dealing with.\n",
    "After calling the parent class' constructor, the subclass' constructor is free to do whatever work is necessary for initializing the subclass; the `Circle` and `Square` constructors initialize the `radius` and `side` fields, respectively, after calling `Shape`'s constructor.\n",
    "\n",
    "> For those coming from most other languages, you may be used to using `super` to access the parent class' constructor.\n",
    "> You may also have seen that Python _does_ have `super`, and that with some syntactic differences, it can do the same things that the `super` you're used to does.\n",
    "> Lutz chapter 28, page 860 has a more detailed explanation of this, but `super` in Python is surprisingly complex, and its behavior has changed over time as Python has gone through different versions.\n",
    "> Part of this is because Python allows for multiple inheritance, wherein a class is permitted to inherit from more than one class.\n",
    "> In this course, we will only ever deal with single inheritance, simplifying this problem.\n",
    "> Calling the superclass' constructor directly requires far less explanation and is a lot more predictable, so we will stick to this approach in this course.\n",
    "\n",
    "### Try this Yourself ###\n",
    "\n",
    "In the next cell, a class named `Animal` is defined, where animals:\n",
    "\n",
    "- Have a constructor, taking a name.\n",
    "- Have a `name` field, initialized by the constructor.\n",
    "- Have a `get_name` method, which returns the name.\n",
    "\n",
    "Subclasses of `Animal` are intended to define the `speak` method, which prints out a string corresponding to the particular kind of animal.\n",
    "\n",
    "In the next cell, define `Dog` and `Cat` classes which inherit from `Animal`, and take a name in their constructor.\n",
    "From there, you should call `Animal`'s constructor to set the name.\n",
    "`Dog`'s `speak` method should print `\"woof\"`, and `Cat`'s `speak` method should print `\"meow\"`.\n",
    "Leave all the existing code in place in order to test your implementation."
   ]
  },
  {
   "cell_type": "code",
   "execution_count": 6,
   "id": "6a65be9f-7f5c-49d7-b7c0-c1160a5db6b4",
   "metadata": {},
   "outputs": [
    {
     "name": "stdout",
     "output_type": "stream",
     "text": [
      "Rover\n",
      "Rover\n",
      "woof\n",
      "\n",
      "Otis\n",
      "Otis\n",
      "meow\n"
     ]
    }
   ],
   "source": [
    "class Animal:\n",
    "    def __init__(self, name):\n",
    "        self.name = name\n",
    "    def get_name(self):\n",
    "        return self.name\n",
    "        \n",
    "# Define your Dog and Cat classes below.\n",
    "# Be sure to call Animal's constructor in the constructors for Dog and Cat.\n",
    "\n",
    "       \n",
    "class Dog(Animal):\n",
    "    def __init__(self, name):\n",
    "        Animal.__init__(self,name)   \n",
    "    def speak(self):\n",
    "        print(\"woof\")\n",
    "\n",
    "class Cat(Animal):\n",
    "    def __init__(self, name):\n",
    "        Animal.__init__(self,name)   \n",
    "    def speak(self):\n",
    "        print(\"meow\")\n",
    "\n",
    "\n",
    "# Leave the code below in order to test your implementations.\n",
    "d1 = Dog(\"Rover\")\n",
    "c1 = Cat(\"Otis\")\n",
    "\n",
    "print(d1.name) # should print \"Rover\"\n",
    "print(d1.get_name()) # should print \"Rover\"\n",
    "d1.speak() # should print \"woof\"\n",
    "\n",
    "print()\n",
    "\n",
    "print(c1.name) # should print \"Otis\"\n",
    "print(c1.get_name()) # should print \"Otis\"\n",
    "c1.speak() # should print \"meow\""
   ]
  },
  {
   "cell_type": "markdown",
   "id": "c9105eff-076a-4232-8085-eae27cc38295",
   "metadata": {},
   "source": [
    "The actual inheritance part happens on the same line as `class` is used for `Circle` and `Square`.\n",
    "Specifically, before the `:`, you can put a class name in parentheses.\n",
    "This such a class name is provided, the defined class will inherit from the provided class.\n",
    "In other words:\n",
    "\n",
    "```python\n",
    "class Square(Shape):\n",
    "```\n",
    "\n",
    "...says that we are defining the `Square` class, and `Square` is inheriting from the `Shape` class.\n",
    "This is why we are later able to call `print_area_perimeter` on `square` (which is an instance of `Square`): even though `Square` itself doesn't define `print_area_perimeter`, `Square` inherits from `Shape`, and `Shape` _does_ define `print_area_perimeter`.\n",
    "As such, `Square` inherits the definition of `print_area_perimeter` from `Shape`, only by saying that `Square` inherits from `Shape`.\n",
    "\n",
    "### Try this Yourself ###\n",
    "\n",
    "The prior step required you to define the `test_operation` function, which would take either an `Add` or `Multiply` instance.\n",
    "Redefine this code below to make `test_operation` instead a method defined on a base class, and have `Add` and `Multiply` inherit from that base class.\n",
    "You will need to redefine `Add` and `Multiply` themselves to make this work, though you should only need to change the line that uses `class`.\n",
    "\n",
    "Define your code in the next cell.\n",
    "Leave the existing code in place in order to test your code."
   ]
  },
  {
   "cell_type": "markdown",
   "id": "2e944b2f-e07b-4a92-9c57-9a030dd42419",
   "metadata": {},
   "source": [
    "## Step 4: Override an Inherited Method ##\n",
    "\n",
    "### Background: Overriding Methods ###\n",
    "\n",
    "Sometimes you may inherit a method which you want to define yourself, as opposed to using the parent class' definition.\n",
    "For example, let's consider another polymorphic function you've been using for awhile now: `str`.\n",
    "As a reminder, `str` can be used to get the string representation of a given object, as with:"
   ]
  },
  {
   "cell_type": "code",
   "execution_count": 7,
   "id": "bdfb6de4-03c9-40ee-ac44-7e267a6924f1",
   "metadata": {},
   "outputs": [
    {
     "name": "stdout",
     "output_type": "stream",
     "text": [
      "foo\n",
      "3.14\n",
      "17\n",
      "['alpha', 'beta']\n",
      "{'gamma': 'delta'}\n"
     ]
    }
   ],
   "source": [
    "print(str(\"foo\")) # already a string - gets the same string\n",
    "print(str(3.14)) # goes from a float to a string\n",
    "print(str(17)) # goes from an int to a string\n",
    "print(str([\"alpha\", \"beta\"])) # goes from a list to a string\n",
    "print(str({ \"gamma\" : \"delta\" })) # goes from a dict to a string"
   ]
  },
  {
   "cell_type": "markdown",
   "id": "d86625c7-7d23-450d-ab14-c1a2325d0258",
   "metadata": {},
   "source": [
    "The `str` function actually works in a similar manner as the `len` function.\n",
    "Specifically, `str` will internally call the `__str__` method on a given object.\n",
    "We can see this happening with the class below:"
   ]
  },
  {
   "cell_type": "code",
   "execution_count": 8,
   "id": "f1f09cd1-4d22-4777-ac80-39223d61b1f8",
   "metadata": {},
   "outputs": [
    {
     "name": "stdout",
     "output_type": "stream",
     "text": [
      "custom string\n"
     ]
    }
   ],
   "source": [
    "class CustomStr:\n",
    "    def __str__(self):\n",
    "        return \"custom string\"\n",
    "\n",
    "c = CustomStr()\n",
    "print(str(c))"
   ]
  },
  {
   "cell_type": "markdown",
   "id": "afc26d59-c03d-4e0e-89b4-0d6dd70ee03f",
   "metadata": {},
   "source": [
    "As shown, `str(c)` ends up returning `\"custom string\"`, showing that `str` is internally calling `c`'s `__str__` method.\n",
    "\n",
    "In Python, even if you don't provide a class to inherit from, you automatically will inherit from a built-in class named `object`.\n",
    "`object` comes predefined with a `__str__` method for us, meaning we don't need to define our own.\n",
    "This means we can call `str` on an object even if the class doesn't define its own `__str__` method, because you'll inherit a definition of `__str__` from `object`.\n",
    "This is shown in the cell below:"
   ]
  },
  {
   "cell_type": "code",
   "execution_count": 9,
   "id": "e1a67483-2571-4be7-872f-7bb12d2012e6",
   "metadata": {},
   "outputs": [
    {
     "name": "stdout",
     "output_type": "stream",
     "text": [
      "<__main__.Empty object at 0x000001EC70946510>\n",
      "<__main__.Empty object at 0x000001EC70946510>\n"
     ]
    }
   ],
   "source": [
    "class Empty:\n",
    "    pass\n",
    "\n",
    "e = Empty()\n",
    "print(str(e))\n",
    "print(e.__str__()) # directly does what `str` does internally"
   ]
  },
  {
   "cell_type": "markdown",
   "id": "bd525fc2-e662-4dfb-9a6c-57f0d4aede49",
   "metadata": {},
   "source": [
    "As shown, there _is_ a `__str__` method we are inheriting.\n",
    "The inherited `__str__` shows the name of the module the class was defined in (`__main__`), as well as the name of the class the object was created from (`Empty`).\n",
    "The inherited `__str__` also shows where the object itself is (likely) allocated in memory, represented with a _hexadecimal_ (base-16) number; hexadecimal numbers customarily start with `0x` to indicate that they are hexadecimal.\n",
    "The specific location (and corresponding hexadecimal number) will likely be different each time you run the above cell, since each run of the cell allocates a new `Empty` object.\n",
    "\n",
    "Whether or not this is a _good_ implementation of `__str__` for your class is entirely up to you.\n",
    "However, generally, if you want to be able to get string representations of your object, this is not a preferred representation.\n",
    "For example, if `int` used this representation, instead of `str(123)` returning `\"123\"`, it'd instead return something more like `<__some_module__.int object at 0x83d497c>`.\n",
    "While this would be _a_ string representation of an integer, this is probably not _the expected_ string representation of an integer.\n",
    "\n",
    "If we want a different string representation of whatever object we are dealing with, we can _override_ the inherited definition of `__str__` to return whatever string we want.\n",
    "In fact, `CustomStr` did exactly this: `CustomStr` overrode the inherited definition of `__str__` from `object`.\n",
    "This means that any instances of `CustomStr` will instead call the overridden definition of `__str__`, instead of the original `__str__` inherited from `object`.\n",
    "\n",
    "### Try this Yourself ###\n",
    "\n",
    "The next cell defines the following:\n",
    "\n",
    "- A `Base` class, which defines a `print_me` method.  This prints `\"base\"` when called.\n",
    "- A `Sub` class, which inherits from `Base`, and in so doing inherits `Base`'s `print_me` method.\n",
    "\n",
    "Modify `Sub` to override the `print_me` method in `Sub` so that it instead prints `\"sub\"`.\n",
    "Leave the calls at the end of the code in order to test your implementation."
   ]
  },
  {
   "cell_type": "code",
   "execution_count": 13,
   "id": "81d55b0d-2be2-4cc5-9c4f-ca472b6f86af",
   "metadata": {},
   "outputs": [
    {
     "name": "stdout",
     "output_type": "stream",
     "text": [
      "base\n",
      "sub\n"
     ]
    }
   ],
   "source": [
    "class Base:\n",
    "    def print_me(self):\n",
    "        print(\"base\")\n",
    "\n",
    "class Sub(Base):\n",
    "    #pass # you will likely need to delete this line\n",
    "    def print_me(self):\n",
    "        print(\"sub\")\n",
    "\n",
    "b = Base()\n",
    "s = Sub()\n",
    "\n",
    "b.print_me() # should print \"base\"\n",
    "s.print_me() # should print \"sub\""
   ]
  },
  {
   "cell_type": "markdown",
   "id": "7c86ab59-5c22-43f8-8b74-382437f8e0a4",
   "metadata": {},
   "source": [
    "## Step 5: Submit via Canvas ##\n",
    "\n",
    "Be sure to **save your work**, then log into [Canvas](https://canvas.csun.edu/).  Go to the COMP 502 course, and click \"Assignments\" on the left pane.  From there, click \"Assignment 20\".  From there, you can upload the `20_inheritance_and_overriding.ipynb` file.\n",
    "\n",
    "You can turn in the assignment multiple times, but only the last version you submitted will be graded."
   ]
  }
 ],
 "metadata": {
  "kernelspec": {
   "display_name": "Python 3 (ipykernel)",
   "language": "python",
   "name": "python3"
  },
  "language_info": {
   "codemirror_mode": {
    "name": "ipython",
    "version": 3
   },
   "file_extension": ".py",
   "mimetype": "text/x-python",
   "name": "python",
   "nbconvert_exporter": "python",
   "pygments_lexer": "ipython3",
   "version": "3.13.5"
  }
 },
 "nbformat": 4,
 "nbformat_minor": 5
}
