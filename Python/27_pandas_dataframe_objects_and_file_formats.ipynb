{
 "cells": [
  {
   "cell_type": "markdown",
   "id": "7058aa24-4ea3-40c4-af3f-3711a2b440ce",
   "metadata": {},
   "source": [
    "# Assignment 27: Pandas DataFrame Objects and File Formats #\n",
    "\n",
    "### Goals for this Assignment ###\n",
    "\n",
    "By the time you have completed this assignment, you should be able to:\n",
    "\n",
    "- Create `DataFrame` objects in Pandas by hand\n",
    "- Access columns of a `DataFrame` object using square brackets (`[]`)\n",
    "- Load Comma-Separated Values (`.csv`) files into `DataFrame` objects\n",
    "- Write a `DataFrame` object to a `.csv` file\n",
    "\n",
    "## Step 1: Create a `DataFrame` Object by Hand ##\n",
    "\n",
    "### Background: Creating `DataFrame` Objects ###\n",
    "\n",
    "In Pandas, [`DataFrame`](https://pandas.pydata.org/docs/reference/api/pandas.DataFrame.html) objects are used to represent two-dimensional data.\n",
    "This is in contrast to `Series` objects, which are for one-dimensional data.\n",
    "`DataFrame` objects are most commonly used to represent tables, for example:\n",
    "\n",
    "| Student Name | Age | GPA |\n",
    "| ------------ | --- | --- |\n",
    "| Alice        |  25 | 3.1 |\n",
    "| Bob          |  22 | 2.7 |\n",
    "| Bill         |  28 | 3.3 |\n",
    "| Barbara      |  30 | 2.9 |\n",
    "\n",
    "`DataFrame` objects themselves can be broken down into `Series` objects, generally where one column of the table is represented with one `Series` object.\n",
    "This follows from the fact that:\n",
    "\n",
    "- Usually, all the values in the same column are expected to have the same type, which is a requirement of `Series` objects.  For example, in the table above, all the values of \"Student Name\" are expected to be strings, all the values of \"Age\" are expected to be integers, and all the values of \"GPA\" are expected to be floating-point values.\n",
    "- We often want to process columns as a whole.  For example, while it makes sense to get the average age of a student in the above table, it doesn't make sense to get the average of each row, since each row is composed of values of very different types.\n",
    "\n",
    "We can manually make a `DataFrame` object by using `DataFrame`'s constructor, and passing along a dictionary of column names to the list of values in the column.\n",
    "This is shown in the cell below, which creates a `DataFrame` object representing the information in the previously provided table:"
   ]
  },
  {
   "cell_type": "code",
   "execution_count": 1,
   "id": "5655f68d-40cc-45f4-9740-d95f04b74a04",
   "metadata": {},
   "outputs": [
    {
     "name": "stdout",
     "output_type": "stream",
     "text": [
      "      name  age  gpa\n",
      "0    Alice   25  3.1\n",
      "1      Bob   22  2.7\n",
      "2     Bill   28  3.3\n",
      "3  Barbara   30  2.9\n"
     ]
    }
   ],
   "source": [
    "import pandas as pd\n",
    "\n",
    "student_names = [\"Alice\", \"Bob\", \"Bill\", \"Barbara\"]\n",
    "ages = [25, 22, 28, 30]\n",
    "gpas = [3.1, 2.7, 3.3, 2.9]\n",
    "table_data = pd.DataFrame({\"name\" : student_names, \"age\" : ages, \"gpa\" : gpas})\n",
    "print(table_data)"
   ]
  },
  {
   "cell_type": "markdown",
   "id": "0bbfd242-12d1-4c17-9bd0-3a2dab1889ea",
   "metadata": {},
   "source": [
    "In the prior cell, `table_data` is a `DataFrame` object holding the same information as the table.\n",
    "The names of the columns are controlled by the named of the keys in the dictionary.\n",
    "In this case, rather than using the original names in the table, shorter names were used, since the `DataFrame` can be indexed by these names (and these are a bit more convenient to work with).\n",
    "In the next step, we will work with `table_data` a bit to show what we can do with this `DataFrame` representation.\n",
    "\n",
    "### Try this Yourself ###\n",
    "\n",
    "Consider the following table, representing part of the inventory of a hardware store:\n",
    "\n",
    "| Product | Price | Quantity | Location |\n",
    "| ------------ | --- | --- | --- |\n",
    "| Hammer        |  20 | 19 | Tools |\n",
    "| Wrench        |  30 | 15 | Tools |\n",
    "| Screws (20)   |  2.5 | 150 | Hardware |\n",
    "\n",
    "In the next cell, create a `DataFrame` object representing this information.\n",
    "For the column names, use the names `\"product\"`, `\"price\"`, `\"quantity\"`, and `\"location\"`.\n",
    "Bind your `DataFrame` object to a variable named `hardware_store`.\n",
    "Leave the `print` in place in order to test your code."
   ]
  },
  {
   "cell_type": "code",
   "execution_count": 12,
   "id": "b08a02ce-07b2-433d-a247-76cc2004d2c6",
   "metadata": {},
   "outputs": [
    {
     "name": "stdout",
     "output_type": "stream",
     "text": [
      "       product  price  quantity  location\n",
      "0       Hammer   20.0        19     Tools\n",
      "1       Wrench   30.0        15     Tools\n",
      "2  Screws (20)    2.5       150  Hardware\n"
     ]
    }
   ],
   "source": [
    "# Define hardware_store here.\n",
    "# You may define additional variables beforehand if you wish, instead\n",
    "# of defining hardware_store all at once.\n",
    "product = [\"Hammer\", \"Wrench\", \"Screws (20)\"]\n",
    "price = [20,30, 2.5]\n",
    "quantity = [19,15,150]\n",
    "location = [\"Tools\",\"Tools\",\"Hardware\"]\n",
    "hardware_store = pd.DataFrame({\"product\" : product, \"price\" : price, \"quantity\" : quantity, \"location\" : location})\n",
    "\n",
    "print(hardware_store)\n",
    "# above statement should print:\n",
    "#        product  price  quantity  location\n",
    "# 0       Hammer   20.0        19     Tools\n",
    "# 1       Wrench   30.0        15     Tools\n",
    "# 2  Screws (20)    2.5       150  Hardware"
   ]
  },
  {
   "cell_type": "markdown",
   "id": "72d362f2-d73a-4a01-8654-f9d3dab0fcd4",
   "metadata": {},
   "source": [
    "## Step 2: Access and Manipulate Columns and Values in a `DataFrame` Object ##\n",
    "\n",
    "### Background: Working with `DataFrame` Objects ###\n",
    "\n",
    "`DataFrame` objects have two levels of indexing going on, one for columns (which comes first), and another for rows (which come second).\n",
    "This is shown below (repeating the definition of `table_data` for convenience):"
   ]
  },
  {
   "cell_type": "code",
   "execution_count": 13,
   "id": "620e4541-5177-4663-845c-8096c2012ff6",
   "metadata": {},
   "outputs": [
    {
     "name": "stdout",
     "output_type": "stream",
     "text": [
      "25\n",
      "Bob\n",
      "3.3\n"
     ]
    }
   ],
   "source": [
    "student_names = [\"Alice\", \"Bob\", \"Bill\", \"Barbara\"]\n",
    "ages = [25, 22, 28, 30]\n",
    "gpas = [3.1, 2.7, 3.3, 2.9]\n",
    "table_data = pd.DataFrame({\"name\" : student_names, \"age\" : ages, \"gpa\" : gpas})\n",
    "\n",
    "print(table_data[\"age\"][0]) # prints 25\n",
    "print(table_data[\"name\"][1]) # prints \"Bob\"\n",
    "print(table_data[\"gpa\"][2]) # prints 3.3"
   ]
  },
  {
   "cell_type": "markdown",
   "id": "b1982ace-6543-4cc9-85f6-bf990ea0dd11",
   "metadata": {},
   "source": [
    "In the cell above, to break down the first `print`, the first thing that happens with `table_data[\"age\"][0]` is the access of `table_data[\"age\"]`.\n",
    "This accesses the values in the `\"age\"` column, which returns a Pandas `Series` object.\n",
    "From there, the `[0]` accessess row `0` of this `Series` object.\n",
    "As a result, you can think of this expression as having implicit parentheses around the access of the `\"age\"` column, like so: `(table_data[\"age\"])[0]`.\n",
    "\n",
    "Because you get back `Series` objects from accessing the values in a column, you can do all of the operations you've seen before on `Series` objects, including fancy indexing, masking, and vector operations.\n",
    "Some of these operations work over the whole table, as well.\n",
    "For example, we can find the average GPA of everyone over age 25:"
   ]
  },
  {
   "cell_type": "code",
   "execution_count": 4,
   "id": "ba4a4cd6-3010-441f-82c9-b7d81e6fb1f1",
   "metadata": {},
   "outputs": [
    {
     "name": "stdout",
     "output_type": "stream",
     "text": [
      "3.0999999999999996\n"
     ]
    }
   ],
   "source": [
    "print(table_data[table_data[\"age\"] > 25][\"gpa\"].mean())"
   ]
  },
  {
   "cell_type": "markdown",
   "id": "f8c60dde-045a-40ac-8295-45a9cdf7b629",
   "metadata": {},
   "source": [
    "Breaking the above expression down into parts:\n",
    "\n",
    "- `table_data[\"age\"] > 25` gives us a `Series` object holding `bool` values, where a `True` is present for each row where the value of `\"age\"` was greater than `25.\n",
    "- `table_data[table_data[\"age\"] > 25]` gives us a version of `table_data` where all rows where the `\"age\"` was **not** greater than `25` are cut out.\n",
    "- `table_data[table_data[\"age\"] > 25][\"gpa\"]` gives us a `Series` object with all the values for the `\"gpa\"` column, but only for those where the `\"age\"` field's value was greater than `25`.\n",
    "- `table_data[table_data[\"age\"] > 25][\"gpa\"].mean()` computes the mean of the aforementioned part of the `\"gpa\"` column.\n",
    "\n",
    "### Try this Yourself ###\n",
    "\n",
    "In the next cell, using your `hardware_store` from before, write an expression which will find the maximum price of any object that you have less than `50` of in inventory.\n",
    "This should be `30`, since you only have fewer than 50 hammers and wrenches, and wrenches have the largest price of `30`.\n",
    "However, your expression should use masking and vector operations to find this information, in a similar way that `table_data` was previously manipulated.\n",
    "Be sure to `print` the result of your expression."
   ]
  },
  {
   "cell_type": "code",
   "execution_count": 17,
   "id": "cfa4ba0f-daa6-4f06-88ae-72aa41ce65df",
   "metadata": {},
   "outputs": [
    {
     "name": "stdout",
     "output_type": "stream",
     "text": [
      "30.0\n"
     ]
    }
   ],
   "source": [
    "# Define your expression below.  Be sure to print it.\n",
    "\n",
    "print(hardware_store[hardware_store[\"quantity\"] < 50][\"price\"].max())"
   ]
  },
  {
   "cell_type": "markdown",
   "id": "04f5eb1f-0e3f-4cd8-b4aa-62eb4a960645",
   "metadata": {},
   "source": [
    "## Step 3: Load a Comma-Separated Value (CSV) File into a `DataFrame` ##\n",
    "\n",
    "### Background: CSV Files ###\n",
    "\n",
    "CSV files are a common way to distribute data and store data.\n",
    "These typically have the `.csv` file extension.\n",
    "The most basic version of this format (more on that in a bit) is based on separating each row with a newline, and each column with a comma (hence the \"comma\" in \"comma-separated value\").\n",
    "With this format in mind, our table representing students becomes:\n",
    "\n",
    "```\n",
    "Name,Age,GPA\n",
    "Alice,25,3.1\n",
    "Bob,22,2.7\n",
    "Bill,28,3.3\n",
    "Barbara,30,2.9\n",
    "```\n",
    "\n",
    "Pandas can open CSV files directly, and create `DataFrame` objects directly from the loaded-in data.\n",
    "This is shown in the cell below.\n",
    "Note that this will require you to download `students.csv`, which is included with the assignment on Canvas; `students.csv` contains the same information as shown above."
   ]
  },
  {
   "cell_type": "code",
   "execution_count": 18,
   "id": "42240ce3-3e38-43c9-b33b-a4a83b81ce0d",
   "metadata": {},
   "outputs": [
    {
     "name": "stdout",
     "output_type": "stream",
     "text": [
      "      Name  Age  GPA\n",
      "0    Alice   25  3.1\n",
      "1      Bob   22  2.7\n",
      "2     Bill   28  3.3\n",
      "3  Barbara   30  2.9\n"
     ]
    }
   ],
   "source": [
    "csv = pd.read_csv(\"students.csv\")\n",
    "print(csv)"
   ]
  },
  {
   "cell_type": "markdown",
   "id": "09dfd1d3-9263-4e7e-b86f-2d642994fd76",
   "metadata": {},
   "source": [
    "As shown above, `csv` is already a `DataFrame` object.\n",
    "The names of the columns comes directly from the CSV file itself, where the first row is treated as a header for the data.\n",
    "If you don't like the names of the columns (e.g., they are too long to easily work with when indexing into `DataFrame` objects), then you can modify them by changing `.columns`, like so:"
   ]
  },
  {
   "cell_type": "code",
   "execution_count": 19,
   "id": "284f720c-a66e-4ae7-9928-4bf7017c8038",
   "metadata": {},
   "outputs": [
    {
     "name": "stdout",
     "output_type": "stream",
     "text": [
      "      name  age  gpa\n",
      "0    Alice   25  3.1\n",
      "1      Bob   22  2.7\n",
      "2     Bill   28  3.3\n",
      "3  Barbara   30  2.9\n"
     ]
    }
   ],
   "source": [
    "csv.columns = [\"name\", \"age\", \"gpa\"]\n",
    "print(csv)"
   ]
  },
  {
   "cell_type": "markdown",
   "id": "350f3e8d-3317-426d-92c2-e7880eb3bdde",
   "metadata": {},
   "source": [
    "As shown above, the names of the columns have now changed to reflect what was passed to `.columns`.\n",
    "\n",
    "> Earlier I referred to what was described for CSV files as \"the most basic version of this format\".\n",
    "> This unfortunately gets more complex if any values themselves contain commas or newlines, and strings can do exactly this.\n",
    "> There are ways to handle this, e.g., by enforcing that strings begin and end with quote characters, which allows you to distinguish between commas and newlines within a string and commas and newlines used as data separators.\n",
    "> However, this makes directly working with the format more difficult, as now we need extra code to differentiate the two.\n",
    "> This also introduces its own similar problem, in that we now need to distinguish between quotes in a string and quotes used to start or end a string.\n",
    "> The good news is that there are solutions to all these problems, and the `read_csv` method handles all of these problems without us needing to worry about it.\n",
    "\n",
    "### Try this Yourself ###\n",
    "\n",
    "In the next cell, load in the data in the `hardware.csv` file into a `DataFrame` object; `hardware.csv` will need to be downloaded from Canvas, and it contains the same data as the hardware example before.\n",
    "Bind the `DataFrame` object into a new variable named `my_csv`.\n",
    "Modify the columns to be `\"product\"`, `\"quantity\"`, `\"price\"`, and `\"location\"`.\n",
    "Be sure to print `my_csv` afterwards."
   ]
  },
  {
   "cell_type": "code",
   "execution_count": 24,
   "id": "28cd2d8f-2ccf-4371-a695-9375be496e25",
   "metadata": {},
   "outputs": [
    {
     "name": "stdout",
     "output_type": "stream",
     "text": [
      "       Product  Price  Quantity  Location\n",
      "0       Hammer   20.0        19     Tools\n",
      "1       Wrench   30.0        15     Tools\n",
      "2  Screws (20)    2.5       150  Hardware\n",
      "\n",
      "       product  price  quantity  location\n",
      "0       Hammer   20.0        19     Tools\n",
      "1       Wrench   30.0        15     Tools\n",
      "2  Screws (20)    2.5       150  Hardware\n"
     ]
    }
   ],
   "source": [
    "# Create your my_csv variable below, modify the column names appropriately, and print\n",
    "# the resulting my_csv.\n",
    "my_csv = pd.read_csv(\"hardware.csv\")\n",
    "print(my_csv)\n",
    "print()\n",
    "my_csv.columns = [\"product\", \"price\",\"quantity\",\"location\"]\n",
    "print(my_csv)\n"
   ]
  },
  {
   "cell_type": "markdown",
   "id": "b07178e0-2981-4de5-834b-4ebec3a0715d",
   "metadata": {},
   "source": [
    "## Step 4: Write a `DataFrame` into a CSV File ##\n",
    "\n",
    "### Background: Writing to CSV Files with Pandas ###\n",
    "\n",
    "With Pandas, `DataFrame` objects already have methods that can be used to write data to a given file.\n",
    "This is illustrated in the next cell, which takes all the students in `table_data` with GPAs less than 3.0 and writes them to a separate file `gpas_below_3.csv`:"
   ]
  },
  {
   "cell_type": "code",
   "execution_count": 25,
   "id": "86d74d79-316b-48af-8711-4127abdb42a1",
   "metadata": {},
   "outputs": [],
   "source": [
    "table_data[table_data[\"gpa\"] < 3.0].to_csv(\"gpas_below_3.csv\")"
   ]
  },
  {
   "cell_type": "markdown",
   "id": "2510f995-2831-4561-81cf-c825460e7af0",
   "metadata": {},
   "source": [
    "If you look at the actual data written by the above cell, you'll see the following in the `.csv` file:\n",
    "\n",
    "```\n",
    ",name,age,gpa\n",
    "1,Bob,22,2.7\n",
    "3,Barbara,30,2.9\n",
    "```\n",
    "\n",
    "The first column doesn't have a name in the header, and looking at the values in this first column, they correspond to the row indices in the original `table_data` `DataFrame`.\n",
    "This same `.csv` file can then be loaded into a `DataFrame` using the `read_csv` method in the prior step.\n",
    "\n",
    "### Try this Yourself ###\n",
    "\n",
    "In the cell below, a `DataFrame` object is defined.\n",
    "Write this `DataFrame` object to a CSV file named `my_csv.csv`.\n",
    "You will turn in `my_csv.csv` as part of the assignment on Canvas."
   ]
  },
  {
   "cell_type": "code",
   "execution_count": 28,
   "id": "56c8ad05-3d23-425f-b156-b8ec427207a5",
   "metadata": {},
   "outputs": [],
   "source": [
    "df = pd.DataFrame({\"first\" : [\"foo\", \"bar\", \"baz\"],\n",
    "                   \"second\" : [3, 2, 8],\n",
    "                   \"third\" : [2.2, 3.3, 4.4]})\n",
    "# Write out df to a CSV file below\n",
    "\n",
    "df.to_csv(\"my_csv.csv\")"
   ]
  },
  {
   "cell_type": "markdown",
   "id": "c6ade57b-1474-40f0-8634-c2afcaf6709a",
   "metadata": {},
   "source": [
    "## Step 5: Submit via Canvas ##\n",
    "\n",
    "Be sure to **save your work**, then log into [Canvas](https://canvas.csun.edu/).  Go to the COMP 502 course, and click \"Assignments\" on the left pane.  From there, click \"Assignment 27\".  From there, you can upload your `27_pandas_dataframe_objects_and_file_formats.ipynb` file, **as well as** your `my_csv.csv` file.\n",
    "\n",
    "You can turn in the assignment multiple times, but only the last version you submitted will be graded.\n",
    "\n",
    "### On Other File Formats ###\n",
    "\n",
    "While this assignment looked specifically at CSV files, Pandas supports multiple other formats, and data sets can be distributed in these other formats.\n",
    "However, as far as the usage of Pandas is concerned, you usually don't need to worry too much about which specific one you're dealing with, as long as Pandas supports it.\n",
    "If you're curious, you can look at the [official Pandas documentation](https://pandas.pydata.org/docs/reference/io.html) to see what other kinds of file formats are supported, where the `read_BLAH` methods will read data in `BLAH` format, and the `to_BLAH` methods will write something in `BLAH` format.\n",
    "\n",
    "### Special Thanks to Dr. Glenn Bruns ###\n",
    "\n",
    "Special thanks to [Dr. Glenn Bruns](https://csumb.edu/scd/glenn-bruns/) at California State University, Monterey Bay, for providing me with closely-related materials which were used in the creation of this assignment."
   ]
  }
 ],
 "metadata": {
  "kernelspec": {
   "display_name": "Python 3 (ipykernel)",
   "language": "python",
   "name": "python3"
  },
  "language_info": {
   "codemirror_mode": {
    "name": "ipython",
    "version": 3
   },
   "file_extension": ".py",
   "mimetype": "text/x-python",
   "name": "python",
   "nbconvert_exporter": "python",
   "pygments_lexer": "ipython3",
   "version": "3.13.5"
  }
 },
 "nbformat": 4,
 "nbformat_minor": 5
}
