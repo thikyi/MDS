{
 "cells": [
  {
   "cell_type": "markdown",
   "id": "d422cee6-40af-4608-8feb-1ac19a6b2247",
   "metadata": {},
   "source": [
    "# Assignment 1: Working with Jupyter Notebooks and Python Basics #\n",
    "\n",
    "### Goals for this Assignment ###\n",
    "\n",
    "By the time you have completed this assignment, you should be able to:\n",
    "\n",
    "- Edit and execute Python code in a Jupyter notebook\n",
    "- Write `print` statements in Python which print text\n",
    "- Write `print` statements in Python which print out the results of arithmetic expressions\n",
    "\n",
    "## Step 1: Install Jupyter Notebooks and Familiarize Yourself with Them ##\n",
    "\n",
    "Read the tutorial on Jupyter notebooks [here](https://www.dataquest.io/blog/jupyter-notebook-tutorial/).  Only the material before the \"Example Analysis\" section will be needed.  This tutorial runs through how to install Jupyter notebooks, and some basics about working with code in it.  For our purposes, you will only ever need to work with code (Python) cells, though I will use markdown cells for instructions (like the one containing this very text!).\n",
    "\n",
    "## Step 2: Read and Run the Next Cell, Printing Text ##\n",
    "\n",
    "Read and run the following cell, which makes use of `print` statements in Python.  The contents of the code itself describe what is being shown."
   ]
  },
  {
   "cell_type": "code",
   "execution_count": 1,
   "id": "1f9bf530-10d6-42c5-9fd8-8715741c0499",
   "metadata": {},
   "outputs": [
    {
     "name": "stdout",
     "output_type": "stream",
     "text": [
      "Hello\n",
      "Goodbye\n",
      "This is a string\n",
      "Strings represent text, and can contain multiple words\n",
      "Strings can use either single or double quotes\n",
      "Double-quoted strings can contain single quotes, like 'foo', for example\n",
      "Single-quoted strings can contain double quotes, like \"bar\", for example\n",
      "strings don't need to start with a capital letter\n",
      "  strings don't need to start with a letter at all\n",
      "    strings don't necessarily need to contain letters at all\n",
      "    \n",
      "'print' can be used multiple times to print multiple things\n",
      "Each line here is a 'statement', which is a bit of executable code which usually performs some sort of change somewhere\n",
      "In this case, we change what the user sees with each 'print'\n"
     ]
    }
   ],
   "source": [
    "print(\"Hello\")\n",
    "print(\"Goodbye\")\n",
    "print(\"This is a string\")\n",
    "print(\"Strings represent text, and can contain multiple words\")\n",
    "print('Strings can use either single or double quotes')\n",
    "print(\"Double-quoted strings can contain single quotes, like 'foo', for example\")\n",
    "print('Single-quoted strings can contain double quotes, like \"bar\", for example')\n",
    "print(\"strings don't need to start with a capital letter\")\n",
    "print(\"  strings don't need to start with a letter at all\")\n",
    "print(\"    strings don't necessarily need to contain letters at all\")\n",
    "print(\"    \")\n",
    "print(\"'print' can be used multiple times to print multiple things\")\n",
    "print(\"Each line here is a 'statement', which is a bit of executable code which usually performs some sort of change somewhere\")\n",
    "print(\"In this case, we change what the user sees with each 'print'\")"
   ]
  },
  {
   "cell_type": "markdown",
   "id": "20a32394-d2c5-44e8-8055-656917226130",
   "metadata": {},
   "source": [
    "## Step 3: Read and Run the Next Cell, Printing Numbers ##\n",
    "\n",
    "Read and run the following cell, which also makes use of `print` statements.  However, in this case we aren't printing text, but rather numbers.  As shown, you can use the usual arithmetic operators to have Python compute values for you.  You can also use `#` in Python to represent comments, which are text which is just for programmers and ignored by Python.  Comments are used to communicate information to anyone reading your code.\n",
    "\n",
    "The contents inside `print`'s parentheses are referred to as _expressions_.  Expressions evaluate down to some value.  For example, `1`, `1 + 2`, and `\"this is a string\"` are all expressions, which evaluate down to `1`, `3`, and `\"this is a string\"`, respectively."
   ]
  },
  {
   "cell_type": "code",
   "execution_count": 2,
   "id": "822916c4-aee7-44ae-83e9-f17e45b19b13",
   "metadata": {},
   "outputs": [
    {
     "name": "stdout",
     "output_type": "stream",
     "text": [
      "5\n",
      "3\n",
      "8\n",
      "1.5\n",
      "2.0\n",
      "1\n",
      "14\n",
      "10\n",
      "8.0\n"
     ]
    }
   ],
   "source": [
    "print(5)\n",
    "print(1 + 2)\n",
    "print(2 * 4)\n",
    "print(3 / 2)  # floating-point division, meaning you get back a value with a decimal point\n",
    "              # Note there is some precision loss with this, because computers cannot\n",
    "              # accurrately store any arbitrary real number.  The technical name for these\n",
    "              # fractional numbers is a \"float\" in Python.\n",
    "print(4 / 2)  # even if the result of the division is a whole number, you'll still get a value\n",
    "              # With a decimal point.\n",
    "print(3 // 2) # truncating division, meaning the result chops off the part after the decimal point\n",
    "              # to give you back an integer\n",
    "print(2 + 3 * 4)\n",
    "print(2 * 3 + 4) # Python follows the usual rules for order of operations\n",
    "print(1 + 2 * 7 / (1 + 1)) # expressions can get big"
   ]
  },
  {
   "cell_type": "markdown",
   "id": "fad3d3b4-7c51-464c-b96e-98ead1105053",
   "metadata": {},
   "source": [
    "## Step 4: Edit the Following Cell to Get Correct Output ##\n",
    "\n",
    "Use `print` statements to get the following output:\n",
    "\n",
    "```\n",
    "first\n",
    "second\n",
    "third\n",
    "fourth\n",
    "fifth\n",
    "```\n",
    "\n",
    "The first two lines have already been handled for you.  Be sure to run your code and confirm you have the correct output before moving on."
   ]
  },
  {
   "cell_type": "code",
   "execution_count": 3,
   "id": "6f13e7e3-1bb2-44f5-a723-273f92f18d0b",
   "metadata": {},
   "outputs": [
    {
     "name": "stdout",
     "output_type": "stream",
     "text": [
      "first\n",
      "second\n",
      "third\n",
      "fourth\n",
      "fifth\n"
     ]
    }
   ],
   "source": [
    "print(\"first\")\n",
    "print(\"second\")\n",
    "print(\"third\")\n",
    "print(\"fourth\")\n",
    "print(\"fifth\")"
   ]
  },
  {
   "cell_type": "markdown",
   "id": "4d162e26-e3f3-4aec-bf12-769d3ee8a48e",
   "metadata": {},
   "source": [
    "## Step 5: Edit the Following Cell to Perform Some Arithmetic Operations ##\n",
    "\n",
    "The next cell has a number of comments and statements which print the results of various arithmetic expressions.  Near the end, there are some comments that contain `TODO`.  For each one of the `TODO` comments, follow it with a Python statement which will compute whatever the `TODO` is asking for, and print out the result."
   ]
  },
  {
   "cell_type": "code",
   "execution_count": 5,
   "id": "1ba9a1f1-0dc4-4e0b-aafa-9bde845acb86",
   "metadata": {},
   "outputs": [
    {
     "name": "stdout",
     "output_type": "stream",
     "text": [
      "3\n",
      "12\n",
      "42\n",
      "3\n",
      "-1\n",
      "22\n",
      "480\n",
      "70\n",
      "3\n",
      "-28\n",
      "114\n"
     ]
    }
   ],
   "source": [
    "# Add one and two\n",
    "print(1 + 2)\n",
    "\n",
    "# Add three, four, and five\n",
    "print(3 + 4 + 5)\n",
    "\n",
    "# Multiply six and seven\n",
    "print(6 * 7)\n",
    "\n",
    "# Subtract five from eight\n",
    "print(8 - 5)\n",
    "\n",
    "# First add three and two, then subtract that from four\n",
    "print(4 - (3 + 2))\n",
    "\n",
    "# Add ten and twelve\n",
    "print(10 + 12)\n",
    "\n",
    "# Subtract 122 from 282, then multiply that by three\n",
    "print((282 - 122) * 3)\n",
    "\n",
    "# TODO: Add 42 and 28\n",
    "# This should produce 70\n",
    "print(42+28)\n",
    "\n",
    "# TODO: Multiply two and four, then subtract five from that\n",
    "print((2 *4) -5)\n",
    "\n",
    "# TODO: Subtract nine from five, then multiply that by seven\n",
    "# This should produce -28\n",
    "print((5-9)*7)\n",
    "\n",
    "# TODO: Add one, ten, twenty, and seven, then multiply the result by three.\n",
    "# This should produce 114\n",
    "print((1+10+20+7)*3)"
   ]
  },
  {
   "cell_type": "markdown",
   "id": "9035bf1a-e3c8-4d97-8880-50574e8a2bd1",
   "metadata": {},
   "source": [
    "## Step 6: Submit via Canvas ##\n",
    "\n",
    "Be sure to **save your work**, then log into [Canvas](https://canvas.csun.edu/).  Go to the COMP 502 course, and click \"Assignments\" on the left pane.  From there, click \"Assignment 1\".  From there, you can upload the `01_python_basics.ipynb` file.\n",
    "\n",
    "You can turn in the assignment multiple times, but only the last version you submitted will be graded."
   ]
  }
 ],
 "metadata": {
  "kernelspec": {
   "display_name": "Python 3 (ipykernel)",
   "language": "python",
   "name": "python3"
  },
  "language_info": {
   "codemirror_mode": {
    "name": "ipython",
    "version": 3
   },
   "file_extension": ".py",
   "mimetype": "text/x-python",
   "name": "python",
   "nbconvert_exporter": "python",
   "pygments_lexer": "ipython3",
   "version": "3.13.5"
  }
 },
 "nbformat": 4,
 "nbformat_minor": 5
}
