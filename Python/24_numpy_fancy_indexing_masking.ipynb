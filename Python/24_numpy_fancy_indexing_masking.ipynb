{
 "cells": [
  {
   "cell_type": "markdown",
   "id": "8be90642-ef7a-40c2-89bc-1bd160525734",
   "metadata": {},
   "source": [
    "# Assignment 24: Fancy Indexing and Masking in NumPy #\n",
    "\n",
    "### Goals for this Assignment ###\n",
    "\n",
    "By the time you have completed this assignment, you should be able to:\n",
    "\n",
    "- Use NumPy's _fancy indexing_ to access a subset of array elements by index at once\n",
    "- Use NumPy's _masking_ to access a subset of array elements based on Boolean values at once\n",
    "\n",
    "## Step 1: Use Fancy Indexing to Access Multiple NumPy Array Elements by Index ##\n",
    "\n",
    "### Background: NumPy's Fancy Indexing ###\n",
    "\n",
    "From the prior assignment, we saw that NumPy array elements can be individually accessed by index, as with:"
   ]
  },
  {
   "cell_type": "code",
   "execution_count": 1,
   "id": "e630229a-b20f-48a7-8d6b-7d5a7ecd229d",
   "metadata": {},
   "outputs": [
    {
     "name": "stdout",
     "output_type": "stream",
     "text": [
      "2\n"
     ]
    }
   ],
   "source": [
    "import numpy as np\n",
    "arr = np.array([9, 2, 6, 3, 1])\n",
    "print(arr[1]) # prints 2"
   ]
  },
  {
   "cell_type": "markdown",
   "id": "2b64b5e0-ac37-4898-8768-63f1d7767149",
   "metadata": {},
   "source": [
    "It turns out that you can access multiple elements of a NumPy array at once, by passing a Python list, NumPy array, or really anything iterable between the square brackets (`[]`).\n",
    "The end result is a NumPy array containing a copy of the requested elements.\n",
    "This is illustrated below in the next cell."
   ]
  },
  {
   "cell_type": "code",
   "execution_count": 2,
   "id": "164eba95-29f8-4835-9cfe-798e52d97c19",
   "metadata": {},
   "outputs": [
    {
     "name": "stdout",
     "output_type": "stream",
     "text": [
      "[2 9 1]\n"
     ]
    }
   ],
   "source": [
    "subset = arr[[1, 0, 4]]\n",
    "print(subset) # prints [2 9 1]"
   ]
  },
  {
   "cell_type": "markdown",
   "id": "909be01a-c004-4cc5-a602-45a4128349ce",
   "metadata": {},
   "source": [
    "The value of `subset` follows from the fact that `2`, `9`, and `1` are at in `arr` at indices `1`, `0`, and `4`, respectively.\n",
    "That is, we've effectively accessed multiple array elements at once by index, in the specific order requested.\n",
    "\n",
    "Note that `subset` here is a true copy, not a view.\n",
    "We can see this in action in the following cell."
   ]
  },
  {
   "cell_type": "code",
   "execution_count": 3,
   "id": "18f451db-7762-4738-a82b-9b3c07c2e8d0",
   "metadata": {},
   "outputs": [
    {
     "name": "stdout",
     "output_type": "stream",
     "text": [
      "[42  9  1]\n",
      "[9 2 6 3 1]\n"
     ]
    }
   ],
   "source": [
    "subset[0] = 42\n",
    "print(subset) # prints [42  9  1]\n",
    "print(arr) # prints [9 2 6 3 1]"
   ]
  },
  {
   "cell_type": "markdown",
   "id": "2d8bc22f-3b6f-4d07-86db-22549ca4c853",
   "metadata": {},
   "source": [
    "As shown, while `subset[0]` corresponds to `arr[1]`, `subset` is actually a copy of the corresponding elements in `arr`, therefore `subset` can be modified independently of `arr`.\n",
    "\n",
    "We can similarly use fancy indexing to assign to multiple array elements at once, as shown below."
   ]
  },
  {
   "cell_type": "code",
   "execution_count": 4,
   "id": "878e5185-4ed9-4a2d-a913-09f98e0fd04c",
   "metadata": {},
   "outputs": [
    {
     "name": "stdout",
     "output_type": "stream",
     "text": [
      "[42  2  6  3 57]\n"
     ]
    }
   ],
   "source": [
    "arr = np.array([9, 2, 6, 3, 1]) # copied for convenience\n",
    "arr[[0, 4]] = [42, 57]\n",
    "print(arr) # prints [42  2  6  3 57]"
   ]
  },
  {
   "cell_type": "markdown",
   "id": "c4f12616-6bb7-40bd-a4d0-299cc1f5ad0c",
   "metadata": {},
   "source": [
    "In this case, since we use fancy indexing to provide two indices, we need to provide a list of two values to assign on the righthand side of the `=`.\n",
    "Each value provided on the righthand side of `=` will be assigned in the same order as the indices provided on the lefthand side of the `=`.\n",
    "In other words, the line:\n",
    "\n",
    "```python\n",
    "arr[[0, 4]] = [42, 57]\n",
    "```\n",
    "\n",
    "...effectively does the same thing as:\n",
    "\n",
    "```python\n",
    "arr[0] = 42\n",
    "arr[1] = 57\n",
    "```\n",
    "\n",
    "This all may rightfully beg the question: _why have fancy indexing_?\n",
    "That is, since this is really just a way to work with multiple array elements at a time, this doesn't strictly add any functionality we didn't already have.\n",
    "There are a few reasons for this:\n",
    "\n",
    "- Fancy indexing can be more convenient and compact for performing certain operations, particularly those that do require us to manipulate multiple elements of an array.  Depending on the task at hand, it can be possible to avoid loops entirely, and instead combine fancy indexing with some operations we will see in later assignments.\n",
    "- Instead of hard-coding the indices to access, we can instead provide an expression evaluating to these indices.  This allows us to write an expression which computes indices that we wish to access as the program runs, which is overall very flexible.\n",
    "- In terms of performance, if we are accessing a large number of array elements, doing so with one use of fancy indexing will almost assurredly perform better than doing so with a Python loop.  With fancy indexing, most of the work is done in NumPy, and NumPy itself calls out to C to do most of its work.  C is generally much faster than Python, meaning going through NumPy (and transitively C) will very likely be much faster than doing everything directly in Python.\n",
    "\n",
    "As a more useful example of fancy indexing, we can use this to copy the values to a new, _reversed_ array, like so:"
   ]
  },
  {
   "cell_type": "code",
   "execution_count": 5,
   "id": "172b9180-569d-4a72-83c4-8ed557338aed",
   "metadata": {},
   "outputs": [
    {
     "name": "stdout",
     "output_type": "stream",
     "text": [
      "[8 4 9]\n",
      "[9 4 8]\n"
     ]
    }
   ],
   "source": [
    "example = np.array([8, 4, 9])\n",
    "reversed_example = example[[2, 1, 0]]\n",
    "print(example) # prints [8 4 9]\n",
    "print(reversed_example) # prints [9 4 8]"
   ]
  },
  {
   "cell_type": "markdown",
   "id": "0f0451f0-7258-4685-bc0f-5240a7bb3dc1",
   "metadata": {},
   "source": [
    "### Try this Yourself ###\n",
    "\n",
    "In the next cell, define a function named `reverse_arr`, which will take a NumPy array and return a new NumPy array.\n",
    "The returned NumPy array should contain the same elements as the input NumPy array, but in reverse order.\n",
    "Your definition of `reverse_arr` **must** perform this reversing via fancy indexing.\n",
    "It's expected that your body of `reverse_arr` will look similar to the code in the prior cell constructing `reversed_example`.\n",
    "As a hint, you may find `range` useful to construct a list of indices in reverse order or the indices in the original input array."
   ]
  },
  {
   "cell_type": "code",
   "execution_count": 8,
   "id": "5a9b1461-2248-41bd-a2b6-94e0e752b638",
   "metadata": {},
   "outputs": [
    {
     "name": "stdout",
     "output_type": "stream",
     "text": [
      "[5 4 8 3]\n",
      "[9 7 4 2 4]\n",
      "[]\n"
     ]
    }
   ],
   "source": [
    "# Define reverse_arr here.  Leave the calls in place in order to test your code.\n",
    "def reverse_arr(arr):\n",
    "    n = arr.size\n",
    "    reversed_indices = list(range(n - 1, -1, -1))\n",
    "    return arr[reversed_indices]\n",
    "\n",
    "print(reverse_arr(np.array([3, 8, 4, 5]))) # should print [5 4 8 3]\n",
    "print(reverse_arr(np.array([4, 2, 4, 7, 9]))) # should print [9 7 4 2 4]\n",
    "print(reverse_arr(np.array([]))) # should print []"
   ]
  },
  {
   "cell_type": "markdown",
   "id": "0f6a173c-a782-4808-b3b8-34655e97bf19",
   "metadata": {},
   "source": [
    "## Step 2: Use Masking to Conditionally Access Elements in a NumPy Array ##\n",
    "\n",
    "### Background: Masking in NumPy ###\n",
    "\n",
    "When indexing into a NumPy array, you can also instead pass a list of Boolean values instead, of the same length as the array being indexed.\n",
    "(You can also pass another NumPy array of Booleans, or even really anything iterable.)\n",
    "For each corresponding index, `True` values will be retained in a new output array, and `False` values will not.\n",
    "This is shown in the cell below."
   ]
  },
  {
   "cell_type": "code",
   "execution_count": 6,
   "id": "e24b0594-bdd9-44bb-b210-5e79249803b5",
   "metadata": {
    "scrolled": true
   },
   "outputs": [
    {
     "name": "stdout",
     "output_type": "stream",
     "text": [
      "[9 2 6 3 1]\n",
      "[9 3]\n"
     ]
    }
   ],
   "source": [
    "arr = np.array([9, 2, 6, 3, 1]) # copied for convenience\n",
    "new_arr = arr[[True, False, False, True, False]]\n",
    "print(arr) # [9 2 6 3 1]\n",
    "print(new_arr) # [9 3]"
   ]
  },
  {
   "cell_type": "markdown",
   "id": "131593a4-4689-447d-8eeb-bdde3c74ecc9",
   "metadata": {},
   "source": [
    "To explain the code in the prior cell a bit, the expression `arr[[True, False, False, True, False]]` effectively says the following:\n",
    "\n",
    "- `arr` is assumed to be a NumPy array holding five elements.  The five elements correspond to each of the five Boolean values provided.\n",
    "- For every `True` value in the array `[True, False, False, True, False]`, the value at the corresponding index in `arr` will be copied to the result NumPy array `new_arr`.  In this case, there is a `True` value at index `0` and index `3`, and so `new_arr` will contain the values in `arr` at those indices.  In other words, the expression `arr[[True, False, False, True, False]]` does the same thing as `arr[[0, 3]]`.\n",
    "\n",
    "This ability to pass Boolean values in this manner is referred to as _masking_ in NumPy.\n",
    "[Masking](https://en.wikipedia.org/wiki/Mask_(computing)) is a more general term in Computer Science, usually referring to somehow extracting certain desired values from a list-like structure of values, often with something that looks like a list of Boolean values.\n",
    "The term \"masking\" refers to the idea that we put a mask over the whole structure, and the holes in the mask allow us to see just the parts we want to see.\n",
    "\n",
    "As with fancy indexing, masking yields a whole new array, not a view.\n",
    "This means you can modify the resulting array from masking without any fear of modifying the original data.\n",
    "\n",
    "Masking has very similar use cases, benefits, and functionality as fancy indexing.\n",
    "In practice, masking is very common, and is used as a way of concisely filtering through an input set and isolating out only those values you care about.\n",
    "You can effectively use both masking and fancy indexing to do something more akin to a loop, but without all the extra syntax, and with high-performance vector-based operations.\n",
    "You will use masking more in the next assignment to achieve higher-level tasks; the content in this assignment is presented first to help cut down the size of the later assignment and make it more digestible.\n",
    "\n",
    "### Try this Yourself ###\n",
    "\n",
    "In the next cell, the NumPy array `base` been defined, which contain some integers.\n",
    "From there, there are a series of `print`s which print out the values contained in some variables.\n",
    "For each of these `print`'s, define a variable with the appropriate name, which is initialized by performing masking on `base` with some list of Boolean values.\n",
    "The first one is done for you as an example."
   ]
  },
  {
   "cell_type": "code",
   "execution_count": 9,
   "id": "b965e7b2-5d34-4a05-b3db-aa9ebc3665e6",
   "metadata": {},
   "outputs": [
    {
     "name": "stdout",
     "output_type": "stream",
     "text": [
      "[2 2]\n",
      "[9]\n",
      "[4 1]\n",
      "[9 1 2]\n"
     ]
    }
   ],
   "source": [
    "base = np.array([9, 4, 2, 1, 2])\n",
    "\n",
    "arr1 = base[[False, False, True, False, True]]\n",
    "print(arr1) # should print [2 2]\n",
    "\n",
    "arr2 = base[[True, False, False, False, False]]\n",
    "print(arr2) # should print [9]\n",
    "\n",
    "arr3 = base[[False, True, False, True, False]]\n",
    "print(arr3) # should print [4 1]\n",
    "\n",
    "arr4 = base[[True, False, False, True, True]]\n",
    "print(arr4) # should print [9 1 2]"
   ]
  },
  {
   "cell_type": "markdown",
   "id": "d856679c-3844-46f3-99bc-337ef11187a2",
   "metadata": {},
   "source": [
    "## Step 3: Submit via Canvas ##\n",
    "\n",
    "Be sure to **save your work**, then log into [Canvas](https://canvas.csun.edu/).  Go to the COMP 502 course, and click \"Assignments\" on the left pane.  From there, click \"Assignment 24\".  From there, you can upload the `24_numpy_fancy_indexing_masking.ipynb` file.\n",
    "\n",
    "You can turn in the assignment multiple times, but only the last version you submitted will be graded.\n",
    "\n",
    "### Special Thanks to Dr. Glenn Bruns ###\n",
    "\n",
    "Special thanks to [Dr. Glenn Bruns](https://csumb.edu/scd/glenn-bruns/) at California State University, Monterey Bay, for providing me with closely-related materials which were used in the creation of this assignment."
   ]
  }
 ],
 "metadata": {
  "kernelspec": {
   "display_name": "Python 3 (ipykernel)",
   "language": "python",
   "name": "python3"
  },
  "language_info": {
   "codemirror_mode": {
    "name": "ipython",
    "version": 3
   },
   "file_extension": ".py",
   "mimetype": "text/x-python",
   "name": "python",
   "nbconvert_exporter": "python",
   "pygments_lexer": "ipython3",
   "version": "3.13.5"
  }
 },
 "nbformat": 4,
 "nbformat_minor": 5
}
