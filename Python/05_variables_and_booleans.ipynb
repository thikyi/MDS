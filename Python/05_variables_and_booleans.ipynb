{
 "cells": [
  {
   "cell_type": "markdown",
   "id": "e3c96744-341a-4d43-bf33-f4501c5c111c",
   "metadata": {},
   "source": [
    "# Assignment 5: Variables and Booleans #\n",
    "\n",
    "### Goals for this Assignment ###\n",
    "\n",
    "By the time you have completed this assignment, you should be able to:\n",
    "\n",
    "- Write code which defines variables\n",
    "- Write code using Boolean expressions\n",
    "- Compare integers using `<`, `<=`, `>`, `>=`, `==`, and `!=`\n",
    "- Chain larger Boolean expressions from smaller ones by using `not`, `and`, and `or`\n",
    "- Write programs using short-circuiting evaluation with `and` and `or`\n",
    "\n",
    "## Step 1: Declare A Variable ##\n",
    "\n",
    "### Background: Variables ###\n",
    "\n",
    "As in mathematics, variables are basically a named bucket which can hold some particular variable.\n",
    "You've already seen variables in Python, specifically with the formal parameters of functions.\n",
    "For example, in:\n",
    "\n",
    "```python\n",
    "def identity(x):\n",
    "    return x\n",
    "```\n",
    "\n",
    "...`x` is a variable.\n",
    "\n",
    "That said, you do not need to introduce a function in order to introduce a variable in Python.\n",
    "For example, if you wanted to have a variable named `foo` with value `12` available, you could do the following:\n",
    "\n",
    "```python\n",
    "foo = 12\n",
    "```\n",
    "\n",
    "After that line of code, any access to `foo` will give back the value `12`.\n",
    "You can see this if you run the following cell, which should print `12`:"
   ]
  },
  {
   "cell_type": "code",
   "execution_count": 1,
   "id": "70de99c5-f04c-4e41-af05-7e65644ddb33",
   "metadata": {},
   "outputs": [
    {
     "name": "stdout",
     "output_type": "stream",
     "text": [
      "12\n"
     ]
    }
   ],
   "source": [
    "foo = 12\n",
    "print(foo)"
   ]
  },
  {
   "cell_type": "markdown",
   "id": "9110109d-a008-4fab-8f34-7a2aae888e25",
   "metadata": {},
   "source": [
    "Introducing variables helps us to break larger problems down into smaller ones, and can give those subproblems distinct names, too.\n",
    "For example, say you wanted the sum of the areas of three different rectangles, with widths `width1`, `width2`, and `width3`, and lengths `length1`, `length2`, and `length3`.\n",
    "You could compute this all with one big formula, namely:\n",
    "\n",
    "```python\n",
    "area_sum = width1 * length1 + width2 * length2 + width3 * length3\n",
    "```\n",
    "\n",
    "This, however, starts to get a little repetitive, and it can get long enough where you lose track of the bigger picture.\n",
    "(As testament to this, I originally wrote this with one of the `*` operations as a `+` operation, and didn't catch it until later.)\n",
    "We can alternatively write the above formula as follows:\n",
    "\n",
    "```python\n",
    "area1 = width1 * length1\n",
    "area2 = width2 * length2\n",
    "area3 = width3 * length3\n",
    "area_sum = area1 + area2 + area3\n",
    "```\n",
    "\n",
    "Breaking a problem down into smaller subproblems, as well as the ability to give those subproblems meaningful names, can help with both reading and writing code.\n",
    "Additionally, sometimes the result of a particular subproblem is needed multiple times, and this way we can avoid recomputing it.\n",
    "For example, the following formula, as written, would compute `a * b` _twice_ if it were written in Python:\n",
    "\n",
    "```python\n",
    "a * b + a * b\n",
    "```\n",
    "\n",
    "...however, we can rewrite this formula in Python to something more like the following:\n",
    "\n",
    "```python\n",
    "temp = a * b\n",
    "temp + temp\n",
    "```\n",
    "\n",
    "...which would only compute `a * b` once.\n",
    "We then use the variable `temp` multiple times, and temp holds the result of `a * b`.\n",
    "Using variables to avoid recomputation will always result in a performance savings, and can be a significant savings.\n",
    "\n",
    "### Background: Variable Scoping ###\n",
    "\n",
    "Realistic programs contain many variables.\n",
    "To put this in perspective, in a project I recently worked on, one file was a little under 200 lines of code, but nonetheless it declared 121 variables.\n",
    "This was admittedly in a different language (Scala), but the point being that on average, variables were introduced a little more frequently than once per every other line.\n",
    "With so many variables in play, this can quickly become overwhelming without some sort of way to manage these.\n",
    "In particular, it can be easy to forget which variable names you have already introduced.\n",
    "This can be a disaster if you happen to reuse a name without realizing it, because this could mean that you end up redefining what some part of your code means with something different.\n",
    "\n",
    "For this reason, programming languages (including Python) support _variable scoping_, which controls when and where variables can be accessed.\n",
    "For functions, formal parameters are said to be _in scope_ only within the body of the function itself.\n",
    "For example, consider the code in the next cell:"
   ]
  },
  {
   "cell_type": "code",
   "execution_count": 2,
   "id": "5c451111-c1f4-4399-97a0-3b8a70271106",
   "metadata": {},
   "outputs": [
    {
     "name": "stdout",
     "output_type": "stream",
     "text": [
      "7\n",
      "6\n"
     ]
    }
   ],
   "source": [
    "def add(x, y):\n",
    "    return x + y\n",
    "\n",
    "def subtract(x, y):\n",
    "    return x - y\n",
    "\n",
    "print(add(5, 2))\n",
    "print(subtract(9, 3))"
   ]
  },
  {
   "cell_type": "markdown",
   "id": "3514441f-620d-4629-8f6b-ba9a1a055b8b",
   "metadata": {},
   "source": [
    "As shown, _both_ `add` and `subtract` introduce formal parameters named `x` and `y`.\n",
    "However, crucially these formal parameters are only in scope in the bodies of their respective functions.\n",
    "That is, the `x` and `y` defined in the `add` function are considered **completely distinct** from the `x` and `y` defined in the `subtract` function, despite the fact that they have the exact same names.\n",
    "This is because the variables declared in `add` are only in scope within `add`, and the variables declared in `subtract` are only in scope in `subtract`.\n",
    "\n",
    "As another example, consider the code in the following cell, which has been commented to reflect which variables are accessible where:"
   ]
  },
  {
   "cell_type": "code",
   "execution_count": 4,
   "id": "473ebe4f-d7e9-4b35-af7b-91e2d43c2241",
   "metadata": {},
   "outputs": [],
   "source": [
    "a = 3\n",
    "\n",
    "def func1(b):\n",
    "    # in scope: a, b\n",
    "    return a + b\n",
    "\n",
    "def func2(c):\n",
    "    # in scope: a, c\n",
    "    return a + c\n",
    "\n",
    "# in scope: a\n",
    "d = 7\n",
    "# in scope: a, d"
   ]
  },
  {
   "cell_type": "markdown",
   "id": "674668cf-7a7f-4377-bcd5-bd883e8a1f1d",
   "metadata": {},
   "source": [
    "With respect to the prior program, even though four variables are collectively declared in the program, at any point only two of them are accessible.\n",
    "As such, variable scoping helps narrow the scope of what programmers need to keep track of (no pun intended).\n",
    "With respect to the aforementioned program I had which collectively declared 121 variables in the same file, the maximum number of variables which ever were in scope was 11, and most lines of the program had 4 or fewer variables in scope.\n",
    "\n",
    "### Background: Variable Naming ###\n",
    "\n",
    "Variables can have almost any name, as long as it does not contain spaces.\n",
    "However, we often want to use multiple words to describe what a variable does, and usually the best variable names are self-descriptive.\n",
    "To allow for multiple words to go into a variable name, there are two commonly-used naming styles: snake case and camel case.\n",
    "With snake case naming, underscores are used to separate the different words in a variable name.\n",
    "For example, `this_is_one_variable`.\n",
    "With camel case, you instead use capitalization between different words.\n",
    "For example, `thisIsOneVariable`.\n",
    "\n",
    "Python itself doesn't care which style you use.\n",
    "However, the Python community as a whole strongly prefers that variable names and function names use snake case, whereas class names (which we will get into later) use camel case.\n",
    "While this may not sound like a big deal, following community standards helps a lot with code readability.\n",
    "For example, with `ThisIsAName`, because this is written in camel case, a Python programmer would be safe to assume that this represents a class name, without knowing anything else about your program.\n",
    "Similarly, with `this_is_a_name`, the programmer is safe to assume that this is a variable or function name.\n",
    "If, however, you don't follow these community standards, this makes it harder to understand code; you now need to look at the specific context in which a name is used to make sense of it, which requires stictly more time and information, and is more error-prone.\n",
    "\n",
    "### Try this Yourself ###\n",
    "\n",
    "In the next cell, declare a variable named `my_variable`, which holds the sum of `2` and `10`."
   ]
  },
  {
   "cell_type": "code",
   "execution_count": 6,
   "id": "dd0ad106-bdf5-4d18-8233-4f2cc661156f",
   "metadata": {},
   "outputs": [
    {
     "name": "stdout",
     "output_type": "stream",
     "text": [
      "12\n"
     ]
    }
   ],
   "source": [
    "# Declare your variable below\n",
    "my_variable = 2 + 10\n",
    "print (my_variable)"
   ]
  },
  {
   "cell_type": "markdown",
   "id": "5b440292-12f5-4fc6-8a19-55b793541d64",
   "metadata": {},
   "source": [
    "## Step 2: Define a Numeric `less_than` Function ##\n",
    "\n",
    "### Background: Boolean Values and Operations ###\n",
    "\n",
    "Here we introduce a new type: Booleans (or `bool`, in Python).\n",
    "(The name \"Boolean\" comes from [George Boole](https://en.wikipedia.org/wiki/George_Boole), and because this is a proper name, it is typical to use uppercase for this name.)\n",
    "A Boolean value can be either `True` or `False`, with no other possibilities.\n",
    "For example, the code in the next cell sets variable `is_true` to `True`, and variable `is_false` to `False`."
   ]
  },
  {
   "cell_type": "code",
   "execution_count": 7,
   "id": "7cc89a4c-1a39-46e0-8cc1-77d82a1f0817",
   "metadata": {},
   "outputs": [],
   "source": [
    "is_true = True\n",
    "is_false = False"
   ]
  },
  {
   "cell_type": "markdown",
   "id": "bcc143ab-eee9-4a5d-aa44-9cb94e4a5567",
   "metadata": {},
   "source": [
    "Boolean values are commonly used when performing arithmetic comparisons (i.e., `<`, `<=`, `>`, `>=`, equality, and nonequality).\n",
    "For example, consider the code in the next cell:"
   ]
  },
  {
   "cell_type": "code",
   "execution_count": 5,
   "id": "f25f5e76-5a3f-41c5-9d0e-b80ad405e961",
   "metadata": {},
   "outputs": [
    {
     "name": "stdout",
     "output_type": "stream",
     "text": [
      "Less than\n",
      "True\n",
      "False\n",
      "True\n",
      "Less than or equal to\n",
      "True\n",
      "True\n",
      "True\n",
      "Greater than\n",
      "False\n",
      "False\n",
      "False\n",
      "Greater than or equal to\n",
      "False\n",
      "True\n",
      "False\n",
      "Equals\n",
      "False\n",
      "True\n",
      "False\n",
      "Not equals\n",
      "True\n",
      "False\n",
      "True\n"
     ]
    }
   ],
   "source": [
    "print(\"Less than\")\n",
    "print(1 < 2)\n",
    "print(1 < 1)\n",
    "print(2 < 3.14)\n",
    "\n",
    "print(\"Less than or equal to\")\n",
    "print(1 <= 2)\n",
    "print(1 <= 1)\n",
    "print(2 <= 3.14)\n",
    "\n",
    "print(\"Greater than\")\n",
    "print(1 > 2)\n",
    "print(1 > 1)\n",
    "print(2 > 3.14)\n",
    "\n",
    "print(\"Greater than or equal to\")\n",
    "print(1 >= 2)\n",
    "print(1 >= 1)\n",
    "print(2 >= 3.14)\n",
    "\n",
    "print(\"Equals\")\n",
    "print(1 == 2)\n",
    "print(1 == 1)\n",
    "print(2 == 3.14)\n",
    "\n",
    "print(\"Not equals\")\n",
    "print(1 != 2)\n",
    "print(1 != 1)\n",
    "print(2 != 3.14)"
   ]
  },
  {
   "cell_type": "markdown",
   "id": "c6ffe221-2071-42d2-9072-9b3c18376543",
   "metadata": {},
   "source": [
    "Note that less-than-or-equal-to and greater-than-or-equal-to are represented with two characters, namely `<=` and `>=`, respectively, instead of the single-character versions we see in mathematics.\n",
    "Additionally, an equality test is performed with `==`, and a test that two values are **not** equal is done with `!=`.\n",
    "These operations with these exact names and meanings appear in most programming languages, not just Python.\n",
    "\n",
    "### Try it Yourself ###\n",
    "\n",
    "Now try this yourself.\n",
    "Define a function in the next cell that behaves according to the following examples:\n",
    "\n",
    "```python\n",
    "print(less_than(2, 4)) # prints True\n",
    "print(less_than(2, 2)) # prints False\n",
    "print(less_than(4, 2)) # prints False\n",
    "```"
   ]
  },
  {
   "cell_type": "code",
   "execution_count": 8,
   "id": "a6eb52ab-8a9d-483c-8c3b-5ae82c8402ab",
   "metadata": {},
   "outputs": [
    {
     "name": "stdout",
     "output_type": "stream",
     "text": [
      "True\n",
      "False\n",
      "False\n"
     ]
    }
   ],
   "source": [
    "# Define your function below.  Leave the calls at the end to help test your code.\n",
    "\n",
    "def less_than(a,b):\n",
    "    return a<b\n",
    "\n",
    "print(less_than(2, 4)) # prints True\n",
    "print(less_than(2, 2)) # prints False\n",
    "print(less_than(4, 2)) # prints False"
   ]
  },
  {
   "cell_type": "markdown",
   "id": "20dd9c84-db2a-4c13-9fa7-fc7927ab9e15",
   "metadata": {},
   "source": [
    "## Step 3: Write a Function Performing Multiple Arithmetic Comparisons ##\n",
    "\n",
    "### Background: Boolean Operators ###\n",
    "\n",
    "In addition to the arithmetic comparison operations, there are also three commonly-used Boolean operations which work directly on Boolean expressions: `not`, `and`, and `or`.\n",
    "`not` is used to perform Boolean negation of another given Boolean expression.\n",
    "This works as shown in the next cell:"
   ]
  },
  {
   "cell_type": "code",
   "execution_count": 9,
   "id": "15cead2e-3f28-41bc-8526-4a5a4ce41bec",
   "metadata": {},
   "outputs": [
    {
     "name": "stdout",
     "output_type": "stream",
     "text": [
      "False\n",
      "True\n",
      "False\n",
      "False\n",
      "True\n"
     ]
    }
   ],
   "source": [
    "print(not True) # prints False\n",
    "print(not False) # prints True\n",
    "print(not 1 < 2) # prints False\n",
    "print(not 1 == 1) # prints False\n",
    "print(not 1 != 1) # prints True"
   ]
  },
  {
   "cell_type": "markdown",
   "id": "05864a4f-6614-4709-ab27-0609acd78cee",
   "metadata": {},
   "source": [
    "`and` is used to connect two Boolean expressions together to form a single one.\n",
    "This works as shown in the next cell:"
   ]
  },
  {
   "cell_type": "code",
   "execution_count": 10,
   "id": "77712838-b107-4e70-9a17-14e6dcbbd64b",
   "metadata": {},
   "outputs": [
    {
     "name": "stdout",
     "output_type": "stream",
     "text": [
      "True\n",
      "False\n",
      "False\n",
      "False\n"
     ]
    }
   ],
   "source": [
    "print(True and True) # prints True\n",
    "print(True and False) # prints False\n",
    "print(False and True) # prints False\n",
    "print(False and False) # prints False"
   ]
  },
  {
   "cell_type": "markdown",
   "id": "64f70c12-e3ab-4b10-a787-a5438ef4b591",
   "metadata": {},
   "source": [
    "As shows, `and` only returns `True` if both of its inputs evaluate to `True`.\n",
    "Otherwise, `and` returns `False`.\n",
    "Phrased another way, `and` returns `False` if any input is `False`, otherwise `True`.\n",
    "\n",
    "Like `and`, `or` is also used to connect two Boolean expressions to form a single one.\n",
    "However, if _any_ of the inputs are `True`, then `or` returns `True`, as shown in the cell below:"
   ]
  },
  {
   "cell_type": "code",
   "execution_count": 11,
   "id": "06834d85-efe4-4a26-ace6-5116b81b4353",
   "metadata": {},
   "outputs": [
    {
     "name": "stdout",
     "output_type": "stream",
     "text": [
      "True\n",
      "True\n",
      "True\n",
      "False\n"
     ]
    }
   ],
   "source": [
    "print(True or True) # prints True\n",
    "print(True or False) # prints True\n",
    "print(False or True) # prints True\n",
    "print(False or False) # prints False"
   ]
  },
  {
   "cell_type": "markdown",
   "id": "95eb9227-94cf-4fc4-a82b-6005515ad428",
   "metadata": {},
   "source": [
    "While each of these operations is fairly simple, their real power is when combined.\n",
    "For example, the following function can be used to determine if a number is outside of the interval `[1, 10]`"
   ]
  },
  {
   "cell_type": "code",
   "execution_count": 12,
   "id": "7ef2618e-386f-4dbc-bb5d-31858b47e0ff",
   "metadata": {},
   "outputs": [
    {
     "name": "stdout",
     "output_type": "stream",
     "text": [
      "True\n",
      "False\n",
      "False\n",
      "True\n"
     ]
    }
   ],
   "source": [
    "def outside(num):\n",
    "    return num < 1 or num > 10\n",
    "\n",
    "print(outside(0)) # prints True\n",
    "print(outside(1)) # prints False\n",
    "print(outside(10)) # prints False\n",
    "print(outside(11)) # prints True"
   ]
  },
  {
   "cell_type": "markdown",
   "id": "62273cec-c9f9-4cff-96f4-728c84cbb44e",
   "metadata": {},
   "source": [
    "### Try it Yourself ###\n",
    "\n",
    "Write a function named `in_range`, which is used to determine if a given number is within some inclusive range.\n",
    "`in_range` should take three parameters, in the following order: \n",
    "\n",
    "- The minimum end of the range\n",
    "- Some number to check\n",
    "- The maximum end of the range\n",
    "\n",
    "`in_range` will return `True` if the number is within the ends of the range, else False.\n",
    "Write your definition in the next cell.\n",
    "The calls to `in_range` are there to help you test your implementation, and should be left in place."
   ]
  },
  {
   "cell_type": "code",
   "execution_count": 13,
   "id": "56af8451-6e4a-4e86-843b-e7373948d130",
   "metadata": {},
   "outputs": [
    {
     "name": "stdout",
     "output_type": "stream",
     "text": [
      "False\n",
      "True\n",
      "True\n",
      "True\n",
      "False\n",
      "False\n",
      "True\n",
      "True\n",
      "True\n",
      "False\n"
     ]
    }
   ],
   "source": [
    "# Define your in_range function below.  Leave the prints and calls in place to test your code.\n",
    "def in_range(min_num, num, max_num):\n",
    "    return min_num <= num <= max_num\n",
    "\n",
    "print(in_range(1, 0, 10)) # prints False\n",
    "print(in_range(1, 1, 10)) # prints True\n",
    "print(in_range(1, 5, 10)) # prints True\n",
    "print(in_range(1, 10, 10)) # prints True\n",
    "print(in_range(1, 11, 10)) # prints False\n",
    "\n",
    "print(in_range(2, 1, 4)) # prints False\n",
    "print(in_range(2, 2, 4)) # prints True\n",
    "print(in_range(2, 3, 4)) # prints True\n",
    "print(in_range(2, 4, 4)) # prints True\n",
    "print(in_range(2, 5, 4)) # prints False\n"
   ]
  },
  {
   "cell_type": "markdown",
   "id": "013028e1-fd8a-4e46-8e65-1295aca10de2",
   "metadata": {},
   "source": [
    "## Step 4: Write a Function Using Short-Circuiting Evaluation ##\n",
    "\n",
    "### Background: Short-Circuiting Evaluation ###\n",
    "\n",
    "Looking more at `and` and `or`, you may have noticed a particular quirk.\n",
    "Specifically:\n",
    "\n",
    "- For `and`, if the first input is `False`, then the result must be `False`, even without looking at the second input.  That is, `False and ...` will always return `False`, no matter what `...` is.\n",
    "- For `or`, if the first input is `True`, then the result must be `True`, even without looking at the second input.  That is, `True or ...` will always return `True`, no matter what `...` is.\n",
    "\n",
    "It turns out that the `and` and `or` operations take this into account, and in these above situations, will not bother to evaluate their second argument.\n",
    "To see this in practice, consider the following function:"
   ]
  },
  {
   "cell_type": "code",
   "execution_count": 15,
   "id": "4a391f37-2b41-40fb-b1bb-7a418666cd64",
   "metadata": {},
   "outputs": [],
   "source": [
    "def print_and_return(x):\n",
    "    print(x)\n",
    "    return x"
   ]
  },
  {
   "cell_type": "markdown",
   "id": "3748f373-d710-4e85-8d3c-7f50ee919b12",
   "metadata": {},
   "source": [
    "As shown, `print_and_return` takes a given input, and will print out that input.\n",
    "From there, `print_and_return` will return that input.\n",
    "\n",
    "Now let's construct some larger Boolean expressions calling `print_and_return`, shown in the next cell (note that you'll need to run the prior cell in order to define the `print_and_return` function)."
   ]
  },
  {
   "cell_type": "code",
   "execution_count": 16,
   "id": "e35cef75-30bc-4b19-a290-d28012c871a7",
   "metadata": {},
   "outputs": [
    {
     "name": "stdout",
     "output_type": "stream",
     "text": [
      "True and True\n",
      "True\n",
      "True\n",
      "True\n"
     ]
    }
   ],
   "source": [
    "print(\"True and True\")\n",
    "print(print_and_return(True) and print_and_return(True))"
   ]
  },
  {
   "cell_type": "markdown",
   "id": "02d87cb7-7af7-4fbe-af87-2d8fdd290513",
   "metadata": {},
   "source": [
    "As shown, `True` gets printed three times in this example.\n",
    "The source of each print follows, in order:\n",
    "\n",
    "1. From the leftmost call to `print_and_return(True)`\n",
    "2. From the rightmost call to `print_and_return(True)`\n",
    "3. From the overall result of `print_and_return(True) and print_and_return(True)`\n",
    "\n",
    "Now let's do this same exercise with `True and False`:"
   ]
  },
  {
   "cell_type": "code",
   "execution_count": 17,
   "id": "ecf19c2f-a7d2-41c9-ac71-43eace2ed02a",
   "metadata": {},
   "outputs": [
    {
     "name": "stdout",
     "output_type": "stream",
     "text": [
      "True and False\n",
      "True\n",
      "False\n",
      "False\n"
     ]
    }
   ],
   "source": [
    "print(\"True and False\")\n",
    "print(print_and_return(True) and print_and_return(False))"
   ]
  },
  {
   "cell_type": "markdown",
   "id": "5163e1ef-6291-434a-b2bf-e51f3ac18638",
   "metadata": {},
   "source": [
    "Tracing the specific outputs again, in order:\n",
    "\n",
    "1. From the call to `print_and_return(True)`\n",
    "2. From the call to `print_and_return(False)`\n",
    "3. From the overall result of `print_and_return(True) and print_and_return(False)`\n",
    "\n",
    "Now let's try `False and True`:"
   ]
  },
  {
   "cell_type": "code",
   "execution_count": 18,
   "id": "07a5172f-0988-4985-a7cf-20422d93c4db",
   "metadata": {},
   "outputs": [
    {
     "name": "stdout",
     "output_type": "stream",
     "text": [
      "False and True\n",
      "False\n",
      "False\n"
     ]
    }
   ],
   "source": [
    "print(\"False and True\")\n",
    "print(print_and_return(False) and print_and_return(True))"
   ]
  },
  {
   "cell_type": "markdown",
   "id": "0a39156f-3c36-4bdb-8bc4-d9198e06ab01",
   "metadata": {},
   "source": [
    "Here, the output changed, where now we only see two `False`'s in the output.\n",
    "The reasoning is as follows:\n",
    "\n",
    "1. `print_and_return(False)` is executed, printing `False`, and returning `False`.\n",
    "2. We now execute the `and` overall, which from the prior call to `print_and_return`, is effectively `False and ...`.  Because we now know that the overall result of `and` **must** be `False`, `and` doesn't bother to evaluate the rightmost argument.  This means that the `print_and_return(True)` is never called.\n",
    "3. `and` returns `False`, and so we end up printing `False`, since `False` is the overall result of `print_and_return(False) and print_and_return(True)`.\n",
    "\n",
    "In this case, the `and` has _short-circuited_, skipping over the righthand side.\n",
    "\n",
    "We see the same sort of behavior with `or`:"
   ]
  },
  {
   "cell_type": "code",
   "execution_count": 19,
   "id": "dbc5240f-9b8e-470a-b072-f60ac4c092b6",
   "metadata": {},
   "outputs": [
    {
     "name": "stdout",
     "output_type": "stream",
     "text": [
      "True or True\n",
      "True\n",
      "True\n",
      "True or False\n",
      "True\n",
      "True\n"
     ]
    }
   ],
   "source": [
    "print(\"True or True\")\n",
    "print(print_and_return(True) or print_and_return(True))\n",
    "\n",
    "print(\"True or False\")\n",
    "print(print_and_return(True) or print_and_return(False))"
   ]
  },
  {
   "cell_type": "markdown",
   "id": "6a6df163-533b-43e9-9ea8-9d95139c1498",
   "metadata": {},
   "source": [
    "In both cases, we get the output:\n",
    "\n",
    "```\n",
    "True\n",
    "True\n",
    "```\n",
    "\n",
    "This is because in both cases, the leftmost `print_and_return(True)` returns `True`, so `or` sees `True or ...`.\n",
    "In this case, `or` knows the output **must** be `True`, and therefore `or` skips over evaluating the righthand side entirely.\n",
    "\n",
    "Most programming languages have short-circuiting behavior that works in this manner, and it's common for programmers to rely upon this behvavior for the correctness of their programs.\n",
    "In general, you may see patterns like the following:\n",
    "\n",
    "```python\n",
    "first_expression and expression_that_would_be_an_error_if_first_expression_is_False\n",
    "```\n",
    "\n",
    "That is, `first_expression` checks some condition, and only if that condition is true, is the second expression executed.\n",
    "The second expression only makes sense to check if the first expression was true, and would be an error otherwise.\n",
    "\n",
    "### Try it Yourself ###\n",
    "\n",
    "The function in the next cell contains `int(\"not an integer\")`, which will always give back an error.\n",
    "Write a call to this function that will **not** trigger this error."
   ]
  },
  {
   "cell_type": "code",
   "execution_count": 21,
   "id": "be73db9a-c016-41f9-872b-ccf114252ae7",
   "metadata": {},
   "outputs": [
    {
     "name": "stdout",
     "output_type": "stream",
     "text": [
      "True\n"
     ]
    }
   ],
   "source": [
    "def semi_broken_function(x):\n",
    "    return (not x) or int(\"not an integer\") > 0\n",
    "\n",
    "# put your call below this line\n",
    "print(semi_broken_function(False))"
   ]
  },
  {
   "cell_type": "markdown",
   "id": "d268e855-2427-44c3-a006-2e8f40fc5b9b",
   "metadata": {},
   "source": [
    "## Step 5: Submit via Canvas ##\n",
    "\n",
    "Be sure to **save your work**, then log into [Canvas](https://canvas.csun.edu/).  Go to the COMP 502 course, and click \"Assignments\" on the left pane.  From there, click \"Assignment 5\".  From there, you can upload the `05_variables_and_booleans.ipynb` file.\n",
    "\n",
    "You can turn in the assignment multiple times, but only the last version you submitted will be graded."
   ]
  }
 ],
 "metadata": {
  "kernelspec": {
   "display_name": "Python 3 (ipykernel)",
   "language": "python",
   "name": "python3"
  },
  "language_info": {
   "codemirror_mode": {
    "name": "ipython",
    "version": 3
   },
   "file_extension": ".py",
   "mimetype": "text/x-python",
   "name": "python",
   "nbconvert_exporter": "python",
   "pygments_lexer": "ipython3",
   "version": "3.13.5"
  }
 },
 "nbformat": 4,
 "nbformat_minor": 5
}
