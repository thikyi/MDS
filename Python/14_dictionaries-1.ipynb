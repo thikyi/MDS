{
 "cells": [
  {
   "cell_type": "markdown",
   "id": "7b670a91-242f-4843-85f2-23bf220fb84b",
   "metadata": {},
   "source": [
    "# Assignment 14: Dictionaries #\n",
    "\n",
    "### Goals for this Assignment ###\n",
    "\n",
    "By the time you have completed this assignment, you should be able to:\n",
    "\n",
    "- Create dictionaries in Python using `{...}`\n",
    "- Access elements in a dictionary using `[...]`\n",
    "- Add elements to a dictionary using `[...]`\n",
    "- Check if a dictionary contains an element using `in`\n",
    "- Check if a dictionary does **not** contain an element using `not in`\n",
    "- Get the number of elements in a dictionary using the `len` function\n",
    "- Remove elements from a dictionary using `del`\n",
    "\n",
    "## Step 1: Create a Dictionary with Specifc Keys and Values ##\n",
    "\n",
    "### Background: Map Data Structures ###\n",
    "\n",
    "Maps are one of the most commonly-used data structures in programming, perhaps second only to lists.\n",
    "Maps are based around having a set of _keys_, where each key is associated with a given value.\n",
    "In real life, we see maps all the time.\n",
    "For example, a phone's contact list allows you to look up the phone number associated with a given name.\n",
    "Or, phrased another way, people's names are keys, and their phone numbers are values.\n",
    "As another example, a student ID number allows someone to look up information about the student with the ID number; the ID number is thus the key, and the collective information about the student is the value.\n",
    "Exactly what type the key and value are depends on the particular map.\n",
    "\n",
    "Maps go by a number of different names, some of which are synonymous with each other, others of which are specializations.\n",
    "You may hear any of the following terms used to refer to maps (you're not expected to memorize this, and is provided just in case you see them in the future):\n",
    "\n",
    "- Hash maps\n",
    "- Hash tables\n",
    "- Hash\n",
    "- Table\n",
    "- Associative arrays\n",
    "- Dictionaries\n",
    "\n",
    "The \"hash\" variants all refer to [hash functions](https://en.wikipedia.org/wiki/Hash_function), which are used in the implementations of some kinds of maps.\n",
    "Exactly how hash functions can be used to implement a map is beyond our scope, but the point is that the hash functions themselves are sometimes treated as if they are synonymous with the maps.\n",
    "In some cases, people will refer to maps in general as hashes (or one of the other variants), even though maps in general don't necessarily use hash functions.\n",
    "\n",
    "\"Associative arrays\" are another way to implement maps, though without hash functions.\n",
    "However, like hashes, sometimes maps in general are referred to as associative arrays, even if they don't use this specific implementation strategy.\n",
    "\n",
    "Rarely, maps are referred to as \"tables\".\n",
    "Since tables in practice often have a single column right at the beginning which is unique, this first column is effectively a key, and everything else is part of the value for the key.\n",
    "However, not all tables work this way, and not all tables are even implemented as maps, so using \"table\" unqualified would not necessarily mean a map.\n",
    "\n",
    "\"Dictionaries\" at this point are synonymous with maps, but this word's reference to maps is usually in the context of Python.\n",
    "Python has built-in support for maps, but it calls these maps \"dictionaries\".\n",
    "Given Python's popularity, the term \"dictionary\" has sometimes escaped outside of strictly Python circles.\n",
    "\n",
    "(Fun fact: Computer Scientists are generally very bad at naming things, and maps with this army of mostly not-quite-synonyms are, for better or worse, a great example of such naming issues.)\n",
    "\n",
    "Generally, accessing values in a map is very efficient, even if there are a lot of entries in the dictionary.\n",
    "Whether or not this is efficient, and how efficient it is, depends on the specific way in which the dictionary is implemented.\n",
    "These implementation details are beyond our scope, but specific to Python, they are typically about as fast as you can get.\n",
    "\n",
    "### Background: Dictionaries in Python ###\n",
    "\n",
    "In Python, dictionaries can be created using curly brackets (`{}`).\n",
    "From there, one can use square brackets (`[]`) to access values in the dictionary by their key, similar to list indexing.\n",
    "An example is shown in the cell below."
   ]
  },
  {
   "cell_type": "code",
   "execution_count": 1,
   "id": "eae255a1-5bb5-4528-9563-d5eab3abd3e3",
   "metadata": {},
   "outputs": [
    {
     "name": "stdout",
     "output_type": "stream",
     "text": [
      "12\n",
      "2\n"
     ]
    }
   ],
   "source": [
    "example = { \"apple\" : 12, \"pear\" : 2 }\n",
    "print(example[\"apple\"]) # prints 12\n",
    "print(example[\"pear\"]) # prints 2"
   ]
  },
  {
   "cell_type": "markdown",
   "id": "b6c32efd-ff54-431b-a519-11c8e8a3bad4",
   "metadata": {},
   "source": [
    "The first line creates a new dictionary, with the keys `\"apple\"` and `\"pear\"`.\n",
    "These keys are mapped to the values `12` and `2`, respectively.\n",
    "The notation `example[\"apple\"]` is used to get the value associated with the `\"apple\"` key in the `example` dictionary; this evaluates to `12` here, given that this value was associated with this key.\n",
    "Similarly, `example[\"pear\"]` gets the value associated with key `\"pear\"` in the `example` dictionary.\n",
    "\n",
    "Dictionaries can hold any number of keys, and the types of the keys and values do not need to be uniform.\n",
    "Some examples are shown in the next cell."
   ]
  },
  {
   "cell_type": "code",
   "execution_count": 2,
   "id": "c99ff9b4-fc51-4b1a-bc61-a982650337e8",
   "metadata": {},
   "outputs": [
    {
     "name": "stdout",
     "output_type": "stream",
     "text": [
      "bar\n",
      "3\n",
      "True\n",
      "my key was an integer\n"
     ]
    }
   ],
   "source": [
    "# contains no keys\n",
    "empty_dictionary = {}\n",
    "\n",
    "# contains only the key \"foo\", mapping to the value \"bar\"\n",
    "single_dictionary = { \"foo\" : \"bar\" }\n",
    "print(single_dictionary[\"foo\"]) # prints \"bar\"\n",
    "\n",
    "# Contains multiple keys and values, all of mixed types.\n",
    "# This definition is spread across multiple lines for readability,\n",
    "# but it could have been done on one line\n",
    "mixed_dictionary = { \"some_string\" : 3,\n",
    "                     \"some_other_string\" : True,\n",
    "                     14 : \"my key was an integer\" }\n",
    "print(mixed_dictionary[\"some_string\"]) # prints 3\n",
    "print(mixed_dictionary[\"some_other_string\"]) # prints True\n",
    "print(mixed_dictionary[14]) # prints \"my key was an integer\""
   ]
  },
  {
   "cell_type": "markdown",
   "id": "9044e0eb-32c6-4acf-a81f-7d770b59a78c",
   "metadata": {},
   "source": [
    "### Try this Yourself ###\n",
    "\n",
    "The next cell defines some `print`s which access various keys in a dictionary.\n",
    "The comments show what is expected to be printed for each key access."
   ]
  },
  {
   "cell_type": "code",
   "execution_count": 3,
   "id": "f3cb67a6-7826-40df-a92b-2e2338246494",
   "metadata": {},
   "outputs": [
    {
     "name": "stdout",
     "output_type": "stream",
     "text": [
      "3\n",
      "False\n",
      "foo\n"
     ]
    }
   ],
   "source": [
    "# Define your dictionary here.  The subsequent prints should all end up printing\n",
    "# what is shown in the comments\n",
    "d = { \"alpha\" : 3, \"beta\" : False , \"gamma\" : \"foo\" , }\n",
    "\n",
    "print(d[\"alpha\"]) # should print 3\n",
    "print(d[\"beta\"]) # should print False\n",
    "print(d[\"gamma\"]) # should print \"foo\""
   ]
  },
  {
   "cell_type": "markdown",
   "id": "6adad449-12e1-4243-a917-dc903743e564",
   "metadata": {},
   "source": [
    "## Step 2: Conditionally Modify a Dictionary Based on the Keys it Contains ##\n",
    "\n",
    "### Background: Adding Elements to an Existing Dictionary ###\n",
    "\n",
    "Similar to list indexing, the notation `some_dictionary[key]` can be placed either on the righthand or lefthand side of `=`.\n",
    "On the righthand side (as in all the examples shown previously), this is used to access the value associated with `key`.\n",
    "On the lefthand side, this is used to _modify_ the value associated with a given key.\n",
    "This is illustrated in the cell below:"
   ]
  },
  {
   "cell_type": "code",
   "execution_count": 4,
   "id": "4710f7b6-c063-44f1-ac07-ed8867973ee5",
   "metadata": {},
   "outputs": [
    {
     "name": "stdout",
     "output_type": "stream",
     "text": [
      "3\n",
      "4\n"
     ]
    }
   ],
   "source": [
    "example = { \"foo\" : 3 }\n",
    "print(example[\"foo\"]) # prints 3\n",
    "\n",
    "example[\"foo\"] = 4\n",
    "print(example[\"foo\"]) # prints 4"
   ]
  },
  {
   "cell_type": "markdown",
   "id": "069f6c33-621a-4232-9b91-bae8fb69444a",
   "metadata": {},
   "source": [
    "We can use the same syntax to add a new key/value pair to an existing dictionary.\n",
    "This is shown below:"
   ]
  },
  {
   "cell_type": "code",
   "execution_count": 5,
   "id": "ce64ca71-d524-4988-85b4-cee59bdc912c",
   "metadata": {},
   "outputs": [
    {
     "name": "stdout",
     "output_type": "stream",
     "text": [
      "8\n",
      "12\n",
      "8\n"
     ]
    }
   ],
   "source": [
    "other_example = { \"moo\" : 8 }\n",
    "print(other_example[\"moo\"]) # prints 8\n",
    "\n",
    "other_example[\"cow\"] = 12\n",
    "print(other_example[\"cow\"]) # prints 12\n",
    "print(other_example[\"moo\"]) # prints 8"
   ]
  },
  {
   "cell_type": "markdown",
   "id": "f60bdfc2-d8da-433f-9b2d-d93ed8372feb",
   "metadata": {},
   "source": [
    "### Background: Checking if a Key is in a Dictionary ###\n",
    "\n",
    "So what happens if we attempt to access a key in a dictionary which does not contain that key?\n",
    "An example is shown below:"
   ]
  },
  {
   "cell_type": "code",
   "execution_count": 6,
   "id": "aff5d296-c5b3-457e-905f-abfc2304afe7",
   "metadata": {},
   "outputs": [
    {
     "ename": "KeyError",
     "evalue": "'not in map'",
     "output_type": "error",
     "traceback": [
      "\u001b[1;31m---------------------------------------------------------------------------\u001b[0m",
      "\u001b[1;31mKeyError\u001b[0m                                  Traceback (most recent call last)",
      "Cell \u001b[1;32mIn[6], line 2\u001b[0m\n\u001b[0;32m      1\u001b[0m only_holds_foo \u001b[38;5;241m=\u001b[39m { \u001b[38;5;124m\"\u001b[39m\u001b[38;5;124mfoo\u001b[39m\u001b[38;5;124m\"\u001b[39m : \u001b[38;5;124m\"\u001b[39m\u001b[38;5;124mbar\u001b[39m\u001b[38;5;124m\"\u001b[39m }\n\u001b[1;32m----> 2\u001b[0m \u001b[38;5;28mprint\u001b[39m(only_holds_foo[\u001b[38;5;124m\"\u001b[39m\u001b[38;5;124mnot in map\u001b[39m\u001b[38;5;124m\"\u001b[39m])\n",
      "\u001b[1;31mKeyError\u001b[0m: 'not in map'"
     ]
    }
   ],
   "source": [
    "only_holds_foo = { \"foo\" : \"bar\" }\n",
    "print(only_holds_foo[\"not in map\"])"
   ]
  },
  {
   "cell_type": "markdown",
   "id": "066014db-c491-4f0b-a318-c4439436bc7d",
   "metadata": {},
   "source": [
    "If the code in the above cell is run, it will crash with a `KeyError`.\n",
    "That is, it is an error to attempt to read the value for a key which doesn't exist.\n",
    "This is very similar to attempting to read an index in a list which doesn't contain the given index.\n",
    "Note that unlike lists, however, we can always add a key to an existing dictionary, whereas we cannot arbitrarily add any index to an existing list.\n",
    "\n",
    "Because of the `KeyError` issue, we often want to make sure that a given dictionary contains a key before we try to access it.\n",
    "We can perform this check via `in` and `not in`, shown in the cell below:"
   ]
  },
  {
   "cell_type": "code",
   "execution_count": 7,
   "id": "927f55d2-7498-4fe9-8766-bc0ed0d58e5f",
   "metadata": {},
   "outputs": [
    {
     "name": "stdout",
     "output_type": "stream",
     "text": [
      "True\n",
      "False\n",
      "False\n",
      "True\n",
      "did not contain foo\n"
     ]
    }
   ],
   "source": [
    "only_holds_bar = { \"bar\" : 9 }\n",
    "print(\"bar\" in only_holds_bar) # prints True\n",
    "print(\"bar\" not in only_holds_bar) # prints False\n",
    "print(\"foo\" in only_holds_bar) # prints False\n",
    "print(\"foo\" not in only_holds_bar) # prints True\n",
    "\n",
    "if \"foo\" in only_holds_bar:\n",
    "    print(only_holds_bar[\"foo\"])\n",
    "else:\n",
    "    print(\"did not contain foo\")"
   ]
  },
  {
   "cell_type": "markdown",
   "id": "b8027078-bc47-4e29-95d1-c6f76d08d0f0",
   "metadata": {},
   "source": [
    "As shown, `in` can be used to check to see if a given key exists in a given dictionary.\n",
    "Similarly, `not in` can be used to check to see if a given key does _not_ exist in a given dictionary.\n",
    "This check returns a Boolean value, hence `print(\"bar\" in only_holds_bar)` prints `True`, because `\"bar\"` is a key in `only_holds_bar`.\n",
    "Similarly, `print(\"foo\" in only_holds_bar)` prints `False`, because `\"foo\"` is **not** a key in `only_holds_bar`.\n",
    "\n",
    "We can use this Boolean value in the context of an `if` to then conditionally access the key in the dictionary, making sure to only access the value for the key if the key is actually present in the dictionary.\n",
    "This is ultimately where the last print of `\"did not contain foo\"` comes from.\n",
    "While the line `print(only_holds_bar[\"foo\"])` _would_ trigger the `KeyError` if executed, it's not actually executed in the above code because of the `if`, and therefore the above code executes without crashing.\n",
    "\n",
    "Note that this use of `in` is _different_ from the use of `in` in a `for...in` loop, or in a list comprehension.\n",
    "In those cases, `in` is used to say what list is being iterated over.\n",
    "In this case, `in` is used to say what dictionary we want to check against.\n",
    "\n",
    "### Try this Yourself ###\n",
    "\n",
    "Define a function named `maybe_add`, which will conditionally add a given key and value to a given dictionary.\n",
    "If the dictionary does not already contain the key, then `maybe_add` should add the given key and value.\n",
    "Otherwise, if the dictionary _does_ already contain the key, they `maybe_add` will not modify the given dictionary.\n",
    "\n",
    "Define your function in the next cell.\n",
    "Leave the example calls in place to help test your code."
   ]
  },
  {
   "cell_type": "code",
   "execution_count": 11,
   "id": "7cc8ea81-72a7-4f78-a330-ef39d324a407",
   "metadata": {},
   "outputs": [
    {
     "name": "stdout",
     "output_type": "stream",
     "text": [
      "v1\n",
      "v2\n",
      "v1\n",
      "v2\n"
     ]
    }
   ],
   "source": [
    "# Define your function here.  Leave the calls below for testing.\n",
    "\n",
    "def maybe_add(dic, key, value):\n",
    "    if key not in dic:       \n",
    "        dic[key] = value     \n",
    "\n",
    "\n",
    "d1 = { \"k1\" : \"v1\" }\n",
    "maybe_add(d1, \"k1\", \"other\")\n",
    "maybe_add(d1, \"k2\", \"v2\")\n",
    "print(d1[\"k1\"]) # should print \"v1\"\n",
    "print(d1[\"k2\"]) # should print \"v2\"\n",
    "\n",
    "d2 = { \"k1\" : \"v1\", \"k2\" : \"v2\" }\n",
    "maybe_add(d2, \"k1\", \"foo\")\n",
    "maybe_add(d2, \"k2\", \"bar\")\n",
    "print(d2[\"k1\"]) # should print \"v1\"\n",
    "print(d2[\"k2\"]) # should print \"v2\""
   ]
  },
  {
   "cell_type": "markdown",
   "id": "29652e9c-7b79-484c-ad95-32db85e3c48a",
   "metadata": {},
   "source": [
    "## Step 3: Conditionally Modify a Dictionary Based on the Number of Keys it Contains ##\n",
    "\n",
    "### Background: Getting the Number of Keys in a Dictionary ###\n",
    "\n",
    "We sometimes want to know the number of keys present in a given dictionary.\n",
    "This can be done via use of the `len` function, just as with lists.\n",
    "Relevant examples are shown in the next cell."
   ]
  },
  {
   "cell_type": "code",
   "execution_count": 12,
   "id": "93e9d71c-d22a-4ea2-9ca9-8393835e052c",
   "metadata": {},
   "outputs": [
    {
     "name": "stdout",
     "output_type": "stream",
     "text": [
      "0\n",
      "1\n",
      "2\n",
      "2\n"
     ]
    }
   ],
   "source": [
    "example = {}\n",
    "print(len(example)) # prints 0\n",
    "\n",
    "example[\"foo\"] = \"bar\"\n",
    "print(len(example)) # prints 1\n",
    "\n",
    "# In the line of code below, \"bar\" is being used as a key.\n",
    "# Importantly, keys and values live in different spaces,\n",
    "# so it does not matter that \"bar\" happens to already be a value\n",
    "# in the map\n",
    "example[\"bar\"] = \"baz\"\n",
    "print(len(example)) # prints 2\n",
    "\n",
    "# The line below modifies the value associated with the existing\n",
    "# key \"foo\".  Because this doesn't add any new keys, this does not\n",
    "# change the length of `example`\n",
    "example[\"foo\"] = \"blah\"\n",
    "print(len(example)) # prints 2"
   ]
  },
  {
   "cell_type": "markdown",
   "id": "eb5372a7-372b-453a-ba79-a14dded00c87",
   "metadata": {},
   "source": [
    "### Try this Yourself ###\n",
    "\n",
    "Define a function named `add_max_len`, which takes the following parameters:\n",
    "\n",
    "- A dictionary\n",
    "- The maximum permitted length of that dictionary (an integer)\n",
    "- A key to potentially add to the dictionary\n",
    "- A value to potentially add to the dictionary\n",
    "\n",
    "If the key is already in the dictionary, then `add_max_len` will modify the value associated with the key to be whatever the passed value is.\n",
    "If, however, the key is not in the dictionary, then `add_max_len` will look at the maximum permitted keys in the dictionary.\n",
    "If adding the new key/value pair would cause the number of keys in the dictionary to go over this limit, then `add_max_len` will not change the dictionary.\n",
    "If, however, adding the new/key value pair would _not_ cause the number of keys in the dictionary to go over this limit, then `add_max_len` _will_ change the dictionary, adding the given key/value pair.\n",
    "\n",
    "Define your function in the next cell.\n",
    "Leave the example calls in place to help test your code."
   ]
  },
  {
   "cell_type": "code",
   "execution_count": 13,
   "id": "85826f3a-e63d-4075-9405-a85c675d2db3",
   "metadata": {},
   "outputs": [
    {
     "name": "stdout",
     "output_type": "stream",
     "text": [
      "other\n",
      "False\n",
      "v2\n"
     ]
    }
   ],
   "source": [
    "# Define your function here.  Leave the calls below for testing.\n",
    "def add_max_len(dic, max_len, key, value):\n",
    "    if key in dic:\n",
    "        dic[key] = value\n",
    "    else:\n",
    "        if len(dic) < max_len:\n",
    "            dic[key] = value\n",
    "\n",
    "\n",
    "\n",
    "d1 = { \"k1\" : \"v1\" }\n",
    "add_max_len(d1, 1, \"k1\", \"other\")\n",
    "print(d1[\"k1\"]) # should print \"other\"\n",
    "\n",
    "add_max_len(d1, 1, \"k2\", \"v2\")\n",
    "print(\"k2\" in d1) # should print False\n",
    "\n",
    "add_max_len(d1, 5, \"k2\", \"v2\")\n",
    "print(d1[\"k2\"]) # should print \"v2\""
   ]
  },
  {
   "cell_type": "markdown",
   "id": "44da13c9-aee1-4fbf-ba30-70bde708eb38",
   "metadata": {},
   "source": [
    "## Step 4: Conditionally Remove a Key from a Dictionary ##\n",
    "\n",
    "### Background: Removing Keys from a Dictionary ###\n",
    "\n",
    "In addition to modifying and adding key/value pairs, we can also remove a key/value pair from a dictionary.\n",
    "This is done with the `del` statement in Python.\n",
    "An example is shown in the next cell:"
   ]
  },
  {
   "cell_type": "code",
   "execution_count": 14,
   "id": "cf7cd50a-9e7d-4e25-8fdc-956b21bdcf49",
   "metadata": {},
   "outputs": [
    {
     "name": "stdout",
     "output_type": "stream",
     "text": [
      "True\n",
      "True\n",
      "\n",
      "False\n",
      "True\n"
     ]
    }
   ],
   "source": [
    "example = { \"foo\" : \"bar\", \"baz\" : \"blah\" }\n",
    "print(\"foo\" in example) # prints True\n",
    "print(\"baz\" in example) # prints True\n",
    "\n",
    "del example[\"foo\"]\n",
    "print()\n",
    "print(\"foo\" in example) # prints False\n",
    "print(\"baz\" in example) # prints True"
   ]
  },
  {
   "cell_type": "markdown",
   "id": "9661396e-0297-4533-b653-73c706ed3dfb",
   "metadata": {},
   "source": [
    "As shown in the above code, `del example[\"foo\"]` removes the key `\"foo\"` from `example`, as well as the associated value `\"bar\"`.\n",
    "\n",
    "Note that `del` requires the given key to be present.\n",
    "If not, `del` will crash the program with a `KeyError`, as shown below:"
   ]
  },
  {
   "cell_type": "code",
   "execution_count": 15,
   "id": "b5408aab-5a43-4938-b739-74dfcbd24025",
   "metadata": {},
   "outputs": [
    {
     "ename": "KeyError",
     "evalue": "'bar'",
     "output_type": "error",
     "traceback": [
      "\u001b[1;31m---------------------------------------------------------------------------\u001b[0m",
      "\u001b[1;31mKeyError\u001b[0m                                  Traceback (most recent call last)",
      "Cell \u001b[1;32mIn[15], line 3\u001b[0m\n\u001b[0;32m      1\u001b[0m example \u001b[38;5;241m=\u001b[39m { \u001b[38;5;124m\"\u001b[39m\u001b[38;5;124mfoo\u001b[39m\u001b[38;5;124m\"\u001b[39m : \u001b[38;5;124m\"\u001b[39m\u001b[38;5;124mbar\u001b[39m\u001b[38;5;124m\"\u001b[39m }\n\u001b[1;32m----> 3\u001b[0m \u001b[38;5;28;01mdel\u001b[39;00m example[\u001b[38;5;124m\"\u001b[39m\u001b[38;5;124mbar\u001b[39m\u001b[38;5;124m\"\u001b[39m]\n",
      "\u001b[1;31mKeyError\u001b[0m: 'bar'"
     ]
    }
   ],
   "source": [
    "example = { \"foo\" : \"bar\" }\n",
    "\n",
    "del example[\"bar\"] # \"bar\" is NOT a key in example, so this is an error"
   ]
  },
  {
   "cell_type": "markdown",
   "id": "ee6927f1-4e97-433c-974a-dc179ad1f2a5",
   "metadata": {},
   "source": [
    "### Try this Yourself ###\n",
    "\n",
    "Define a function named `ensure_missing`, which takes:\n",
    "\n",
    "- A dictionary\n",
    "- A potential key in that dictionary\n",
    "\n",
    "After calling `ensure_missing(d, k)`, it is guaranteed that `d` will not contain key `k`.\n",
    "Specifically, if `k` was originally in `d`, then `ensure_missing` should remove the key and its associated value.\n",
    "If `k` was **not** originally in `d`, then `ensure_missing` doesn't need to modify `d`.\n",
    "\n",
    "Define your function in the next cell.\n",
    "Leave the example calls in place to help test your code."
   ]
  },
  {
   "cell_type": "code",
   "execution_count": 16,
   "id": "576051d3-08b8-4ce2-9486-57632042a537",
   "metadata": {},
   "outputs": [
    {
     "name": "stdout",
     "output_type": "stream",
     "text": [
      "True\n",
      "True\n",
      "\n",
      "False\n",
      "True\n",
      "\n",
      "False\n",
      "False\n",
      "True\n",
      "False\n"
     ]
    }
   ],
   "source": [
    "# Define your function here.  Leave the calls below for testing.\n",
    "def ensure_missing(d, k):\n",
    "    if k in d:\n",
    "        del d[k] \n",
    "\n",
    "            \n",
    "d = { \"foo\" : 1, \"bar\" : 2 }\n",
    "print(\"foo\" in d) # should print True\n",
    "print(\"bar\" in d) # should print True\n",
    "\n",
    "print()\n",
    "ensure_missing(d, \"foo\")\n",
    "print(\"foo\" in d) # should print False\n",
    "print(\"bar\" in d) # should print True\n",
    "\n",
    "print()\n",
    "print(\"other\" in d) # should print False\n",
    "ensure_missing(d, \"other\")\n",
    "print(\"foo\" in d) # should print False\n",
    "print(\"bar\" in d) # should print True\n",
    "print(\"other\" in d) # should print False"
   ]
  },
  {
   "cell_type": "markdown",
   "id": "953c54a6-29e9-452a-80cb-3d281b9db63f",
   "metadata": {},
   "source": [
    "## Step 5: Define a Wrapper Around a Dictionary With Methods for All These Operations ##\n",
    "\n",
    "### Background: Wrappers ###\n",
    "\n",
    "In programming, the term [_wrapper_](https://en.wikipedia.org/wiki/Wrapper_function) is commonly used to refer to a class, function, or other unit of computation which contains some other unit of computation.\n",
    "Unlike a normal class/function/etc., a wrapper generally does very little computation of its own, and mostly just defers to whatever thing it wraps around.\n",
    "There is no hard-and-fast distinction between some normal bit of computation and a wrapper, but saying \"wrapper\" implies that most, if not all of the functionality is in the thing we wrap around.\n",
    "While this might seem wasteful (why not just use the thing directly?), sometimes there is a tiny amount of extra computation we need to do, or we need to make one sort of object fit into a place where a closely-related but nonetheless different object is expected.\n",
    "\n",
    "\n",
    "### Try this Yourself ###\n",
    "\n",
    "For this step, you will define a wrapper class over a dictionary.\n",
    "Specifically:\n",
    "\n",
    "- You must define a `class` named `Map`\n",
    "- `Map` has a constructor which takes no arguments other than `self`, and will internally create a new empty dictionary.  This dictionary needs to be saved in some field.\n",
    "- `Map` has an `add` method, which is used to add a given key/value pair to the underlying dictionary.  If the dictionary already contains the key/value pair, `add` will instead update the value associated with the given key.\n",
    "- `Map` has a `get` method, which is used to get the value in the underlying dictionary associated with a given key.  It's an error for someone to call `get` without a key that actually exists in the underlying dictionary.\n",
    "- `Map` has a `contains` method, which returns a Boolean indicating whether or not a given key exists in the underlying dictionary.\n",
    "- `Map` has a `remove` method, which removes the given key (and its associated value) from the underlying dictionary.  It's an error if the underlying dictionary does not already contain the given key.\n",
    "- `Map` has a `num_items` method, which returns the number of key/value pairs in the underlying dictionary.\n",
    "\n",
    "The code in the next cell creates a `Map` object, and calls the above methods in various ways.\n",
    "The comments show what these various methods should return.\n",
    "Define your `Map` class in the next cell so that the code will work as intended according to the above description and comments.\n",
    "Leave the code that's currently there in place in order to test your code."
   ]
  },
  {
   "cell_type": "code",
   "execution_count": 17,
   "id": "8be9a98e-ad61-4530-a383-1f0f9cf87d6d",
   "metadata": {},
   "outputs": [
    {
     "name": "stdout",
     "output_type": "stream",
     "text": [
      "0\n",
      "\n",
      "True\n",
      "hello\n",
      "1\n",
      "\n",
      "False\n",
      "True\n",
      "goodbye\n",
      "2\n",
      "\n",
      "True\n",
      "False\n",
      "True\n",
      "1\n"
     ]
    }
   ],
   "source": [
    "# Define your Map class here.  Leave the code below for testing.\n",
    "class Map:\n",
    "    def __init__(self):\n",
    "        self._dict = {}\n",
    "\n",
    "    def add(self, key, value):\n",
    "        self._dict[key] = value\n",
    "\n",
    "    def get(self, key):\n",
    "        return self._dict[key]\n",
    "\n",
    "    def contains(self, key):\n",
    "        return key in self._dict\n",
    "\n",
    "    def remove(self, key):\n",
    "        del self._dict[key]\n",
    "\n",
    "    def num_items(self):\n",
    "        return len(self._dict)\n",
    "        \n",
    "\n",
    "m = Map()\n",
    "print(m.num_items()) # should print 0\n",
    "\n",
    "print()\n",
    "m.add(\"foo\", \"hello\")\n",
    "print(m.contains(\"foo\")) # should print True\n",
    "print(m.get(\"foo\")) # should print \"hello\"\n",
    "print(m.num_items()) # should print 1\n",
    "\n",
    "print()\n",
    "print(m.contains(\"bar\")) # should print False\n",
    "m.add(\"bar\", \"goodbye\")\n",
    "print(m.contains(\"bar\")) # should print True\n",
    "print(m.get(\"bar\")) # should print \"goodbye\"\n",
    "print(m.num_items()) # should print 2\n",
    "\n",
    "print()\n",
    "print(m.contains(\"foo\")) # should print True\n",
    "m.remove(\"foo\")\n",
    "print(m.contains(\"foo\")) # should print False\n",
    "print(m.contains(\"bar\")) # should print True\n",
    "print(m.num_items()) # should print 1"
   ]
  },
  {
   "cell_type": "markdown",
   "id": "c0974249-da6a-4240-b2e3-ba86339ade59",
   "metadata": {},
   "source": [
    "## Step 6: Submit via Canvas ##\n",
    "\n",
    "Be sure to **save your work**, then log into [Canvas](https://canvas.csun.edu/).  Go to the COMP 502 course, and click \"Assignments\" on the left pane.  From there, click \"Assignment 14\".  From there, you can upload the `14_dictionaries.ipynb` file.\n",
    "\n",
    "You can turn in the assignment multiple times, but only the last version you submitted will be graded."
   ]
  }
 ],
 "metadata": {
  "kernelspec": {
   "display_name": "Python 3 (ipykernel)",
   "language": "python",
   "name": "python3"
  },
  "language_info": {
   "codemirror_mode": {
    "name": "ipython",
    "version": 3
   },
   "file_extension": ".py",
   "mimetype": "text/x-python",
   "name": "python",
   "nbconvert_exporter": "python",
   "pygments_lexer": "ipython3",
   "version": "3.13.5"
  }
 },
 "nbformat": 4,
 "nbformat_minor": 5
}
