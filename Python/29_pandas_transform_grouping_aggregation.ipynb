{
 "cells": [
  {
   "cell_type": "markdown",
   "id": "960acbf6-9b06-4c6d-8139-4812b91270be",
   "metadata": {},
   "source": [
    "# Assignment 29: Pandas Transform, Grouping, and Aggregation #\n",
    "\n",
    "### Goals for this Assignment ###\n",
    "\n",
    "By the time you have completed this assignment, you should be able to:\n",
    "\n",
    "- Use the `transform` method on `Series` objects to apply a given function to every element\n",
    "- Use the `groupby` method on `DataFrame` objects to split data up into different `DataFrame` objects, based on values in a column\n",
    "- Use the `groupby` method on `DataFrame` objects to split data up into different `DataFrame` objects, based on some function's output\n",
    "- Use the `groupby` and `aggregate` methods together to apply a function to multiple `DataFrame` objects simultaneously\n",
    "\n",
    "## Step 1: Use the `transform` Method to Apply a Function to Each Element of a `Series` Object ##\n",
    "\n",
    "### Background: `Series`' `transform` Method ###\n",
    "\n",
    "We've previously seen that vector operations allow us to concisely and efficiently apply a given operation to each element of a `Series` object.\n",
    "For example, the cell below increments each element of `Series` `input_series`, putting the results in `Series` `output_series`:"
   ]
  },
  {
   "cell_type": "code",
   "execution_count": 4,
   "id": "546c383c-aa22-46da-95f1-35cf2a89d6bf",
   "metadata": {},
   "outputs": [
    {
     "name": "stdout",
     "output_type": "stream",
     "text": [
      "a     3\n",
      "b     9\n",
      "c     4\n",
      "d    10\n",
      "dtype: int64\n"
     ]
    }
   ],
   "source": [
    "import pandas as pd\n",
    "\n",
    "input_series = pd.Series([2, 8, 3, 9], index=[\"a\", \"b\", \"c\", \"d\"])\n",
    "output_series = input_series + 1\n",
    "print(output_series)"
   ]
  },
  {
   "cell_type": "markdown",
   "id": "522d5513-d9b4-4a56-a863-d9da3d4b12f5",
   "metadata": {},
   "source": [
    "The one problem with vector operations is that we are limited to those operations defined by Pandas.\n",
    "For example, say we have a `Series` of string objects, as shown in the next cell:"
   ]
  },
  {
   "cell_type": "code",
   "execution_count": 5,
   "id": "18388181-e1ac-4fce-b7ec-534338322db3",
   "metadata": {},
   "outputs": [
    {
     "name": "stdout",
     "output_type": "stream",
     "text": [
      "first       alpha\n",
      "second       beta\n",
      "third       gamma\n",
      "fourth      delta\n",
      "fifth     epsilon\n",
      "dtype: object\n"
     ]
    }
   ],
   "source": [
    "strings = pd.Series([\"alpha\", \"beta\", \"gamma\", \"delta\", \"epsilon\"],\n",
    "                    index=[\"first\", \"second\", \"third\", \"fourth\", \"fifth\"])\n",
    "print(strings)"
   ]
  },
  {
   "cell_type": "markdown",
   "id": "9488062a-32a3-4570-af6a-0991fe8debcf",
   "metadata": {},
   "source": [
    "If you run the above cell, you'll see that the `dtype` of the `Series` is `object`, corresponding to general Python objects.\n",
    "This severely limits the vector operations that can be performed with this `Series` object.\n",
    "For example, if you wanted a `Series` object holding the lengths of each of these strings, there is no corresponding vector operation for it.\n",
    "\n",
    "One way around this is to iterate through the `Series` object using either a loop or a list comprehension, as shown in the next cell:"
   ]
  },
  {
   "cell_type": "code",
   "execution_count": 6,
   "id": "eee64e7d-5f93-4553-baa5-258854d58769",
   "metadata": {},
   "outputs": [
    {
     "name": "stdout",
     "output_type": "stream",
     "text": [
      "[5, 4, 5, 5, 7]\n"
     ]
    }
   ],
   "source": [
    "print([len(s) for s in strings])"
   ]
  },
  {
   "cell_type": "markdown",
   "id": "12f66138-3bad-4f7f-8392-984a22b75b7e",
   "metadata": {},
   "source": [
    "That is, you can iterate through a `Series` object as if it were a Python list.\n",
    "However, the end result here is a regular Python list, _not_ a `Series` object.\n",
    "This means that if you wanted to, say, compute the average string length of these strings with Pandas, you'd need to bundle this list back up into a `Series` object, as with the following:"
   ]
  },
  {
   "cell_type": "code",
   "execution_count": 7,
   "id": "10ffc77e-7002-4471-a4b7-2b3748daa1de",
   "metadata": {},
   "outputs": [
    {
     "name": "stdout",
     "output_type": "stream",
     "text": [
      "first     5\n",
      "second    4\n",
      "third     5\n",
      "fourth    5\n",
      "fifth     7\n",
      "dtype: int64\n",
      "5.2\n"
     ]
    }
   ],
   "source": [
    "string_lengths = pd.Series([len(s) for s in strings], index=strings.index)\n",
    "print(string_lengths)\n",
    "print(string_lengths.mean())"
   ]
  },
  {
   "cell_type": "markdown",
   "id": "4b18ee65-90a9-4d1b-920a-050ac809358a",
   "metadata": {},
   "source": [
    "There is, however, a much cleaner way to do this: use the `transform` method on `Series` objects.\n",
    "The `transform` method takes a function, where that function takes a single argument and returns some new value.\n",
    "`transform` will apply this function to each element of the `Series`, and return a new `Series` with the same indices as the original `Series` object.\n",
    "\n",
    "We can use `transform` to simplify this problem of computing string lengths, as shown in the cell below:"
   ]
  },
  {
   "cell_type": "code",
   "execution_count": 8,
   "id": "7220205c-273e-4618-a873-414745b41b90",
   "metadata": {},
   "outputs": [
    {
     "name": "stdout",
     "output_type": "stream",
     "text": [
      "first     5\n",
      "second    4\n",
      "third     5\n",
      "fourth    5\n",
      "fifth     7\n",
      "dtype: int64\n",
      "5.2\n"
     ]
    }
   ],
   "source": [
    "string_lengths_with_transform = strings.transform(lambda s: len(s))\n",
    "print(string_lengths_with_transform)\n",
    "print(string_lengths_with_transform.mean())"
   ]
  },
  {
   "cell_type": "markdown",
   "id": "282170bf-0d43-4b31-a836-b95b02a2638a",
   "metadata": {},
   "source": [
    "As shown above, `transform` takes a `lambda`, which itself takes some parameter `s`.\n",
    "This `lambda` is then called with every string inside `strings`, one at a time, returning the length of each string (thanks to the call to `len`).\n",
    "`transform` bundles up the results of these calls into a new `Series` object, which is bound to `string_lengths_with_transform`.\n",
    "\n",
    "Because `transform` takes a function, and functions can do practically anything, `transform` is very general.\n",
    "For example, we can use `transform` to increment each element in a `Series`, in the same way that we did in the first Python cell.\n",
    "This is shown below:"
   ]
  },
  {
   "cell_type": "code",
   "execution_count": 9,
   "id": "0d2b8562-a6e9-4b62-8928-b864ca607641",
   "metadata": {},
   "outputs": [
    {
     "name": "stdout",
     "output_type": "stream",
     "text": [
      "a     3\n",
      "b     9\n",
      "c     4\n",
      "d    10\n",
      "dtype: int64\n"
     ]
    }
   ],
   "source": [
    "# repeated for convenience\n",
    "input_series = pd.Series([2, 8, 3, 9], index=[\"a\", \"b\", \"c\", \"d\"])\n",
    "new_output_series = input_series.transform(lambda e: e + 1)\n",
    "print(new_output_series)"
   ]
  },
  {
   "cell_type": "markdown",
   "id": "7894a81a-3423-4a01-a4a6-f2f6b4bfa5b2",
   "metadata": {},
   "source": [
    "As shown above, `new_output_series` ends up holding the same results as the original `output_series` from before.\n",
    "With this in mind, strictly speaking, from a software expressibility standpoint, we don't need vector operations at all, just `transform`; that is, `transform` is a general operation, and could be used to implement all the vector-based operations we have seen before.\n",
    "That all said, `transform` should be viewed more of as a \"last resort\" operation, to be used only if there isn't a vector operation available (or some collection of vector operations) that does what you need.\n",
    "In the prior cell, `input_series + 1` would not only do the same thing, but it would do it with far less code, and much more quickly.\n",
    "While Pandas' vector operations are limited to whatever Pandas has implemented for us, those operations _will_ be faster than anything you can do with `transform`, ultimately because those operations will make much better use of specialized hardware-level operations.\n",
    "\n",
    "### Try this Yourself ###\n",
    "\n",
    "The cell below defines class `Foo`, where each instance of `Foo` holds an integer `some_integer`.\n",
    "A series of `Foo` objects are then bundled together into a Pandas `Series` object.\n",
    "Using `transform`, create a new Pandas `Series` object holding the corresponding values of `some_integer` for each `Foo` object, and bind this to variable `foo_results`.\n",
    "From there, print out `foo_results`."
   ]
  },
  {
   "cell_type": "code",
   "execution_count": 10,
   "id": "1098d03a-e8e7-439c-b6ca-047794c7b289",
   "metadata": {},
   "outputs": [
    {
     "name": "stdout",
     "output_type": "stream",
     "text": [
      "a    2\n",
      "b    7\n",
      "c    1\n",
      "d    9\n",
      "e    0\n",
      "dtype: int64\n"
     ]
    }
   ],
   "source": [
    "class Foo:\n",
    "    def __init__(self, some_integer):\n",
    "        self.some_integer = some_integer\n",
    "\n",
    "foos = pd.Series([Foo(2), Foo(7), Foo(1), Foo(9), Foo(0)],\n",
    "                 index=[\"a\", \"b\", \"c\", \"d\", \"e\"])\n",
    "# call transform on foos here, and bind the return value\n",
    "# to foo_results\n",
    "foo_results = foos.transform(lambda e: e.some_integer)\n",
    "\n",
    "print(foo_results)\n",
    "# above statement should print:\n",
    "# a    2\n",
    "# b    7\n",
    "# c    1\n",
    "# d    9\n",
    "# e    0\n",
    "# dtype: int64"
   ]
  },
  {
   "cell_type": "markdown",
   "id": "b46b89e8-3008-4d45-b45c-5d0964c46c0a",
   "metadata": {},
   "source": [
    "## Step 2: Use the `groupby` Method to Split Data into Different `DataFrame` Objects Based on Values ##\n",
    "\n",
    "### Background: `groupby` Method ###\n",
    "\n",
    "Sometimes you want to lump data into different groups, where each member of a given group shares some property.\n",
    "These properties between groups are distinct, and non-overlapping.\n",
    "For example, say you have a `DataFrame` representing furniture, as shown below:"
   ]
  },
  {
   "cell_type": "code",
   "execution_count": 11,
   "id": "cc03b7ee-c629-4468-8ba0-ef5647a43bf8",
   "metadata": {},
   "outputs": [
    {
     "name": "stdout",
     "output_type": "stream",
     "text": [
      "    kind  color  age\n",
      "0   sofa   blue    8\n",
      "1  chair  green   46\n",
      "2  table  beige    2\n",
      "3  chair   blue    8\n",
      "4  table  black    4\n",
      "5  table  brown    1\n",
      "6  chair  brown    3\n"
     ]
    }
   ],
   "source": [
    "furniture = pd.DataFrame({\"kind\": [ \"sofa\", \"chair\", \"table\", \"chair\", \"table\", \"table\", \"chair\"],\n",
    "                          \"color\": [\"blue\", \"green\", \"beige\",  \"blue\", \"black\", \"brown\", \"brown\"],\n",
    "                          \"age\":   [     8,      46,       2,       8,       4,       1,       3]})\n",
    "print(furniture)"
   ]
  },
  {
   "cell_type": "markdown",
   "id": "a210c960-861f-47c9-a844-ecdca822eb19",
   "metadata": {},
   "source": [
    "If we want to determine the average age of all furniture in `furniture`, this wouldn't be so difficult, as shown in the next cell:"
   ]
  },
  {
   "cell_type": "code",
   "execution_count": 12,
   "id": "c01f43d2-9113-48b4-8b7a-50fe304b91d6",
   "metadata": {},
   "outputs": [
    {
     "name": "stdout",
     "output_type": "stream",
     "text": [
      "10.285714285714286\n"
     ]
    }
   ],
   "source": [
    "print(furniture[\"age\"].mean())"
   ]
  },
  {
   "cell_type": "markdown",
   "id": "dd188455-851a-49ba-96bc-c0fe3847fdc7",
   "metadata": {},
   "source": [
    "Determining the average age for furniture of a particular kind is also not to difficult.\n",
    "For example, if we want the average age of all chairs, we can use a mask to extract out the chairs, as with:"
   ]
  },
  {
   "cell_type": "code",
   "execution_count": 13,
   "id": "cd204383-8cf2-4320-ab8f-c34a58147499",
   "metadata": {},
   "outputs": [
    {
     "name": "stdout",
     "output_type": "stream",
     "text": [
      "    kind  color  age\n",
      "1  chair  green   46\n",
      "3  chair   blue    8\n",
      "6  chair  brown    3\n",
      "19.0\n"
     ]
    }
   ],
   "source": [
    "print(furniture[furniture[\"kind\"] == \"chair\"]) # to show what the next line gets the mean of\n",
    "print(furniture[furniture[\"kind\"] == \"chair\"][\"age\"].mean())"
   ]
  },
  {
   "cell_type": "markdown",
   "id": "2f253dd8-0ed5-478c-bebf-cb5085d6a17e",
   "metadata": {},
   "source": [
    "However, what if we want to determine the average age of all pieces of furniture, by type of furniture?\n",
    "That is, for each type of furniture, there should be an average age for that specific kind of furniture in this `DataFrame`.\n",
    "\n",
    "One approach to this would be to separately extract out the different kinds of furniture, and compute the means from there.\n",
    "For example:"
   ]
  },
  {
   "cell_type": "code",
   "execution_count": 14,
   "id": "453be724-3097-4e66-9b0d-deee2d1bda5d",
   "metadata": {},
   "outputs": [
    {
     "name": "stdout",
     "output_type": "stream",
     "text": [
      "8.0\n",
      "19.0\n",
      "2.3333333333333335\n"
     ]
    }
   ],
   "source": [
    "print(furniture[furniture[\"kind\"] == \"sofa\"][\"age\"].mean())\n",
    "print(furniture[furniture[\"kind\"] == \"chair\"][\"age\"].mean())\n",
    "print(furniture[furniture[\"kind\"] == \"table\"][\"age\"].mean())"
   ]
  },
  {
   "cell_type": "markdown",
   "id": "ed004d42-d361-4320-9a3a-aea993c2b01b",
   "metadata": {},
   "source": [
    "However, we can start to see that this code is getting repetitive.\n",
    "We could remove some of this repetition by extracting this out into a function, as with:"
   ]
  },
  {
   "cell_type": "code",
   "execution_count": 15,
   "id": "d69ce782-3767-49d4-9522-3a06b6fac59f",
   "metadata": {},
   "outputs": [
    {
     "name": "stdout",
     "output_type": "stream",
     "text": [
      "8.0\n",
      "19.0\n",
      "2.3333333333333335\n"
     ]
    }
   ],
   "source": [
    "def mean_for_kind(wanted_kind):\n",
    "    return furniture[furniture[\"kind\"] == wanted_kind][\"age\"].mean()\n",
    "\n",
    "print(mean_for_kind(\"sofa\"))\n",
    "print(mean_for_kind(\"chair\"))\n",
    "print(mean_for_kind(\"table\"))"
   ]
  },
  {
   "cell_type": "markdown",
   "id": "3119ddab-8dad-4f34-ba74-2d41741880d6",
   "metadata": {},
   "source": [
    "However, arguably the only reason why this extraction is even feasible here is because we don't have a lot of different kinds of furniture in `furniture`.\n",
    "If we had, say, 1,000 different kinds of furniture, then it would be impractical to separately call `mean_for_kind` for each one.\n",
    "This also separately requires us to determine all the kinds of furniture we have.\n",
    "\n",
    "Fortunately, Pandas has a way of resolving this issue.\n",
    "The resolution is broken into two parts:\n",
    "\n",
    "1. We can divide a `DataFrame` into separate `DataFrame` objects, based on the specific values contained in the objects.  This is done with `DataFrame`'s `groupby` method.  For our purposes, this means grouping by the kind of furniture we have.\n",
    "2. Once we have divided data into separate `DataFrames`, we can then _aggregate_ over the parts to get our values per part.  For our purposes, this means finding the average of the ages for each separate kind of furniture we have.\n",
    "\n",
    "The next two steps will focus specifically on the `groupby` method, and then we will end with `aggregate`.\n",
    "\n",
    "In the cell below, we use `groupby` to separate the furniture according to the kind it is."
   ]
  },
  {
   "cell_type": "code",
   "execution_count": 16,
   "id": "f21d06d3-4247-4e66-83b1-a15f2fcb5972",
   "metadata": {},
   "outputs": [
    {
     "name": "stdout",
     "output_type": "stream",
     "text": [
      "---DataFrame for chair---\n",
      "    kind  color  age\n",
      "1  chair  green   46\n",
      "3  chair   blue    8\n",
      "6  chair  brown    3\n",
      "\n",
      "---DataFrame for sofa---\n",
      "   kind color  age\n",
      "0  sofa  blue    8\n",
      "\n",
      "---DataFrame for table---\n",
      "    kind  color  age\n",
      "2  table  beige    2\n",
      "4  table  black    4\n",
      "5  table  brown    1\n",
      "\n"
     ]
    }
   ],
   "source": [
    "for kind, table_for_kind in furniture.groupby(\"kind\"):\n",
    "    print(f\"---DataFrame for {kind}---\")\n",
    "    print(table_for_kind)\n",
    "    print()"
   ]
  },
  {
   "cell_type": "markdown",
   "id": "db281d6f-ecd5-44bf-890c-b3cdf6157d23",
   "metadata": {},
   "source": [
    "If you iterate through the result of `groupby` with `for...in` (as done in the cell above), you will get a series of 2-tuples back, where the first element of the tuple is the specific value (or _key_) all rows in the table share, and the second element of the tuple is a `DataFrame` holding the whole entries.\n",
    "As shown above, we ended up with three `DataFrame`s in total resulting from `groupby`, one for each kind of furniture; the kinds are determined by reading the values in the `\"kind\"` column.\n",
    "\n",
    "We can similarly group by the colors of the furniture, as with:"
   ]
  },
  {
   "cell_type": "code",
   "execution_count": 17,
   "id": "bf40afe2-04b3-468f-a446-f5e484dbf36b",
   "metadata": {},
   "outputs": [
    {
     "name": "stdout",
     "output_type": "stream",
     "text": [
      "---DataFrame for beige---\n",
      "    kind  color  age\n",
      "2  table  beige    2\n",
      "\n",
      "---DataFrame for black---\n",
      "    kind  color  age\n",
      "4  table  black    4\n",
      "\n",
      "---DataFrame for blue---\n",
      "    kind color  age\n",
      "0   sofa  blue    8\n",
      "3  chair  blue    8\n",
      "\n",
      "---DataFrame for brown---\n",
      "    kind  color  age\n",
      "5  table  brown    1\n",
      "6  chair  brown    3\n",
      "\n",
      "---DataFrame for green---\n",
      "    kind  color  age\n",
      "1  chair  green   46\n",
      "\n"
     ]
    }
   ],
   "source": [
    "for color, table_for_color in furniture.groupby(\"color\"):\n",
    "    print(f\"---DataFrame for {color}---\")\n",
    "    print(table_for_color)\n",
    "    print()"
   ]
  },
  {
   "cell_type": "markdown",
   "id": "56cfde36-daa0-4033-a348-87ee14937db5",
   "metadata": {},
   "source": [
    "...or by age:"
   ]
  },
  {
   "cell_type": "code",
   "execution_count": 18,
   "id": "a29600db-8969-4b9d-969b-a1da374f9aac",
   "metadata": {},
   "outputs": [
    {
     "name": "stdout",
     "output_type": "stream",
     "text": [
      "---DataFrame for 1---\n",
      "    kind  color  age\n",
      "5  table  brown    1\n",
      "\n",
      "---DataFrame for 2---\n",
      "    kind  color  age\n",
      "2  table  beige    2\n",
      "\n",
      "---DataFrame for 3---\n",
      "    kind  color  age\n",
      "6  chair  brown    3\n",
      "\n",
      "---DataFrame for 4---\n",
      "    kind  color  age\n",
      "4  table  black    4\n",
      "\n",
      "---DataFrame for 8---\n",
      "    kind color  age\n",
      "0   sofa  blue    8\n",
      "3  chair  blue    8\n",
      "\n",
      "---DataFrame for 46---\n",
      "    kind  color  age\n",
      "1  chair  green   46\n",
      "\n"
     ]
    }
   ],
   "source": [
    "for age, table_for_age in furniture.groupby(\"age\"):\n",
    "    print(f\"---DataFrame for {age}---\")\n",
    "    print(table_for_age)\n",
    "    print()"
   ]
  },
  {
   "cell_type": "markdown",
   "id": "2a46daed-1c64-4b18-a108-3afc9210112f",
   "metadata": {},
   "source": [
    "### Try this Yourself ###\n",
    "\n",
    "In the next cell, `DataFrame` `hardware_inventory` (from the prior assignment) has been defined, which contains inventory information for a hardware store.\n",
    "Using `groupby`, separate this `DataFrame` into separate `DataFrames`, one separate `DataFrame` per location where the tools are.\n",
    "Similar to the examples above, you then must iterate over the results of `groupby` to print out the results."
   ]
  },
  {
   "cell_type": "code",
   "execution_count": 20,
   "id": "aa6ce88c-5517-449b-aeea-38f78013e4b8",
   "metadata": {},
   "outputs": [
    {
     "name": "stdout",
     "output_type": "stream",
     "text": [
      "---DataFrame for hardware---\n",
      "       product  price  quantity  location\n",
      "2  screws (20)    2.5       150  hardware\n",
      "\n",
      "---DataFrame for tools---\n",
      "  product  price  quantity location\n",
      "0  hammer   20.0        19    tools\n",
      "1  wrench   30.0        15    tools\n",
      "3  jigsaw   40.0        12    tools\n",
      "\n"
     ]
    }
   ],
   "source": [
    "hardware_inventory = pd.DataFrame({\"product\": [\"hammer\", \"wrench\", \"screws (20)\", \"jigsaw\"],\n",
    "                                   \"price\": [20, 30, 2.5, 40],\n",
    "                                   \"quantity\": [19, 15, 150, 12],\n",
    "                                   \"location\": [\"tools\", \"tools\", \"hardware\", \"tools\"]})\n",
    "\n",
    "# Put your code below which calls groupby on hardware_inventory, and prints out\n",
    "# all the results with the help of a for...in loop\n",
    "\n",
    "for location_name, table_for_location in hardware_inventory.groupby(\"location\"):\n",
    "    print(f\"---DataFrame for {location_name}---\")\n",
    "    print(table_for_location)\n",
    "    print()\n",
    "    \n",
    "# The expected output of your code is as follows:\n",
    "# ---DataFrame for hardware---\n",
    "#        product  price  quantity  location\n",
    "# 2  screws (20)    2.5       150  hardware\n",
    "\n",
    "# ---DataFrame for tools---\n",
    "#   product  price  quantity location\n",
    "# 0  hammer   20.0        19    tools\n",
    "# 1  wrench   30.0        15    tools\n",
    "# 3  jigsaw   40.0        12    tools"
   ]
  },
  {
   "cell_type": "markdown",
   "id": "5a6e8225-4c4a-44f3-8393-f82640e7491d",
   "metadata": {},
   "source": [
    "## Step 3: Use `groupby` with a Custom Function to Split Data ##\n",
    "\n",
    "### Background: `groupby` with a Function ###\n",
    "\n",
    "Sometimes you want to group data via the result of an operation, instead of by specific value.\n",
    "To motivate this, let's consider the patient information again from the prior assignment, where each patient has a particular name, age, and most recent blood pressure reading:"
   ]
  },
  {
   "cell_type": "code",
   "execution_count": 21,
   "id": "bd7ffe49-099a-44d4-a88d-db231f589bc6",
   "metadata": {},
   "outputs": [
    {
     "name": "stdout",
     "output_type": "stream",
     "text": [
      "      name  age  blood_pressure\n",
      "0  abigail   45             135\n",
      "1     adam   57             122\n",
      "2    alice   25             118\n",
      "3   andrew   62             121\n",
      "4  barbara   30             132\n",
      "5      bob   22             135\n",
      "6     bill   43             126\n"
     ]
    }
   ],
   "source": [
    "patients = pd.DataFrame({\"name\": [\"abigail\", \"adam\", \"alice\", \"andrew\", \"barbara\", \"bob\", \"bill\"],\n",
    "                         \"age\": [45, 57, 25, 62, 30, 22, 43],\n",
    "                         \"blood_pressure\": [135, 122, 118, 121, 132, 135, 126]})\n",
    "print(patients)"
   ]
  },
  {
   "cell_type": "markdown",
   "id": "984b3508-d4ff-4fd1-81c4-7c4df47de927",
   "metadata": {},
   "source": [
    "Using `groupby`, we can divide these patients up by age, like so:"
   ]
  },
  {
   "cell_type": "code",
   "execution_count": 22,
   "id": "ada8d241-6cc2-412a-85f2-75a55e572696",
   "metadata": {},
   "outputs": [
    {
     "name": "stdout",
     "output_type": "stream",
     "text": [
      "---DataFrame for 22---\n",
      "  name  age  blood_pressure\n",
      "5  bob   22             135\n",
      "\n",
      "---DataFrame for 25---\n",
      "    name  age  blood_pressure\n",
      "2  alice   25             118\n",
      "\n",
      "---DataFrame for 30---\n",
      "      name  age  blood_pressure\n",
      "4  barbara   30             132\n",
      "\n",
      "---DataFrame for 43---\n",
      "   name  age  blood_pressure\n",
      "6  bill   43             126\n",
      "\n",
      "---DataFrame for 45---\n",
      "      name  age  blood_pressure\n",
      "0  abigail   45             135\n",
      "\n",
      "---DataFrame for 57---\n",
      "   name  age  blood_pressure\n",
      "1  adam   57             122\n",
      "\n",
      "---DataFrame for 62---\n",
      "     name  age  blood_pressure\n",
      "3  andrew   62             121\n",
      "\n"
     ]
    }
   ],
   "source": [
    "for age, table_for_age in patients.groupby(\"age\"):\n",
    "    print(f\"---DataFrame for {age}---\")\n",
    "    print(table_for_age)\n",
    "    print()"
   ]
  },
  {
   "cell_type": "markdown",
   "id": "bfec8e9d-855a-40c5-a141-9bd734cf8c4f",
   "metadata": {},
   "source": [
    "As shown, because all the ages in this data set are unique, each patient will end up in their own `DataFrame`.\n",
    "Depending on the specific analysis one wishes to perform, this is likely far too fine-grained.\n",
    "While it can make sense to divide patients by age, it's more likely that we'd be interested in patients within a given age range, instead of patients sharing an exact age.\n",
    "To do this, we can instead pass a function to `groupby`, either a `lambda` or a named function.\n",
    "The function will take the index of the current row, and is expected to return whatever the corresponding key will be for the row.\n",
    "The key itself will be used as the value to divide rows into separate `DataFrame`s.\n",
    "An example of this is shown in the cell below, where patients are divided into one of four `DataFrame`s, based on their age:"
   ]
  },
  {
   "cell_type": "code",
   "execution_count": 23,
   "id": "3cf24263-c28c-4d24-b016-14e11f0b7a4f",
   "metadata": {},
   "outputs": [
    {
     "name": "stdout",
     "output_type": "stream",
     "text": [
      "---DataFrame for 30 - 49---\n",
      "      name  age  blood_pressure\n",
      "0  abigail   45             135\n",
      "4  barbara   30             132\n",
      "6     bill   43             126\n",
      "\n",
      "---DataFrame for 50 - 69---\n",
      "     name  age  blood_pressure\n",
      "1    adam   57             122\n",
      "3  andrew   62             121\n",
      "\n",
      "---DataFrame for < 30---\n",
      "    name  age  blood_pressure\n",
      "2  alice   25             118\n",
      "5    bob   22             135\n",
      "\n"
     ]
    }
   ],
   "source": [
    "def bucket_age(patient_index):\n",
    "    age = patients[\"age\"][patient_index]\n",
    "    if age < 30:\n",
    "        return \"< 30\"\n",
    "    elif age < 50:\n",
    "        return \"30 - 49\"\n",
    "    elif age < 70:\n",
    "        return \"50 - 69\"\n",
    "    else:\n",
    "        return \">= 70\"\n",
    "\n",
    "for age, table_for_age in patients.groupby(bucket_age):\n",
    "    print(f\"---DataFrame for {age}---\")\n",
    "    print(table_for_age)\n",
    "    print()"
   ]
  },
  {
   "cell_type": "markdown",
   "id": "ebd79b4b-578d-4bdc-b2e2-81f1bab1ccd1",
   "metadata": {},
   "source": [
    "As shown, `groupby` now takes the `bucket_age` function itself as a parameter.\n",
    "`groupby` will call `bucket_age` for each row index of `patients`.\n",
    "Inside the `bucket_age` function, we first determine the specific age of the current patient by accessing `patients` at the `\"age\"` column and at the specific `patient_index`.\n",
    "From there, based on that `age`, we will return one of four strings, corresponding to the specific value of `age`.\n",
    "These returned strings are used to divide data up into separate `DataFrame` objects, leading us to have one `DataFrame` corresponding to the string `\"30 - 49\"`, another for `\"50 - 69\"`, and another for `\"< 30\"`.\n",
    "We do not see a `DataFrame` object corresponding to the `\">= 70\"` string, as none of the patients in this dataset were older than 70; as a result, `bucket_age` never returned `\">= 70\"`, and so this wasn't one of our output `DataFrame`s.\n",
    "\n",
    "### Try this Yourself ###\n",
    "\n",
    "In the next cell, use `groupby` to divide patients into two `DataFrames`: those with a blood pressure reading under 130, and those with a blood pressure reading greater than or equal to 130.\n",
    "Print out the results with `for...in`, but this time, only print out the tables themselves.\n",
    "You can define any additional functions you want."
   ]
  },
  {
   "cell_type": "code",
   "execution_count": 25,
   "id": "5b1fed0e-f88d-4115-a956-02c93597934f",
   "metadata": {},
   "outputs": [
    {
     "name": "stdout",
     "output_type": "stream",
     "text": [
      "     name  age  blood_pressure\n",
      "1    adam   57             122\n",
      "2   alice   25             118\n",
      "3  andrew   62             121\n",
      "6    bill   43             126\n",
      "      name  age  blood_pressure\n",
      "0  abigail   45             135\n",
      "4  barbara   30             132\n",
      "5      bob   22             135\n"
     ]
    }
   ],
   "source": [
    "# Write your code here.\n",
    "\n",
    "\n",
    "\n",
    "\n",
    "for is_high_bp, table in patients.groupby(patients['blood_pressure'] >= 130): \n",
    "    print(table)\n",
    "\n",
    "\n",
    "# The output of your code should be:\n",
    "#      name  age  blood_pressure\n",
    "# 1    adam   57             122\n",
    "# 2   alice   25             118\n",
    "# 3  andrew   62             121\n",
    "# 6    bill   43             126\n",
    "#       name  age  blood_pressure\n",
    "# 0  abigail   45             135\n",
    "# 4  barbara   30             132\n",
    "# 5      bob   22             135"
   ]
  },
  {
   "cell_type": "markdown",
   "id": "802ef03c-fde6-4df5-8bf2-f0775bdada17",
   "metadata": {},
   "source": [
    "## Step 4: Use `aggregate` to Reduce a Column To a Single Value Over Multiple `DataFrame` Objects Simultaneously ##\n",
    "\n",
    "### Background: Aggregation in Pandas ###\n",
    "\n",
    "_Aggregation_ is Pandas' term for reducing the values in a `Series` down to a single scalar value.\n",
    "You've actually been using aggregation for awhile now; for example, `min`, `max`, and `mean` are all aggregations, because these take the values in a `Series` and condense them down into a single value.\n",
    "These functions can also be called by passing strings of the same name to the `aggregate` method, shown below:"
   ]
  },
  {
   "cell_type": "code",
   "execution_count": 26,
   "id": "e1067662-07a6-470b-984f-c91c45aded53",
   "metadata": {},
   "outputs": [
    {
     "name": "stdout",
     "output_type": "stream",
     "text": [
      "2\n",
      "2\n"
     ]
    }
   ],
   "source": [
    "series = pd.Series([2, 8, 3, 9], index=[\"a\", \"b\", \"c\", \"d\"])\n",
    "print(series.min()) # prints 2\n",
    "print(series.aggregate('min')) # prints 2"
   ]
  },
  {
   "cell_type": "markdown",
   "id": "0740f6e3-6c92-4a06-8a5c-5a1c84ea9524",
   "metadata": {},
   "source": [
    "The `aggregate` method also can be abbreviated as `agg`, shown below:"
   ]
  },
  {
   "cell_type": "code",
   "execution_count": 27,
   "id": "16851caa-ecd7-4191-b3cb-899685f3e8c5",
   "metadata": {},
   "outputs": [
    {
     "name": "stdout",
     "output_type": "stream",
     "text": [
      "2\n"
     ]
    }
   ],
   "source": [
    "print(series.agg('min'))"
   ]
  },
  {
   "cell_type": "markdown",
   "id": "7bdf31ca-6f87-48cd-bb4d-ee99315fa1c9",
   "metadata": {},
   "source": [
    "You can provide your own function to `aggregate` which takes the whole `Series` object itself.\n",
    "This is shown below:"
   ]
  },
  {
   "cell_type": "code",
   "execution_count": 28,
   "id": "89ec3be3-7643-47ec-8d04-0315292b472f",
   "metadata": {},
   "outputs": [
    {
     "name": "stdout",
     "output_type": "stream",
     "text": [
      "7\n"
     ]
    }
   ],
   "source": [
    "print(series.aggregate(lambda s: s.max() - s.min()))"
   ]
  },
  {
   "cell_type": "markdown",
   "id": "ff395dc8-fca9-42c1-b30c-cc24c7866cc9",
   "metadata": {},
   "source": [
    "The above cell effectively does:"
   ]
  },
  {
   "cell_type": "code",
   "execution_count": 29,
   "id": "86d33d5f-d89e-4afc-ba7f-b20d5c6a94fb",
   "metadata": {},
   "outputs": [
    {
     "name": "stdout",
     "output_type": "stream",
     "text": [
      "7\n"
     ]
    }
   ],
   "source": [
    "print(series.max() - series.min())"
   ]
  },
  {
   "cell_type": "markdown",
   "id": "e57dd5ff-63a1-446d-a9ea-81b342917ffb",
   "metadata": {},
   "source": [
    "On the surface, `aggregate` seems fairly useless; this is basically just doing the same operations you've been doing so far but with extra steps.\n",
    "However, `aggregate` _also_ works over other kinds of Pandas objects, including both `DataFrame`s and the result of `groupby`.\n",
    "We'll see this momentarily.\n",
    "\n",
    "You may have noticed that, contrary to almost all prior examples from prior assignments, up until this point we haven't tried printing out the result from `groupby` directly.\n",
    "Let's do that now, reusing the furniture data from before:"
   ]
  },
  {
   "cell_type": "code",
   "execution_count": 30,
   "id": "97d23853-1d61-42e0-9624-10e4025c585c",
   "metadata": {},
   "outputs": [
    {
     "name": "stdout",
     "output_type": "stream",
     "text": [
      "<pandas.core.groupby.generic.DataFrameGroupBy object at 0x000001D80B343750>\n"
     ]
    }
   ],
   "source": [
    "# copied so you don't need to scroll back to the original definition\n",
    "furniture = pd.DataFrame({\"kind\": [ \"sofa\", \"chair\", \"table\", \"chair\", \"table\", \"table\", \"chair\"],\n",
    "                          \"color\": [\"blue\", \"green\", \"beige\",  \"blue\", \"black\", \"brown\", \"brown\"],\n",
    "                          \"age\":   [     8,      46,       2,       8,       4,       1,       3]})\n",
    "print(furniture.groupby(\"kind\"))"
   ]
  },
  {
   "cell_type": "markdown",
   "id": "f17257a1-0bc1-4cba-a5f8-d6e7bbecbd1f",
   "metadata": {},
   "source": [
    "The `print` above shows that the return value from `groupby` is actually a `pandas.core.groupby.generic.DataFrameGroupBy` object, or just `DataFrameGroupBy` for short.\n",
    "It just so happens that you can use a `for...in` loop to iterate over a `DataFrameGroupBy` object and get back tuples; exactly how this works internally is beyond our scope with this course.\n",
    "The important part is that `DataFrameGroupBy` is its own type of object with its own methods, _including_ the `aggregate` method.\n",
    "In fact, `DataFrameGroupBy` supports many of the same operations as `DataFrame` itself does, and performing these operations effectively performs the operations over _all_ `DataFrame`s contained within the `DataFrameGroupBy`.\n",
    "\n",
    "For example, let's say you want to get the average age of each piece of furniture by kind.\n",
    "This is exactly what step 2's background wanted to ultimately accomplish, and we finally have all the pieces necessary to do this.\n",
    "This is shown in the next cell:"
   ]
  },
  {
   "cell_type": "code",
   "execution_count": 31,
   "id": "2e3e5449-0014-4f28-8a8c-bef82d22a919",
   "metadata": {},
   "outputs": [
    {
     "name": "stdout",
     "output_type": "stream",
     "text": [
      "kind\n",
      "chair    19.000000\n",
      "sofa      8.000000\n",
      "table     2.333333\n",
      "Name: age, dtype: float64\n"
     ]
    }
   ],
   "source": [
    "print(furniture.groupby(\"kind\")[\"age\"].mean())"
   ]
  },
  {
   "cell_type": "markdown",
   "id": "2fc90218-211b-4893-a1e8-ce44ee279c76",
   "metadata": {},
   "source": [
    "A step-by-step breakdown of the prior cell follows:\n",
    "\n",
    "1. Using `furniture.groupby(\"kind\")`, we group the original data into different `DataFrames`, where each resulting `DataFrame` holds furniture of the same kind.  This division by kind is based on the values in the `\"kind\"` column.  The specific type of the object returned is `DataFrameGroupBy`.\n",
    "2. From there, `furniture.groupby(\"kind\")[\"age\"]` is used to access the `\"age\"` column of **all** the `DataFrame` objects contained within the `DataFrameGroupBy` object, at once.\n",
    "3. From there, `furniture.groupby(\"kind\")[\"age\"].mean()` calculates the average of all those aforementioned `\"age\"` columns, resulting in a `DataFrame` of results.  Indices in the resulting `DataFrame` are based on the kinds of furniture, and the values hold the average age for each specific kind of furniture.\n",
    "\n",
    "We could also use `aggregate` to accomplish this, as shown below:"
   ]
  },
  {
   "cell_type": "code",
   "execution_count": 32,
   "id": "3bc8ab20-762a-4ae8-9216-44b5dcb418e0",
   "metadata": {},
   "outputs": [
    {
     "name": "stdout",
     "output_type": "stream",
     "text": [
      "kind\n",
      "chair    19.000000\n",
      "sofa      8.000000\n",
      "table     2.333333\n",
      "Name: age, dtype: float64\n"
     ]
    }
   ],
   "source": [
    "print(furniture.groupby(\"kind\")[\"age\"].aggregate('mean'))"
   ]
  },
  {
   "cell_type": "markdown",
   "id": "bdbd272e-c803-46c3-bbc9-cf67b3e195de",
   "metadata": {},
   "source": [
    "The real value of `aggregate` is in that it gives us a handle on each individual `Series` instance which is involved.\n",
    "For example, if we wanted to determine the difference between the max and min ages for each kind of furniture, we could use `groupby` with `aggregate` and `lambda` in the following way:"
   ]
  },
  {
   "cell_type": "code",
   "execution_count": 33,
   "id": "c443647a-a9d2-43dd-8a23-5d377d4cca1d",
   "metadata": {},
   "outputs": [
    {
     "name": "stdout",
     "output_type": "stream",
     "text": [
      "kind\n",
      "chair    43\n",
      "sofa      0\n",
      "table     3\n",
      "Name: age, dtype: int64\n"
     ]
    }
   ],
   "source": [
    "print(furniture.groupby(\"kind\")[\"age\"].aggregate(lambda s: s.max() - s.min()))"
   ]
  },
  {
   "cell_type": "markdown",
   "id": "5ef2ec70-07fc-4e11-80cc-791cb1560b48",
   "metadata": {},
   "source": [
    "Importantly, the `lambda` in the prior cell is called once for each individual `Series` object corresponding to the `\"age\"` column for each `DataFrame`.\n",
    "This means that, with `aggregate` over `DataFrameGroupBy` objects, there is an implicit loop happening.\n",
    "This makes `aggregate` over `DataFrameGroupBy` objects much more useful than over `Series` objects.\n",
    "\n",
    "### Try this Yourself ###\n",
    "\n",
    "The next cell redefines the `furniture` information from before.\n",
    "For each color of furniture, determine the maximum age it has, and print out the resulting `DataFrame`.\n",
    "You can call any of `max`, `agg`, and/or `aggregation` to help accomplish this; you don't have to call `agg` or `aggregation` specifically, since `max` performs an aggregation."
   ]
  },
  {
   "cell_type": "code",
   "execution_count": 35,
   "id": "29ac9c77-be30-4cc1-9e0b-8a0e169af5f6",
   "metadata": {
    "scrolled": true
   },
   "outputs": [
    {
     "name": "stdout",
     "output_type": "stream",
     "text": [
      "color\n",
      "beige     2\n",
      "black     4\n",
      "blue      8\n",
      "brown     3\n",
      "green    46\n",
      "Name: age, dtype: int64\n"
     ]
    }
   ],
   "source": [
    "furniture = pd.DataFrame({\"kind\": [ \"sofa\", \"chair\", \"table\", \"chair\", \"table\", \"table\", \"chair\"],\n",
    "                          \"color\": [\"blue\", \"green\", \"beige\",  \"blue\", \"black\", \"brown\", \"brown\"],\n",
    "                          \"age\":   [     8,      46,       2,       8,       4,       1,       3]})\n",
    "\n",
    "# Define your code here, and be sure to print the result.\n",
    "\n",
    "furniture = furniture.groupby(\"color\")[\"age\"].max()\n",
    "print(furniture)\n",
    "\n",
    "\n",
    "# Your code should print out:\n",
    "# color\n",
    "# beige     2\n",
    "# black     4\n",
    "# blue      8\n",
    "# brown     3\n",
    "# green    46\n",
    "# Name: age, dtype: int64"
   ]
  },
  {
   "cell_type": "markdown",
   "id": "f5171cfe-f1b5-432d-a128-413e1d0df7fa",
   "metadata": {},
   "source": [
    "## Step 5: Submit via Canvas ##\n",
    "\n",
    "Be sure to **save your work**, then log into [Canvas](https://canvas.csun.edu/).  Go to the COMP 502 course, and click \"Assignments\" on the left pane.  From there, click \"Assignment 29\".  From there, you can upload your `29_pandas_transform_grouping_aggregation.ipynb` file.\n",
    "\n",
    "You can turn in the assignment multiple times, but only the last version you submitted will be graded.\n",
    "\n",
    "### Special Thanks to Dr. Glenn Bruns ###\n",
    "\n",
    "Special thanks to [Dr. Glenn Bruns](https://csumb.edu/scd/glenn-bruns/) at California State University, Monterey Bay, for providing me with closely-related materials which were used in the creation of this assignment."
   ]
  }
 ],
 "metadata": {
  "kernelspec": {
   "display_name": "Python 3 (ipykernel)",
   "language": "python",
   "name": "python3"
  },
  "language_info": {
   "codemirror_mode": {
    "name": "ipython",
    "version": 3
   },
   "file_extension": ".py",
   "mimetype": "text/x-python",
   "name": "python",
   "nbconvert_exporter": "python",
   "pygments_lexer": "ipython3",
   "version": "3.13.5"
  }
 },
 "nbformat": 4,
 "nbformat_minor": 5
}
